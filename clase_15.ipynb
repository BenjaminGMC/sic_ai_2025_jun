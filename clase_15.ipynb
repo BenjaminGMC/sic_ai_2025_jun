{
  "nbformat": 4,
  "nbformat_minor": 0,
  "metadata": {
    "colab": {
      "provenance": [],
      "authorship_tag": "ABX9TyMAPW6riWUBZOKDWkijcP1n",
      "include_colab_link": true
    },
    "kernelspec": {
      "name": "python3",
      "display_name": "Python 3"
    },
    "language_info": {
      "name": "python"
    }
  },
  "cells": [
    {
      "cell_type": "markdown",
      "metadata": {
        "id": "view-in-github",
        "colab_type": "text"
      },
      "source": [
        "<a href=\"https://colab.research.google.com/github/davidlealo/sic_ai_2025_jun/blob/main/clase_15.ipynb\" target=\"_parent\"><img src=\"https://colab.research.google.com/assets/colab-badge.svg\" alt=\"Open In Colab\"/></a>"
      ]
    },
    {
      "cell_type": "markdown",
      "source": [
        "# Ideas de proyectos"
      ],
      "metadata": {
        "id": "TUv4NrOfDim7"
      }
    },
    {
      "cell_type": "code",
      "execution_count": 1,
      "metadata": {
        "colab": {
          "base_uri": "https://localhost:8080/"
        },
        "id": "SWkaouJPDf9G",
        "outputId": "84c6da48-59e9-4da0-cdc8-f0a19f01e764"
      },
      "outputs": [
        {
          "output_type": "stream",
          "name": "stdout",
          "text": [
            "Introduce tu Mistral API key: ··········\n",
            "La Inteligencia Artificial (IA) es una rama de la ciencia y la ingeniería que se ocupa del diseño y la creación de sistemas capaces de realizar tareas que normalmente requerirían inteligencia humana. Esto incluye aprender de la experiencia, resolver problemas y tomar decisiones basadas en razonamiento y análisis de datos. La IA se utiliza en muchas áreas, como la robótica, la computación, la informática, la ingeniería eléctrica y la matemática. También se utiliza en la investigación científica y en la industria, para ejemplificar, en el procesamiento de lenguaje natural, la visión artificial y la inteligencia adaptativa.\n"
          ]
        }
      ],
      "source": [
        "import requests\n",
        "import os\n",
        "from getpass import getpass\n",
        "\n",
        "# Asigna tu API key (usa getpass para mayor seguridad en Colab)\n",
        "os.environ[\"MISTRAL_API_KEY\"] = getpass(\"Introduce tu Mistral API key: \")\n",
        "\n",
        "headers = {\n",
        "    \"Authorization\": f\"Bearer {os.environ['MISTRAL_API_KEY']}\",\n",
        "    \"Content-Type\": \"application/json\"\n",
        "}\n",
        "\n",
        "data = {\n",
        "    \"model\": \"open-mistral-7b\",\n",
        "    \"messages\": [\n",
        "        {\"role\": \"user\", \"content\": \"¿Qué es la inteligencia artificial?\"}\n",
        "    ],\n",
        "    \"temperature\": 0.7\n",
        "}\n",
        "\n",
        "response = requests.post(\"https://api.mistral.ai/v1/chat/completions\", headers=headers, json=data)\n",
        "\n",
        "print(response.json()[\"choices\"][0][\"message\"][\"content\"])"
      ]
    },
    {
      "cell_type": "code",
      "source": [
        "data = {\n",
        "    \"model\": \"open-mistral-7b\",\n",
        "    \"messages\": [\n",
        "        {\"role\": \"user\", \"content\": \"Cuántos años tiene la tierra?\"}\n",
        "    ],\n",
        "    \"temperature\": 0.7\n",
        "}\n",
        "\n",
        "response = requests.post(\"https://api.mistral.ai/v1/chat/completions\", headers=headers, json=data)\n",
        "\n",
        "\n",
        "print(response.json()[\"choices\"][0][\"message\"][\"content\"])"
      ],
      "metadata": {
        "colab": {
          "base_uri": "https://localhost:8080/"
        },
        "id": "5Od27IrULIn5",
        "outputId": "3b615bf9-16c6-4afd-e83a-911d41e3d604"
      },
      "execution_count": 3,
      "outputs": [
        {
          "output_type": "stream",
          "name": "stdout",
          "text": [
            "La Tierra no tiene edad en el sentido común, ya que no ha envejecido desde su formación. Sin embargo, se creía que la Tierra tenía aproximadamente de 4,6 mil millones de años. Esta fecha se obtiene mediante la datación radiométrica de minerales en rocas. Recientemente, investigaciones han sugerido que la Tierra podría ser un poco más joven o más vieja, pero el consenso científico es que tiene alrededor de 4,6 mil millones de años.\n"
          ]
        }
      ]
    }
  ]
}