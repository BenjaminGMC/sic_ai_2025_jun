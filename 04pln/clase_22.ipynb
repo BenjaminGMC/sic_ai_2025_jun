{
  "nbformat": 4,
  "nbformat_minor": 0,
  "metadata": {
    "colab": {
      "provenance": [],
      "authorship_tag": "ABX9TyN89+2w8ZL9nzokg39SEJIn",
      "include_colab_link": true
    },
    "kernelspec": {
      "name": "python3",
      "display_name": "Python 3"
    },
    "language_info": {
      "name": "python"
    }
  },
  "cells": [
    {
      "cell_type": "markdown",
      "metadata": {
        "id": "view-in-github",
        "colab_type": "text"
      },
      "source": [
        "<a href=\"https://colab.research.google.com/github/davidlealo/sic_ai_2025_jun/blob/main/04pln/clase_22.ipynb\" target=\"_parent\"><img src=\"https://colab.research.google.com/assets/colab-badge.svg\" alt=\"Open In Colab\"/></a>"
      ]
    },
    {
      "cell_type": "markdown",
      "source": [
        "### Clase 22\n",
        "\n",
        "Introducción PNL"
      ],
      "metadata": {
        "id": "Kg5wnpaF8Q6r"
      }
    },
    {
      "cell_type": "code",
      "execution_count": 1,
      "metadata": {
        "id": "h0VT_p9g8KTX"
      },
      "outputs": [],
      "source": [
        "corpus = [\n",
        "    \"hola como estas\",\n",
        "    \"hola como te va\",\n",
        "    \"hola que tal\",\n",
        "    \"hoy es un gran día\",\n",
        "    \"hoy estamos felices\",\n",
        "    \"hoy comemos pastel\",\n",
        "    \"mañana iremos al cine\"\n",
        "]\n"
      ]
    },
    {
      "cell_type": "code",
      "source": [
        "from collections import defaultdict\n",
        "\n",
        "# Estructura de datos: diccionario de palabras -> siguientes palabras posibles\n",
        "predictor = defaultdict(lambda: defaultdict(int))\n",
        "\n",
        "for sentence in corpus:\n",
        "    words = sentence.lower().split()\n",
        "    for i in range(len(words) - 1):\n",
        "        predictor[words[i]][words[i + 1]] += 1\n"
      ],
      "metadata": {
        "id": "UjLTicYW8Ws6"
      },
      "execution_count": 2,
      "outputs": []
    },
    {
      "cell_type": "code",
      "source": [
        "def sugerir_siguiente(palabra):\n",
        "    if palabra not in predictor:\n",
        "        return \"Sin sugerencias\"\n",
        "    siguientes = predictor[palabra]\n",
        "    sugerencia = max(siguientes, key=siguientes.get)\n",
        "    return sugerencia\n"
      ],
      "metadata": {
        "id": "rMJz8BfI8aE6"
      },
      "execution_count": 3,
      "outputs": []
    },
    {
      "cell_type": "code",
      "source": [
        "entrada = \"hoy\"\n",
        "print(f\"Sugerencia para '{entrada}': {sugerir_siguiente(entrada)}\")\n"
      ],
      "metadata": {
        "colab": {
          "base_uri": "https://localhost:8080/"
        },
        "id": "YvNIamdk8bwN",
        "outputId": "87de5e0d-8b34-46cb-ac58-3697ba643ba1"
      },
      "execution_count": 4,
      "outputs": [
        {
          "output_type": "stream",
          "name": "stdout",
          "text": [
            "Sugerencia para 'hoy': es\n"
          ]
        }
      ]
    },
    {
      "cell_type": "code",
      "source": [
        "entrada = \"hola\"\n",
        "print(f\"Sugerencia para '{entrada}': {sugerir_siguiente(entrada)}\")\n"
      ],
      "metadata": {
        "colab": {
          "base_uri": "https://localhost:8080/"
        },
        "id": "S4mduNKT8c8Z",
        "outputId": "7bf3afb6-5a68-460c-a65d-cabec0989792"
      },
      "execution_count": 5,
      "outputs": [
        {
          "output_type": "stream",
          "name": "stdout",
          "text": [
            "Sugerencia para 'hola': como\n"
          ]
        }
      ]
    },
    {
      "cell_type": "code",
      "source": [
        "entrada = \"hoy estamos\"\n",
        "print(f\"Sugerencia para '{entrada}': {sugerir_siguiente(entrada)}\")\n"
      ],
      "metadata": {
        "colab": {
          "base_uri": "https://localhost:8080/"
        },
        "id": "Y5ZvX91w8iNe",
        "outputId": "fd0dba3c-66e3-4264-e5c4-43863b14fffe"
      },
      "execution_count": 6,
      "outputs": [
        {
          "output_type": "stream",
          "name": "stdout",
          "text": [
            "Sugerencia para 'hoy estamos': Sin sugerencias\n"
          ]
        }
      ]
    }
  ]
}