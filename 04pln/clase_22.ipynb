{
 "cells": [
  {
   "cell_type": "markdown",
   "metadata": {},
   "source": [
    "# Clase 22: Autocompletado con PLN 🧠\n",
    "Este notebook implementa un sistema de autocompletado sencillo basado en conteo de frecuencia usando un corpus de frases."
   ]
  },
  {
   "cell_type": "code",
   "execution_count": null,
   "metadata": {},
   "outputs": [],
   "source": [
    "# Corpus de ejemplo\n",
    "corpus = [\n",
    "    \"hola como estas\",\n",
    "    \"hola como te va\",\n",
    "    \"hola que tal\",\n",
    "    \"hoy es un gran día\",\n",
    "    \"hoy estamos felices\",\n",
    "    \"hoy comemos pastel\",\n",
    "    \"mañana iremos al cine\"\n",
    "]"
   ]
  },
  {
   "cell_type": "code",
   "execution_count": null,
   "metadata": {},
   "outputs": [],
   "source": [
    "# Construcción del diccionario de predicción\n",
    "from collections import defaultdict\n",
    "\n",
    "predictor = defaultdict(lambda: defaultdict(int))\n",
    "\n",
    "for sentence in corpus:\n",
    "    words = sentence.lower().split()\n",
    "    for i in range(len(words) - 1):\n",
    "        predictor[words[i]][words[i + 1]] += 1"
   ]
  },
  {
   "cell_type": "code",
   "execution_count": null,
   "metadata": {},
   "outputs": [],
   "source": [
    "# Función de sugerencia de siguiente palabra\n",
    "def sugerir_siguiente(palabra):\n",
    "    if palabra not in predictor:\n",
    "        return \"Sin sugerencias\"\n",
    "    siguientes = predictor[palabra]\n",
    "    sugerencia = max(siguientes, key=siguientes.get)\n",
    "    return sugerencia"
   ]
  },
  {
   "cell_type": "code",
   "execution_count": null,
   "metadata": {},
   "outputs": [],
   "source": [
    "# Prueba del sistema\n",
    "entrada = input(\"Ingresa una palabra: \")\n",
    "print(f'Sugerencia para "{entrada}": {sugerir_siguiente(entrada)}')"
   ]
  }
 ],
 "metadata": {
  "kernelspec": {
   "display_name": "Python 3",
   "language": "python",
   "name": "python3"
  },
  "language_info": {
   "name": "python",
   "version": ""
  }
 },
 "nbformat": 4,
 "nbformat_minor": 2
}
