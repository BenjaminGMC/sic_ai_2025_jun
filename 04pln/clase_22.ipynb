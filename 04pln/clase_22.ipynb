{
  "nbformat": 4,
  "nbformat_minor": 0,
  "metadata": {
    "colab": {
      "provenance": [],
      "authorship_tag": "ABX9TyPZf1VWtuszyzBnNoeDZdDp",
      "include_colab_link": true
    },
    "kernelspec": {
      "name": "python3",
      "display_name": "Python 3"
    },
    "language_info": {
      "name": "python"
    }
  },
  "cells": [
    {
      "cell_type": "markdown",
      "metadata": {
        "id": "view-in-github",
        "colab_type": "text"
      },
      "source": [
        "<a href=\"https://colab.research.google.com/github/davidlealo/sic_ai_2025_jun/blob/main/04pln/clase_22.ipynb\" target=\"_parent\"><img src=\"https://colab.research.google.com/assets/colab-badge.svg\" alt=\"Open In Colab\"/></a>"
      ]
    },
    {
      "cell_type": "markdown",
      "source": [
        "### Clase 22\n",
        "\n",
        "Introducción PNL"
      ],
      "metadata": {
        "id": "Kg5wnpaF8Q6r"
      }
    },
    {
      "cell_type": "code",
      "execution_count": null,
      "metadata": {
        "id": "h0VT_p9g8KTX"
      },
      "outputs": [],
      "source": [
        "corpus = [\n",
        "    \"hola como estas\",\n",
        "    \"hola como te va\",\n",
        "    \"hola que tal\",\n",
        "    \"hoy es un gran día\",\n",
        "    \"hoy estamos felices\",\n",
        "    \"hoy comemos pastel\",\n",
        "    \"mañana iremos al cine\"\n",
        "]\n"
      ]
    },
    {
      "cell_type": "code",
      "source": [
        "from collections import defaultdict\n",
        "\n",
        "# Estructura de datos: diccionario de palabras -> siguientes palabras posibles\n",
        "predictor = defaultdict(lambda: defaultdict(int))\n",
        "\n",
        "for sentence in corpus:\n",
        "    words = sentence.lower().split()\n",
        "    for i in range(len(words) - 1):\n",
        "        predictor[words[i]][words[i + 1]] += 1\n"
      ],
      "metadata": {
        "id": "UjLTicYW8Ws6"
      },
      "execution_count": null,
      "outputs": []
    },
    {
      "cell_type": "code",
      "source": [
        "def sugerir_siguiente(palabra):\n",
        "    if palabra not in predictor:\n",
        "        return \"Sin sugerencias\"\n",
        "    siguientes = predictor[palabra]\n",
        "    sugerencia = max(siguientes, key=siguientes.get)\n",
        "    return sugerencia\n"
      ],
      "metadata": {
        "id": "rMJz8BfI8aE6"
      },
      "execution_count": null,
      "outputs": []
    },
    {
      "cell_type": "code",
      "source": [
        "entrada = \"hoy\"\n",
        "print(f\"Sugerencia para '{entrada}': {sugerir_siguiente(entrada)}\")\n"
      ],
      "metadata": {
        "colab": {
          "base_uri": "https://localhost:8080/"
        },
        "id": "YvNIamdk8bwN",
        "outputId": "2d28198e-cb35-462a-ee7c-c929524475ac"
      },
      "execution_count": null,
      "outputs": [
        {
          "output_type": "stream",
          "name": "stdout",
          "text": [
            "Sugerencia para 'hoy': es\n"
          ]
        }
      ]
    },
    {
      "cell_type": "code",
      "source": [
        "entrada = \"hola\"\n",
        "print(f\"Sugerencia para '{entrada}': {sugerir_siguiente(entrada)}\")\n"
      ],
      "metadata": {
        "colab": {
          "base_uri": "https://localhost:8080/"
        },
        "id": "S4mduNKT8c8Z",
        "outputId": "23ddc9cd-ed6d-408f-b4ed-eb946e762e92"
      },
      "execution_count": null,
      "outputs": [
        {
          "output_type": "stream",
          "name": "stdout",
          "text": [
            "Sugerencia para 'hola': como\n"
          ]
        }
      ]
    },
    {
      "cell_type": "code",
      "source": [
        "entrada = \"hoy estamos\"\n",
        "print(f\"Sugerencia para '{entrada}': {sugerir_siguiente(entrada)}\")\n"
      ],
      "metadata": {
        "colab": {
          "base_uri": "https://localhost:8080/"
        },
        "id": "Y5ZvX91w8iNe",
        "outputId": "9b75ff83-e7f3-4f46-90ec-6fdfa593c61a"
      },
      "execution_count": null,
      "outputs": [
        {
          "output_type": "stream",
          "name": "stdout",
          "text": [
            "Sugerencia para 'hoy estamos': Sin sugerencias\n"
          ]
        }
      ]
    },
    {
      "cell_type": "code",
      "source": [
        "entrada = input(\"Ingresa una palabra: \")\n",
        "print(f\"Sugerencia para '{entrada}': {sugerir_siguiente(entrada)}\")"
      ],
      "metadata": {
        "colab": {
          "base_uri": "https://localhost:8080/"
        },
        "id": "hhp_xmZmmriu",
        "outputId": "f488a213-2248-427b-b4ad-836c13829bf1"
      },
      "execution_count": null,
      "outputs": [
        {
          "output_type": "stream",
          "name": "stdout",
          "text": [
            "Ingresa una palabra: mañana\n",
            "Sugerencia para 'mañana': iremos\n"
          ]
        }
      ]
    },
    {
      "cell_type": "markdown",
      "source": [
        "### NLTK\n",
        "\n",
        "https://www.nltk.org/\n"
      ],
      "metadata": {
        "id": "Su_W3bumnjEI"
      }
    },
    {
      "cell_type": "markdown",
      "source": [
        "# Análisis del archivo `robots.txt` de Wikipedia\n",
        "\n",
        "URL: [https://en.wikipedia.org/robots.txt](https://en.wikipedia.org/robots.txt)\n",
        "\n",
        "---\n",
        "\n",
        "## 🧱 ESTRUCTURA BÁSICA DE UN `robots.txt`\n",
        "\n",
        "La estructura básica de un archivo `robots.txt` tiene reglas con esta sintaxis:\n",
        "\n",
        "```\n",
        "User-agent: [nombre del bot]\n",
        "Disallow: [ruta que no se debe rastrear]\n",
        "Allow: [ruta que sí se puede rastrear]\n",
        "```\n",
        "\n",
        "Opcionalmente puede incluir:\n",
        "\n",
        "- `Sitemap:` → Para decir dónde está el mapa del sitio.\n",
        "- `Crawl-delay:` → Para limitar la frecuencia con la que un bot accede a las páginas.\n",
        "\n",
        "---\n",
        "\n",
        "## 🔍 CONTENIDO DE `robots.txt` de Wikipedia\n",
        "\n",
        "### 1. Comentarios informativos\n",
        "\n",
        "```txt\n",
        "# Please note: There are multiple Wikimedia projects, including Wikipedia, ...\n",
        "```\n",
        "\n",
        "Estos son **comentarios informativos** para humanos que leen el archivo. Indican que existen múltiples proyectos de Wikimedia y que cada uno tiene su propio `robots.txt`.\n",
        "\n",
        "---\n",
        "\n",
        "### 2. Reglas para todos los bots\n",
        "\n",
        "```txt\n",
        "User-agent: *\n",
        "Disallow: /wiki/Special:\n",
        "Disallow: /w/\n",
        "Disallow: /trap/\n",
        "```\n",
        "\n",
        "**Significado**:\n",
        "\n",
        "- `User-agent: *` → Aplica a **todos los bots**.\n",
        "- `Disallow: /wiki/Special:` → Bloquea las páginas especiales (como `/wiki/Special:RecentChanges`, etc.).\n",
        "- `Disallow: /w/` → Bloquea el acceso al backend del software MediaWiki (como `/w/index.php`, etc.).\n",
        "- `Disallow: /trap/` → Bloquea una ruta trampa para bots maliciosos.\n",
        "\n",
        "---\n",
        "\n",
        "### 3. Reglas específicas para algunos bots\n",
        "\n",
        "```txt\n",
        "User-agent: Googlebot\n",
        "Disallow: /w/\n",
        "```\n",
        "\n",
        "```txt\n",
        "User-agent: Bingbot\n",
        "Disallow: /w/\n",
        "```\n",
        "\n",
        "Estos bloques son similares pero aplican a **bots específicos** (como Googlebot y Bingbot). También se les bloquea la carpeta `/w/`.\n",
        "\n",
        "---\n",
        "\n",
        "### 4. Crawl-delay para algunos bots\n",
        "\n",
        "```txt\n",
        "User-agent: Slurp\n",
        "Crawl-delay: 1\n",
        "```\n",
        "\n",
        "Esto le dice al bot de Yahoo (Slurp) que espere **al menos 1 segundo entre cada solicitud**.\n",
        "\n",
        "---\n",
        "\n",
        "### 5. Sitemap\n",
        "\n",
        "```txt\n",
        "Sitemap: https://en.wikipedia.org/sitemap.xml\n",
        "```\n",
        "\n",
        "Esto indica a los bots dónde pueden encontrar el **mapa del sitio**, que es un archivo con URLs recomendadas para rastrear.\n",
        "\n",
        "---\n",
        "\n",
        "## ✅ RESUMEN\n",
        "\n",
        "- Wikipedia **permite** el acceso a la mayoría de sus páginas de artículos.\n",
        "- **Restringe** el acceso a:\n",
        "  - Páginas especiales del sistema (`/wiki/Special:`),\n",
        "  - Rutas del backend del software MediaWiki (`/w/`),\n",
        "  - Carpetas trampa o privadas (`/trap/`).\n",
        "- Define reglas específicas para algunos bots populares.\n",
        "- Incluye un `sitemap.xml`.\n"
      ],
      "metadata": {
        "id": "8z666z7rtN4J"
      }
    },
    {
      "cell_type": "markdown",
      "source": [
        "Por ejemplo hay páginas restrictivas para los sistemas automatizados de extraer datos, ejemplo: https://www.instagram.com/robots.txt"
      ],
      "metadata": {
        "id": "zOhE_bGOuAKS"
      }
    },
    {
      "cell_type": "markdown",
      "source": [
        "![Imagen estructura HTML](https://disenowebakus.net/imagenes/articulos/estructura-basica-de-una-pagina-web-en-html.jpg)"
      ],
      "metadata": {
        "id": "jySzkx_t9gCn"
      }
    },
    {
      "cell_type": "markdown",
      "source": [
        "# Descargar información desde sitio web"
      ],
      "metadata": {
        "id": "JeLok8SR9S_k"
      }
    },
    {
      "cell_type": "markdown",
      "source": [
        "![verbos http](https://gautambiztalkblog.wordpress.com/wp-content/uploads/2015/03/crud.jpg)"
      ],
      "metadata": {
        "id": "KbuXsUeB9pyr"
      }
    },
    {
      "cell_type": "markdown",
      "source": [
        "https://requests.readthedocs.io/en/latest/"
      ],
      "metadata": {
        "id": "Xx93XRRE96Tl"
      }
    },
    {
      "cell_type": "markdown",
      "source": [
        "![Códigos de status de requests](https://encrypted-tbn0.gstatic.com/images?q=tbn:ANd9GcT2oPHcwlYQadHfInt1EeqLdH1TiaPYpV1LZA&s)"
      ],
      "metadata": {
        "id": "mHXzJjri-UHy"
      }
    },
    {
      "cell_type": "code",
      "source": [
        "import requests\n",
        "res = requests.get('https://en.wikipedia.org/wiki/Machine_learning')\n"
      ],
      "metadata": {
        "id": "xVcU49BetOqu"
      },
      "execution_count": 1,
      "outputs": []
    },
    {
      "cell_type": "code",
      "source": [
        "res"
      ],
      "metadata": {
        "colab": {
          "base_uri": "https://localhost:8080/"
        },
        "id": "4RBVf0lU-d6N",
        "outputId": "194f6508-6c08-40db-b3b4-6810555e1921"
      },
      "execution_count": 2,
      "outputs": [
        {
          "output_type": "execute_result",
          "data": {
            "text/plain": [
              "<Response [200]>"
            ]
          },
          "metadata": {},
          "execution_count": 2
        }
      ]
    },
    {
      "cell_type": "code",
      "source": [
        "res.status_code"
      ],
      "metadata": {
        "colab": {
          "base_uri": "https://localhost:8080/"
        },
        "id": "E_tU2RYX-jlj",
        "outputId": "51fa47ad-7976-4b6f-cd98-35e0042b2a40"
      },
      "execution_count": 3,
      "outputs": [
        {
          "output_type": "execute_result",
          "data": {
            "text/plain": [
              "200"
            ]
          },
          "metadata": {},
          "execution_count": 3
        }
      ]
    },
    {
      "cell_type": "code",
      "source": [
        "res.links"
      ],
      "metadata": {
        "colab": {
          "base_uri": "https://localhost:8080/"
        },
        "id": "xhKAE5tO-uu4",
        "outputId": "8ebf418f-7c4e-440c-bfd5-ae3f3c50c70c"
      },
      "execution_count": 4,
      "outputs": [
        {
          "output_type": "execute_result",
          "data": {
            "text/plain": [
              "{}"
            ]
          },
          "metadata": {},
          "execution_count": 4
        }
      ]
    },
    {
      "cell_type": "code",
      "source": [
        "res.json"
      ],
      "metadata": {
        "colab": {
          "base_uri": "https://localhost:8080/",
          "height": 187
        },
        "id": "fh2Clmrf-x7G",
        "outputId": "c48517e7-4c27-4abf-a5dd-2e58f92c1107"
      },
      "execution_count": 9,
      "outputs": [
        {
          "output_type": "execute_result",
          "data": {
            "text/plain": [
              "<bound method Response.json of <Response [200]>>"
            ],
            "text/html": [
              "<div style=\"max-width:800px; border: 1px solid var(--colab-border-color);\"><style>\n",
              "      pre.function-repr-contents {\n",
              "        overflow-x: auto;\n",
              "        padding: 8px 12px;\n",
              "        max-height: 500px;\n",
              "      }\n",
              "\n",
              "      pre.function-repr-contents.function-repr-contents-collapsed {\n",
              "        cursor: pointer;\n",
              "        max-height: 100px;\n",
              "      }\n",
              "    </style>\n",
              "    <pre style=\"white-space: initial; background:\n",
              "         var(--colab-secondary-surface-color); padding: 8px 12px;\n",
              "         border-bottom: 1px solid var(--colab-border-color);\"><b>requests.models.Response.json</b><br/>def json(**kwargs)</pre><pre class=\"function-repr-contents function-repr-contents-collapsed\" style=\"\"><a class=\"filepath\" style=\"display:none\" href=\"#\">/usr/local/lib/python3.11/dist-packages/requests/models.py</a>Returns the json-encoded content of a response, if any.\n",
              "\n",
              ":param \\*\\*kwargs: Optional arguments that ``json.loads`` takes.\n",
              ":raises requests.exceptions.JSONDecodeError: If the response body does not\n",
              "    contain valid json.</pre>\n",
              "      <script>\n",
              "      if (google.colab.kernel.accessAllowed && google.colab.files && google.colab.files.view) {\n",
              "        for (const element of document.querySelectorAll('.filepath')) {\n",
              "          element.style.display = 'block'\n",
              "          element.onclick = (event) => {\n",
              "            event.preventDefault();\n",
              "            event.stopPropagation();\n",
              "            google.colab.files.view(element.textContent, 947);\n",
              "          };\n",
              "        }\n",
              "      }\n",
              "      for (const element of document.querySelectorAll('.function-repr-contents')) {\n",
              "        element.onclick = (event) => {\n",
              "          event.preventDefault();\n",
              "          event.stopPropagation();\n",
              "          element.classList.toggle('function-repr-contents-collapsed');\n",
              "        };\n",
              "      }\n",
              "      </script>\n",
              "      </div>"
            ]
          },
          "metadata": {},
          "execution_count": 9
        }
      ]
    },
    {
      "cell_type": "code",
      "source": [
        "res.text"
      ],
      "metadata": {
        "id": "CdWykYYN-0_K"
      },
      "execution_count": null,
      "outputs": []
    },
    {
      "cell_type": "markdown",
      "source": [
        "https://beautiful-soup-4.readthedocs.io/en/latest/"
      ],
      "metadata": {
        "id": "aYOYvJMXAN9L"
      }
    },
    {
      "cell_type": "code",
      "source": [
        "import requests\n",
        "from bs4 import BeautifulSoup\n",
        "\n",
        "res = requests.get('https://en.wikipedia.org/wiki/Machine_learning')\n",
        "soup = BeautifulSoup(res.text, 'html.parser')\n"
      ],
      "metadata": {
        "id": "qkfut7Jy_S_Y"
      },
      "execution_count": 10,
      "outputs": []
    },
    {
      "cell_type": "code",
      "source": [
        "soup.head()"
      ],
      "metadata": {
        "id": "zbcKOA5LAbc-"
      },
      "execution_count": null,
      "outputs": []
    },
    {
      "cell_type": "code",
      "source": [
        "soup.body()"
      ],
      "metadata": {
        "id": "PRfG9qC7AkIh"
      },
      "execution_count": null,
      "outputs": []
    },
    {
      "cell_type": "code",
      "source": [
        "soup.b"
      ],
      "metadata": {
        "colab": {
          "base_uri": "https://localhost:8080/"
        },
        "id": "MjUDyCxABThg",
        "outputId": "948da94a-2e8b-4720-86dc-285f025220dc"
      },
      "execution_count": 16,
      "outputs": [
        {
          "output_type": "execute_result",
          "data": {
            "text/plain": [
              "<b><a href=\"/wiki/Statistical_classification\" title=\"Statistical classification\">classification</a></b>"
            ]
          },
          "metadata": {},
          "execution_count": 16
        }
      ]
    },
    {
      "cell_type": "code",
      "source": [
        "soup.i"
      ],
      "metadata": {
        "colab": {
          "base_uri": "https://localhost:8080/"
        },
        "id": "p5jXCMeWBdax",
        "outputId": "c9d677dd-9fa9-4312-b03a-2ab3e09b5564"
      },
      "execution_count": 17,
      "outputs": [
        {
          "output_type": "execute_result",
          "data": {
            "text/plain": [
              "<i>k</i>"
            ]
          },
          "metadata": {},
          "execution_count": 17
        }
      ]
    },
    {
      "cell_type": "code",
      "source": [
        "soup.a"
      ],
      "metadata": {
        "colab": {
          "base_uri": "https://localhost:8080/"
        },
        "id": "T5WP9XE4BfiQ",
        "outputId": "5c8079e0-845b-497d-84aa-08221852d32a"
      },
      "execution_count": 19,
      "outputs": [
        {
          "output_type": "execute_result",
          "data": {
            "text/plain": [
              "<a class=\"mw-jump-link\" href=\"#bodyContent\">Jump to content</a>"
            ]
          },
          "metadata": {},
          "execution_count": 19
        }
      ]
    },
    {
      "cell_type": "code",
      "source": [
        "soup.find_all('a')"
      ],
      "metadata": {
        "id": "xy4rqgFn_3a9"
      },
      "execution_count": null,
      "outputs": []
    },
    {
      "cell_type": "code",
      "source": [
        "import requests\n",
        "from bs4 import BeautifulSoup\n",
        "\n",
        "res = requests.get('https://es.wikipedia.org/wiki/Aprendizaje_autom%C3%A1tico')\n",
        "soup = BeautifulSoup(res.text, 'html.parser')\n",
        "\n",
        "x = soup.find_all(class_='mw-heading mw-heading3')\n",
        "text = ''\n",
        "\n",
        "for i in range(len(x)):\n",
        "  text += x[i].text.strip()+'\\n'"
      ],
      "metadata": {
        "id": "5MGMfJTzCcYo"
      },
      "execution_count": 31,
      "outputs": []
    },
    {
      "cell_type": "code",
      "source": [
        "text"
      ],
      "metadata": {
        "colab": {
          "base_uri": "https://localhost:8080/",
          "height": 87
        },
        "id": "eDK1dBKOC_n1",
        "outputId": "da13fe83-9e3d-47ff-a2dd-f435198444a3"
      },
      "execution_count": 32,
      "outputs": [
        {
          "output_type": "execute_result",
          "data": {
            "text/plain": [
              "'Modelos[editar]\\nÁrboles de decisiones[editar]\\nReglas de asociación[editar]\\nAlgoritmos genéticos[editar]\\nRedes neuronales artificiales[editar]\\nMáquinas de vectores de soporte[editar]\\nAlgoritmos de agrupamiento[editar]\\nRedes bayesianas[editar]\\nSoftware de código abierto[editar]\\nSoftware comercial[editar]\\n'"
            ],
            "application/vnd.google.colaboratory.intrinsic+json": {
              "type": "string"
            }
          },
          "metadata": {},
          "execution_count": 32
        }
      ]
    },
    {
      "cell_type": "code",
      "source": [
        "import requests\n",
        "from bs4 import BeautifulSoup\n",
        "\n",
        "res = requests.get('https://www.clubdeperrosygatos.cl/categorias/ropa-vestuario-y-accesorios-perros-gatos/?sort_by=discount&page=1&rb_categories=Ropa%20Polerones%20Chaquetas%20Perros%20y%20Gatos&tab=products')\n",
        "soup = BeautifulSoup(res.text, 'html.parser')\n",
        "\n",
        "x = soup.find_all(class_='snize-title')\n",
        "text = ''\n",
        "\n",
        "for i in range(len(x)):\n",
        "  text += x[i].text.strip()+'\\n'"
      ],
      "metadata": {
        "id": "T5KKjVDkHdW6"
      },
      "execution_count": 35,
      "outputs": []
    },
    {
      "cell_type": "code",
      "source": [
        "text"
      ],
      "metadata": {
        "id": "Smk2dYfQHm6u",
        "outputId": "fec3a2aa-e864-4f22-8e34-585f506a5613",
        "colab": {
          "base_uri": "https://localhost:8080/",
          "height": 35
        }
      },
      "execution_count": 36,
      "outputs": [
        {
          "output_type": "execute_result",
          "data": {
            "text/plain": [
              "''"
            ],
            "application/vnd.google.colaboratory.intrinsic+json": {
              "type": "string"
            }
          },
          "metadata": {},
          "execution_count": 36
        }
      ]
    },
    {
      "cell_type": "code",
      "source": [
        "!pip install selenium\n"
      ],
      "metadata": {
        "id": "Z7Hd3QUiI5Ug",
        "outputId": "b0523560-a117-45b8-efcf-c97c0b5d3ab7",
        "colab": {
          "base_uri": "https://localhost:8080/"
        }
      },
      "execution_count": 38,
      "outputs": [
        {
          "output_type": "stream",
          "name": "stdout",
          "text": [
            "Collecting selenium\n",
            "  Downloading selenium-4.34.2-py3-none-any.whl.metadata (7.5 kB)\n",
            "Requirement already satisfied: urllib3~=2.5.0 in /usr/local/lib/python3.11/dist-packages (from urllib3[socks]~=2.5.0->selenium) (2.5.0)\n",
            "Collecting trio~=0.30.0 (from selenium)\n",
            "  Downloading trio-0.30.0-py3-none-any.whl.metadata (8.5 kB)\n",
            "Collecting trio-websocket~=0.12.2 (from selenium)\n",
            "  Downloading trio_websocket-0.12.2-py3-none-any.whl.metadata (5.1 kB)\n",
            "Requirement already satisfied: certifi>=2025.6.15 in /usr/local/lib/python3.11/dist-packages (from selenium) (2025.7.14)\n",
            "Requirement already satisfied: typing_extensions~=4.14.0 in /usr/local/lib/python3.11/dist-packages (from selenium) (4.14.1)\n",
            "Requirement already satisfied: websocket-client~=1.8.0 in /usr/local/lib/python3.11/dist-packages (from selenium) (1.8.0)\n",
            "Requirement already satisfied: attrs>=23.2.0 in /usr/local/lib/python3.11/dist-packages (from trio~=0.30.0->selenium) (25.3.0)\n",
            "Requirement already satisfied: sortedcontainers in /usr/local/lib/python3.11/dist-packages (from trio~=0.30.0->selenium) (2.4.0)\n",
            "Requirement already satisfied: idna in /usr/local/lib/python3.11/dist-packages (from trio~=0.30.0->selenium) (3.10)\n",
            "Collecting outcome (from trio~=0.30.0->selenium)\n",
            "  Downloading outcome-1.3.0.post0-py2.py3-none-any.whl.metadata (2.6 kB)\n",
            "Requirement already satisfied: sniffio>=1.3.0 in /usr/local/lib/python3.11/dist-packages (from trio~=0.30.0->selenium) (1.3.1)\n",
            "Collecting wsproto>=0.14 (from trio-websocket~=0.12.2->selenium)\n",
            "  Downloading wsproto-1.2.0-py3-none-any.whl.metadata (5.6 kB)\n",
            "Requirement already satisfied: pysocks!=1.5.7,<2.0,>=1.5.6 in /usr/local/lib/python3.11/dist-packages (from urllib3[socks]~=2.5.0->selenium) (1.7.1)\n",
            "Requirement already satisfied: h11<1,>=0.9.0 in /usr/local/lib/python3.11/dist-packages (from wsproto>=0.14->trio-websocket~=0.12.2->selenium) (0.16.0)\n",
            "Downloading selenium-4.34.2-py3-none-any.whl (9.4 MB)\n",
            "\u001b[2K   \u001b[90m━━━━━━━━━━━━━━━━━━━━━━━━━━━━━━━━━━━━━━━━\u001b[0m \u001b[32m9.4/9.4 MB\u001b[0m \u001b[31m19.4 MB/s\u001b[0m eta \u001b[36m0:00:00\u001b[0m\n",
            "\u001b[?25hDownloading trio-0.30.0-py3-none-any.whl (499 kB)\n",
            "\u001b[2K   \u001b[90m━━━━━━━━━━━━━━━━━━━━━━━━━━━━━━━━━━━━━━━━\u001b[0m \u001b[32m499.2/499.2 kB\u001b[0m \u001b[31m31.3 MB/s\u001b[0m eta \u001b[36m0:00:00\u001b[0m\n",
            "\u001b[?25hDownloading trio_websocket-0.12.2-py3-none-any.whl (21 kB)\n",
            "Downloading outcome-1.3.0.post0-py2.py3-none-any.whl (10 kB)\n",
            "Downloading wsproto-1.2.0-py3-none-any.whl (24 kB)\n",
            "Installing collected packages: wsproto, outcome, trio, trio-websocket, selenium\n",
            "Successfully installed outcome-1.3.0.post0 selenium-4.34.2 trio-0.30.0 trio-websocket-0.12.2 wsproto-1.2.0\n"
          ]
        }
      ]
    },
    {
      "cell_type": "code",
      "source": [
        "from selenium import webdriver\n",
        "from selenium.webdriver.chrome.options import Options\n",
        "from bs4 import BeautifulSoup\n",
        "from selenium.webdriver.common.by import By\n",
        "from selenium.webdriver.support.ui import WebDriverWait\n",
        "from selenium.webdriver.support import expected_conditions as EC\n",
        "\n",
        "# Configurar Selenium en modo headless (sin abrir ventana)\n",
        "chrome_options = Options()\n",
        "chrome_options.add_argument(\"--headless\")\n",
        "chrome_options.add_argument(\"--disable-gpu\")\n",
        "chrome_options.add_argument(\"--no-sandbox\")\n",
        "# Inicializar el navegador\n",
        "driver = webdriver.Chrome(options=chrome_options)\n",
        "\n",
        "# URL del sitio\n",
        "url = 'https://www.clubdeperrosygatos.cl/categorias/alimento/alimento-para-perros/alimento-humedo-perros/?sort_by=discount'\n",
        "driver.get(url)\n",
        "\n",
        "# Esperar hasta que los precios se carguen en la página\n",
        "WebDriverWait(driver, 10).until(\n",
        "    EC.presence_of_element_located((By.CLASS_NAME, \"snize-price\"))\n",
        ")\n",
        "# Obtener HTML renderizado\n",
        "html = driver.page_source\n",
        "soup = BeautifulSoup(html, 'html.parser')\n",
        "\n",
        "# Extraer todos los precios\n",
        "titulos = soup.find_all('span', class_='snize-title')\n",
        "precios = soup.find_all('span', class_='snize-price snize-price-with-discount money')\n",
        "\n",
        "\n",
        "# Mostrar resultados\n",
        "print(\"Productos encontrados:\")\n",
        "for idx, (t, p) in enumerate(zip(titulos, precios), start=1):\n",
        "    print(f\"{idx}. {t.get_text(strip=True)} - {p.get_text(strip=True)}\")\n",
        "\n",
        "# Cerrar el navegador\n",
        "driver.quit()"
      ],
      "metadata": {
        "id": "fD4562rmIyaM",
        "outputId": "a2392441-1d33-4f91-b9c3-c992695bcda8",
        "colab": {
          "base_uri": "https://localhost:8080/"
        }
      },
      "execution_count": 46,
      "outputs": [
        {
          "output_type": "stream",
          "name": "stdout",
          "text": [
            "Productos encontrados:\n",
            "1. Belcando cordero y patatas con arándano 125 Grs - $2.618\n",
            "2. Belcando pato con arroz y arándano 125 Grs - $2.618\n",
            "3. Belcando venado con mijo y arándano 125 grs - $2.618\n",
            "4. Belcando Mastercraft Topping Pavo 100 Gr - $2.618\n",
            "5. Belcando Mastercraft Topping Ternera 100 Gr - $2.618\n",
            "6. BRAVERY TUNA AND VEGETABLES ADULT DOG WET FOOD 80 GR - $1.752\n",
            "7. BRAVERY CHICKEN AND VEGETABLES ADULT DOG WET FOOD 80 GR - $1.862\n",
            "8. Bravery chicken and vegetables dog wet food 290 gr - $2.967\n",
            "9. Bravery Lata Tuna and Vegetables Dog Wet Food 290 gr - $2.967\n"
          ]
        }
      ]
    },
    {
      "cell_type": "markdown",
      "source": [
        "# Llegamos hasta la p 25"
      ],
      "metadata": {
        "id": "kNWg2jdPLhLx"
      }
    }
  ]
}