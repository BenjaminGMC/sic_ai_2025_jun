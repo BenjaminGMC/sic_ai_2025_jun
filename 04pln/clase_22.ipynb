{
  "nbformat": 4,
  "nbformat_minor": 0,
  "metadata": {
    "colab": {
      "provenance": [],
      "authorship_tag": "ABX9TyNTP+wbDG3IFSIbR8stRg/A",
      "include_colab_link": true
    },
    "kernelspec": {
      "name": "python3",
      "display_name": "Python 3"
    },
    "language_info": {
      "name": "python"
    }
  },
  "cells": [
    {
      "cell_type": "markdown",
      "metadata": {
        "id": "view-in-github",
        "colab_type": "text"
      },
      "source": [
        "<a href=\"https://colab.research.google.com/github/davidlealo/sic_ai_2025_jun/blob/main/04pln/clase_22.ipynb\" target=\"_parent\"><img src=\"https://colab.research.google.com/assets/colab-badge.svg\" alt=\"Open In Colab\"/></a>"
      ]
    },
    {
      "cell_type": "markdown",
      "source": [
        "### Clase 22\n",
        "\n",
        "Introducción PNL"
      ],
      "metadata": {
        "id": "Kg5wnpaF8Q6r"
      }
    },
    {
      "cell_type": "code",
      "execution_count": null,
      "metadata": {
        "id": "h0VT_p9g8KTX"
      },
      "outputs": [],
      "source": [
        "corpus = [\n",
        "    \"hola como estas\",\n",
        "    \"hola como te va\",\n",
        "    \"hola que tal\",\n",
        "    \"hoy es un gran día\",\n",
        "    \"hoy estamos felices\",\n",
        "    \"hoy comemos pastel\",\n",
        "    \"mañana iremos al cine\"\n",
        "]\n"
      ]
    },
    {
      "cell_type": "code",
      "source": [
        "from collections import defaultdict\n",
        "\n",
        "# Estructura de datos: diccionario de palabras -> siguientes palabras posibles\n",
        "predictor = defaultdict(lambda: defaultdict(int))\n",
        "\n",
        "for sentence in corpus:\n",
        "    words = sentence.lower().split()\n",
        "    for i in range(len(words) - 1):\n",
        "        predictor[words[i]][words[i + 1]] += 1\n"
      ],
      "metadata": {
        "id": "UjLTicYW8Ws6"
      },
      "execution_count": null,
      "outputs": []
    },
    {
      "cell_type": "code",
      "source": [
        "def sugerir_siguiente(palabra):\n",
        "    if palabra not in predictor:\n",
        "        return \"Sin sugerencias\"\n",
        "    siguientes = predictor[palabra]\n",
        "    sugerencia = max(siguientes, key=siguientes.get)\n",
        "    return sugerencia\n"
      ],
      "metadata": {
        "id": "rMJz8BfI8aE6"
      },
      "execution_count": null,
      "outputs": []
    },
    {
      "cell_type": "code",
      "source": [
        "entrada = \"hoy\"\n",
        "print(f\"Sugerencia para '{entrada}': {sugerir_siguiente(entrada)}\")\n"
      ],
      "metadata": {
        "colab": {
          "base_uri": "https://localhost:8080/"
        },
        "id": "YvNIamdk8bwN",
        "outputId": "2d28198e-cb35-462a-ee7c-c929524475ac"
      },
      "execution_count": null,
      "outputs": [
        {
          "output_type": "stream",
          "name": "stdout",
          "text": [
            "Sugerencia para 'hoy': es\n"
          ]
        }
      ]
    },
    {
      "cell_type": "code",
      "source": [
        "entrada = \"hola\"\n",
        "print(f\"Sugerencia para '{entrada}': {sugerir_siguiente(entrada)}\")\n"
      ],
      "metadata": {
        "colab": {
          "base_uri": "https://localhost:8080/"
        },
        "id": "S4mduNKT8c8Z",
        "outputId": "23ddc9cd-ed6d-408f-b4ed-eb946e762e92"
      },
      "execution_count": null,
      "outputs": [
        {
          "output_type": "stream",
          "name": "stdout",
          "text": [
            "Sugerencia para 'hola': como\n"
          ]
        }
      ]
    },
    {
      "cell_type": "code",
      "source": [
        "entrada = \"hoy estamos\"\n",
        "print(f\"Sugerencia para '{entrada}': {sugerir_siguiente(entrada)}\")\n"
      ],
      "metadata": {
        "colab": {
          "base_uri": "https://localhost:8080/"
        },
        "id": "Y5ZvX91w8iNe",
        "outputId": "9b75ff83-e7f3-4f46-90ec-6fdfa593c61a"
      },
      "execution_count": null,
      "outputs": [
        {
          "output_type": "stream",
          "name": "stdout",
          "text": [
            "Sugerencia para 'hoy estamos': Sin sugerencias\n"
          ]
        }
      ]
    },
    {
      "cell_type": "code",
      "source": [
        "entrada = input(\"Ingresa una palabra: \")\n",
        "print(f\"Sugerencia para '{entrada}': {sugerir_siguiente(entrada)}\")"
      ],
      "metadata": {
        "colab": {
          "base_uri": "https://localhost:8080/"
        },
        "id": "hhp_xmZmmriu",
        "outputId": "f488a213-2248-427b-b4ad-836c13829bf1"
      },
      "execution_count": null,
      "outputs": [
        {
          "output_type": "stream",
          "name": "stdout",
          "text": [
            "Ingresa una palabra: mañana\n",
            "Sugerencia para 'mañana': iremos\n"
          ]
        }
      ]
    },
    {
      "cell_type": "markdown",
      "source": [
        "### NLTK\n",
        "\n",
        "https://www.nltk.org/\n"
      ],
      "metadata": {
        "id": "Su_W3bumnjEI"
      }
    },
    {
      "cell_type": "markdown",
      "source": [
        "# Análisis del archivo `robots.txt` de Wikipedia\n",
        "\n",
        "URL: [https://en.wikipedia.org/robots.txt](https://en.wikipedia.org/robots.txt)\n",
        "\n",
        "---\n",
        "\n",
        "## 🧱 ESTRUCTURA BÁSICA DE UN `robots.txt`\n",
        "\n",
        "La estructura básica de un archivo `robots.txt` tiene reglas con esta sintaxis:\n",
        "\n",
        "```\n",
        "User-agent: [nombre del bot]\n",
        "Disallow: [ruta que no se debe rastrear]\n",
        "Allow: [ruta que sí se puede rastrear]\n",
        "```\n",
        "\n",
        "Opcionalmente puede incluir:\n",
        "\n",
        "- `Sitemap:` → Para decir dónde está el mapa del sitio.\n",
        "- `Crawl-delay:` → Para limitar la frecuencia con la que un bot accede a las páginas.\n",
        "\n",
        "---\n",
        "\n",
        "## 🔍 CONTENIDO DE `robots.txt` de Wikipedia\n",
        "\n",
        "### 1. Comentarios informativos\n",
        "\n",
        "```txt\n",
        "# Please note: There are multiple Wikimedia projects, including Wikipedia, ...\n",
        "```\n",
        "\n",
        "Estos son **comentarios informativos** para humanos que leen el archivo. Indican que existen múltiples proyectos de Wikimedia y que cada uno tiene su propio `robots.txt`.\n",
        "\n",
        "---\n",
        "\n",
        "### 2. Reglas para todos los bots\n",
        "\n",
        "```txt\n",
        "User-agent: *\n",
        "Disallow: /wiki/Special:\n",
        "Disallow: /w/\n",
        "Disallow: /trap/\n",
        "```\n",
        "\n",
        "**Significado**:\n",
        "\n",
        "- `User-agent: *` → Aplica a **todos los bots**.\n",
        "- `Disallow: /wiki/Special:` → Bloquea las páginas especiales (como `/wiki/Special:RecentChanges`, etc.).\n",
        "- `Disallow: /w/` → Bloquea el acceso al backend del software MediaWiki (como `/w/index.php`, etc.).\n",
        "- `Disallow: /trap/` → Bloquea una ruta trampa para bots maliciosos.\n",
        "\n",
        "---\n",
        "\n",
        "### 3. Reglas específicas para algunos bots\n",
        "\n",
        "```txt\n",
        "User-agent: Googlebot\n",
        "Disallow: /w/\n",
        "```\n",
        "\n",
        "```txt\n",
        "User-agent: Bingbot\n",
        "Disallow: /w/\n",
        "```\n",
        "\n",
        "Estos bloques son similares pero aplican a **bots específicos** (como Googlebot y Bingbot). También se les bloquea la carpeta `/w/`.\n",
        "\n",
        "---\n",
        "\n",
        "### 4. Crawl-delay para algunos bots\n",
        "\n",
        "```txt\n",
        "User-agent: Slurp\n",
        "Crawl-delay: 1\n",
        "```\n",
        "\n",
        "Esto le dice al bot de Yahoo (Slurp) que espere **al menos 1 segundo entre cada solicitud**.\n",
        "\n",
        "---\n",
        "\n",
        "### 5. Sitemap\n",
        "\n",
        "```txt\n",
        "Sitemap: https://en.wikipedia.org/sitemap.xml\n",
        "```\n",
        "\n",
        "Esto indica a los bots dónde pueden encontrar el **mapa del sitio**, que es un archivo con URLs recomendadas para rastrear.\n",
        "\n",
        "---\n",
        "\n",
        "## ✅ RESUMEN\n",
        "\n",
        "- Wikipedia **permite** el acceso a la mayoría de sus páginas de artículos.\n",
        "- **Restringe** el acceso a:\n",
        "  - Páginas especiales del sistema (`/wiki/Special:`),\n",
        "  - Rutas del backend del software MediaWiki (`/w/`),\n",
        "  - Carpetas trampa o privadas (`/trap/`).\n",
        "- Define reglas específicas para algunos bots populares.\n",
        "- Incluye un `sitemap.xml`.\n"
      ],
      "metadata": {
        "id": "8z666z7rtN4J"
      }
    },
    {
      "cell_type": "markdown",
      "source": [
        "Por ejemplo hay páginas restrictivas para los sistemas automatizados de extraer datos, ejemplo: https://www.instagram.com/robots.txt"
      ],
      "metadata": {
        "id": "zOhE_bGOuAKS"
      }
    },
    {
      "cell_type": "code",
      "source": [],
      "metadata": {
        "id": "xVcU49BetOqu"
      },
      "execution_count": null,
      "outputs": []
    }
  ]
}