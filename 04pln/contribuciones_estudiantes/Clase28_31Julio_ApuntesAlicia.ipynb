{
  "nbformat": 4,
  "nbformat_minor": 0,
  "metadata": {
    "colab": {
      "provenance": []
    },
    "kernelspec": {
      "name": "python3",
      "display_name": "Python 3"
    },
    "language_info": {
      "name": "python"
    }
  },
  "cells": [
    {
      "cell_type": "markdown",
      "source": [
        "# Modelo de Representacion\n",
        "\n",
        "\n",
        "PPT 7 pag 112 - 152"
      ],
      "metadata": {
        "id": "RiBR-dACoAvv"
      }
    },
    {
      "cell_type": "markdown",
      "source": [
        "## **Visto la clase anterior** ¿Qué es un **modelo lingüístico**?\n",
        "\n",
        "Un **modelo lingüístico** (language model) es una herramienta que **entiende o predice texto**. Su objetivo es modelar el lenguaje humano. Por ejemplo:\n",
        "\n",
        "📌 *\"Dado que ya escribí 'La inteligencia artificial es...', ¿cuál es la siguiente palabra más probable?\"*\n",
        "\n",
        "Los modelos lingüísticos aprenden patrones del lenguaje a partir de grandes cantidades de texto. Se utilizan en:\n",
        "\n",
        "* Traducción automática\n",
        "* Chatbots\n",
        "* Autocompletado\n",
        "* Generación de texto\n",
        "* Clasificación de sentimientos, etc.\n",
        "\n",
        "---"
      ],
      "metadata": {
        "id": "c4QWNWc9rJEz"
      }
    },
    {
      "cell_type": "markdown",
      "source": [
        "## Modelo de Representación del Texto\n",
        "\n",
        "Cuando trabajamos con texto en Inteligencia Artificial o Machine Learning, tenemos que **convertir las palabras en números** (porque los modelos no entienden letras). Una de las formas más simples y populares para esto es:\n",
        "\n",
        "---"
      ],
      "metadata": {
        "id": "JoddYkX8rcvJ"
      }
    },
    {
      "cell_type": "markdown",
      "source": [
        "### 📦 Modelo de Bolsa de Palabras (Bag of Words - BOW)\n",
        "\n",
        "Este modelo **ignora el orden** de las palabras. Solo le importa **cuántas veces aparece cada palabra** en el texto.\n",
        "\n",
        "#### Ejemplo:\n",
        "\n",
        "Texto:\n",
        "\n",
        "> \"Era el mejor de los tiempos, era el peor de los tiempos, era la edad de la sabiduría, era la edad de la insensatez\".\n",
        "\n",
        "Después de eliminar las palabras vacías (como “el”, “de”, “la”...), nos quedamos con palabras más significativas:\n",
        "\n",
        "| Palabra    | Frecuencia |\n",
        "| ---------- | ---------- |\n",
        "| era        | 2          |\n",
        "| mejor      | 1          |\n",
        "| peor       | 1          |\n",
        "| edad       | 2          |\n",
        "| sabiduría  | 1          |\n",
        "| insensatez | 1          |\n",
        "| tiempos    | 2          |\n",
        "\n",
        "Esto es una **representación numérica del texto** que los algoritmos pueden usar.\n",
        "\n",
        "---\n",
        "\n",
        "### 📊 Matriz de Términos-Documentos (DTM) y TDM\n",
        "\n",
        "Supongamos que tienes **varios documentos**. Queremos construir una tabla (matriz) donde:\n",
        "\n",
        "* **Filas** = documentos\n",
        "* **Columnas** = palabras del vocabulario\n",
        "\n",
        "| Palabra \\ Documento | Doc. 1 | Doc. 2 | Doc. 3 |\n",
        "| ------------------- | ------ | ------ | ------ |\n",
        "| learning            | 2      | 1      | 1      |\n",
        "| intelligence        | 1      | 0      | 0      |\n",
        "| machine             | 1      | 1      | 3      |\n",
        "| ...                 | ...    | ...    | ...    |\n",
        "\n",
        "> 📌 Esta tabla se llama **DTM (Document-Term Matrix)**\n",
        "> Si intercambias filas y columnas → se llama **TDM (Term-Document Matrix)**\n",
        "\n",
        "---"
      ],
      "metadata": {
        "id": "X9BU6PDkrl7B"
      }
    },
    {
      "cell_type": "markdown",
      "source": [
        "## 📏 Frecuencia de Término (TF – Term Frequency)\n",
        "\n",
        "TF mide **qué tan frecuente** es una palabra dentro de un documento específico.\n",
        "\n",
        "### Fórmula:\n",
        "\n",
        "$$\n",
        "\\text{TF(palabra, documento)} = \\frac{\\text{Frecuencia de la palabra}}{\\text{Cantidad total de palabras del documento}}\n",
        "$$\n",
        "\n",
        "#### Ejemplo:\n",
        "\n",
        "Doc. 1: \"learning intelligence machine learning statistics\"\n",
        "→ Tiene 5 palabras\n",
        "\n",
        "* **learning** aparece 2 veces → 2 / 5 = **0.4**\n",
        "* **intelligence** → 1 / 5 = **0.2**\n",
        "* ...\n",
        "\n",
        "✅ Esto se hace para **cada palabra en cada documento**.\n",
        "\n",
        "---"
      ],
      "metadata": {
        "id": "nuYmO2r_rtXg"
      }
    },
    {
      "cell_type": "markdown",
      "source": [
        "## 📉 Frecuencia Inversa de Documento (IDF – Inverse Document Frequency)\n",
        "\n",
        "No todas las palabras son igual de importantes. Algunas aparecen en **todos los documentos** (\"aprendizaje\", \"máquina\") y otras son más **raras** (\"inteligencia\", \"estadística\").\n",
        "\n",
        "### Fórmula:\n",
        "\n",
        "$$\n",
        "\\text{IDF(palabra)} = \\log \\left( \\frac{\\text{Número total de documentos}}{\\text{Número de documentos que contienen la palabra}} \\right)\n",
        "$$\n",
        "\n",
        "#### Ejemplo:\n",
        "\n",
        "Supón que hay 3 documentos:\n",
        "\n",
        "* Si **\"aprendizaje\"** aparece en los 3 documentos:\n",
        "\n",
        "  $$\n",
        "  \\text{IDF(aprendizaje)} = \\log(3 / 3) = \\log(1) = 0\n",
        "  $$\n",
        "* Si **\"inteligencia\"** aparece solo en 1 documento:\n",
        "\n",
        "  $$\n",
        "  \\text{IDF(inteligencia)} = \\log(3 / 1) = \\log(3) ≈ 0.48\n",
        "  $$\n",
        "\n",
        "✅ Las palabras raras tienen IDF más alto. Las comunes, IDF bajo o 0.\n",
        "\n",
        "---"
      ],
      "metadata": {
        "id": "RamZnsjwryeC"
      }
    },
    {
      "cell_type": "markdown",
      "source": [
        "## 🧮 TF-IDF = TF × IDF\n",
        "\n",
        "Combina los dos conceptos:\n",
        "\n",
        "* **TF**: qué tan frecuente es una palabra en un documento.\n",
        "* **IDF**: qué tan rara es esa palabra en el corpus completo.\n",
        "\n",
        "### Fórmula:\n",
        "\n",
        "$$\n",
        "\\text{TF-IDF(palabra, documento)} = TF(palabra, documento) \\times IDF(palabra)\n",
        "$$\n",
        "\n",
        "Esto da un valor numérico que **representa la importancia de una palabra en un documento**, considerando todo el corpus.\n",
        "\n",
        "---"
      ],
      "metadata": {
        "id": "4aMQgxcrr5sF"
      }
    },
    {
      "cell_type": "markdown",
      "source": [
        "\n",
        "### ✅ Ejemplo Visual del Final\n",
        "\n",
        "Miremos la imagen:\n",
        "\n",
        "![image.png](data:image/png;base64,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)\n",
        "\n",
        "\n",
        "\n",
        "1. A la izquierda tienes los valores de **TF** (frecuencia relativa por documento).\n",
        "2. En el medio tienes los valores de **IDF** por palabra.\n",
        "3. A la derecha están los valores de **TF × IDF**, es decir, **TF-IDF**.\n",
        "\n",
        "Por ejemplo:\n",
        "\n",
        "* En Doc. 1:\n",
        "\n",
        "  * **inteligencia** tiene TF = 0.2, IDF = 0.48 → TF-IDF = 0.2 × 0.48 = **0.095**\n",
        "* Palabras como **\"máquina\"**, al tener IDF = 0, dan como resultado TF-IDF = 0, sin importar cuántas veces aparezcan.\n",
        "\n",
        "---\n",
        "\n",
        "## 📌 ¿Por qué es útil TF-IDF?\n",
        "\n",
        "Porque permite:\n",
        "\n",
        "* Saber **qué palabras son realmente importantes** en un documento.\n",
        "* Ignorar palabras comunes que **no aportan información**.\n",
        "* Convertir texto en **vectores numéricos** que se pueden usar en modelos de clasificación, clustering, etc.\n",
        "\n",
        "---"
      ],
      "metadata": {
        "id": "YI5cR-BcsPsd"
      }
    },
    {
      "cell_type": "markdown",
      "source": [
        "## Ejemplo de Modelo de Representacion"
      ],
      "metadata": {
        "id": "hkEN6AFquBkz"
      }
    },
    {
      "cell_type": "code",
      "execution_count": 1,
      "metadata": {
        "colab": {
          "base_uri": "https://localhost:8080/"
        },
        "id": "0x4h24vin8Vv",
        "outputId": "7b190ccd-acd8-4e2b-fb0b-04bfca381bf9"
      },
      "outputs": [
        {
          "output_type": "stream",
          "name": "stdout",
          "text": [
            "Requirement already satisfied: pandas in /usr/local/lib/python3.11/dist-packages (2.2.2)\n",
            "Requirement already satisfied: scikit-learn in /usr/local/lib/python3.11/dist-packages (1.6.1)\n",
            "Requirement already satisfied: numpy>=1.23.2 in /usr/local/lib/python3.11/dist-packages (from pandas) (2.0.2)\n",
            "Requirement already satisfied: python-dateutil>=2.8.2 in /usr/local/lib/python3.11/dist-packages (from pandas) (2.9.0.post0)\n",
            "Requirement already satisfied: pytz>=2020.1 in /usr/local/lib/python3.11/dist-packages (from pandas) (2025.2)\n",
            "Requirement already satisfied: tzdata>=2022.7 in /usr/local/lib/python3.11/dist-packages (from pandas) (2025.2)\n",
            "Requirement already satisfied: scipy>=1.6.0 in /usr/local/lib/python3.11/dist-packages (from scikit-learn) (1.16.1)\n",
            "Requirement already satisfied: joblib>=1.2.0 in /usr/local/lib/python3.11/dist-packages (from scikit-learn) (1.5.1)\n",
            "Requirement already satisfied: threadpoolctl>=3.1.0 in /usr/local/lib/python3.11/dist-packages (from scikit-learn) (3.6.0)\n",
            "Requirement already satisfied: six>=1.5 in /usr/local/lib/python3.11/dist-packages (from python-dateutil>=2.8.2->pandas) (1.17.0)\n"
          ]
        }
      ],
      "source": [
        "!pip install pandas scikit-learn"
      ]
    },
    {
      "cell_type": "code",
      "source": [
        "import math\n",
        "from collections import Counter\n",
        "import pandas as pd\n",
        "import numpy as np\n",
        "from sklearn.metrics.pairwise import cosine_similarity"
      ],
      "metadata": {
        "id": "vCCtu7lLuJJB"
      },
      "execution_count": 2,
      "outputs": []
    },
    {
      "cell_type": "code",
      "source": [
        "# =======================\n",
        "# 1. Documentos de ejemplo (ya preprocesados, sin signos ni stopwords)\n",
        "# =======================\n",
        "documents = [\n",
        "    \"learning intelligence machine learning statistics\",                         # Doc 1\n",
        "    \"machine classification learning performance\",                               # Doc 2\n",
        "    \"machine classification machine learning machine performance\"                # Doc 3\n",
        "]\n",
        "\n",
        "# Nombres opcionales para los documentos (para mostrar en tablas)\n",
        "doc_names = [\"Doc 1\", \"Doc 2\", \"Doc 3\"]"
      ],
      "metadata": {
        "id": "so3pa8HwuPj3"
      },
      "execution_count": 3,
      "outputs": []
    },
    {
      "cell_type": "code",
      "source": [
        "# =======================\n",
        "# 2. Tokenizar los documentos (convertir a listas de palabras)\n",
        "# =======================\n",
        "tokenized_docs = [doc.split() for doc in documents]"
      ],
      "metadata": {
        "id": "dzyb9tmNuU0o"
      },
      "execution_count": 4,
      "outputs": []
    },
    {
      "cell_type": "code",
      "source": [
        "# =======================\n",
        "# 3. Obtener el vocabulario (palabras únicas ordenadas)\n",
        "# =======================\n",
        "vocab = sorted(set(word for doc in tokenized_docs for word in doc))\n",
        "print(\"Vocabulario:\", vocab)"
      ],
      "metadata": {
        "colab": {
          "base_uri": "https://localhost:8080/"
        },
        "id": "5lSod5q6uWVX",
        "outputId": "85a5a1b3-722c-4a0a-fc4a-9f48853257bb"
      },
      "execution_count": 5,
      "outputs": [
        {
          "output_type": "stream",
          "name": "stdout",
          "text": [
            "Vocabulario: ['classification', 'intelligence', 'learning', 'machine', 'performance', 'statistics']\n"
          ]
        }
      ]
    },
    {
      "cell_type": "code",
      "source": [
        "# =======================\n",
        "# 4. Calcular TF (frecuencia de término) para cada palabra en cada documento\n",
        "# =======================\n",
        "def compute_tf(doc_words):\n",
        "    word_counts = Counter(doc_words)\n",
        "    doc_len = len(doc_words)\n",
        "    return {word: word_counts[word] / doc_len for word in vocab}\n",
        "\n",
        "tf_matrix = [compute_tf(doc) for doc in tokenized_docs]\n",
        "\n",
        "print(\"\\n=== TF (Frecuencia de términos) ===\")\n",
        "for i, tf in enumerate(tf_matrix):\n",
        "    print(f\"{doc_names[i]}:\", tf)"
      ],
      "metadata": {
        "colab": {
          "base_uri": "https://localhost:8080/"
        },
        "id": "_9mpVRfUuX83",
        "outputId": "5059008a-6046-4845-9a02-fec579087a2f"
      },
      "execution_count": 6,
      "outputs": [
        {
          "output_type": "stream",
          "name": "stdout",
          "text": [
            "\n",
            "=== TF (Frecuencia de términos) ===\n",
            "Doc 1: {'classification': 0.0, 'intelligence': 0.2, 'learning': 0.4, 'machine': 0.2, 'performance': 0.0, 'statistics': 0.2}\n",
            "Doc 2: {'classification': 0.25, 'intelligence': 0.0, 'learning': 0.25, 'machine': 0.25, 'performance': 0.25, 'statistics': 0.0}\n",
            "Doc 3: {'classification': 0.16666666666666666, 'intelligence': 0.0, 'learning': 0.16666666666666666, 'machine': 0.5, 'performance': 0.16666666666666666, 'statistics': 0.0}\n"
          ]
        }
      ]
    },
    {
      "cell_type": "code",
      "source": [
        "# =======================\n",
        "# 5. Calcular DF (en cuántos documentos aparece cada palabra)\n",
        "# =======================\n",
        "def compute_df(tokenized_docs):\n",
        "    df = {word: 0 for word in vocab}\n",
        "    for word in vocab:\n",
        "        for doc in tokenized_docs:\n",
        "            if word in doc:\n",
        "                df[word] += 1\n",
        "    return df\n",
        "\n",
        "df = compute_df(tokenized_docs)"
      ],
      "metadata": {
        "id": "hRrX888KuZtn"
      },
      "execution_count": 7,
      "outputs": []
    },
    {
      "cell_type": "code",
      "source": [
        "# =======================\n",
        "# 6. Calcular IDF (inversa de frecuencia de documento)\n",
        "# =======================\n",
        "def compute_idf(df, N):\n",
        "    return {word: math.log(N / df[word]) for word in vocab}\n",
        "\n",
        "idf = compute_idf(df, len(documents))\n",
        "\n",
        "print(\"\\n=== IDF (Frecuencia inversa de documentos) ===\")\n",
        "for word, val in idf.items():\n",
        "    print(f\"{word}: {val:.3f}\")"
      ],
      "metadata": {
        "colab": {
          "base_uri": "https://localhost:8080/"
        },
        "id": "WJi4owirucLP",
        "outputId": "7047fec0-8082-4e6e-b2f2-85d3e37c9024"
      },
      "execution_count": 8,
      "outputs": [
        {
          "output_type": "stream",
          "name": "stdout",
          "text": [
            "\n",
            "=== IDF (Frecuencia inversa de documentos) ===\n",
            "classification: 0.405\n",
            "intelligence: 1.099\n",
            "learning: 0.000\n",
            "machine: 0.000\n",
            "performance: 0.405\n",
            "statistics: 1.099\n"
          ]
        }
      ]
    },
    {
      "cell_type": "code",
      "source": [
        "# =======================\n",
        "# 7. Calcular TF-IDF (TF * IDF) para cada documento\n",
        "# =======================\n",
        "tfidf_matrix = []\n",
        "\n",
        "for tf in tf_matrix:\n",
        "    tfidf = {word: tf[word] * idf[word] for word in vocab}\n",
        "    tfidf_matrix.append(tfidf)\n",
        "\n",
        "# Mostrar como tabla\n",
        "tfidf_df = pd.DataFrame(tfidf_matrix, index=doc_names)\n",
        "print(\"\\n=== Matriz TF-IDF ===\")\n",
        "print(tfidf_df.round(3))"
      ],
      "metadata": {
        "colab": {
          "base_uri": "https://localhost:8080/"
        },
        "id": "TwjzXq3dudqf",
        "outputId": "9126848a-fa2c-4e3a-cd25-50183c2559e1"
      },
      "execution_count": 9,
      "outputs": [
        {
          "output_type": "stream",
          "name": "stdout",
          "text": [
            "\n",
            "=== Matriz TF-IDF ===\n",
            "       classification  intelligence  learning  machine  performance  \\\n",
            "Doc 1           0.000          0.22       0.0      0.0        0.000   \n",
            "Doc 2           0.101          0.00       0.0      0.0        0.101   \n",
            "Doc 3           0.068          0.00       0.0      0.0        0.068   \n",
            "\n",
            "       statistics  \n",
            "Doc 1        0.22  \n",
            "Doc 2        0.00  \n",
            "Doc 3        0.00  \n"
          ]
        }
      ]
    },
    {
      "cell_type": "code",
      "source": [
        "# =======================\n",
        "# 8. Calcular similitud de coseno entre documentos\n",
        "# =======================\n",
        "# Convertir los valores TF-IDF a vectores (listas con el mismo orden del vocabulario)\n",
        "tfidf_vectors = np.array([\n",
        "    [tfidf[word] for word in vocab] for tfidf in tfidf_matrix\n",
        "])\n",
        "\n",
        "# Calcular matriz de similitud de coseno\n",
        "similarity_matrix = cosine_similarity(tfidf_vectors)\n",
        "\n",
        "# Mostrar como tabla\n",
        "similarity_df = pd.DataFrame(similarity_matrix, index=doc_names, columns=doc_names)\n",
        "print(\"\\n=== Similitud de coseno entre documentos ===\")\n",
        "print(similarity_df.round(3))\n"
      ],
      "metadata": {
        "colab": {
          "base_uri": "https://localhost:8080/"
        },
        "id": "hZ2MuVMpufcP",
        "outputId": "c0ecfb62-bcb4-468b-f308-51d4d238810c"
      },
      "execution_count": 10,
      "outputs": [
        {
          "output_type": "stream",
          "name": "stdout",
          "text": [
            "\n",
            "=== Similitud de coseno entre documentos ===\n",
            "       Doc 1  Doc 2  Doc 3\n",
            "Doc 1    1.0    0.0    0.0\n",
            "Doc 2    0.0    1.0    1.0\n",
            "Doc 3    0.0    1.0    1.0\n"
          ]
        }
      ]
    },
    {
      "cell_type": "markdown",
      "source": [
        "Excelente pregunta. La **similitud del coseno** te indica **qué tan similares son dos documentos** según el **ángulo entre sus vectores TF-IDF**. El valor va de **0 a 1**:\n",
        "\n",
        "* **1.0** → Los documentos son **idénticos** (o tienen el mismo patrón de palabras).\n",
        "* **0.0** → Los documentos son **totalmente distintos** (no comparten ninguna palabra significativa).\n",
        "* Valores intermedios (ej. 0.5) → Comparten **algo de contenido**, pero no son iguales.\n",
        "\n",
        "---\n",
        "\n",
        "#### 🔍 Interpretación:\n",
        "\n",
        "* **Doc 1 vs Doc 1** = `1.0` → Lógicamente, cualquier documento es idéntico a sí mismo.\n",
        "\n",
        "* **Doc 1 vs Doc 2 y Doc 3** = `0.0` → No tienen **ninguna palabra significativa en común** (según TF-IDF), así que se consideran completamente diferentes.\n",
        "\n",
        "* **Doc 2 vs Doc 3** = `1.0` → Tienen **el mismo patrón de palabras importantes** (TF-IDF les asignó valores similares), así que el modelo los ve como **idénticos en contenido**.\n",
        "\n",
        "---\n",
        "\n",
        "#### 🧠 ¿Por qué Doc 2 y Doc 3 son idénticos (1.0)?\n",
        "\n",
        "Porque tienen muchas palabras en común:\n",
        "\n",
        "```text\n",
        "Doc 2: machine classification learning performance  \n",
        "Doc 3: machine classification machine learning machine performance\n",
        "```\n",
        "\n",
        "* Aunque Doc 3 repite más la palabra \"machine\", **TF-IDF normaliza la frecuencia**.\n",
        "* Ambas comparten: **machine, classification, learning, performance**\n",
        "* Por eso sus vectores TF-IDF apuntan en la **misma dirección**, y el ángulo entre ellos es 0 → **cos(0°) = 1.0**\n",
        "\n",
        "---\n",
        "\n",
        "#### ✅ En resumen:\n",
        "\n",
        "> **La similitud de coseno mide qué tan alineados están dos documentos en el espacio de palabras importantes.**\n",
        "> Si el valor es cercano a **1**, significa que **tienen contenido muy parecido**. Si es **0**, significa que **no comparten nada relevante**.\n",
        "\n",
        "---"
      ],
      "metadata": {
        "id": "9XI0e_OqwNjv"
      }
    },
    {
      "cell_type": "markdown",
      "source": [
        "## Explicacion del ejemplo"
      ],
      "metadata": {
        "id": "abj9sncsvWxA"
      }
    },
    {
      "cell_type": "markdown",
      "source": [
        "✅ **Resumen general del código**\n",
        "\n",
        "Este código es un ejemplo de **modelo de representación de texto** usando el enfoque **TF-IDF (Term Frequency - Inverse Document Frequency)**, muy común en procesamiento de lenguaje natural (NLP). Sirve para representar documentos como vectores numéricos y luego comparar su similitud usando la **similitud del coseno**.\n",
        "\n",
        "---\n",
        "\n",
        "### 🧠 **Paso a paso explicado**\n",
        "\n",
        "#### 1. **Entrada: Documentos de ejemplo**\n",
        "\n",
        "```python\n",
        "documents = [\n",
        "    \"learning intelligence machine learning statistics\",\n",
        "    ...\n",
        "]\n",
        "```\n",
        "\n",
        "* Se parte de una lista de **3 documentos ya preprocesados** (sin signos ni stopwords).\n",
        "* Cada documento es un string de palabras clave.\n",
        "\n",
        "---\n",
        "\n",
        "#### 2. **Tokenización**\n",
        "\n",
        "```python\n",
        "tokenized_docs = [doc.split() for doc in documents]\n",
        "```\n",
        "\n",
        "* Se convierte cada string en una **lista de palabras** (tokens).\n",
        "* Esto es esencial para poder contar palabras después.\n",
        "\n",
        "---\n",
        "\n",
        "#### 3. **Construcción del vocabulario**\n",
        "\n",
        "```python\n",
        "vocab = sorted(set(word for doc in tokenized_docs for word in doc))\n",
        "```\n",
        "\n",
        "* Se obtiene el conjunto de **todas las palabras únicas** de todos los documentos.\n",
        "* Esto será la **base para las matrices TF y TF-IDF**.\n",
        "\n",
        "---\n",
        "\n",
        "#### 4. **Cálculo de TF (Frecuencia de Término)**\n",
        "\n",
        "```python\n",
        "def compute_tf(doc_words):\n",
        "    ...\n",
        "```\n",
        "\n",
        "* Para cada documento, se cuenta cuántas veces aparece cada palabra.\n",
        "* Luego se divide por el total de palabras del documento.\n",
        "* Resultado: Una **tabla TF** por documento.\n",
        "\n",
        "✔️ **TF mide la importancia de una palabra en *ese documento***.\n",
        "\n",
        "---\n",
        "\n",
        "#### 5. **Cálculo de DF (Frecuencia de Documento)**\n",
        "\n",
        "```python\n",
        "def compute_df(tokenized_docs):\n",
        "    ...\n",
        "```\n",
        "\n",
        "* Cuenta en **cuántos documentos distintos** aparece cada palabra.\n",
        "\n",
        "✔️ **DF mide cuán común es una palabra en toda la colección**.\n",
        "\n",
        "---\n",
        "\n",
        "#### 6. **Cálculo de IDF (Inversa de DF)**\n",
        "\n",
        "```python\n",
        "def compute_idf(df, N):\n",
        "    return {word: math.log(N / df[word]) for word in vocab}\n",
        "```\n",
        "\n",
        "* Se aplica la fórmula:\n",
        "  $\\text{IDF} = \\log\\left(\\frac{N}{\\text{DF}}\\right)$\n",
        "* Cuanto más rara es una palabra (menos documentos la tienen), **mayor será su IDF**.\n",
        "\n",
        "✔️ **IDF reduce el peso de palabras comunes y destaca las palabras más distintivas**.\n",
        "\n",
        "---\n",
        "\n",
        "#### 7. **Cálculo de TF-IDF**\n",
        "\n",
        "```python\n",
        "tfidf = {word: tf[word] * idf[word] for word in vocab}\n",
        "```\n",
        "\n",
        "* Se multiplica el valor TF de cada palabra por su IDF.\n",
        "* Resultado: Matriz TF-IDF → cada documento es ahora un **vector numérico**.\n",
        "\n",
        "✔️ **TF-IDF representa la importancia real de cada palabra en un documento y en el contexto global.**\n",
        "\n",
        "---\n",
        "\n",
        "#### 8. **Cálculo de Similitud de Coseno**\n",
        "\n",
        "```python\n",
        "similarity_matrix = cosine_similarity(tfidf_vectors)\n",
        "```\n",
        "\n",
        "* Se compara cada par de documentos usando **la similitud de coseno** entre sus vectores TF-IDF.\n",
        "* Resultado: Una **matriz de similitudes** entre 0 y 1 (1 = muy similares).\n",
        "\n",
        "✔️ **Sirve para medir qué tan parecidos son dos documentos, basado en su contenido.**\n",
        "\n",
        "---\n",
        "\n",
        "#### 📊 ¿Qué se obtiene al final?\n",
        "\n",
        "* Una **matriz TF-IDF**: representación numérica de cada documento.\n",
        "* Una **matriz de similitud**: comparación entre documentos basada en su significado.\n",
        "\n",
        "---\n",
        "\n",
        "#### 🎯 ¿Para qué sirve este tipo de análisis?\n",
        "\n",
        "* Para buscar documentos similares (ej: buscadores).\n",
        "* Para clasificar texto, agruparlo o resumirlo.\n",
        "* Es la **base para muchos modelos de NLP**, como análisis de sentimientos o motores de recomendación.\n",
        "\n",
        "---"
      ],
      "metadata": {
        "id": "7gLcD5sKvbzr"
      }
    },
    {
      "cell_type": "markdown",
      "source": [
        "# Analisis de Clasificacioón"
      ],
      "metadata": {
        "id": "TrhMCVhDyhta"
      }
    },
    {
      "cell_type": "markdown",
      "source": [
        "## 🧠 ¿Qué es el análisis de clasificación?\n",
        "\n",
        "Es una técnica de Machine Learning supervisado que se usa para **predecir una categoría** (etiqueta) de una observación.\n",
        "\n",
        "Por ejemplo:\n",
        "\n",
        "* ¿Este email es **spam** o **no spam**?\n",
        "* ¿Esta crítica de película es **positiva** o **negativa**?\n",
        "\n",
        "---\n",
        "\n",
        "## 🧪 Clasificador Naive Bayes con modelo BOW (Bolsa de palabras)\n",
        "\n",
        "### 🔹 ¿Qué es el modelo BOW?\n",
        "\n",
        "Convierte un documento en un **vector de palabras**, sin importar el orden. Solo interesa **cuántas veces aparece cada palabra**.\n",
        "\n",
        "### 🔹 ¿Qué es Naive Bayes?\n",
        "\n",
        "Es un clasificador probabilístico basado en el **Teorema de Bayes**, con el supuesto “naive” de que las palabras son **independientes entre sí** (lo cual no es realista, pero funciona muy bien).\n",
        "\n",
        "---\n",
        "\n",
        "### 📘 Ejemplo teórico con BOW y Naive Bayes\n",
        "\n",
        "Supongamos:\n",
        "\n",
        "* Clase A: correos **spam**\n",
        "* Clase B: correos **no spam**\n",
        "\n",
        "Queremos clasificar un nuevo correo con las palabras: `\"ganaste\", \"gratis\", \"premio\"`\n",
        "\n",
        "El clasificador calcula:\n",
        "\n",
        "$$\n",
        "P(\\text{A|palabras}) \\propto P(\\text{palabras|A}) \\cdot P(A)\n",
        "$$\n",
        "\n",
        "$$\n",
        "P(\\text{B|palabras}) \\propto P(\\text{palabras|B}) \\cdot P(B)\n",
        "$$\n",
        "\n",
        "Y elige la clase con mayor probabilidad.\n",
        "\n",
        "---\n",
        "\n",
        "### 🔹 ¿Cómo se calcula?\n",
        "\n",
        "1. Se cuentan cuántas veces aparece cada palabra en la clase A y en la clase B.\n",
        "2. Se calculan las probabilidades de cada palabra en cada clase.\n",
        "3. Para un documento nuevo, se multiplican (o mejor: se **suman logaritmos**) de esas probabilidades.\n",
        "4. Se compara el resultado de cada clase y se asigna la clase con mayor score.\n",
        "\n",
        "---\n",
        "\n",
        "## 🧪 Clasificación usando TF-IDF + Regresión Logística (ejercicio que diste)\n",
        "\n",
        "### 🔹 ¿Qué hace este código?\n",
        "\n",
        "1. **Carga documentos** reales de reseñas de películas (`pos` y `neg`).\n",
        "2. **Limpia el texto** (elimina signos, minúsculas, espacios).\n",
        "3. **Vectoriza** el texto usando **TF-IDF**, que pesa las palabras según su importancia.\n",
        "4. **Divide el conjunto de datos** en entrenamiento y prueba.\n",
        "5. **Entrena un clasificador** (regresión logística).\n",
        "6. **Evalúa el modelo** usando matriz de confusión y exactitud (accuracy).\n",
        "\n",
        "---\n",
        "\n",
        "### 🔍 ¿Qué es TF-IDF?\n",
        "\n",
        "TF-IDF es un modelo de representación que pondera cada palabra en un documento así:\n",
        "\n",
        "$$\n",
        "\\text{TF-IDF}(w, d) = TF(w,d) \\cdot IDF(w)\n",
        "$$\n",
        "\n",
        "* TF: Frecuencia de la palabra en el documento\n",
        "* IDF: Qué tan rara es la palabra en todos los documentos\n",
        "\n",
        "---\n",
        "\n",
        "### 🔍 ¿Qué es regresión logística?\n",
        "\n",
        "Un modelo matemático que predice la **probabilidad de que algo pertenezca a una clase**, y decide con un umbral (por ejemplo, si > 0.5, se clasifica como positivo).\n",
        "\n",
        "---\n",
        "\n",
        "### 📊 ¿Qué significa la matriz de confusión?\n",
        "\n",
        "Ejemplo de salida:\n",
        "\n",
        "```\n",
        "[[82 18]\n",
        " [12 88]]\n",
        "```\n",
        "\n",
        "* **TP (88)**: positivos bien clasificados\n",
        "* **TN (82)**: negativos bien clasificados\n",
        "* **FP (18)**: negativos mal clasificados como positivos\n",
        "* **FN (12)**: positivos mal clasificados como negativos\n",
        "\n",
        "---\n",
        "\n",
        "### ✅ Ventajas comparativas\n",
        "\n",
        "| Modelo             | Ventajas                                         | Ideal para                                              |\n",
        "| ------------------ | ------------------------------------------------ | ------------------------------------------------------- |\n",
        "| Naive Bayes + BOW  | Rápido, simple, eficaz con pocos datos           | Spam, clasificación binaria sencilla                    |\n",
        "| TF-IDF + Log. Reg. | Más preciso, considera la relevancia de palabras | Reseñas, análisis de sentimientos, textos más complejos |\n",
        "\n",
        "---\n",
        "\n",
        "## ✅ En resumen\n",
        "\n",
        "### 🔹 Clasificador Naive Bayes con BOW:\n",
        "\n",
        "* Usa conteo de palabras y probabilidades.\n",
        "* Clasifica basándose en qué tan probables son las palabras dadas cada clase.\n",
        "* Fácil de implementar y muy rápido.\n",
        "\n",
        "### 🔹 TF-IDF + Regresión logística:\n",
        "\n",
        "* Representa el texto como vectores de importancia de palabras.\n",
        "* Usa un modelo estadístico (regresión) para aprender a predecir clases.\n",
        "* Requiere más recursos pero puede ser más preciso.\n",
        "\n",
        "---"
      ],
      "metadata": {
        "id": "fi4JuN4Kyhf6"
      }
    },
    {
      "cell_type": "markdown",
      "source": [
        "## Ejemplo de Analisis de Clasificación"
      ],
      "metadata": {
        "id": "16xU50y-y6p5"
      }
    },
    {
      "cell_type": "code",
      "source": [
        "# ================================================\n",
        "# 0. Importación de librerías necesarias\n",
        "# ================================================\n",
        "import numpy as np\n",
        "import re\n",
        "import nltk\n",
        "import seaborn as sns\n",
        "import matplotlib.pyplot as plt\n",
        "import warnings\n",
        "from nltk.corpus import stopwords\n",
        "from sklearn.datasets import load_files\n",
        "from sklearn.model_selection import train_test_split\n",
        "from sklearn.feature_extraction.text import TfidfVectorizer\n",
        "from sklearn.linear_model import LogisticRegression\n",
        "from sklearn.metrics import confusion_matrix, accuracy_score\n",
        "\n",
        "warnings.filterwarnings('ignore')  # Oculta advertencias\n",
        "nltk.download('stopwords')         # Descarga stopwords en inglés\n"
      ],
      "metadata": {
        "colab": {
          "base_uri": "https://localhost:8080/"
        },
        "id": "tkcPEEAPuiOP",
        "outputId": "bf9e9d4b-ee7d-48f3-cdbf-9fa54d2d4f46"
      },
      "execution_count": 11,
      "outputs": [
        {
          "output_type": "stream",
          "name": "stderr",
          "text": [
            "[nltk_data] Downloading package stopwords to /root/nltk_data...\n",
            "[nltk_data]   Unzipping corpora/stopwords.zip.\n"
          ]
        },
        {
          "output_type": "execute_result",
          "data": {
            "text/plain": [
              "True"
            ]
          },
          "metadata": {},
          "execution_count": 11
        }
      ]
    },
    {
      "cell_type": "code",
      "source": [
        "# ================================================\n",
        "#  1. Cargar el dataset de reseñas de películas\n",
        "# ================================================\n",
        "\n",
        "# ES MUY PESADO PARA SUBIRLO/CARGARLO DESDE DRIVE, DEMASIADO LENTO\n",
        "\n",
        "# Si estás usando Google Colab, conecta tu Google Drive\n",
        "##from google.colab import drive\n",
        "##drive.mount('/content/drive')\n",
        "\n",
        "# Cargar reseñas desde subcarpetas \"pos\" y \"neg\" dentro de txt_sentoken\n",
        "# Este dataset contiene reseñas positivas y negativas\n",
        "##reviews = load_files('txt_sentoken/')\n",
        "##my_docs, y = reviews.data, reviews.target  # y contiene las etiquetas: 0 = neg, 1 = pos\n",
        "\n",
        "# Mostrar el total de documentos\n",
        "##print(\"Cantidad de documentos:\", len(my_docs))\n",
        "\n",
        "# Mostrar distribución de clases (0: negativo, 1: positivo)\n",
        "##print(np.unique(y, return_counts=True))\n",
        "\n",
        "# Visualización rápida\n",
        "##sns.countplot(x=y).set_title(\"Distribución de Clases (0 = Neg, 1 = Pos)\")\n",
        "##plt.show()\n"
      ],
      "metadata": {
        "id": "gzQ0qohDzBCl"
      },
      "execution_count": 18,
      "outputs": []
    },
    {
      "cell_type": "markdown",
      "source": [
        "COMO SUBIRLO DESDE DRIVE ES MUY LENTO voy a subir el archivo review_polarity.tar.gz directamente al entorno de Google Colab\n",
        "\n",
        "primero se entra a https://www.cs.cornell.edu/people/pabo/movie-review-data/\n",
        "\n",
        "y se descarga polarity dataset v2.0 (link descarga: https://www.cs.cornell.edu/people/pabo/movie-review-data/review_polarity.tar.gz)\n",
        "\n",
        "luego éste se sube a colab."
      ],
      "metadata": {
        "id": "xW0rQpLy5Xf3"
      }
    },
    {
      "cell_type": "code",
      "source": [
        "# Paso 1: Herramienta para subir archivos manualmente a Colab\n",
        "from google.colab import files\n",
        "uploaded = files.upload()  # Esto abrirá un botón para que subas el archivo review_polarity.tar.gz\n"
      ],
      "metadata": {
        "colab": {
          "base_uri": "https://localhost:8080/",
          "height": 73
        },
        "id": "5AFdbU5N0Gll",
        "outputId": "8babd256-e0f7-42a7-a82c-f0755a8e883b"
      },
      "execution_count": 14,
      "outputs": [
        {
          "output_type": "display_data",
          "data": {
            "text/plain": [
              "<IPython.core.display.HTML object>"
            ],
            "text/html": [
              "\n",
              "     <input type=\"file\" id=\"files-688f6f33-f4dd-4541-b2a0-85c7c301a649\" name=\"files[]\" multiple disabled\n",
              "        style=\"border:none\" />\n",
              "     <output id=\"result-688f6f33-f4dd-4541-b2a0-85c7c301a649\">\n",
              "      Upload widget is only available when the cell has been executed in the\n",
              "      current browser session. Please rerun this cell to enable.\n",
              "      </output>\n",
              "      <script>// Copyright 2017 Google LLC\n",
              "//\n",
              "// Licensed under the Apache License, Version 2.0 (the \"License\");\n",
              "// you may not use this file except in compliance with the License.\n",
              "// You may obtain a copy of the License at\n",
              "//\n",
              "//      http://www.apache.org/licenses/LICENSE-2.0\n",
              "//\n",
              "// Unless required by applicable law or agreed to in writing, software\n",
              "// distributed under the License is distributed on an \"AS IS\" BASIS,\n",
              "// WITHOUT WARRANTIES OR CONDITIONS OF ANY KIND, either express or implied.\n",
              "// See the License for the specific language governing permissions and\n",
              "// limitations under the License.\n",
              "\n",
              "/**\n",
              " * @fileoverview Helpers for google.colab Python module.\n",
              " */\n",
              "(function(scope) {\n",
              "function span(text, styleAttributes = {}) {\n",
              "  const element = document.createElement('span');\n",
              "  element.textContent = text;\n",
              "  for (const key of Object.keys(styleAttributes)) {\n",
              "    element.style[key] = styleAttributes[key];\n",
              "  }\n",
              "  return element;\n",
              "}\n",
              "\n",
              "// Max number of bytes which will be uploaded at a time.\n",
              "const MAX_PAYLOAD_SIZE = 100 * 1024;\n",
              "\n",
              "function _uploadFiles(inputId, outputId) {\n",
              "  const steps = uploadFilesStep(inputId, outputId);\n",
              "  const outputElement = document.getElementById(outputId);\n",
              "  // Cache steps on the outputElement to make it available for the next call\n",
              "  // to uploadFilesContinue from Python.\n",
              "  outputElement.steps = steps;\n",
              "\n",
              "  return _uploadFilesContinue(outputId);\n",
              "}\n",
              "\n",
              "// This is roughly an async generator (not supported in the browser yet),\n",
              "// where there are multiple asynchronous steps and the Python side is going\n",
              "// to poll for completion of each step.\n",
              "// This uses a Promise to block the python side on completion of each step,\n",
              "// then passes the result of the previous step as the input to the next step.\n",
              "function _uploadFilesContinue(outputId) {\n",
              "  const outputElement = document.getElementById(outputId);\n",
              "  const steps = outputElement.steps;\n",
              "\n",
              "  const next = steps.next(outputElement.lastPromiseValue);\n",
              "  return Promise.resolve(next.value.promise).then((value) => {\n",
              "    // Cache the last promise value to make it available to the next\n",
              "    // step of the generator.\n",
              "    outputElement.lastPromiseValue = value;\n",
              "    return next.value.response;\n",
              "  });\n",
              "}\n",
              "\n",
              "/**\n",
              " * Generator function which is called between each async step of the upload\n",
              " * process.\n",
              " * @param {string} inputId Element ID of the input file picker element.\n",
              " * @param {string} outputId Element ID of the output display.\n",
              " * @return {!Iterable<!Object>} Iterable of next steps.\n",
              " */\n",
              "function* uploadFilesStep(inputId, outputId) {\n",
              "  const inputElement = document.getElementById(inputId);\n",
              "  inputElement.disabled = false;\n",
              "\n",
              "  const outputElement = document.getElementById(outputId);\n",
              "  outputElement.innerHTML = '';\n",
              "\n",
              "  const pickedPromise = new Promise((resolve) => {\n",
              "    inputElement.addEventListener('change', (e) => {\n",
              "      resolve(e.target.files);\n",
              "    });\n",
              "  });\n",
              "\n",
              "  const cancel = document.createElement('button');\n",
              "  inputElement.parentElement.appendChild(cancel);\n",
              "  cancel.textContent = 'Cancel upload';\n",
              "  const cancelPromise = new Promise((resolve) => {\n",
              "    cancel.onclick = () => {\n",
              "      resolve(null);\n",
              "    };\n",
              "  });\n",
              "\n",
              "  // Wait for the user to pick the files.\n",
              "  const files = yield {\n",
              "    promise: Promise.race([pickedPromise, cancelPromise]),\n",
              "    response: {\n",
              "      action: 'starting',\n",
              "    }\n",
              "  };\n",
              "\n",
              "  cancel.remove();\n",
              "\n",
              "  // Disable the input element since further picks are not allowed.\n",
              "  inputElement.disabled = true;\n",
              "\n",
              "  if (!files) {\n",
              "    return {\n",
              "      response: {\n",
              "        action: 'complete',\n",
              "      }\n",
              "    };\n",
              "  }\n",
              "\n",
              "  for (const file of files) {\n",
              "    const li = document.createElement('li');\n",
              "    li.append(span(file.name, {fontWeight: 'bold'}));\n",
              "    li.append(span(\n",
              "        `(${file.type || 'n/a'}) - ${file.size} bytes, ` +\n",
              "        `last modified: ${\n",
              "            file.lastModifiedDate ? file.lastModifiedDate.toLocaleDateString() :\n",
              "                                    'n/a'} - `));\n",
              "    const percent = span('0% done');\n",
              "    li.appendChild(percent);\n",
              "\n",
              "    outputElement.appendChild(li);\n",
              "\n",
              "    const fileDataPromise = new Promise((resolve) => {\n",
              "      const reader = new FileReader();\n",
              "      reader.onload = (e) => {\n",
              "        resolve(e.target.result);\n",
              "      };\n",
              "      reader.readAsArrayBuffer(file);\n",
              "    });\n",
              "    // Wait for the data to be ready.\n",
              "    let fileData = yield {\n",
              "      promise: fileDataPromise,\n",
              "      response: {\n",
              "        action: 'continue',\n",
              "      }\n",
              "    };\n",
              "\n",
              "    // Use a chunked sending to avoid message size limits. See b/62115660.\n",
              "    let position = 0;\n",
              "    do {\n",
              "      const length = Math.min(fileData.byteLength - position, MAX_PAYLOAD_SIZE);\n",
              "      const chunk = new Uint8Array(fileData, position, length);\n",
              "      position += length;\n",
              "\n",
              "      const base64 = btoa(String.fromCharCode.apply(null, chunk));\n",
              "      yield {\n",
              "        response: {\n",
              "          action: 'append',\n",
              "          file: file.name,\n",
              "          data: base64,\n",
              "        },\n",
              "      };\n",
              "\n",
              "      let percentDone = fileData.byteLength === 0 ?\n",
              "          100 :\n",
              "          Math.round((position / fileData.byteLength) * 100);\n",
              "      percent.textContent = `${percentDone}% done`;\n",
              "\n",
              "    } while (position < fileData.byteLength);\n",
              "  }\n",
              "\n",
              "  // All done.\n",
              "  yield {\n",
              "    response: {\n",
              "      action: 'complete',\n",
              "    }\n",
              "  };\n",
              "}\n",
              "\n",
              "scope.google = scope.google || {};\n",
              "scope.google.colab = scope.google.colab || {};\n",
              "scope.google.colab._files = {\n",
              "  _uploadFiles,\n",
              "  _uploadFilesContinue,\n",
              "};\n",
              "})(self);\n",
              "</script> "
            ]
          },
          "metadata": {}
        },
        {
          "output_type": "stream",
          "name": "stdout",
          "text": [
            "Saving review_polarity.tar.gz to review_polarity.tar.gz\n"
          ]
        }
      ]
    },
    {
      "cell_type": "code",
      "source": [
        "# Paso 2: Descomprimir el archivo .tar.gz\n",
        "import tarfile\n",
        "\n",
        "# Suponiendo que el archivo se llama 'review_polarity.tar.gz'\n",
        "with tarfile.open('review_polarity.tar.gz', 'r:gz') as tar:\n",
        "    tar.extractall()  # Esto descomprime en /content/txt_sentoken/\n"
      ],
      "metadata": {
        "id": "bB40CxXL4U7G"
      },
      "execution_count": 15,
      "outputs": []
    },
    {
      "cell_type": "code",
      "source": [
        "# Ahora puedes usar load_files directamente sobre la carpeta descomprimida\n",
        "from sklearn.datasets import load_files\n",
        "\n",
        "reviews = load_files('txt_sentoken/')\n",
        "my_docs, y = reviews.data, reviews.target\n",
        "\n",
        "print(\"Cantidad de documentos:\", len(my_docs))\n",
        "print(np.unique(y, return_counts=True))\n"
      ],
      "metadata": {
        "colab": {
          "base_uri": "https://localhost:8080/"
        },
        "id": "4ugCgPE84fAb",
        "outputId": "2d760a5b-060f-4901-e9a1-1fdeabfbd072"
      },
      "execution_count": 16,
      "outputs": [
        {
          "output_type": "stream",
          "name": "stdout",
          "text": [
            "Cantidad de documentos: 2000\n",
            "(array([0, 1]), array([1000, 1000]))\n"
          ]
        }
      ]
    },
    {
      "cell_type": "code",
      "source": [
        "# Visualización rápida\n",
        "sns.countplot(x=y).set_title(\"Distribución de Clases (0 = Neg, 1 = Pos)\")\n",
        "plt.show()"
      ],
      "metadata": {
        "colab": {
          "base_uri": "https://localhost:8080/",
          "height": 453
        },
        "id": "k8ZFfafd4fwb",
        "outputId": "5cc64764-9169-4f0e-f254-5b7c4625040f"
      },
      "execution_count": 17,
      "outputs": [
        {
          "output_type": "display_data",
          "data": {
            "text/plain": [
              "<Figure size 640x480 with 1 Axes>"
            ],
            "image/png": "[encoded data removed]"
          },
          "metadata": {}
        }
      ]
    },
    {
      "cell_type": "code",
      "source": [
        "# Limpiar los textos: eliminar signos, pasar a minúsculas, quitar palabras sueltas y espacios extra\n",
        "corpus = []\n",
        "\n",
        "for doc in my_docs:\n",
        "    review = re.sub(r'\\W', ' ', str(doc))           # Reemplaza caracteres no alfanuméricos\n",
        "    review = review.lower()                         # Convierte a minúsculas\n",
        "    review = re.sub(r'^br$', ' ', review)           # Elimina 'br' que aparece por etiquetas HTML\n",
        "    review = re.sub(r'\\s+br\\s+', ' ', review)\n",
        "    review = re.sub(r'\\s+[a-z]\\s+', ' ', review)    # Elimina letras sueltas (como 'a', 'b', etc.)\n",
        "    review = re.sub(r'^b\\s+', '', review)           # Elimina prefijos erróneos de bytes (b'...')\n",
        "    review = re.sub(r'\\s+', ' ', review)            # Elimina espacios múltiples\n",
        "    corpus.append(review)\n",
        "\n",
        "# Mostrar el primer documento procesado\n",
        "print(corpus[0])\n"
      ],
      "metadata": {
        "id": "7CAYRTG64sZL"
      },
      "execution_count": null,
      "outputs": []
    },
    {
      "cell_type": "code",
      "source": [
        "# ================================================\n",
        "#  2. Preprocesamiento de texto\n",
        "# ================================================\n",
        "\n",
        "# Limpiar los textos: eliminar signos, pasar a minúsculas, quitar palabras sueltas y espacios extra\n",
        "corpus = []\n",
        "\n",
        "for doc in my_docs:\n",
        "    review = re.sub(r'\\W', ' ', str(doc))           # Reemplaza caracteres no alfanuméricos\n",
        "    review = review.lower()                         # Convierte a minúsculas\n",
        "    review = re.sub(r'^br$', ' ', review)           # Elimina 'br' que aparece por etiquetas HTML\n",
        "    review = re.sub(r'\\s+br\\s+', ' ', review)\n",
        "    review = re.sub(r'\\s+[a-z]\\s+', ' ', review)    # Elimina letras sueltas (como 'a', 'b', etc.)\n",
        "    review = re.sub(r'^b\\s+', '', review)           # Elimina prefijos erróneos de bytes (b'...')\n",
        "    review = re.sub(r'\\s+', ' ', review)            # Elimina espacios múltiples\n",
        "    corpus.append(review)\n",
        "\n",
        "# Mostrar el primer documento procesado\n",
        "print(corpus[0])\n"
      ],
      "metadata": {
        "colab": {
          "base_uri": "https://localhost:8080/"
        },
        "id": "dEChkwB45GcJ",
        "outputId": "c311cf82-7bf4-466c-b0ff-4b572712a41b"
      },
      "execution_count": 19,
      "outputs": [
        {
          "output_type": "stream",
          "name": "stdout",
          "text": [
            "arnold schwarzenegger has been an icon for action enthusiasts since the late 80 but lately his films have been very sloppy and the one liners are getting worse nit hard seeing arnold as mr freeze in batman and robin especially when he says tons of ice jokes but hey he got 15 million what it matter to him nonce again arnold has signed to do another expensive blockbuster that can compare with the likes of the terminator series true lies and even eraser nin this so called dark thriller the devil gabriel byrne has come upon earth to impregnate woman robin tunney which happens every 1000 years and basically destroy the world but apparently god has chosen one man and that one man is jericho cane arnold himself nwith the help of trusty sidekick kevin pollack they will stop at nothing to let the devil take over the world nparts of this are actually so absurd that they would fit right in with dogma nyes the film is that weak but it better than the other blockbuster right now sleepy hollow but it makes the world is not enough look like 4 star film nanyway this definitely doesn seem like an arnold movie nit just wasn the type of film you can see him doing nsure he gave us few chuckles with his well known one liners but he seemed confused as to where his character and the film was going nit understandable especially when the ending had to be changed according to some sources naside form that he still walked through it much like he has in the past few films ni sorry to say this arnold but maybe these are the end of your action days nspeaking of action where was it in this film nthere was hardly any explosions or fights nthe devil made few places explode but arnold wasn kicking some devil butt nthe ending was changed to make it more spiritual which undoubtedly ruined the film ni was at least hoping for cool ending if nothing else occurred but once again was let down ni also don know why the film took so long and cost so much nthere was really no super affects at all unless you consider an invisible devil who was in it for 5 minutes tops worth the overpriced budget nthe budget should have gone into better script where at least audiences could be somewhat entertained instead of facing boredom nit pitiful to see how scripts like these get bought and made into movie ndo they even read these things anymore nit sure doesn seem like it nthankfully gabriel performance gave some light to this poor film nwhen he walks down the street searching for robin tunney you can help but feel that he looked like devil nthe guy is creepy looking anyway nwhen it all over you re just glad it the end of the movie ndon bother to see this if you re expecting solid action flick because it neither solid nor does it have action nit just another movie that we are suckered in to seeing due to strategic marketing campaign nsave your money and see the world is not enough for an entertaining experience \n"
          ]
        }
      ]
    },
    {
      "cell_type": "code",
      "source": [
        "# ================================================\n",
        "#  3. Representación del texto con TF-IDF\n",
        "# ================================================\n",
        "\n",
        "# Crear el vectorizador TF-IDF\n",
        "TFIDF = TfidfVectorizer(\n",
        "    max_features=1000,            # Solo considera las 1000 palabras más frecuentes\n",
        "    min_df=2,                     # Aparece en al menos 2 documentos\n",
        "    max_df=0.6,                   # Aparece en menos del 60% de los documentos\n",
        "    stop_words=stopwords.words('english')  # Elimina palabras comunes (stopwords)\n",
        ")\n",
        "\n",
        "# Ajustar y transformar el corpus\n",
        "TFIDF.fit(corpus)\n",
        "X = TFIDF.transform(corpus).toarray()\n",
        "\n",
        "# Mostrar tamaño de la matriz de características\n",
        "print(\"Matriz TF-IDF:\", X.shape)  # (número de documentos, número de palabras seleccionadas)\n"
      ],
      "metadata": {
        "colab": {
          "base_uri": "https://localhost:8080/"
        },
        "id": "W_-1k5ck5KSD",
        "outputId": "1727d4b2-9957-4bf9-d4c5-acce2a675f5c"
      },
      "execution_count": 20,
      "outputs": [
        {
          "output_type": "stream",
          "name": "stdout",
          "text": [
            "Matriz TF-IDF: (2000, 1000)\n"
          ]
        }
      ]
    },
    {
      "cell_type": "code",
      "source": [
        "# ================================================\n",
        "#  4. Entrenamiento y evaluación del modelo\n",
        "# ================================================\n",
        "\n",
        "# Dividir los datos en conjunto de entrenamiento y prueba (70% - 30%)\n",
        "X_train, X_test, y_train, y_test = train_test_split(\n",
        "    X, y, test_size=0.3, random_state=1234\n",
        ")\n",
        "\n",
        "# Entrenar un modelo de regresión logística\n",
        "LR = LogisticRegression()\n",
        "LR.fit(X_train, y_train)\n",
        "\n",
        "# Predecir sobre el conjunto de prueba\n",
        "y_pred = LR.predict(X_test)\n",
        "\n",
        "# Evaluar con matriz de confusión\n",
        "conf_mat = confusion_matrix(y_test, y_pred)\n",
        "print(\"Matriz de confusión:\\n\", conf_mat)\n",
        "\n",
        "# Evaluar con precisión (accuracy)\n",
        "acc = accuracy_score(y_test, y_pred)\n",
        "print(\"Precisión del modelo:\", np.round(acc, 3))\n"
      ],
      "metadata": {
        "colab": {
          "base_uri": "https://localhost:8080/"
        },
        "id": "O8bAprjr5Rec",
        "outputId": "e9a09556-1199-4d61-f6f7-9ea584b5b9be"
      },
      "execution_count": 21,
      "outputs": [
        {
          "output_type": "stream",
          "name": "stdout",
          "text": [
            "Matriz de confusión:\n",
            " [[235  66]\n",
            " [ 51 248]]\n",
            "Precisión del modelo: 0.805\n"
          ]
        }
      ]
    },
    {
      "cell_type": "markdown",
      "source": [
        "Este código te muestra un flujo completo de clasificación de texto:\n",
        "\n",
        "- Cargar y preprocesar texto\n",
        "\n",
        "- Representarlo con TF-IDF\n",
        "\n",
        "- Aplicar un modelo de clasificación supervisada (Regresión Logística)\n",
        "\n",
        "- Evaluar con precisión y matriz de confusión"
      ],
      "metadata": {
        "id": "-LFCxekg6fTv"
      }
    },
    {
      "cell_type": "markdown",
      "source": [
        "# Modelado de Temas"
      ],
      "metadata": {
        "id": "20YvnTKb70SK"
      }
    },
    {
      "cell_type": "markdown",
      "source": [
        "## 🧠 ¿Qué es el Modelado de Temas (Topic Modeling)?\n",
        "\n",
        "Es una técnica del Procesamiento de Lenguaje Natural (NLP) que busca **descubrir los temas ocultos** en un conjunto de documentos. No se refiere a títulos explícitos, sino a **conceptos latentes** que se pueden identificar a partir de las palabras que aparecen en los textos.\n",
        "\n",
        "---\n",
        "\n",
        "## 🔍 ¿Qué es LSA (Latent Semantic Analysis)?\n",
        "\n",
        "LSA es una técnica que:\n",
        "\n",
        "* Usa una representación TF-IDF de los textos.\n",
        "* Aplica una **descomposición de valores singulares (SVD)** a esa matriz.\n",
        "* Reduce la dimensionalidad para identificar **temas latentes**, o patrones recurrentes de palabras.\n",
        "\n",
        "---\n",
        "\n",
        "## 🧮 ¿Qué es SVD (Descomposición de Valores Singulares)?\n",
        "\n",
        "La matriz TF-IDF (llamémosla `M`) se descompone en tres matrices:\n",
        "\n",
        "```\n",
        "M ≈ U × Σ × Vᵀ\n",
        "```\n",
        "\n",
        "* `M`: matriz de documentos vs términos.\n",
        "* `U`: relación documentos-temas.\n",
        "* `Σ`: importancia (peso) de los temas (valores singulares).\n",
        "* `Vᵀ`: relación temas-palabras (lo que usaremos para ver qué palabras representan cada tema).\n",
        "\n",
        "Usamos una versión truncada (solo los `r` temas más importantes) para evitar ruido y reducir complejidad.\n",
        "\n",
        "---\n",
        "\n",
        "## ✨ Aplicaciones de LSA\n",
        "\n",
        "* Agrupación de documentos (clustering).\n",
        "* Motores de búsqueda (asociar términos con documentos).\n",
        "* Análisis semántico y reducción de dimensionalidad.\n",
        "* Etiquetado de documentos.\n",
        "\n",
        "---"
      ],
      "metadata": {
        "id": "JnrMIxLk721n"
      }
    },
    {
      "cell_type": "markdown",
      "source": [
        "## 📌 Código Completo con Explicaciones"
      ],
      "metadata": {
        "id": "Ok8NJp-l8JC0"
      }
    },
    {
      "cell_type": "code",
      "source": [
        "# ------------------------------------------\n",
        "# EJERCICIO #0512 - LSA Topic Modeling\n",
        "# ------------------------------------------\n",
        "\n",
        "import numpy as np\n",
        "import warnings\n",
        "import nltk\n",
        "from nltk.corpus import stopwords\n",
        "from sklearn.feature_extraction.text import TfidfVectorizer\n",
        "from sklearn.decomposition import TruncatedSVD\n",
        "\n",
        "warnings.filterwarnings('ignore')  # Oculta advertencias molestas\n",
        "\n",
        "nltk.download('stopwords')"
      ],
      "metadata": {
        "colab": {
          "base_uri": "https://localhost:8080/"
        },
        "id": "9h8bmJ2n6ZRK",
        "outputId": "fc2b57a0-20a3-4a7b-c19f-9b9cb3d3af5b"
      },
      "execution_count": 22,
      "outputs": [
        {
          "output_type": "stream",
          "name": "stderr",
          "text": [
            "[nltk_data] Downloading package stopwords to /root/nltk_data...\n",
            "[nltk_data]   Package stopwords is already up-to-date!\n"
          ]
        },
        {
          "output_type": "execute_result",
          "data": {
            "text/plain": [
              "True"
            ]
          },
          "metadata": {},
          "execution_count": 22
        }
      ]
    },
    {
      "cell_type": "code",
      "source": [
        "# ------------------------------\n",
        "# 1. Datos de ejemplo (documentos)\n",
        "# ------------------------------\n",
        "\n",
        "my_docs = [\n",
        "    \"The economic slowdown is becoming more severe\",\n",
        "    \"The movie was simply awesome\",\n",
        "    \"I like cooking my own food\",\n",
        "    \"Samsung is announcing a new technology\",\n",
        "    \"Machine Learning is an example of awesome technology\",\n",
        "    \"All of us were excited at the movie\",\n",
        "    \"We have to do more to reverse the economic slowdown\"\n",
        "]\n",
        "\n",
        "# Convertimos todo a minúsculas\n",
        "my_docs = [doc.lower() for doc in my_docs]"
      ],
      "metadata": {
        "id": "GOev5K4r8Q0Q"
      },
      "execution_count": 23,
      "outputs": []
    },
    {
      "cell_type": "code",
      "source": [
        "# ------------------------------\n",
        "# 2. Representación TF-IDF\n",
        "# ------------------------------\n",
        "\n",
        "# Podemos agregar nuestras propias stopwords\n",
        "my_stop_words = ['us', 'like']\n",
        "\n",
        "vectorizer = TfidfVectorizer(\n",
        "    max_features=15,        # Solo tomar las 15 palabras más relevantes\n",
        "    min_df=1,               # Aparecen al menos en 1 documento\n",
        "    max_df=3,               # Aparecen en no más de 3 documentos\n",
        "    stop_words=stopwords.words('english') + my_stop_words  # Stopwords en inglés + personalizadas\n",
        ")\n",
        "\n",
        "X = vectorizer.fit_transform(my_docs).toarray()  # Matriz TF-IDF\n",
        "\n",
        "# Mostrar dimensión: (documentos x términos)\n",
        "print(\"Shape de matriz TF-IDF:\", X.shape)\n",
        "\n",
        "# Mostrar los términos seleccionados\n",
        "features = vectorizer.get_feature_names_out()\n",
        "print(\"Términos seleccionados:\", features)"
      ],
      "metadata": {
        "colab": {
          "base_uri": "https://localhost:8080/"
        },
        "id": "7ghBIFh08TGW",
        "outputId": "ce112cc6-856c-44e1-fbde-ed4f53b5dea5"
      },
      "execution_count": 24,
      "outputs": [
        {
          "output_type": "stream",
          "name": "stdout",
          "text": [
            "Shape de matriz TF-IDF: (7, 15)\n",
            "Términos seleccionados: ['awesome' 'becoming' 'cooking' 'economic' 'example' 'excited' 'food'\n",
            " 'learning' 'machine' 'movie' 'new' 'reverse' 'samsung' 'slowdown'\n",
            " 'technology']\n"
          ]
        }
      ]
    },
    {
      "cell_type": "code",
      "source": [
        "# ------------------------------\n",
        "# 3. Descomposición SVD (LSA)\n",
        "# ------------------------------\n",
        "\n",
        "n_topics = 4  # Elegimos 4 temas\n",
        "svd = TruncatedSVD(n_components=n_topics, n_iter=100)\n",
        "svd.fit(X)\n",
        "\n",
        "# Matriz V transpuesta (relación temas vs palabras)\n",
        "vt = svd.components_\n",
        "vtabs = np.abs(vt)  # Tomamos valores absolutos\n",
        "\n",
        "print(\"Shape de Vᵀ:\", vt.shape)"
      ],
      "metadata": {
        "colab": {
          "base_uri": "https://localhost:8080/"
        },
        "id": "EbjfETaK8VPq",
        "outputId": "3920e356-8628-4991-d05c-dca7c39aa27a"
      },
      "execution_count": 25,
      "outputs": [
        {
          "output_type": "stream",
          "name": "stdout",
          "text": [
            "Shape de Vᵀ: (4, 15)\n"
          ]
        }
      ]
    },
    {
      "cell_type": "code",
      "source": [
        "# ------------------------------\n",
        "# 4. Top Palabras por Tema\n",
        "# ------------------------------\n",
        "\n",
        "n_top = 3  # Número de palabras por tema\n",
        "topic_matrix = []\n",
        "\n",
        "for i in range(n_topics):\n",
        "    top_indices = np.argsort(-vtabs[i, :])  # Índices de mayor a menor valor\n",
        "    top_words = [features[idx] for idx in top_indices[:n_top]]\n",
        "    topic_matrix.append(top_words)\n",
        "\n",
        "print(\"Top palabras por tema:\")\n",
        "for i, words in enumerate(topic_matrix):\n",
        "    print(f\"Tema {i+1}: {words}\")\n",
        "\n",
        "# Podemos nombrar los temas según las palabras\n",
        "topic_names = ['Economía', 'Cine', 'Tecnología', 'Cocina']"
      ],
      "metadata": {
        "colab": {
          "base_uri": "https://localhost:8080/"
        },
        "id": "se7AHtQ78XHq",
        "outputId": "4bdc3281-cae2-4543-a14b-1aeaef57a4e0"
      },
      "execution_count": 26,
      "outputs": [
        {
          "output_type": "stream",
          "name": "stdout",
          "text": [
            "Top palabras por tema:\n",
            "Tema 1: ['economic', 'slowdown', 'reverse']\n",
            "Tema 2: ['movie', 'awesome', 'excited']\n",
            "Tema 3: ['technology', 'new', 'samsung']\n",
            "Tema 4: ['cooking', 'food', 'technology']\n"
          ]
        }
      ]
    },
    {
      "cell_type": "code",
      "source": [
        "# ------------------------------\n",
        "# 5. Asignar Tema a Cada Documento\n",
        "# ------------------------------\n",
        "nltk.download('punkt_tab')\n",
        "\n",
        "print(\"\\nDocumentos clasificados por tema predominante:\")\n",
        "for i, doc in enumerate(my_docs):\n",
        "    score_max = 0\n",
        "    topic_pick = 0\n",
        "    tokens = nltk.word_tokenize(doc)\n",
        "\n",
        "    for j in range(n_topics):\n",
        "        # Verifica cuántas palabras del tema j están en el documento\n",
        "        found = [word in topic_matrix[j] for word in tokens]\n",
        "        score = np.sum(found)\n",
        "        if score > score_max:\n",
        "            score_max = score\n",
        "            topic_pick = j\n",
        "\n",
        "    print(f\"Documento {i+1} ➜ Tema: {topic_names[topic_pick]}\")"
      ],
      "metadata": {
        "colab": {
          "base_uri": "https://localhost:8080/"
        },
        "id": "BCyWvJBJ8ZB7",
        "outputId": "3cbcfd80-4bb9-415e-983d-bca85bbd1799"
      },
      "execution_count": 28,
      "outputs": [
        {
          "output_type": "stream",
          "name": "stdout",
          "text": [
            "\n",
            "Documentos clasificados por tema predominante:\n",
            "Documento 1 ➜ Tema: Economía\n",
            "Documento 2 ➜ Tema: Cine\n",
            "Documento 3 ➜ Tema: Cocina\n",
            "Documento 4 ➜ Tema: Tecnología\n",
            "Documento 5 ➜ Tema: Cine\n",
            "Documento 6 ➜ Tema: Cine\n",
            "Documento 7 ➜ Tema: Economía\n"
          ]
        },
        {
          "output_type": "stream",
          "name": "stderr",
          "text": [
            "[nltk_data] Downloading package punkt_tab to /root/nltk_data...\n",
            "[nltk_data]   Unzipping tokenizers/punkt_tab.zip.\n"
          ]
        }
      ]
    },
    {
      "cell_type": "markdown",
      "source": [
        "## 📝 Notas Finales\n",
        "\n",
        "* Esta técnica **no es perfecta**, ya que depende mucho de los datos, palabras clave y número de temas.\n",
        "* A veces se puede etiquetar incorrectamente si el documento es corto o ambiguo.\n",
        "* Funciona bien para **descubrir patrones generales**, no casos individuales.\n",
        "\n",
        "---"
      ],
      "metadata": {
        "id": "AzFkEKMX8Fbk"
      }
    },
    {
      "cell_type": "markdown",
      "source": [
        "# Modelado de Temas - Parte 2"
      ],
      "metadata": {
        "id": "gC6usW0jHela"
      }
    },
    {
      "cell_type": "markdown",
      "source": [
        "#### **Modelado de Temas con LDA**\n",
        "\n",
        "---\n",
        "\n",
        "### 🔍 ¿Qué es *Latent Dirichlet Allocation (LDA)*?\n",
        "\n",
        "**LDA** es un modelo probabilístico de modelado de temas usado para descubrir los \"temas ocultos\" dentro de un conjunto de documentos. No requiere saber los temas de antemano, los infiere a partir del uso de palabras.\n",
        "\n",
        "**Fundamentos:**\n",
        "\n",
        "* Desarrollado por **Blei, Ng y Jordan** (2003).\n",
        "* Usa razonamiento **inductivo**: parte de los documentos observados (palabras) para deducir las distribuciones de temas.\n",
        "* Supone que:\n",
        "\n",
        "  * Cada documento es una mezcla de temas.\n",
        "  * Cada tema es una distribución de palabras.\n",
        "* Utiliza distribuciones **Dirichlet** como priors (valores iniciales) para modelar probabilidades.\n",
        "\n",
        "---\n",
        "\n",
        "### 🔁 Proceso Generativo (Razonamiento Deductivo)\n",
        "\n",
        "Este es el proceso *teórico* de cómo se generan los documentos si supiéramos todo:\n",
        "\n",
        "1. Se elige una distribución de temas para cada documento (Dirichlet).\n",
        "2. Para cada palabra del documento:\n",
        "\n",
        "   * Se escoge un tema al azar según esa distribución.\n",
        "   * Se elige una palabra desde la distribución de palabras de ese tema.\n",
        "\n",
        "Pero en la vida real, **sólo tenemos los documentos**. LDA trata de **inferir hacia atrás** qué temas los generaron.\n",
        "\n",
        "---\n",
        "\n",
        "### 🧠 Inferencia en LDA (Razonamiento Inductivo)\n",
        "\n",
        "Queremos saber:\n",
        "\n",
        "* ¿Qué temas tiene cada documento?\n",
        "* ¿Qué palabras caracterizan cada tema?\n",
        "\n",
        "Eso se calcula resolviendo:\n",
        "\n",
        "* La distribución de temas por documento.\n",
        "* La distribución de palabras por tema.\n",
        "\n",
        "Esto es lo que hace `LatentDirichletAllocation` de `scikit-learn`.\n",
        "\n",
        "---"
      ],
      "metadata": {
        "id": "bhxR7p9ZHjPj"
      }
    },
    {
      "cell_type": "markdown",
      "source": [
        "### Codigo ejemplo"
      ],
      "metadata": {
        "id": "CPa7mvtmNWHL"
      }
    },
    {
      "cell_type": "code",
      "source": [
        "# === LDA: Latent Dirichlet Allocation ===\n",
        "\n",
        "import numpy as np\n",
        "import warnings\n",
        "from sklearn.feature_extraction.text import CountVectorizer, ENGLISH_STOP_WORDS\n",
        "from sklearn.decomposition import LatentDirichletAllocation\n",
        "import matplotlib.pyplot as plt\n",
        "import seaborn as sns\n",
        "\n",
        "# Para evitar warnings molestos\n",
        "warnings.filterwarnings('ignore')"
      ],
      "metadata": {
        "id": "Tz7D_hFXNdO1"
      },
      "execution_count": 37,
      "outputs": []
    },
    {
      "cell_type": "code",
      "source": [
        "# === 1. Datos de entrada: documentos ===\n",
        "# Simulamos 7 documentos simples\n",
        "my_docs = [\n",
        "    \"The economic slowdown is becoming more severe\",\n",
        "    \"The movie was simply awesome\",\n",
        "    \"I like cooking my own food\",\n",
        "    \"Samsung is announcing a new technology\",\n",
        "    \"Machine Learning is an example of awesome technology\",\n",
        "    \"All of us were excited at the movie\",\n",
        "    \"We have to do more to reverse the economic slowdown\"\n",
        "]\n",
        "\n",
        "# Preprocesamiento básico: pasar a minúsculas\n",
        "my_docs = [doc.lower() for doc in my_docs]"
      ],
      "metadata": {
        "id": "yCqsIP6pNfq1"
      },
      "execution_count": 38,
      "outputs": []
    },
    {
      "cell_type": "code",
      "source": [
        "# === 2. Crear representación BOW (DTM) ===\n",
        "vectorizer = CountVectorizer(\n",
        "    max_features=15,           # mantener sólo las 15 palabras más frecuentes\n",
        "    min_df=1,                  # incluir palabras que aparezcan en al menos 1 doc\n",
        "    max_df=3,                  # excluir palabras que aparezcan en más de 3 docs (filtra stopwords)\n",
        "    stop_words=list(ENGLISH_STOP_WORDS)  # lista de stopwords de sklearn\n",
        ")\n",
        "\n",
        "X = vectorizer.fit_transform(my_docs).toarray()  # Matriz documento-término (DTM)\n",
        "\n",
        "# Mostrar DTM\n",
        "print(\"=== Matriz Documento-Término (DTM) ===\")\n",
        "print(X)\n",
        "\n",
        "# Mostrar nombres de características\n",
        "features = vectorizer.get_feature_names_out()\n",
        "print(\"\\n=== Palabras seleccionadas (features) ===\")\n",
        "print(features)"
      ],
      "metadata": {
        "colab": {
          "base_uri": "https://localhost:8080/"
        },
        "id": "Ebare-N9ODJw",
        "outputId": "57dba31c-cce2-4759-b7ec-0f9bfac06567"
      },
      "execution_count": 39,
      "outputs": [
        {
          "output_type": "stream",
          "name": "stdout",
          "text": [
            "=== Matriz Documento-Término (DTM) ===\n",
            "[[0 0 1 0 0 0 0 0 0 0 0 0 0 1 0]\n",
            " [0 1 0 0 0 0 0 0 0 1 0 0 0 0 0]\n",
            " [0 0 0 0 0 1 0 1 0 0 0 0 0 0 0]\n",
            " [1 0 0 0 0 0 0 0 0 0 1 0 1 0 1]\n",
            " [0 1 0 1 0 0 1 0 1 0 0 0 0 0 1]\n",
            " [0 0 0 0 1 0 0 0 0 1 0 0 0 0 0]\n",
            " [0 0 1 0 0 0 0 0 0 0 0 1 0 1 0]]\n",
            "\n",
            "=== Palabras seleccionadas (features) ===\n",
            "['announcing' 'awesome' 'economic' 'example' 'excited' 'food' 'learning'\n",
            " 'like' 'machine' 'movie' 'new' 'reverse' 'samsung' 'slowdown'\n",
            " 'technology']\n"
          ]
        }
      ]
    },
    {
      "cell_type": "code",
      "source": [
        "# === 3. Aplicar LDA ===\n",
        "n_topics = 4  # Suponemos que hay 4 temas en nuestros datos\n",
        "lda = LatentDirichletAllocation(n_components=n_topics, random_state=123)\n",
        "my_docs_topic = lda.fit_transform(X)\n",
        "\n",
        "# Mostrar distribución de temas por documento\n",
        "print(\"\\n=== Distribución de temas por documento ===\")\n",
        "print(np.round(my_docs_topic, 2))\n",
        "\n",
        "# Verificar que cada fila suma 1 (probabilidades)\n",
        "print(\"\\n=== Verificación: cada documento suma 1 ===\")\n",
        "print(np.round(my_docs_topic.sum(axis=1), 2))"
      ],
      "metadata": {
        "colab": {
          "base_uri": "https://localhost:8080/"
        },
        "id": "z6Crq3nOOGB6",
        "outputId": "5054f6aa-ffd8-47e2-b293-61f7233473ec"
      },
      "execution_count": 40,
      "outputs": [
        {
          "output_type": "stream",
          "name": "stdout",
          "text": [
            "\n",
            "=== Distribución de temas por documento ===\n",
            "[[0.75 0.08 0.08 0.08]\n",
            " [0.08 0.09 0.08 0.75]\n",
            " [0.08 0.08 0.75 0.08]\n",
            " [0.05 0.05 0.85 0.05]\n",
            " [0.87 0.04 0.04 0.04]\n",
            " [0.08 0.75 0.08 0.09]\n",
            " [0.81 0.06 0.06 0.06]]\n",
            "\n",
            "=== Verificación: cada documento suma 1 ===\n",
            "[1. 1. 1. 1. 1. 1. 1.]\n"
          ]
        }
      ]
    },
    {
      "cell_type": "code",
      "source": [
        "# === 4. Obtener las palabras más representativas de cada tema ===\n",
        "topic_composition = lda.components_  # (topics x palabras)\n",
        "n_top = 3  # Número de palabras clave por tema\n",
        "topic_matrix = []\n",
        "\n",
        "for i in range(n_topics):\n",
        "    top_indices = np.argsort(-topic_composition[i])  # índices con mayor peso\n",
        "    top_words = [features[j] for j in top_indices[:n_top]]\n",
        "    topic_matrix.append(top_words)\n",
        "\n",
        "print(\"\\n=== Palabras principales por tema ===\")\n",
        "for i, topic_words in enumerate(topic_matrix):\n",
        "    print(f\"Tema {i+1}: {topic_words}\")"
      ],
      "metadata": {
        "colab": {
          "base_uri": "https://localhost:8080/"
        },
        "id": "TM9gfyn_OIHE",
        "outputId": "734f7cbf-5484-4071-851a-9ec781a4c5c1"
      },
      "execution_count": 41,
      "outputs": [
        {
          "output_type": "stream",
          "name": "stdout",
          "text": [
            "\n",
            "=== Palabras principales por tema ===\n",
            "Tema 1: ['economic', 'slowdown', 'learning']\n",
            "Tema 2: ['movie', 'excited', 'awesome']\n",
            "Tema 3: ['technology', 'announcing', 'new']\n",
            "Tema 4: ['awesome', 'movie', 'technology']\n"
          ]
        }
      ]
    },
    {
      "cell_type": "code",
      "source": [
        "# === 5. Etiquetar cada documento con su tema dominante ===\n",
        "topic_names = ['Tecnología', 'Cocina', 'Películas', 'Economía']  # opcional\n",
        "\n",
        "print(\"\\n=== Tema principal de cada documento ===\")\n",
        "for i in range(len(my_docs)):\n",
        "    topic_pick = np.argmax(my_docs_topic[i])\n",
        "    print(f\"Documento {i+1}: Tema {topic_pick+1} - {topic_names[topic_pick]}\")"
      ],
      "metadata": {
        "colab": {
          "base_uri": "https://localhost:8080/"
        },
        "id": "uoc2ejWuOKN4",
        "outputId": "7693f43c-b452-4773-ccea-492b15116f21"
      },
      "execution_count": 42,
      "outputs": [
        {
          "output_type": "stream",
          "name": "stdout",
          "text": [
            "\n",
            "=== Tema principal de cada documento ===\n",
            "Documento 1: Tema 1 - Tecnología\n",
            "Documento 2: Tema 4 - Economía\n",
            "Documento 3: Tema 3 - Películas\n",
            "Documento 4: Tema 3 - Películas\n",
            "Documento 5: Tema 1 - Tecnología\n",
            "Documento 6: Tema 2 - Cocina\n",
            "Documento 7: Tema 1 - Tecnología\n"
          ]
        }
      ]
    },
    {
      "cell_type": "code",
      "source": [
        "# Visualizar proporción de temas por documento\n",
        "import pandas as pd\n",
        "\n",
        "df_topics = pd.DataFrame(my_docs_topic, columns=[f\"Tema {i+1}\" for i in range(n_topics)])\n",
        "df_topics.plot(kind='bar', stacked=True, colormap='tab20c')\n",
        "plt.title(\"Distribución de temas por documento\")\n",
        "plt.xlabel(\"Documento\")\n",
        "plt.ylabel(\"Proporción\")\n",
        "plt.legend(bbox_to_anchor=(1.05, 1))\n",
        "plt.tight_layout()\n",
        "plt.show()"
      ],
      "metadata": {
        "colab": {
          "base_uri": "https://localhost:8080/",
          "height": 487
        },
        "id": "tf78KSnWOWmA",
        "outputId": "5d78bc8d-2cb7-4d90-a269-1d4c79eb13d8"
      },
      "execution_count": 43,
      "outputs": [
        {
          "output_type": "display_data",
          "data": {
            "text/plain": [
              "<Figure size 640x480 with 1 Axes>"
            ],
            "image/png": "[encoded data removed]"
          },
          "metadata": {}
        }
      ]
    },
    {
      "cell_type": "markdown",
      "source": [
        "### 🧠 Resumen\n",
        "\n",
        "| Concepto             | Descripción                                                                    |\n",
        "| -------------------- | ------------------------------------------------------------------------------ |\n",
        "| **LDA**              | Algoritmo bayesiano no supervisado para descubrir temas ocultos en documentos. |\n",
        "| **Dirichlet**        | Distribución previa usada para modelar distribuciones de probabilidad.         |\n",
        "| **Multinomial**      | Modelo para la ocurrencia de múltiples palabras o temas.                       |\n",
        "| **Inferencia**       | Proceso de deducir la estructura de temas desde los documentos.                |\n",
        "| **Output principal** | Distribución de temas por documento y palabras por tema.                       |\n",
        "\n",
        "---"
      ],
      "metadata": {
        "id": "31xn1jDJONOs"
      }
    },
    {
      "cell_type": "markdown",
      "source": [
        "# Ejercicio de Reconocimiento de correo SPAM"
      ],
      "metadata": {
        "id": "H2aovJkcHufL"
      }
    },
    {
      "cell_type": "markdown",
      "source": [
        "Entrenar un modelo de reconocimiento de correo spam\n",
        "\n",
        "https://www.kaggle.com/datasets/venky73/spam-mails-dataset/data\n",
        "\n"
      ],
      "metadata": {
        "id": "SKOTRHW2Fdhi"
      }
    },
    {
      "cell_type": "code",
      "source": [
        "# Instalación del cliente kaggle (solo la primera vez)\n",
        "!pip install kaggle\n",
        "\n",
        "# Subir tu API token Kaggle (kaggle.json) al entorno de Colab\n",
        "from google.colab import files\n",
        "files.upload()  # selecciona el kaggle.json\n",
        "\n",
        "# Moverlo a la carpeta .kaggle y configurar permisos\n",
        "!mkdir -p ~/.kaggle\n",
        "!cp kaggle.json ~/.kaggle/\n",
        "!chmod 600 ~/.kaggle/kaggle.json\n",
        "\n",
        "# Descargar e importar el dataset desde tu cuenta Kaggle\n",
        "!kaggle datasets download venky73/spam-mails-dataset\n",
        "!unzip spam-mails-dataset.zip -d spam_data\n"
      ],
      "metadata": {
        "colab": {
          "base_uri": "https://localhost:8080/",
          "height": 475
        },
        "id": "Avex62W-8jTZ",
        "outputId": "37bde041-51c3-456c-86ad-595165af23cc"
      },
      "execution_count": 29,
      "outputs": [
        {
          "output_type": "stream",
          "name": "stdout",
          "text": [
            "Requirement already satisfied: kaggle in /usr/local/lib/python3.11/dist-packages (1.7.4.5)\n",
            "Requirement already satisfied: bleach in /usr/local/lib/python3.11/dist-packages (from kaggle) (6.2.0)\n",
            "Requirement already satisfied: certifi>=14.05.14 in /usr/local/lib/python3.11/dist-packages (from kaggle) (2025.7.14)\n",
            "Requirement already satisfied: charset-normalizer in /usr/local/lib/python3.11/dist-packages (from kaggle) (3.4.2)\n",
            "Requirement already satisfied: idna in /usr/local/lib/python3.11/dist-packages (from kaggle) (3.10)\n",
            "Requirement already satisfied: protobuf in /usr/local/lib/python3.11/dist-packages (from kaggle) (5.29.5)\n",
            "Requirement already satisfied: python-dateutil>=2.5.3 in /usr/local/lib/python3.11/dist-packages (from kaggle) (2.9.0.post0)\n",
            "Requirement already satisfied: python-slugify in /usr/local/lib/python3.11/dist-packages (from kaggle) (8.0.4)\n",
            "Requirement already satisfied: requests in /usr/local/lib/python3.11/dist-packages (from kaggle) (2.32.3)\n",
            "Requirement already satisfied: setuptools>=21.0.0 in /usr/local/lib/python3.11/dist-packages (from kaggle) (75.2.0)\n",
            "Requirement already satisfied: six>=1.10 in /usr/local/lib/python3.11/dist-packages (from kaggle) (1.17.0)\n",
            "Requirement already satisfied: text-unidecode in /usr/local/lib/python3.11/dist-packages (from kaggle) (1.3)\n",
            "Requirement already satisfied: tqdm in /usr/local/lib/python3.11/dist-packages (from kaggle) (4.67.1)\n",
            "Requirement already satisfied: urllib3>=1.15.1 in /usr/local/lib/python3.11/dist-packages (from kaggle) (2.5.0)\n",
            "Requirement already satisfied: webencodings in /usr/local/lib/python3.11/dist-packages (from kaggle) (0.5.1)\n"
          ]
        },
        {
          "output_type": "display_data",
          "data": {
            "text/plain": [
              "<IPython.core.display.HTML object>"
            ],
            "text/html": [
              "\n",
              "     <input type=\"file\" id=\"files-6a52c702-f033-4b27-ba44-a1ed0720de1c\" name=\"files[]\" multiple disabled\n",
              "        style=\"border:none\" />\n",
              "     <output id=\"result-6a52c702-f033-4b27-ba44-a1ed0720de1c\">\n",
              "      Upload widget is only available when the cell has been executed in the\n",
              "      current browser session. Please rerun this cell to enable.\n",
              "      </output>\n",
              "      <script>// Copyright 2017 Google LLC\n",
              "//\n",
              "// Licensed under the Apache License, Version 2.0 (the \"License\");\n",
              "// you may not use this file except in compliance with the License.\n",
              "// You may obtain a copy of the License at\n",
              "//\n",
              "//      http://www.apache.org/licenses/LICENSE-2.0\n",
              "//\n",
              "// Unless required by applicable law or agreed to in writing, software\n",
              "// distributed under the License is distributed on an \"AS IS\" BASIS,\n",
              "// WITHOUT WARRANTIES OR CONDITIONS OF ANY KIND, either express or implied.\n",
              "// See the License for the specific language governing permissions and\n",
              "// limitations under the License.\n",
              "\n",
              "/**\n",
              " * @fileoverview Helpers for google.colab Python module.\n",
              " */\n",
              "(function(scope) {\n",
              "function span(text, styleAttributes = {}) {\n",
              "  const element = document.createElement('span');\n",
              "  element.textContent = text;\n",
              "  for (const key of Object.keys(styleAttributes)) {\n",
              "    element.style[key] = styleAttributes[key];\n",
              "  }\n",
              "  return element;\n",
              "}\n",
              "\n",
              "// Max number of bytes which will be uploaded at a time.\n",
              "const MAX_PAYLOAD_SIZE = 100 * 1024;\n",
              "\n",
              "function _uploadFiles(inputId, outputId) {\n",
              "  const steps = uploadFilesStep(inputId, outputId);\n",
              "  const outputElement = document.getElementById(outputId);\n",
              "  // Cache steps on the outputElement to make it available for the next call\n",
              "  // to uploadFilesContinue from Python.\n",
              "  outputElement.steps = steps;\n",
              "\n",
              "  return _uploadFilesContinue(outputId);\n",
              "}\n",
              "\n",
              "// This is roughly an async generator (not supported in the browser yet),\n",
              "// where there are multiple asynchronous steps and the Python side is going\n",
              "// to poll for completion of each step.\n",
              "// This uses a Promise to block the python side on completion of each step,\n",
              "// then passes the result of the previous step as the input to the next step.\n",
              "function _uploadFilesContinue(outputId) {\n",
              "  const outputElement = document.getElementById(outputId);\n",
              "  const steps = outputElement.steps;\n",
              "\n",
              "  const next = steps.next(outputElement.lastPromiseValue);\n",
              "  return Promise.resolve(next.value.promise).then((value) => {\n",
              "    // Cache the last promise value to make it available to the next\n",
              "    // step of the generator.\n",
              "    outputElement.lastPromiseValue = value;\n",
              "    return next.value.response;\n",
              "  });\n",
              "}\n",
              "\n",
              "/**\n",
              " * Generator function which is called between each async step of the upload\n",
              " * process.\n",
              " * @param {string} inputId Element ID of the input file picker element.\n",
              " * @param {string} outputId Element ID of the output display.\n",
              " * @return {!Iterable<!Object>} Iterable of next steps.\n",
              " */\n",
              "function* uploadFilesStep(inputId, outputId) {\n",
              "  const inputElement = document.getElementById(inputId);\n",
              "  inputElement.disabled = false;\n",
              "\n",
              "  const outputElement = document.getElementById(outputId);\n",
              "  outputElement.innerHTML = '';\n",
              "\n",
              "  const pickedPromise = new Promise((resolve) => {\n",
              "    inputElement.addEventListener('change', (e) => {\n",
              "      resolve(e.target.files);\n",
              "    });\n",
              "  });\n",
              "\n",
              "  const cancel = document.createElement('button');\n",
              "  inputElement.parentElement.appendChild(cancel);\n",
              "  cancel.textContent = 'Cancel upload';\n",
              "  const cancelPromise = new Promise((resolve) => {\n",
              "    cancel.onclick = () => {\n",
              "      resolve(null);\n",
              "    };\n",
              "  });\n",
              "\n",
              "  // Wait for the user to pick the files.\n",
              "  const files = yield {\n",
              "    promise: Promise.race([pickedPromise, cancelPromise]),\n",
              "    response: {\n",
              "      action: 'starting',\n",
              "    }\n",
              "  };\n",
              "\n",
              "  cancel.remove();\n",
              "\n",
              "  // Disable the input element since further picks are not allowed.\n",
              "  inputElement.disabled = true;\n",
              "\n",
              "  if (!files) {\n",
              "    return {\n",
              "      response: {\n",
              "        action: 'complete',\n",
              "      }\n",
              "    };\n",
              "  }\n",
              "\n",
              "  for (const file of files) {\n",
              "    const li = document.createElement('li');\n",
              "    li.append(span(file.name, {fontWeight: 'bold'}));\n",
              "    li.append(span(\n",
              "        `(${file.type || 'n/a'}) - ${file.size} bytes, ` +\n",
              "        `last modified: ${\n",
              "            file.lastModifiedDate ? file.lastModifiedDate.toLocaleDateString() :\n",
              "                                    'n/a'} - `));\n",
              "    const percent = span('0% done');\n",
              "    li.appendChild(percent);\n",
              "\n",
              "    outputElement.appendChild(li);\n",
              "\n",
              "    const fileDataPromise = new Promise((resolve) => {\n",
              "      const reader = new FileReader();\n",
              "      reader.onload = (e) => {\n",
              "        resolve(e.target.result);\n",
              "      };\n",
              "      reader.readAsArrayBuffer(file);\n",
              "    });\n",
              "    // Wait for the data to be ready.\n",
              "    let fileData = yield {\n",
              "      promise: fileDataPromise,\n",
              "      response: {\n",
              "        action: 'continue',\n",
              "      }\n",
              "    };\n",
              "\n",
              "    // Use a chunked sending to avoid message size limits. See b/62115660.\n",
              "    let position = 0;\n",
              "    do {\n",
              "      const length = Math.min(fileData.byteLength - position, MAX_PAYLOAD_SIZE);\n",
              "      const chunk = new Uint8Array(fileData, position, length);\n",
              "      position += length;\n",
              "\n",
              "      const base64 = btoa(String.fromCharCode.apply(null, chunk));\n",
              "      yield {\n",
              "        response: {\n",
              "          action: 'append',\n",
              "          file: file.name,\n",
              "          data: base64,\n",
              "        },\n",
              "      };\n",
              "\n",
              "      let percentDone = fileData.byteLength === 0 ?\n",
              "          100 :\n",
              "          Math.round((position / fileData.byteLength) * 100);\n",
              "      percent.textContent = `${percentDone}% done`;\n",
              "\n",
              "    } while (position < fileData.byteLength);\n",
              "  }\n",
              "\n",
              "  // All done.\n",
              "  yield {\n",
              "    response: {\n",
              "      action: 'complete',\n",
              "    }\n",
              "  };\n",
              "}\n",
              "\n",
              "scope.google = scope.google || {};\n",
              "scope.google.colab = scope.google.colab || {};\n",
              "scope.google.colab._files = {\n",
              "  _uploadFiles,\n",
              "  _uploadFilesContinue,\n",
              "};\n",
              "})(self);\n",
              "</script> "
            ]
          },
          "metadata": {}
        },
        {
          "output_type": "stream",
          "name": "stdout",
          "text": [
            "Saving kaggle.json to kaggle.json\n",
            "Dataset URL: https://www.kaggle.com/datasets/venky73/spam-mails-dataset\n",
            "License(s): CC0-1.0\n",
            "Downloading spam-mails-dataset.zip to /content\n",
            "  0% 0.00/1.86M [00:00<?, ?B/s]\n",
            "100% 1.86M/1.86M [00:00<00:00, 468MB/s]\n",
            "Archive:  spam-mails-dataset.zip\n",
            "  inflating: spam_data/spam_ham_dataset.csv  \n"
          ]
        }
      ]
    },
    {
      "cell_type": "code",
      "source": [
        "import os\n",
        "import pandas as pd\n",
        "\n",
        "# Asumimos que el CSV se llama spam_ham_dataset.csv y está dentro de spam_data\n",
        "df = pd.read_csv('spam_data/spam_ham_dataset.csv')\n",
        "print(\"Total registros:\", len(df))\n",
        "print(df['label_num'].value_counts())  # 1 = spam, 0 = ham\n",
        "\n",
        "df.head()\n"
      ],
      "metadata": {
        "colab": {
          "base_uri": "https://localhost:8080/",
          "height": 293
        },
        "id": "a4YER2TbIUQG",
        "outputId": "626e1e74-db4f-4cce-84c5-31851b4559fa"
      },
      "execution_count": 30,
      "outputs": [
        {
          "output_type": "stream",
          "name": "stdout",
          "text": [
            "Total registros: 5171\n",
            "label_num\n",
            "0    3672\n",
            "1    1499\n",
            "Name: count, dtype: int64\n"
          ]
        },
        {
          "output_type": "execute_result",
          "data": {
            "text/plain": [
              "   Unnamed: 0 label                                               text  \\\n",
              "0         605   ham  Subject: enron methanol ; meter # : 988291\\r\\n...   \n",
              "1        2349   ham  Subject: hpl nom for january 9 , 2001\\r\\n( see...   \n",
              "2        3624   ham  Subject: neon retreat\\r\\nho ho ho , we ' re ar...   \n",
              "3        4685  spam  Subject: photoshop , windows , office . cheap ...   \n",
              "4        2030   ham  Subject: re : indian springs\\r\\nthis deal is t...   \n",
              "\n",
              "   label_num  \n",
              "0          0  \n",
              "1          0  \n",
              "2          0  \n",
              "3          1  \n",
              "4          0  "
            ],
            "text/html": [
              "\n",
              "  <div id=\"df-b550f175-10c4-4471-be1d-3fbbd94c15f9\" class=\"colab-df-container\">\n",
              "    <div>\n",
              "<style scoped>\n",
              "    .dataframe tbody tr th:only-of-type {\n",
              "        vertical-align: middle;\n",
              "    }\n",
              "\n",
              "    .dataframe tbody tr th {\n",
              "        vertical-align: top;\n",
              "    }\n",
              "\n",
              "    .dataframe thead th {\n",
              "        text-align: right;\n",
              "    }\n",
              "</style>\n",
              "<table border=\"1\" class=\"dataframe\">\n",
              "  <thead>\n",
              "    <tr style=\"text-align: right;\">\n",
              "      <th></th>\n",
              "      <th>Unnamed: 0</th>\n",
              "      <th>label</th>\n",
              "      <th>text</th>\n",
              "      <th>label_num</th>\n",
              "    </tr>\n",
              "  </thead>\n",
              "  <tbody>\n",
              "    <tr>\n",
              "      <th>0</th>\n",
              "      <td>605</td>\n",
              "      <td>ham</td>\n",
              "      <td>Subject: enron methanol ; meter # : 988291\\r\\n...</td>\n",
              "      <td>0</td>\n",
              "    </tr>\n",
              "    <tr>\n",
              "      <th>1</th>\n",
              "      <td>2349</td>\n",
              "      <td>ham</td>\n",
              "      <td>Subject: hpl nom for january 9 , 2001\\r\\n( see...</td>\n",
              "      <td>0</td>\n",
              "    </tr>\n",
              "    <tr>\n",
              "      <th>2</th>\n",
              "      <td>3624</td>\n",
              "      <td>ham</td>\n",
              "      <td>Subject: neon retreat\\r\\nho ho ho , we ' re ar...</td>\n",
              "      <td>0</td>\n",
              "    </tr>\n",
              "    <tr>\n",
              "      <th>3</th>\n",
              "      <td>4685</td>\n",
              "      <td>spam</td>\n",
              "      <td>Subject: photoshop , windows , office . cheap ...</td>\n",
              "      <td>1</td>\n",
              "    </tr>\n",
              "    <tr>\n",
              "      <th>4</th>\n",
              "      <td>2030</td>\n",
              "      <td>ham</td>\n",
              "      <td>Subject: re : indian springs\\r\\nthis deal is t...</td>\n",
              "      <td>0</td>\n",
              "    </tr>\n",
              "  </tbody>\n",
              "</table>\n",
              "</div>\n",
              "    <div class=\"colab-df-buttons\">\n",
              "\n",
              "  <div class=\"colab-df-container\">\n",
              "    <button class=\"colab-df-convert\" onclick=\"convertToInteractive('df-b550f175-10c4-4471-be1d-3fbbd94c15f9')\"\n",
              "            title=\"Convert this dataframe to an interactive table.\"\n",
              "            style=\"display:none;\">\n",
              "\n",
              "  <svg xmlns=\"http://www.w3.org/2000/svg\" height=\"24px\" viewBox=\"0 -960 960 960\">\n",
              "    <path d=\"M120-120v-720h720v720H120Zm60-500h600v-160H180v160Zm220 220h160v-160H400v160Zm0 220h160v-160H400v160ZM180-400h160v-160H180v160Zm440 0h160v-160H620v160ZM180-180h160v-160H180v160Zm440 0h160v-160H620v160Z\"/>\n",
              "  </svg>\n",
              "    </button>\n",
              "\n",
              "  <style>\n",
              "    .colab-df-container {\n",
              "      display:flex;\n",
              "      gap: 12px;\n",
              "    }\n",
              "\n",
              "    .colab-df-convert {\n",
              "      background-color: #E8F0FE;\n",
              "      border: none;\n",
              "      border-radius: 50%;\n",
              "      cursor: pointer;\n",
              "      display: none;\n",
              "      fill: #1967D2;\n",
              "      height: 32px;\n",
              "      padding: 0 0 0 0;\n",
              "      width: 32px;\n",
              "    }\n",
              "\n",
              "    .colab-df-convert:hover {\n",
              "      background-color: #E2EBFA;\n",
              "      box-shadow: 0px 1px 2px rgba(60, 64, 67, 0.3), 0px 1px 3px 1px rgba(60, 64, 67, 0.15);\n",
              "      fill: #174EA6;\n",
              "    }\n",
              "\n",
              "    .colab-df-buttons div {\n",
              "      margin-bottom: 4px;\n",
              "    }\n",
              "\n",
              "    [theme=dark] .colab-df-convert {\n",
              "      background-color: #3B4455;\n",
              "      fill: #D2E3FC;\n",
              "    }\n",
              "\n",
              "    [theme=dark] .colab-df-convert:hover {\n",
              "      background-color: #434B5C;\n",
              "      box-shadow: 0px 1px 3px 1px rgba(0, 0, 0, 0.15);\n",
              "      filter: drop-shadow(0px 1px 2px rgba(0, 0, 0, 0.3));\n",
              "      fill: #FFFFFF;\n",
              "    }\n",
              "  </style>\n",
              "\n",
              "    <script>\n",
              "      const buttonEl =\n",
              "        document.querySelector('#df-b550f175-10c4-4471-be1d-3fbbd94c15f9 button.colab-df-convert');\n",
              "      buttonEl.style.display =\n",
              "        google.colab.kernel.accessAllowed ? 'block' : 'none';\n",
              "\n",
              "      async function convertToInteractive(key) {\n",
              "        const element = document.querySelector('#df-b550f175-10c4-4471-be1d-3fbbd94c15f9');\n",
              "        const dataTable =\n",
              "          await google.colab.kernel.invokeFunction('convertToInteractive',\n",
              "                                                    [key], {});\n",
              "        if (!dataTable) return;\n",
              "\n",
              "        const docLinkHtml = 'Like what you see? Visit the ' +\n",
              "          '<a target=\"_blank\" href=https://colab.research.google.com/notebooks/data_table.ipynb>data table notebook</a>'\n",
              "          + ' to learn more about interactive tables.';\n",
              "        element.innerHTML = '';\n",
              "        dataTable['output_type'] = 'display_data';\n",
              "        await google.colab.output.renderOutput(dataTable, element);\n",
              "        const docLink = document.createElement('div');\n",
              "        docLink.innerHTML = docLinkHtml;\n",
              "        element.appendChild(docLink);\n",
              "      }\n",
              "    </script>\n",
              "  </div>\n",
              "\n",
              "\n",
              "    <div id=\"df-70434c17-a8e3-41de-89fe-64ce5f0538f5\">\n",
              "      <button class=\"colab-df-quickchart\" onclick=\"quickchart('df-70434c17-a8e3-41de-89fe-64ce5f0538f5')\"\n",
              "                title=\"Suggest charts\"\n",
              "                style=\"display:none;\">\n",
              "\n",
              "<svg xmlns=\"http://www.w3.org/2000/svg\" height=\"24px\"viewBox=\"0 0 24 24\"\n",
              "     width=\"24px\">\n",
              "    <g>\n",
              "        <path d=\"M19 3H5c-1.1 0-2 .9-2 2v14c0 1.1.9 2 2 2h14c1.1 0 2-.9 2-2V5c0-1.1-.9-2-2-2zM9 17H7v-7h2v7zm4 0h-2V7h2v10zm4 0h-2v-4h2v4z\"/>\n",
              "    </g>\n",
              "</svg>\n",
              "      </button>\n",
              "\n",
              "<style>\n",
              "  .colab-df-quickchart {\n",
              "      --bg-color: #E8F0FE;\n",
              "      --fill-color: #1967D2;\n",
              "      --hover-bg-color: #E2EBFA;\n",
              "      --hover-fill-color: #174EA6;\n",
              "      --disabled-fill-color: #AAA;\n",
              "      --disabled-bg-color: #DDD;\n",
              "  }\n",
              "\n",
              "  [theme=dark] .colab-df-quickchart {\n",
              "      --bg-color: #3B4455;\n",
              "      --fill-color: #D2E3FC;\n",
              "      --hover-bg-color: #434B5C;\n",
              "      --hover-fill-color: #FFFFFF;\n",
              "      --disabled-bg-color: #3B4455;\n",
              "      --disabled-fill-color: #666;\n",
              "  }\n",
              "\n",
              "  .colab-df-quickchart {\n",
              "    background-color: var(--bg-color);\n",
              "    border: none;\n",
              "    border-radius: 50%;\n",
              "    cursor: pointer;\n",
              "    display: none;\n",
              "    fill: var(--fill-color);\n",
              "    height: 32px;\n",
              "    padding: 0;\n",
              "    width: 32px;\n",
              "  }\n",
              "\n",
              "  .colab-df-quickchart:hover {\n",
              "    background-color: var(--hover-bg-color);\n",
              "    box-shadow: 0 1px 2px rgba(60, 64, 67, 0.3), 0 1px 3px 1px rgba(60, 64, 67, 0.15);\n",
              "    fill: var(--button-hover-fill-color);\n",
              "  }\n",
              "\n",
              "  .colab-df-quickchart-complete:disabled,\n",
              "  .colab-df-quickchart-complete:disabled:hover {\n",
              "    background-color: var(--disabled-bg-color);\n",
              "    fill: var(--disabled-fill-color);\n",
              "    box-shadow: none;\n",
              "  }\n",
              "\n",
              "  .colab-df-spinner {\n",
              "    border: 2px solid var(--fill-color);\n",
              "    border-color: transparent;\n",
              "    border-bottom-color: var(--fill-color);\n",
              "    animation:\n",
              "      spin 1s steps(1) infinite;\n",
              "  }\n",
              "\n",
              "  @keyframes spin {\n",
              "    0% {\n",
              "      border-color: transparent;\n",
              "      border-bottom-color: var(--fill-color);\n",
              "      border-left-color: var(--fill-color);\n",
              "    }\n",
              "    20% {\n",
              "      border-color: transparent;\n",
              "      border-left-color: var(--fill-color);\n",
              "      border-top-color: var(--fill-color);\n",
              "    }\n",
              "    30% {\n",
              "      border-color: transparent;\n",
              "      border-left-color: var(--fill-color);\n",
              "      border-top-color: var(--fill-color);\n",
              "      border-right-color: var(--fill-color);\n",
              "    }\n",
              "    40% {\n",
              "      border-color: transparent;\n",
              "      border-right-color: var(--fill-color);\n",
              "      border-top-color: var(--fill-color);\n",
              "    }\n",
              "    60% {\n",
              "      border-color: transparent;\n",
              "      border-right-color: var(--fill-color);\n",
              "    }\n",
              "    80% {\n",
              "      border-color: transparent;\n",
              "      border-right-color: var(--fill-color);\n",
              "      border-bottom-color: var(--fill-color);\n",
              "    }\n",
              "    90% {\n",
              "      border-color: transparent;\n",
              "      border-bottom-color: var(--fill-color);\n",
              "    }\n",
              "  }\n",
              "</style>\n",
              "\n",
              "      <script>\n",
              "        async function quickchart(key) {\n",
              "          const quickchartButtonEl =\n",
              "            document.querySelector('#' + key + ' button');\n",
              "          quickchartButtonEl.disabled = true;  // To prevent multiple clicks.\n",
              "          quickchartButtonEl.classList.add('colab-df-spinner');\n",
              "          try {\n",
              "            const charts = await google.colab.kernel.invokeFunction(\n",
              "                'suggestCharts', [key], {});\n",
              "          } catch (error) {\n",
              "            console.error('Error during call to suggestCharts:', error);\n",
              "          }\n",
              "          quickchartButtonEl.classList.remove('colab-df-spinner');\n",
              "          quickchartButtonEl.classList.add('colab-df-quickchart-complete');\n",
              "        }\n",
              "        (() => {\n",
              "          let quickchartButtonEl =\n",
              "            document.querySelector('#df-70434c17-a8e3-41de-89fe-64ce5f0538f5 button');\n",
              "          quickchartButtonEl.style.display =\n",
              "            google.colab.kernel.accessAllowed ? 'block' : 'none';\n",
              "        })();\n",
              "      </script>\n",
              "    </div>\n",
              "\n",
              "    </div>\n",
              "  </div>\n"
            ],
            "application/vnd.google.colaboratory.intrinsic+json": {
              "type": "dataframe",
              "variable_name": "df",
              "summary": "{\n  \"name\": \"df\",\n  \"rows\": 5171,\n  \"fields\": [\n    {\n      \"column\": \"Unnamed: 0\",\n      \"properties\": {\n        \"dtype\": \"number\",\n        \"std\": 1492,\n        \"min\": 0,\n        \"max\": 5170,\n        \"num_unique_values\": 5171,\n        \"samples\": [\n          2924,\n          3839,\n          3078\n        ],\n        \"semantic_type\": \"\",\n        \"description\": \"\"\n      }\n    },\n    {\n      \"column\": \"label\",\n      \"properties\": {\n        \"dtype\": \"category\",\n        \"num_unique_values\": 2,\n        \"samples\": [\n          \"spam\",\n          \"ham\"\n        ],\n        \"semantic_type\": \"\",\n        \"description\": \"\"\n      }\n    },\n    {\n      \"column\": \"text\",\n      \"properties\": {\n        \"dtype\": \"string\",\n        \"num_unique_values\": 4993,\n        \"samples\": [\n          \"Subject: hpl / conoco - teco waha 03 / 23 / 01 purchase\\r\\ndaren , conoco invoiced hpl at $ 5 . 87 for 03 / 23 at pgev / waha and deal ticket 685350 shows $ 4 . 87 . can you confirm the price ? thanks .\",\n          \"Subject: holiday on - call data\\r\\npipeline contact phone fax pager\\r\\nblack marlin blair lichentwalter 713 853 - 7367 713 646 - 3201 ( h )\\r\\n281 370 - 1866\\r\\ndebbie thompson 713 853 - 3144 713 646 - 3201\\r\\n( noms due today for 23 rd through 27 th )\\r\\nchannel jim tobacco 713 420 - 2159\\r\\ngas control 1 505 599 - 2333\\r\\n( open thursday . noms will be due through monday )\\r\\ncentana william spekels 713 627 - 6290 713 762 - 3450\\r\\ndonna spencer 713 627 - 6255\\r\\ngas control 1 888 204 - 1718\\r\\n( noms due today for 23 rd through 27 th )\\r\\nduke energy annette anderson 713 260 - 8603 713 949 - 3026\\r\\n( on call ) bob moseman 713 - 260 - 8698 ( thursday )\\r\\nopen tomorrow - noms will be due thru the 27 th )\\r\\nlonestar gary gafford 214 670 - 2674 214 875 - 3810\\r\\ngas control 214 875 - 2455 or 2456\\r\\n( noms due today , 23 rd thru 27 th )\\r\\nnorthern natural ben markey 853 - 7581 cell 713 446 - 9404 800 931 - 0398\\r\\n( on call ) charlie mosey 853 - 1520\\r\\ngas control 853 -\\r\\n( open thursday - noms due thru 27 th . )\\r\\neast trans - east texas\\r\\ntejas gas control 713 767 - 5366\\r\\npaula svehla 713 230 - 3569\\r\\nmickey chapman 713 230 - 3546\\r\\n( open thursday - noms due thru 27 th )\\r\\nmidcon ( y 2 k ) ken nachlinger 713 369 - 9284 713 369 - 9375 888 733 - 5954\\r\\n( on call ) steven 888 790 - 0255\\r\\n( y 2 k ) don 888 733 - 4602\\r\\ngas control 713 369 - 9200\\r\\n( noms due today , 23 rd thru 27 th )\\r\\nmoss bluff no current business\"\n        ],\n        \"semantic_type\": \"\",\n        \"description\": \"\"\n      }\n    },\n    {\n      \"column\": \"label_num\",\n      \"properties\": {\n        \"dtype\": \"number\",\n        \"std\": 0,\n        \"min\": 0,\n        \"max\": 1,\n        \"num_unique_values\": 2,\n        \"samples\": [\n          1,\n          0\n        ],\n        \"semantic_type\": \"\",\n        \"description\": \"\"\n      }\n    }\n  ]\n}"
            }
          },
          "metadata": {},
          "execution_count": 30
        }
      ]
    },
    {
      "cell_type": "code",
      "source": [
        "df['text'][0]"
      ],
      "metadata": {
        "colab": {
          "base_uri": "https://localhost:8080/",
          "height": 104
        },
        "id": "Pb3vSJo9KhUy",
        "outputId": "ad0ef457-32d6-4f5c-a864-b661e0cf8934"
      },
      "execution_count": 35,
      "outputs": [
        {
          "output_type": "execute_result",
          "data": {
            "text/plain": [
              "\"Subject: enron methanol ; meter # : 988291\\r\\nthis is a follow up to the note i gave you on monday , 4 / 3 / 00 { preliminary\\r\\nflow data provided by daren } .\\r\\nplease override pop ' s daily volume { presently zero } to reflect daily\\r\\nactivity you can obtain from gas control .\\r\\nthis change is needed asap for economics purposes .\""
            ],
            "application/vnd.google.colaboratory.intrinsic+json": {
              "type": "string"
            }
          },
          "metadata": {},
          "execution_count": 35
        }
      ]
    },
    {
      "cell_type": "code",
      "source": [
        "import re\n",
        "import nltk\n",
        "from nltk.corpus import stopwords\n",
        "nltk.download('stopwords')\n",
        "\n",
        "def clean_text(text):\n",
        "    text = re.sub(r'\\W', ' ', str(text))\n",
        "    text = text.lower()\n",
        "    text = re.sub(r'\\s+', ' ', text).strip()\n",
        "    return text\n",
        "\n",
        "df['cleaned'] = df['text'].apply(clean_text)\n"
      ],
      "metadata": {
        "colab": {
          "base_uri": "https://localhost:8080/"
        },
        "id": "6Z3q0UiBIfmY",
        "outputId": "c91e5126-3eab-4b51-b5f5-64925925364a"
      },
      "execution_count": 31,
      "outputs": [
        {
          "output_type": "stream",
          "name": "stderr",
          "text": [
            "[nltk_data] Downloading package stopwords to /root/nltk_data...\n",
            "[nltk_data]   Package stopwords is already up-to-date!\n"
          ]
        }
      ]
    },
    {
      "cell_type": "code",
      "source": [
        "df['cleaned'][0]"
      ],
      "metadata": {
        "colab": {
          "base_uri": "https://localhost:8080/",
          "height": 87
        },
        "id": "n_ryaj6rMN40",
        "outputId": "05fd27e1-2940-470b-b790-c9ddcb523d24"
      },
      "execution_count": 36,
      "outputs": [
        {
          "output_type": "execute_result",
          "data": {
            "text/plain": [
              "'subject enron methanol meter 988291 this is a follow up to the note i gave you on monday 4 3 00 preliminary flow data provided by daren please override pop s daily volume presently zero to reflect daily activity you can obtain from gas control this change is needed asap for economics purposes'"
            ],
            "application/vnd.google.colaboratory.intrinsic+json": {
              "type": "string"
            }
          },
          "metadata": {},
          "execution_count": 36
        }
      ]
    },
    {
      "cell_type": "code",
      "source": [
        "from sklearn.feature_extraction.text import TfidfVectorizer\n",
        "from sklearn.model_selection import train_test_split\n",
        "\n",
        "vectorizer = TfidfVectorizer(\n",
        "    max_features=5000,\n",
        "    min_df=5,\n",
        "    max_df=0.7,\n",
        "    stop_words=stopwords.words('english')\n",
        ")\n",
        "\n",
        "X = vectorizer.fit_transform(df['cleaned'])\n",
        "y = df['label_num']\n",
        "\n",
        "X_train, X_test, y_train, y_test = train_test_split(\n",
        "    X, y, test_size=0.3, random_state=42, stratify=y\n",
        ")\n",
        "\n",
        "print(\"Shape train/test:\", X_train.shape, X_test.shape)\n"
      ],
      "metadata": {
        "colab": {
          "base_uri": "https://localhost:8080/"
        },
        "id": "1FZlK3j2Ik63",
        "outputId": "fbe4f632-25c6-440a-d4c3-884bf2576f3f"
      },
      "execution_count": 32,
      "outputs": [
        {
          "output_type": "stream",
          "name": "stdout",
          "text": [
            "Shape train/test: (3619, 5000) (1552, 5000)\n"
          ]
        }
      ]
    },
    {
      "cell_type": "markdown",
      "source": [
        "### Modelos"
      ],
      "metadata": {
        "id": "t8HM4u6_ItQ_"
      }
    },
    {
      "cell_type": "code",
      "source": [
        "# Naive Bayes\n",
        "\n",
        "from sklearn.naive_bayes import MultinomialNB\n",
        "from sklearn.metrics import confusion_matrix, accuracy_score, classification_report\n",
        "\n",
        "model = MultinomialNB()\n",
        "model.fit(X_train, y_train)\n",
        "\n",
        "y_pred = model.predict(X_test)\n",
        "\n",
        "print(\"Accuracy:\", accuracy_score(y_test, y_pred))\n",
        "print(\"\\nMatriz de confusión:\")\n",
        "print(confusion_matrix(y_test, y_pred))\n",
        "\n",
        "print(\"\\nReporte de clasificación:\")\n",
        "print(classification_report(y_test, y_pred, digits=3))\n"
      ],
      "metadata": {
        "colab": {
          "base_uri": "https://localhost:8080/"
        },
        "id": "xQoFgkWcIpse",
        "outputId": "86bd021e-7f45-4bf2-92df-b514c5aac9ad"
      },
      "execution_count": 33,
      "outputs": [
        {
          "output_type": "stream",
          "name": "stdout",
          "text": [
            "Accuracy: 0.9497422680412371\n",
            "\n",
            "Matriz de confusión:\n",
            "[[1050   52]\n",
            " [  26  424]]\n",
            "\n",
            "Reporte de clasificación:\n",
            "              precision    recall  f1-score   support\n",
            "\n",
            "           0      0.976     0.953     0.964      1102\n",
            "           1      0.891     0.942     0.916       450\n",
            "\n",
            "    accuracy                          0.950      1552\n",
            "   macro avg      0.933     0.948     0.940      1552\n",
            "weighted avg      0.951     0.950     0.950      1552\n",
            "\n"
          ]
        }
      ]
    },
    {
      "cell_type": "code",
      "source": [
        "# Regresión Logística\n",
        "\n",
        "from sklearn.linear_model import LogisticRegression\n",
        "\n",
        "model_lr = LogisticRegression(max_iter=1000)\n",
        "model_lr.fit(X_train, y_train)\n",
        "y_pred_lr = model_lr.predict(X_test)\n",
        "\n",
        "print(\"Accuracy LR:\", accuracy_score(y_test, y_pred_lr))\n",
        "print(classification_report(y_test, y_pred_lr, digits=3))\n"
      ],
      "metadata": {
        "colab": {
          "base_uri": "https://localhost:8080/"
        },
        "id": "XM6oWV8GI50l",
        "outputId": "0b3bc9b3-b0f7-462e-e8b6-ba36f61e8e6e"
      },
      "execution_count": 34,
      "outputs": [
        {
          "output_type": "stream",
          "name": "stdout",
          "text": [
            "Accuracy LR: 0.9858247422680413\n",
            "              precision    recall  f1-score   support\n",
            "\n",
            "           0      0.994     0.986     0.990      1102\n",
            "           1      0.967     0.984     0.976       450\n",
            "\n",
            "    accuracy                          0.986      1552\n",
            "   macro avg      0.980     0.985     0.983      1552\n",
            "weighted avg      0.986     0.986     0.986      1552\n",
            "\n"
          ]
        }
      ]
    },
    {
      "cell_type": "code",
      "source": [],
      "metadata": {
        "id": "qGILkt3ZI_Gs"
      },
      "execution_count": null,
      "outputs": []
    }
  ]
}