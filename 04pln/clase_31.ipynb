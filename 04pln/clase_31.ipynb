{
  "nbformat": 4,
  "nbformat_minor": 0,
  "metadata": {
    "colab": {
      "provenance": [],
      "gpuType": "T4",
      "authorship_tag": "ABX9TyOiXSW3+IGRDWj36sISDj9V",
      "include_colab_link": true
    },
    "kernelspec": {
      "name": "python3",
      "display_name": "Python 3"
    },
    "language_info": {
      "name": "python"
    },
    "accelerator": "GPU"
  },
  "cells": [
    {
      "cell_type": "markdown",
      "metadata": {
        "id": "view-in-github",
        "colab_type": "text"
      },
      "source": [
        "<a href=\"https://colab.research.google.com/github/davidlealo/sic_ai_2025_jun/blob/main/04pln/clase_31.ipynb\" target=\"_parent\"><img src=\"https://colab.research.google.com/assets/colab-badge.svg\" alt=\"Open In Colab\"/></a>"
      ]
    },
    {
      "cell_type": "code",
      "execution_count": 1,
      "metadata": {
        "id": "gzZKMWmvM0AB"
      },
      "outputs": [],
      "source": [
        "# Revisión proyectos 04pln\n",
        "\n",
        "# Ensayo con https://www.kaggle.com/datasets/rmisra/news-headlines-dataset-for-sarcasm-detection"
      ]
    },
    {
      "cell_type": "code",
      "source": [
        "import pandas as pd\n",
        "import numpy as np\n",
        "import re\n",
        "import nltk\n",
        "import gensim\n",
        "import pyLDAvis.gensim\n",
        "from gensim import corpora\n",
        "from gensim.models import Word2Vec\n",
        "from nltk.corpus import stopwords\n",
        "from nltk.stem import WordNetLemmatizer\n",
        "from sklearn.model_selection import train_test_split\n",
        "from sklearn.linear_model import LogisticRegression\n",
        "from sklearn.metrics import classification_report, confusion_matrix\n",
        "from sklearn.feature_extraction.text import TfidfVectorizer"
      ],
      "metadata": {
        "id": "HhklfMbUpAHG"
      },
      "execution_count": 2,
      "outputs": []
    },
    {
      "cell_type": "code",
      "source": [
        "!pip install gensim pyLDAvis nltk scikit-learn\n"
      ],
      "metadata": {
        "colab": {
          "base_uri": "https://localhost:8080/"
        },
        "id": "uXRGoNy9nyAj",
        "outputId": "7196c4c8-4f03-4eee-f3cf-2bc490394cf1"
      },
      "execution_count": 3,
      "outputs": [
        {
          "output_type": "stream",
          "name": "stdout",
          "text": [
            "Requirement already satisfied: gensim in /usr/local/lib/python3.11/dist-packages (4.3.3)\n",
            "Requirement already satisfied: pyLDAvis in /usr/local/lib/python3.11/dist-packages (3.4.1)\n",
            "Requirement already satisfied: nltk in /usr/local/lib/python3.11/dist-packages (3.9.1)\n",
            "Requirement already satisfied: scikit-learn in /usr/local/lib/python3.11/dist-packages (1.6.1)\n",
            "Requirement already satisfied: numpy<2.0,>=1.18.5 in /usr/local/lib/python3.11/dist-packages (from gensim) (1.26.4)\n",
            "Requirement already satisfied: scipy<1.14.0,>=1.7.0 in /usr/local/lib/python3.11/dist-packages (from gensim) (1.13.1)\n",
            "Requirement already satisfied: smart-open>=1.8.1 in /usr/local/lib/python3.11/dist-packages (from gensim) (7.3.0.post1)\n",
            "Requirement already satisfied: pandas>=2.0.0 in /usr/local/lib/python3.11/dist-packages (from pyLDAvis) (2.2.2)\n",
            "Requirement already satisfied: joblib>=1.2.0 in /usr/local/lib/python3.11/dist-packages (from pyLDAvis) (1.5.1)\n",
            "Requirement already satisfied: jinja2 in /usr/local/lib/python3.11/dist-packages (from pyLDAvis) (3.1.6)\n",
            "Requirement already satisfied: numexpr in /usr/local/lib/python3.11/dist-packages (from pyLDAvis) (2.11.0)\n",
            "Requirement already satisfied: funcy in /usr/local/lib/python3.11/dist-packages (from pyLDAvis) (2.0)\n",
            "Requirement already satisfied: setuptools in /usr/local/lib/python3.11/dist-packages (from pyLDAvis) (75.2.0)\n",
            "Requirement already satisfied: click in /usr/local/lib/python3.11/dist-packages (from nltk) (8.2.1)\n",
            "Requirement already satisfied: regex>=2021.8.3 in /usr/local/lib/python3.11/dist-packages (from nltk) (2024.11.6)\n",
            "Requirement already satisfied: tqdm in /usr/local/lib/python3.11/dist-packages (from nltk) (4.67.1)\n",
            "Requirement already satisfied: threadpoolctl>=3.1.0 in /usr/local/lib/python3.11/dist-packages (from scikit-learn) (3.6.0)\n",
            "Requirement already satisfied: python-dateutil>=2.8.2 in /usr/local/lib/python3.11/dist-packages (from pandas>=2.0.0->pyLDAvis) (2.9.0.post0)\n",
            "Requirement already satisfied: pytz>=2020.1 in /usr/local/lib/python3.11/dist-packages (from pandas>=2.0.0->pyLDAvis) (2025.2)\n",
            "Requirement already satisfied: tzdata>=2022.7 in /usr/local/lib/python3.11/dist-packages (from pandas>=2.0.0->pyLDAvis) (2025.2)\n",
            "Requirement already satisfied: wrapt in /usr/local/lib/python3.11/dist-packages (from smart-open>=1.8.1->gensim) (1.17.2)\n",
            "Requirement already satisfied: MarkupSafe>=2.0 in /usr/local/lib/python3.11/dist-packages (from jinja2->pyLDAvis) (3.0.2)\n",
            "Requirement already satisfied: six>=1.5 in /usr/local/lib/python3.11/dist-packages (from python-dateutil>=2.8.2->pandas>=2.0.0->pyLDAvis) (1.17.0)\n"
          ]
        }
      ]
    },
    {
      "cell_type": "code",
      "source": [
        "nltk.download('punkt')\n",
        "nltk.download('stopwords')\n",
        "nltk.download('wordnet')\n",
        "\n",
        "# Cargar dataset JSON\n",
        "df = pd.read_json(\"/content/Sarcasm_Headlines_Dataset.json\", lines=True)\n",
        "df = df[['headline', 'is_sarcastic']]\n",
        "\n",
        "print(df.head())\n",
        "print(df['is_sarcastic'].value_counts())\n"
      ],
      "metadata": {
        "colab": {
          "base_uri": "https://localhost:8080/"
        },
        "id": "WlFZhMG9n1Te",
        "outputId": "ad1efba5-2e27-4516-a427-5318ee605274"
      },
      "execution_count": 4,
      "outputs": [
        {
          "output_type": "stream",
          "name": "stderr",
          "text": [
            "[nltk_data] Downloading package punkt to /root/nltk_data...\n",
            "[nltk_data]   Unzipping tokenizers/punkt.zip.\n",
            "[nltk_data] Downloading package stopwords to /root/nltk_data...\n",
            "[nltk_data]   Unzipping corpora/stopwords.zip.\n",
            "[nltk_data] Downloading package wordnet to /root/nltk_data...\n"
          ]
        },
        {
          "output_type": "stream",
          "name": "stdout",
          "text": [
            "                                            headline  is_sarcastic\n",
            "0  former versace store clerk sues over secret 'b...             0\n",
            "1  the 'roseanne' revival catches up to our thorn...             0\n",
            "2  mom starting to fear son's web series closest ...             1\n",
            "3  boehner just wants wife to listen, not come up...             1\n",
            "4  j.k. rowling wishes snape happy birthday in th...             0\n",
            "is_sarcastic\n",
            "0    14985\n",
            "1    11724\n",
            "Name: count, dtype: int64\n"
          ]
        }
      ]
    },
    {
      "cell_type": "code",
      "source": [
        "nltk.download('punkt_tab')\n"
      ],
      "metadata": {
        "colab": {
          "base_uri": "https://localhost:8080/"
        },
        "id": "Gj_4fPXUpLsD",
        "outputId": "7041b2e4-f922-4001-ef12-1c438fdb16e0"
      },
      "execution_count": 6,
      "outputs": [
        {
          "output_type": "stream",
          "name": "stderr",
          "text": [
            "[nltk_data] Downloading package punkt_tab to /root/nltk_data...\n",
            "[nltk_data]   Unzipping tokenizers/punkt_tab.zip.\n"
          ]
        },
        {
          "output_type": "execute_result",
          "data": {
            "text/plain": [
              "True"
            ]
          },
          "metadata": {},
          "execution_count": 6
        }
      ]
    },
    {
      "cell_type": "code",
      "source": [
        "stop_words = set(stopwords.words('english'))\n",
        "lemmatizer = WordNetLemmatizer()\n",
        "\n",
        "def clean_text(text):\n",
        "    text = text.lower()\n",
        "    text = re.sub(r'[^a-z\\s]', '', text)\n",
        "    tokens = nltk.word_tokenize(text)\n",
        "    tokens = [lemmatizer.lemmatize(w) for w in tokens if w not in stop_words]\n",
        "    return tokens\n",
        "\n",
        "df['tokens'] = df['headline'].apply(clean_text)\n",
        "print(df['tokens'].head())\n"
      ],
      "metadata": {
        "colab": {
          "base_uri": "https://localhost:8080/"
        },
        "id": "RQ1YdC2mn5xe",
        "outputId": "3e62b13d-b169-4904-e75d-b15eea3338c9"
      },
      "execution_count": 7,
      "outputs": [
        {
          "output_type": "stream",
          "name": "stdout",
          "text": [
            "0    [former, versace, store, clerk, sue, secret, b...\n",
            "1    [roseanne, revival, catch, thorny, political, ...\n",
            "2    [mom, starting, fear, son, web, series, closes...\n",
            "3    [boehner, want, wife, listen, come, alternativ...\n",
            "4    [jk, rowling, wish, snape, happy, birthday, ma...\n",
            "Name: tokens, dtype: object\n"
          ]
        }
      ]
    },
    {
      "cell_type": "code",
      "source": [
        "import matplotlib.pyplot as plt\n",
        "\n",
        "df['is_sarcastic'].value_counts().plot(kind='bar', color=['skyblue', 'salmon'])\n",
        "plt.xticks([0,1], ['No Sarcástico', 'Sarcástico'], rotation=0)\n",
        "plt.title(\"Distribución de Clases\")\n",
        "plt.show()\n"
      ],
      "metadata": {
        "colab": {
          "base_uri": "https://localhost:8080/",
          "height": 472
        },
        "id": "G3i6XSK6n-I9",
        "outputId": "aa550f43-d47a-4365-8f7d-057400e980b1"
      },
      "execution_count": 8,
      "outputs": [
        {
          "output_type": "display_data",
          "data": {
            "text/plain": [
              "<Figure size 640x480 with 1 Axes>"
            ],
            "image/png": "[encoded data removed]"
          },
          "metadata": {}
        }
      ]
    },
    {
      "cell_type": "code",
      "source": [
        "# Diccionario y corpus\n",
        "dictionary = corpora.Dictionary(df['tokens'])\n",
        "corpus = [dictionary.doc2bow(text) for text in df['tokens']]\n",
        "\n",
        "# Entrenar LDA\n",
        "lda_model = gensim.models.LdaModel(corpus=corpus,\n",
        "                                   id2word=dictionary,\n",
        "                                   num_topics=5,\n",
        "                                   random_state=42,\n",
        "                                   passes=10)\n",
        "\n",
        "# Mostrar tópicos\n",
        "for idx, topic in lda_model.print_topics(-1):\n",
        "    print(f\"Tema {idx}: {topic}\")\n",
        "\n",
        "# Visualización\n",
        "pyLDAvis.enable_notebook()\n",
        "vis = pyLDAvis.gensim.prepare(lda_model, corpus, dictionary)\n",
        "vis\n"
      ],
      "metadata": {
        "colab": {
          "base_uri": "https://localhost:8080/",
          "height": 968
        },
        "id": "gUwuahuyoA4a",
        "outputId": "07423134-3a5f-41bd-cf03-5b95cc44f59c"
      },
      "execution_count": 9,
      "outputs": [
        {
          "output_type": "stream",
          "name": "stdout",
          "text": [
            "Tema 0: 0.011*\"house\" + 0.009*\"white\" + 0.005*\"u\" + 0.005*\"new\" + 0.004*\"congress\" + 0.004*\"medium\" + 0.004*\"gun\" + 0.004*\"cant\" + 0.004*\"state\" + 0.003*\"pope\"\n",
            "Tema 1: 0.019*\"man\" + 0.011*\"area\" + 0.011*\"new\" + 0.009*\"woman\" + 0.008*\"school\" + 0.008*\"like\" + 0.006*\"year\" + 0.006*\"yearold\" + 0.005*\"first\" + 0.005*\"look\"\n",
            "Tema 2: 0.008*\"new\" + 0.006*\"man\" + 0.005*\"make\" + 0.005*\"best\" + 0.005*\"week\" + 0.005*\"one\" + 0.005*\"need\" + 0.004*\"dad\" + 0.004*\"know\" + 0.004*\"get\"\n",
            "Tema 3: 0.032*\"trump\" + 0.011*\"donald\" + 0.007*\"clinton\" + 0.006*\"american\" + 0.006*\"say\" + 0.006*\"new\" + 0.005*\"report\" + 0.004*\"change\" + 0.004*\"court\" + 0.004*\"gop\"\n",
            "Tema 4: 0.007*\"new\" + 0.005*\"man\" + 0.005*\"u\" + 0.005*\"trump\" + 0.004*\"people\" + 0.004*\"death\" + 0.004*\"obama\" + 0.004*\"police\" + 0.004*\"last\" + 0.004*\"finally\"\n"
          ]
        },
        {
          "output_type": "execute_result",
          "data": {
            "text/plain": [
              "PreparedData(topic_coordinates=              x         y  topics  cluster       Freq\n",
              "topic                                                \n",
              "3      0.082054  0.040786       1        1  22.240450\n",
              "1      0.097555  0.091073       2        1  21.814433\n",
              "2      0.112634  0.076281       3        1  20.053573\n",
              "4     -0.004354 -0.284778       4        1  18.645940\n",
              "0     -0.287889  0.076638       5        1  17.245605, topic_info=       Term         Freq        Total Category  logprob  loglift\n",
              "70    trump  1473.000000  1473.000000  Default  30.0000  30.0000\n",
              "430    area   448.000000   448.000000  Default  29.0000  29.0000\n",
              "337  donald   437.000000   437.000000  Default  28.0000  28.0000\n",
              "166   house   352.000000   352.000000  Default  27.0000  27.0000\n",
              "74      man  1220.000000  1220.000000  Default  26.0000  26.0000\n",
              "..      ...          ...          ...      ...      ...      ...\n",
              "45    world    81.372714   330.836958   Topic5  -5.9795   0.3550\n",
              "340     say    84.144726   625.422972   Topic5  -5.9461  -0.2483\n",
              "268    life    76.016289   361.171342   Topic5  -6.0476   0.1992\n",
              "120    year    72.878973   484.418380   Topic5  -6.0898  -0.1365\n",
              "74      man    77.470214  1220.670258   Topic5  -6.0287  -0.9996\n",
              "\n",
              "[293 rows x 6 columns], token_table=      Topic      Freq            Term\n",
              "term                                 \n",
              "685       4  0.978309         accused\n",
              "3700      4  0.987714        activist\n",
              "2873      2  0.986775              ad\n",
              "2360      4  0.994322  administration\n",
              "889       3  0.992949          always\n",
              "...     ...       ...             ...\n",
              "120       5  0.150696            year\n",
              "515       2  0.997234         yearold\n",
              "1218      2  0.240521            york\n",
              "1218      3  0.721563            york\n",
              "1218      4  0.042950            york\n",
              "\n",
              "[398 rows x 3 columns], R=30, lambda_step=0.01, plot_opts={'xlab': 'PC1', 'ylab': 'PC2'}, topic_order=[4, 2, 3, 5, 1])"
            ],
            "text/html": [
              "\n",
              "<link rel=\"stylesheet\" type=\"text/css\" href=\"https://cdn.jsdelivr.net/gh/bmabey/pyLDAvis@3.4.0/pyLDAvis/js/ldavis.v1.0.0.css\">\n",
              "\n",
              "\n",
              "<div id=\"ldavis_el11091354045606184804334266230\" style=\"background-color:white;\"></div>\n",
              "<script type=\"text/javascript\">\n",
              "\n",
              "var ldavis_el11091354045606184804334266230_data = {\"mdsDat\": {\"x\": [0.08205418585078234, 0.09755510913465108, 0.11263404624590805, -0.0043543616310352815, -0.2878889796003062], \"y\": [0.040786329138963386, 0.09107260459827395, 0.07628141564849195, -0.284778221391705, 0.07663787200597579], \"topics\": [1, 2, 3, 4, 5], \"cluster\": [1, 1, 1, 1, 1], \"Freq\": [22.24044979741982, 21.814433050266114, 20.053572995342776, 18.64593959926758, 17.24560455770371]}, \"tinfo\": {\"Term\": [\"trump\", \"area\", \"donald\", \"house\", \"man\", \"white\", \"school\", \"clinton\", \"yearold\", \"like\", \"best\", \"week\", \"student\", \"court\", \"woman\", \"need\", \"dont\", \"dad\", \"look\", \"change\", \"tell\", \"hillary\", \"mom\", \"first\", \"congress\", \"medium\", \"finally\", \"shooting\", \"fight\", \"gop\", \"donald\", \"clinton\", \"court\", \"hillary\", \"climate\", \"couple\", \"supreme\", \"north\", \"tv\", \"coming\", \"poll\", \"sander\", \"email\", \"democrat\", \"set\", \"wedding\", \"bernie\", \"mike\", \"morning\", \"ready\", \"well\", \"judge\", \"eating\", \"south\", \"early\", \"korea\", \"mind\", \"earth\", \"immigration\", \"iran\", \"trump\", \"republican\", \"change\", \"voter\", \"gop\", \"plan\", \"campaign\", \"election\", \"american\", \"vote\", \"gay\", \"say\", \"health\", \"could\", \"report\", \"new\", \"president\", \"u\", \"woman\", \"find\", \"first\", \"people\", \"may\", \"day\", \"area\", \"school\", \"yearold\", \"student\", \"tell\", \"high\", \"business\", \"college\", \"teacher\", \"introduces\", \"without\", \"making\", \"demand\", \"killed\", \"ad\", \"im\", \"town\", \"shes\", \"small\", \"phone\", \"art\", \"red\", \"st\", \"taylor\", \"apartment\", \"grandma\", \"rock\", \"style\", \"average\", \"believe\", \"dont\", \"going\", \"like\", \"man\", \"see\", \"look\", \"girl\", \"woman\", \"bad\", \"friend\", \"kid\", \"first\", \"year\", \"mom\", \"new\", \"home\", \"child\", \"parent\", \"time\", \"take\", \"get\", \"make\", \"thing\", \"one\", \"day\", \"report\", \"best\", \"week\", \"around\", \"something\", \"tweet\", \"car\", \"super\", \"gift\", \"ted\", \"talking\", \"cover\", \"cruz\", \"online\", \"warns\", \"series\", \"valentine\", \"robert\", \"working\", \"conversation\", \"romney\", \"play\", \"train\", \"attempt\", \"democratic\", \"center\", \"whole\", \"nyc\", \"always\", \"coworker\", \"joe\", \"dad\", \"need\", \"paul\", \"photo\", \"food\", \"money\", \"know\", \"guy\", \"make\", \"one\", \"new\", \"york\", \"watch\", \"family\", \"nation\", \"america\", \"man\", \"want\", \"get\", \"day\", \"time\", \"way\", \"thing\", \"say\", \"report\", \"mom\", \"shooting\", \"finally\", \"fight\", \"mother\", \"protest\", \"fall\", \"found\", \"th\", \"wall\", \"washington\", \"percent\", \"administration\", \"matter\", \"chinese\", \"activist\", \"light\", \"living\", \"reporter\", \"investigation\", \"perfect\", \"stephen\", \"dance\", \"nothing\", \"whats\", \"king\", \"russian\", \"isi\", \"pull\", \"chris\", \"accused\", \"death\", \"police\", \"last\", \"dog\", \"obama\", \"people\", \"u\", \"news\", \"boy\", \"new\", \"video\", \"world\", \"man\", \"cop\", \"trump\", \"say\", \"day\", \"american\", \"report\", \"black\", \"state\", \"nation\", \"life\", \"house\", \"white\", \"congress\", \"medium\", \"pope\", \"secret\", \"pretty\", \"sexual\", \"christmas\", \"violence\", \"middle\", \"social\", \"control\", \"prison\", \"francis\", \"dy\", \"bring\", \"member\", \"israel\", \"girlfriend\", \"performance\", \"lost\", \"strike\", \"huge\", \"box\", \"assault\", \"battle\", \"cool\", \"jenner\", \"university\", \"gun\", \"cant\", \"top\", \"u\", \"state\", \"new\", \"away\", \"woman\", \"war\", \"world\", \"say\", \"life\", \"year\", \"man\"], \"Freq\": [1473.0, 448.0, 437.0, 352.0, 1220.0, 281.0, 310.0, 275.0, 228.0, 409.0, 185.0, 182.0, 168.0, 170.0, 686.0, 224.0, 174.0, 159.0, 249.0, 220.0, 152.0, 154.0, 255.0, 354.0, 124.0, 122.0, 124.0, 124.0, 124.0, 223.0, 437.01903843355655, 275.09902054236346, 169.89594575831268, 153.27876782240278, 127.6655676257128, 123.88341695425983, 120.4479936881919, 109.91993694595526, 106.47040391610626, 104.89441766533582, 103.94092212933049, 103.60543617845687, 97.45352122427408, 98.06361157169157, 97.97213471848544, 89.61353383284383, 81.87001627742245, 73.03138403740888, 72.96708369021225, 69.58295197475431, 66.97690950873533, 64.47062046509454, 64.60142309387663, 63.34844033697296, 64.12055635650188, 62.2411522387969, 62.11724997019384, 61.59932699488074, 61.17479790775705, 57.46811660595986, 1310.330052017649, 152.42410823611363, 185.78232291730512, 98.24450820781955, 162.91805431053734, 143.0446017178262, 144.38573428233533, 132.0632845077344, 241.39860787345523, 91.83756482641817, 117.62308570424807, 232.25982686646597, 119.91919141862873, 139.02084669284093, 197.7001962207794, 228.7086861537008, 114.05297745139669, 151.3311568554824, 154.52093888830515, 116.65638821951673, 121.60519712798494, 118.56000878669536, 108.93073723698718, 114.44517287038965, 447.613308383158, 309.74513596848954, 227.90380651147822, 167.94321384444302, 151.40220913307442, 126.8587012925064, 125.74491120873398, 122.41819509298057, 106.05319157021967, 105.44922710388826, 101.00024291384555, 98.15663964094362, 93.70077833233637, 93.13710089803665, 88.44876266957958, 83.9425354664714, 79.81483396286609, 71.82881792025285, 71.21827472273264, 70.29449582530476, 66.44090338492553, 65.64211090746988, 65.55034021235518, 61.27049430127827, 61.46424243428081, 57.41175349459073, 56.60041453843159, 55.972091242363675, 53.951501923734924, 53.120592544773665, 170.9081613168102, 141.4952746279428, 308.31386171693595, 752.8634421974361, 146.42389521109428, 191.04318986951455, 147.61964236073504, 366.08061567142204, 117.28432188578432, 152.71120139626765, 154.67216533913262, 204.76290878916313, 250.00127673500356, 164.1130945442882, 433.86388334254747, 143.0203656594733, 143.4440473151706, 125.94915973557784, 173.68443324156232, 136.3953418006594, 161.89780983114665, 152.44860156039132, 133.59344645205456, 141.00491523453775, 133.7080272043365, 132.01802741648353, 184.65186863130003, 182.22739115873208, 118.23434364984077, 100.35998318977366, 95.45036841390034, 87.61656838669565, 87.52904441903247, 79.81608511407053, 77.03987466947483, 76.51169177636869, 69.85106210609062, 68.73391893132944, 66.44811178241606, 66.64730696302448, 62.7919419327563, 62.64030106389883, 61.43222474494079, 60.373150775070854, 59.8896790362744, 59.64958679924075, 58.27808335232345, 57.96184413138466, 57.203652849076335, 55.82008448750403, 54.65017091735545, 53.53343266394502, 53.297428826356, 52.64943275335955, 51.91862373314623, 51.84008640707378, 156.7506454004075, 179.60161988092068, 92.90819380204918, 131.81133041636093, 102.53110180857979, 113.01525575817982, 150.13215802855805, 110.25152385757589, 193.0427272333113, 181.94077650629293, 312.87097193947477, 83.76038480573995, 111.16635874672025, 126.51305209967474, 134.84563685912286, 108.88945551353025, 215.59212674137285, 115.29411828822826, 147.65369104255743, 142.12580925801979, 135.82029561234503, 120.23988862212938, 108.9842854814789, 104.48970202814012, 98.76443632408986, 90.64709556351728, 123.77789595431128, 123.79527965670499, 123.56947775062383, 113.65085697551913, 88.94093206705895, 87.5054608992043, 86.40818249580403, 83.58429032060236, 68.52121908391878, 70.38126714330689, 68.0726839365013, 66.65285567177877, 66.66728406379816, 65.71390498540606, 65.0739628866203, 63.50840543347973, 61.8465453458394, 61.28992275775818, 61.05129156595606, 60.29761050146192, 58.56745440558168, 58.340984518388495, 57.73582601787169, 56.503174157474724, 55.76091759418111, 55.54305049403653, 55.403612473182505, 55.46095763955585, 54.535212737349035, 53.4436870682528, 138.20174570213598, 135.10976234390745, 124.64848181014769, 100.42092832870601, 135.93828563153917, 145.64380019006126, 163.94285531924095, 86.19543253581448, 77.95469124992718, 227.57292237925452, 92.57280609860551, 112.61434461145977, 170.2106880764033, 76.66161746167126, 162.10829579973895, 105.11946698687093, 98.48853589070218, 94.7169930811902, 91.8354359183555, 75.42483221512059, 76.7773036935304, 77.5328672502493, 76.2769736955248, 352.0997890883856, 280.85859434779246, 123.78392767692176, 122.18627348916942, 108.28092402145543, 106.79201273344835, 103.46218547438714, 94.66904783368888, 90.6185639069612, 86.65549516298445, 84.77160174536068, 82.98101708958707, 80.43353811778476, 79.77615317795711, 72.88921019828467, 69.68436126398407, 67.3819787983289, 62.33946022911079, 62.184403682683175, 58.65861304640734, 57.48607911925609, 56.519352419034725, 56.425882650894074, 56.29717497112535, 55.05031604707501, 54.34903255492267, 52.42957921308981, 52.13241027712527, 51.0457376348049, 49.69607057776422, 122.09089785586899, 119.37481159890972, 90.02689199965641, 168.8176417476928, 115.17449446936521, 165.94620314205125, 63.205295894498605, 104.37056049946113, 74.92385043581561, 81.3727140206669, 84.14472562541886, 76.0162893499357, 72.87897319367399, 77.47021359658133], \"Total\": [1473.0, 448.0, 437.0, 352.0, 1220.0, 281.0, 310.0, 275.0, 228.0, 409.0, 185.0, 182.0, 168.0, 170.0, 686.0, 224.0, 174.0, 159.0, 249.0, 220.0, 152.0, 154.0, 255.0, 354.0, 124.0, 122.0, 124.0, 124.0, 124.0, 223.0, 437.7448357866356, 275.8238774916871, 170.62064599176594, 154.00164800228185, 128.39226118553808, 124.61256603152525, 121.17240796428182, 110.64641575126275, 107.20133423653328, 105.62828487919896, 104.66824913298097, 104.33156200190288, 98.17997087578043, 98.79481047756902, 98.70554111443714, 90.34276414873723, 82.59632741916357, 73.76014983174561, 73.69525278151075, 70.31138441691897, 67.71411243531848, 65.1970393364224, 65.33272487991457, 64.07323585696282, 64.85445274332307, 62.96497055327153, 62.850355657714566, 62.329314084234305, 61.903770640557475, 58.19945260318912, 1473.035431793552, 166.83533060720018, 220.70581029061825, 114.68817727018906, 223.28384325368023, 192.57134513845475, 195.80128990930817, 180.17260447090533, 441.47453406625675, 111.72404290297288, 172.18413892408378, 625.4229724059417, 184.17393277917455, 259.6901232055553, 570.894766025267, 1368.9626669570287, 187.20998513064774, 525.7906227508549, 686.8483571627953, 252.92788882511255, 354.14855294417015, 379.10441297836036, 184.484279684982, 488.95324687760814, 448.3395236444173, 310.4758451147401, 228.63243652172184, 168.67178261847258, 152.13281236418453, 127.5885805619545, 126.4731049350614, 123.14747202734031, 106.78466299727187, 106.18463086010712, 101.73386294933874, 98.88766053552402, 94.43924407384759, 93.8727062932066, 89.17935948502351, 84.67213817166865, 80.55104572531484, 72.55983855610461, 71.9469709956987, 71.02530887177313, 67.16757559592027, 66.3723161642123, 66.28647201486359, 61.99966904436552, 62.19947671280478, 58.13806711150939, 57.32922172152551, 56.71421521927827, 54.68955536299264, 53.85149694341882, 174.11950958939232, 160.3541596344085, 409.00847372316355, 1220.6702583471988, 176.61362484322373, 249.24849127691837, 184.84697830172027, 686.8483571627953, 146.52056861746158, 211.2685059524751, 223.4477574389831, 354.14855294417015, 484.4183795924431, 255.3075803742948, 1368.9626669570287, 218.7431292813405, 255.37706997407952, 198.74110281607622, 457.4685777981955, 276.35607003351686, 515.4756286227584, 470.96655407191525, 330.56918208479, 480.0742349298497, 488.95324687760814, 570.894766025267, 185.3793415818161, 182.95781708013837, 118.96683794062852, 101.09644612636211, 96.1779049866387, 88.34447251427247, 88.26423060016718, 80.54293876510559, 77.76669482548375, 77.24527561968031, 70.58291830093341, 69.4613572669972, 67.1798329569637, 67.38354354980144, 63.523121889662406, 63.38577112051828, 62.168294769629114, 61.1016807465777, 60.62078464546072, 60.37814794825689, 59.00789782831245, 58.69959185976065, 57.93420887714163, 56.55148127268104, 55.38075045909996, 54.26111944656848, 54.03143344774967, 53.37633714810798, 52.64977602894087, 52.57545559812936, 159.74429457566134, 224.5215967236937, 104.18379703583679, 161.34208361633364, 121.36799329460162, 147.7196960448228, 246.59455642080448, 165.69233053079404, 470.96655407191525, 480.0742349298497, 1368.9626669570287, 116.4140257154265, 208.32709188601646, 281.56798806846416, 347.8814329598543, 217.1843135714013, 1220.6702583471988, 271.86839341100705, 515.4756286227584, 488.95324687760814, 457.4685777981955, 326.54336946629803, 330.56918208479, 625.4229724059417, 570.894766025267, 255.3075803742948, 124.51011314742735, 124.53007864140612, 124.30356171688052, 114.3819547746609, 89.66896462775466, 88.23403718984073, 87.13704346912237, 84.31097205491542, 69.24976732829148, 71.13018818691562, 68.79969081559317, 67.3825967466862, 67.39980678370782, 66.44864989981083, 65.8084919959018, 64.24242385333189, 62.57350723465062, 62.02354047388806, 61.787421687650856, 61.0273065682053, 59.29567386578529, 59.07444747119821, 58.465205664183024, 57.238102910546104, 56.49167746905013, 56.271615372052715, 56.13053892906845, 56.19339915196928, 55.26874561831309, 54.175090583540864, 209.71440532040282, 208.0731459832246, 194.71558134228795, 170.85230303651022, 314.4469825023444, 379.10441297836036, 525.7906227508549, 139.458840789081, 112.45280369234531, 1368.9626669570287, 190.29893541585176, 330.83695810829647, 1220.6702583471988, 119.396576403102, 1473.035431793552, 625.4229724059417, 488.95324687760814, 441.47453406625675, 570.894766025267, 197.80680926735016, 262.48697621221186, 347.8814329598543, 361.17134246115415, 352.8273734376283, 281.58307886518907, 124.51078267170556, 122.91633448811753, 109.0044526938264, 107.51782802355041, 104.1898522666562, 95.3920643386611, 91.34227999236134, 87.38023632249794, 85.50098724752337, 83.7069302315046, 81.16182114800726, 80.5027470184948, 73.61070806032876, 70.41101538085967, 68.11326558153851, 63.065611111017795, 62.91918051374827, 59.38726859223049, 58.22660276429168, 57.24889079609896, 57.15498803825897, 57.02782986962316, 55.77552831634623, 55.07124622934606, 53.15653122256021, 52.86654082267563, 51.766680282223234, 50.42165738543724, 158.62260040820345, 198.7442424692703, 141.0457610799943, 525.7906227508549, 262.48697621221186, 1368.9626669570287, 90.46684173740094, 686.8483571627953, 194.09415951642958, 330.83695810829647, 625.4229724059417, 361.17134246115415, 484.4183795924431, 1220.6702583471988], \"Category\": [\"Default\", \"Default\", \"Default\", \"Default\", \"Default\", \"Default\", \"Default\", \"Default\", \"Default\", \"Default\", \"Default\", \"Default\", \"Default\", \"Default\", \"Default\", \"Default\", \"Default\", \"Default\", \"Default\", \"Default\", \"Default\", \"Default\", \"Default\", \"Default\", \"Default\", \"Default\", \"Default\", \"Default\", \"Default\", \"Default\", \"Topic1\", \"Topic1\", \"Topic1\", \"Topic1\", \"Topic1\", \"Topic1\", \"Topic1\", \"Topic1\", \"Topic1\", \"Topic1\", \"Topic1\", \"Topic1\", \"Topic1\", \"Topic1\", \"Topic1\", \"Topic1\", \"Topic1\", \"Topic1\", \"Topic1\", \"Topic1\", \"Topic1\", \"Topic1\", \"Topic1\", \"Topic1\", \"Topic1\", \"Topic1\", \"Topic1\", \"Topic1\", \"Topic1\", \"Topic1\", \"Topic1\", \"Topic1\", \"Topic1\", \"Topic1\", \"Topic1\", \"Topic1\", \"Topic1\", \"Topic1\", \"Topic1\", \"Topic1\", \"Topic1\", \"Topic1\", \"Topic1\", \"Topic1\", \"Topic1\", \"Topic1\", \"Topic1\", \"Topic1\", \"Topic1\", \"Topic1\", \"Topic1\", \"Topic1\", \"Topic1\", \"Topic1\", \"Topic2\", \"Topic2\", \"Topic2\", \"Topic2\", \"Topic2\", \"Topic2\", \"Topic2\", \"Topic2\", \"Topic2\", \"Topic2\", \"Topic2\", \"Topic2\", \"Topic2\", \"Topic2\", \"Topic2\", \"Topic2\", \"Topic2\", \"Topic2\", \"Topic2\", \"Topic2\", \"Topic2\", \"Topic2\", \"Topic2\", \"Topic2\", \"Topic2\", \"Topic2\", \"Topic2\", \"Topic2\", \"Topic2\", \"Topic2\", \"Topic2\", \"Topic2\", \"Topic2\", \"Topic2\", \"Topic2\", \"Topic2\", \"Topic2\", \"Topic2\", \"Topic2\", \"Topic2\", \"Topic2\", \"Topic2\", \"Topic2\", \"Topic2\", \"Topic2\", \"Topic2\", \"Topic2\", \"Topic2\", \"Topic2\", \"Topic2\", \"Topic2\", \"Topic2\", \"Topic2\", \"Topic2\", \"Topic2\", \"Topic2\", \"Topic3\", \"Topic3\", \"Topic3\", \"Topic3\", \"Topic3\", \"Topic3\", \"Topic3\", \"Topic3\", \"Topic3\", \"Topic3\", \"Topic3\", \"Topic3\", \"Topic3\", \"Topic3\", \"Topic3\", \"Topic3\", \"Topic3\", \"Topic3\", \"Topic3\", \"Topic3\", \"Topic3\", \"Topic3\", \"Topic3\", \"Topic3\", \"Topic3\", \"Topic3\", \"Topic3\", \"Topic3\", \"Topic3\", \"Topic3\", \"Topic3\", \"Topic3\", \"Topic3\", \"Topic3\", \"Topic3\", \"Topic3\", \"Topic3\", \"Topic3\", \"Topic3\", \"Topic3\", \"Topic3\", \"Topic3\", \"Topic3\", \"Topic3\", \"Topic3\", \"Topic3\", \"Topic3\", \"Topic3\", \"Topic3\", \"Topic3\", \"Topic3\", \"Topic3\", \"Topic3\", \"Topic3\", \"Topic3\", \"Topic3\", \"Topic4\", \"Topic4\", \"Topic4\", \"Topic4\", \"Topic4\", \"Topic4\", \"Topic4\", \"Topic4\", \"Topic4\", \"Topic4\", \"Topic4\", \"Topic4\", \"Topic4\", \"Topic4\", \"Topic4\", \"Topic4\", \"Topic4\", \"Topic4\", \"Topic4\", \"Topic4\", \"Topic4\", \"Topic4\", \"Topic4\", \"Topic4\", \"Topic4\", \"Topic4\", \"Topic4\", \"Topic4\", \"Topic4\", \"Topic4\", \"Topic4\", \"Topic4\", \"Topic4\", \"Topic4\", \"Topic4\", \"Topic4\", \"Topic4\", \"Topic4\", \"Topic4\", \"Topic4\", \"Topic4\", \"Topic4\", \"Topic4\", \"Topic4\", \"Topic4\", \"Topic4\", \"Topic4\", \"Topic4\", \"Topic4\", \"Topic4\", \"Topic4\", \"Topic4\", \"Topic4\", \"Topic5\", \"Topic5\", \"Topic5\", \"Topic5\", \"Topic5\", \"Topic5\", \"Topic5\", \"Topic5\", \"Topic5\", \"Topic5\", \"Topic5\", \"Topic5\", \"Topic5\", \"Topic5\", \"Topic5\", \"Topic5\", \"Topic5\", \"Topic5\", \"Topic5\", \"Topic5\", \"Topic5\", \"Topic5\", \"Topic5\", \"Topic5\", \"Topic5\", \"Topic5\", \"Topic5\", \"Topic5\", \"Topic5\", \"Topic5\", \"Topic5\", \"Topic5\", \"Topic5\", \"Topic5\", \"Topic5\", \"Topic5\", \"Topic5\", \"Topic5\", \"Topic5\", \"Topic5\", \"Topic5\", \"Topic5\", \"Topic5\", \"Topic5\"], \"logprob\": [30.0, 29.0, 28.0, 27.0, 26.0, 25.0, 24.0, 23.0, 22.0, 21.0, 20.0, 19.0, 18.0, 17.0, 16.0, 15.0, 14.0, 13.0, 12.0, 11.0, 10.0, 9.0, 8.0, 7.0, 6.0, 5.0, 4.0, 3.0, 2.0, 1.0, -4.553, -5.0158, -5.4978, -5.6007, -5.7835, -5.8136, -5.8417, -5.9332, -5.9651, -5.98, -5.9891, -5.9924, -6.0536, -6.0473, -6.0483, -6.1374, -6.2278, -6.3421, -6.3429, -6.3904, -6.4286, -6.4667, -6.4647, -6.4843, -6.4722, -6.5019, -6.5039, -6.5123, -6.5192, -6.5817, -3.4549, -5.6063, -5.4084, -6.0455, -5.5397, -5.6698, -5.6605, -5.7497, -5.1465, -6.1129, -5.8655, -5.1851, -5.8461, -5.6983, -5.3462, -5.2005, -5.8963, -5.6135, -5.5926, -5.8737, -5.8322, -5.8575, -5.9422, -5.8928, -4.5097, -4.8779, -5.1847, -5.49, -5.5937, -5.7705, -5.7793, -5.8062, -5.9497, -5.9554, -5.9985, -6.027, -6.0735, -6.0795, -6.1312, -6.1835, -6.2339, -6.3393, -6.3479, -6.3609, -6.4173, -6.4294, -6.4308, -6.4983, -6.4951, -6.5634, -6.5776, -6.5888, -6.6255, -6.641, -5.4725, -5.6613, -4.8825, -3.9897, -5.6271, -5.3611, -5.619, -4.7108, -5.849, -5.5851, -5.5723, -5.2918, -5.0921, -5.513, -4.5409, -5.6506, -5.6477, -5.7777, -5.4564, -5.698, -5.5266, -5.5868, -5.7188, -5.6648, -5.7179, -5.7307, -5.311, -5.3242, -5.7568, -5.9207, -5.9708, -6.0565, -6.0575, -6.1497, -6.1851, -6.192, -6.2831, -6.2992, -6.333, -6.33, -6.3896, -6.392, -6.4115, -6.4289, -6.4369, -6.441, -6.4642, -6.4697, -6.4828, -6.5073, -6.5285, -6.5491, -6.5536, -6.5658, -6.5798, -6.5813, -5.4748, -5.3387, -5.9978, -5.6481, -5.8993, -5.8019, -5.5179, -5.8267, -5.2665, -5.3258, -4.7836, -6.1015, -5.8184, -5.6891, -5.6253, -5.8391, -5.1561, -5.782, -5.5346, -5.5727, -5.6181, -5.74, -5.8382, -5.8804, -5.9367, -6.0225, -5.6382, -5.638, -5.6399, -5.7235, -5.9687, -5.985, -5.9976, -6.0308, -6.2295, -6.2027, -6.2361, -6.2572, -6.2569, -6.2714, -6.2811, -6.3055, -6.332, -6.341, -6.3449, -6.3574, -6.3865, -6.3904, -6.4008, -6.4224, -6.4356, -6.4395, -6.442, -6.441, -6.4578, -6.478, -5.5279, -5.5506, -5.6312, -5.8473, -5.5445, -5.4755, -5.3571, -6.0, -6.1005, -5.0292, -5.9287, -5.7327, -5.3196, -6.1173, -5.3684, -5.8016, -5.8667, -5.9058, -5.9367, -6.1335, -6.1158, -6.106, -6.1223, -4.5147, -4.7407, -5.5601, -5.573, -5.6939, -5.7077, -5.7394, -5.8282, -5.8719, -5.9166, -5.9386, -5.96, -5.9912, -5.9994, -6.0896, -6.1346, -6.1682, -6.246, -6.2485, -6.3069, -6.327, -6.344, -6.3457, -6.3479, -6.3703, -6.3832, -6.4191, -6.4248, -6.4459, -6.4727, -5.5738, -5.5963, -5.8785, -5.2498, -5.6321, -5.2669, -6.2322, -5.7306, -6.0621, -5.9795, -5.9461, -6.0476, -6.0898, -6.0287], \"loglift\": [30.0, 29.0, 28.0, 27.0, 26.0, 25.0, 24.0, 23.0, 22.0, 21.0, 20.0, 19.0, 18.0, 17.0, 16.0, 15.0, 14.0, 13.0, 12.0, 11.0, 10.0, 9.0, 8.0, 7.0, 6.0, 5.0, 4.0, 3.0, 2.0, 1.0, 1.5016, 1.5006, 1.499, 1.4986, 1.4976, 1.4974, 1.4973, 1.4967, 1.4964, 1.4963, 1.4963, 1.4963, 1.4958, 1.4958, 1.4958, 1.4952, 1.4944, 1.4933, 1.4933, 1.4928, 1.4923, 1.4921, 1.492, 1.4919, 1.4919, 1.4917, 1.4915, 1.4915, 1.4914, 1.4906, 1.3862, 1.4129, 1.331, 1.3485, 1.1881, 1.2059, 1.1986, 1.1926, 0.8996, 1.3072, 1.1222, 0.5127, 1.0742, 0.8784, 0.4428, -0.2861, 1.0077, 0.2578, 0.0115, 0.7294, 0.4343, 0.3409, 0.9764, 0.0511, 1.521, 1.5202, 1.5194, 1.5183, 1.5178, 1.5169, 1.5168, 1.5167, 1.5157, 1.5156, 1.5154, 1.5152, 1.5147, 1.5147, 1.5144, 1.5139, 1.5134, 1.5125, 1.5124, 1.5123, 1.5117, 1.5115, 1.5114, 1.5108, 1.5107, 1.51, 1.5098, 1.5094, 1.509, 1.5089, 1.504, 1.3975, 1.24, 1.0393, 1.3351, 1.2566, 1.2977, 0.8933, 1.3, 1.198, 1.1547, 0.9747, 0.8611, 1.0807, 0.3735, 1.0977, 0.9458, 1.0665, 0.5541, 0.8165, 0.3645, 0.3946, 0.6166, 0.2975, 0.226, 0.0583, 1.6028, 1.6028, 1.6006, 1.5995, 1.5992, 1.5985, 1.5984, 1.5977, 1.5974, 1.5972, 1.5963, 1.5962, 1.5958, 1.5958, 1.5952, 1.5949, 1.5949, 1.5948, 1.5946, 1.5946, 1.5943, 1.5941, 1.5941, 1.5937, 1.5935, 1.5933, 1.5931, 1.5931, 1.5928, 1.5927, 1.5878, 1.3835, 1.4922, 1.4046, 1.4381, 1.339, 1.1105, 1.1994, 0.7149, 0.6365, 0.1307, 1.2776, 0.9787, 0.8067, 0.659, 0.9163, -0.127, 0.7489, 0.3565, 0.3712, 0.3924, 0.6077, 0.4972, -0.1826, -0.1477, 0.5713, 1.6736, 1.6736, 1.6736, 1.6731, 1.6714, 1.6713, 1.6711, 1.6709, 1.669, 1.669, 1.6689, 1.6687, 1.6686, 1.6684, 1.6683, 1.6681, 1.6679, 1.6676, 1.6676, 1.6675, 1.6672, 1.667, 1.667, 1.6666, 1.6665, 1.6665, 1.6665, 1.6664, 1.6662, 1.6659, 1.2625, 1.2477, 1.2335, 1.1481, 0.8409, 0.7229, 0.5142, 1.1984, 1.3131, -0.1148, 0.9589, 0.6019, -0.2906, 1.2365, -0.5273, -0.1038, 0.0772, 0.1403, -0.1477, 0.7154, 0.4502, 0.1784, 0.1246, 1.7555, 1.755, 1.7518, 1.7517, 1.751, 1.7508, 1.7506, 1.75, 1.7497, 1.7493, 1.749, 1.7489, 1.7486, 1.7485, 1.7478, 1.7472, 1.7468, 1.746, 1.7459, 1.7453, 1.7448, 1.7448, 1.7448, 1.7447, 1.7445, 1.7444, 1.7438, 1.7436, 1.7436, 1.7431, 1.4959, 1.2479, 1.3086, 0.6215, 0.9339, -0.3525, 1.399, -0.1266, 0.8057, 0.355, -0.2483, 0.1992, -0.1365, -0.9996]}, \"token.table\": {\"Topic\": [4, 4, 2, 4, 3, 1, 3, 5, 1, 2, 3, 4, 2, 2, 3, 2, 5, 3, 2, 1, 5, 2, 5, 5, 2, 1, 3, 1, 2, 3, 4, 5, 5, 2, 4, 5, 2, 1, 3, 2, 5, 3, 3, 1, 5, 1, 2, 3, 4, 4, 5, 1, 1, 2, 1, 5, 5, 3, 5, 3, 4, 1, 2, 3, 5, 1, 1, 3, 3, 3, 1, 3, 4, 1, 2, 3, 4, 3, 4, 5, 2, 1, 3, 2, 3, 4, 1, 2, 5, 5, 1, 1, 1, 1, 3, 1, 4, 1, 2, 3, 4, 4, 4, 1, 2, 4, 5, 1, 2, 3, 2, 3, 4, 5, 1, 2, 3, 1, 2, 4, 1, 2, 3, 4, 5, 3, 2, 4, 5, 1, 2, 1, 3, 2, 2, 5, 1, 2, 3, 1, 2, 2, 1, 2, 3, 4, 5, 5, 2, 1, 2, 4, 1, 4, 5, 5, 3, 1, 2, 3, 2, 4, 1, 2, 3, 1, 2, 4, 5, 1, 2, 3, 4, 5, 4, 2, 3, 4, 4, 1, 2, 4, 5, 1, 2, 3, 4, 2, 1, 2, 3, 4, 5, 4, 1, 2, 3, 5, 5, 5, 1, 1, 2, 3, 3, 5, 1, 4, 1, 3, 4, 5, 1, 3, 1, 2, 3, 4, 5, 1, 4, 1, 4, 3, 1, 2, 3, 4, 5, 1, 2, 3, 4, 5, 3, 2, 3, 3, 5, 1, 2, 3, 4, 4, 4, 5, 2, 2, 3, 1, 3, 4, 3, 2, 3, 4, 5, 1, 5, 1, 3, 4, 5, 5, 4, 4, 1, 2, 1, 2, 3, 4, 5, 4, 1, 3, 3, 2, 3, 4, 1, 1, 2, 3, 4, 5, 2, 5, 1, 2, 3, 1, 5, 2, 4, 2, 5, 3, 1, 2, 1, 2, 3, 4, 5, 4, 5, 2, 2, 3, 1, 1, 2, 3, 4, 5, 3, 2, 2, 3, 2, 4, 1, 2, 3, 1, 2, 3, 4, 1, 5, 2, 3, 1, 4, 1, 3, 1, 2, 4, 5, 5, 3, 2, 3, 4, 5, 5, 1, 5, 1, 3, 4, 1, 2, 3, 5, 1, 3, 4, 5, 3, 4, 1, 2, 3, 4, 1, 2, 3, 4, 5, 1, 3, 1, 4, 5, 3, 2, 1, 2, 3, 5, 3, 1, 2, 3, 4, 5, 1, 2, 3, 4, 5, 2, 2, 3, 4], \"Freq\": [0.9783093932860377, 0.9877144731419746, 0.9867754209961379, 0.9943220243036267, 0.9929493635529218, 0.34993319153786084, 0.5018778668108793, 0.14734029117383615, 0.5458978523183188, 0.1766806327005347, 0.061158680550185085, 0.21518795008398456, 0.9807156462369747, 0.9992427086471043, 0.9918730466627093, 0.9826169757422183, 0.9805479936864908, 0.9838746589407519, 0.9873914615246763, 0.29845189111799864, 0.6963877459419968, 0.7985226996044877, 0.19792442981649697, 0.9782429139757455, 0.9841880543392604, 0.9927802187119373, 0.9979537008893266, 0.12133050469239545, 0.2426610093847909, 0.11121962930136249, 0.37915782716373575, 0.14155225547446135, 0.98609554512962, 0.30234906452860977, 0.6936243245068107, 0.9836556715929906, 0.9962592447200191, 0.735439485953838, 0.26046815127531764, 0.39749579166910926, 0.5987594836534684, 0.9961008028632825, 0.9931248591623699, 0.8427508082142524, 0.15405122300690635, 0.297599154096779, 0.5599563031031499, 0.14096802036163214, 0.9932481713249661, 0.9951374757051833, 0.9962527759062948, 0.9969448222041107, 0.9970130305643611, 0.9906821308756906, 0.9940519257704743, 0.9958976832307582, 0.9856851271746533, 0.9897595412350505, 0.9836088987629781, 0.35176888035885767, 0.6449096139912391, 0.5352533176241586, 0.23874608412012832, 0.08471635242972296, 0.14247750181362498, 0.9950842354745325, 0.9963624215102556, 0.9917413686630507, 0.9876585224487242, 0.9933580729610015, 0.012520008963780044, 0.9828207036567335, 0.9818119759525121, 0.23315112585505707, 0.2740548321454179, 0.2904163146615623, 0.20042816082276835, 0.1525884688326976, 0.6580377718410084, 0.1859671963898502, 0.9953489242935477, 0.99195493696757, 0.9902481551275042, 0.25753237865688844, 0.1521782237517977, 0.5853008605838373, 0.9982984704198804, 0.9820840892743798, 0.017229545425866313, 0.9941626267049772, 0.9868250720316033, 0.9947165456724061, 0.9949072248168719, 0.732630803598755, 0.26641120130863816, 0.9879815519881, 0.9973475407303738, 0.09944312275013206, 0.3196386088397102, 0.45104559247381326, 0.12785544353588407, 0.9975579000900077, 0.9957433686127146, 0.4625824401709211, 0.40327699912336706, 0.1107034899554341, 0.023722176419021593, 0.34448820695656696, 0.578853134640133, 0.07623919334284679, 0.14830928246714803, 0.848658671895347, 0.9869510896416254, 0.9917035431879252, 0.13253276854382928, 0.7241969138287814, 0.14673270803066812, 0.685312832746031, 0.18584754786333044, 0.1277701891560397, 0.2036953721372584, 0.314272859868913, 0.2871134769172785, 0.11057748773165457, 0.08535806070513687, 0.9932590147140148, 0.8006622632392939, 0.20016556580982348, 0.9934789290463991, 0.11225153149153229, 0.8793036633503363, 0.7300125151232293, 0.26871626323554454, 0.9804247514915387, 0.22695378784206463, 0.769121169909219, 0.16295262377869704, 0.168987906140871, 0.6638810598391361, 0.6515580038347804, 0.34749760204521624, 0.9953868868251207, 0.9934958617957971, 0.6537348188709412, 0.26972275743626245, 0.07314515455898643, 0.9976550191399065, 0.9819766967816769, 0.9920618731712441, 0.9854003943345359, 0.988843669271989, 0.9872559549153638, 0.9793906549024244, 0.9798587551333312, 0.98539109209238, 0.9851896958034894, 0.9890546721548555, 0.9816396672516742, 0.6936744489025622, 0.30432169371209183, 0.9907033010161574, 0.9912964618669803, 0.06488383292896617, 0.32441916464483084, 0.6082859337090578, 0.9846744857530726, 0.3543630125763064, 0.641961979304903, 0.0051356958344392235, 0.044300303260414085, 0.30733335386912275, 0.2242702852558463, 0.2104264404869669, 0.2104264404869669, 0.9962264211281108, 0.7530406331103768, 0.14914116434978242, 0.09535254769904122, 0.9908346637419576, 0.004012060393533082, 0.7663035351648186, 0.22868744243138567, 0.9956524782814495, 0.1040413583010352, 0.3227405400358643, 0.40979555412448554, 0.16137027001793214, 0.9910235460044569, 0.004096110285156006, 0.6168742089444945, 0.17695196431873947, 0.1392677496953042, 0.0630800983914025, 0.9940681316047265, 0.5908362500378029, 0.24392322249267095, 0.1680359977171733, 0.9925450552041469, 0.9831031350962105, 0.9941405676863938, 0.9896943019573633, 0.9864701536082686, 0.6423624389043486, 0.35643281670912025, 0.7649623105487047, 0.23016565096155717, 0.9905658403320495, 0.996660707754004, 0.28170517514025895, 0.38806325146872406, 0.22421432307081834, 0.10635807632846511, 0.19597223893854793, 0.8017046138395142, 0.16727994526616863, 0.3170283678843545, 0.22864027453410823, 0.16654946515583602, 0.12125969831521395, 0.3800404456262314, 0.6166694023369038, 0.9941578247530772, 0.992043033819891, 0.9809104926163563, 0.11766689476730514, 0.022261304415436108, 0.2703158393302956, 0.432505342928473, 0.15582913090805275, 0.19996907356219168, 0.29370457679446904, 0.3791080352949884, 0.060407324305245404, 0.0645733466711244, 0.9824376914167157, 0.6339906451893143, 0.3622803686796081, 0.8926532018026774, 0.1055826367723597, 0.3138976913117406, 0.12661419481481975, 0.1767323135956859, 0.38511817589507674, 0.9883765347472765, 0.9831664442366114, 0.9789339802416928, 0.9855641758119743, 0.1797423173792715, 0.818137444622891, 0.7425819241029137, 0.12462913411517433, 0.13501489529143884, 0.9829192724125676, 0.1537920708065803, 0.10092604646681833, 0.6488102987152606, 0.09612004425411269, 0.9936155506706531, 0.9907852140990266, 0.6089418783962999, 0.25639658037738944, 0.13353988561322366, 0.9885799601326722, 0.9937549085327573, 0.9925396191365456, 0.9787626452576422, 0.9955713513607899, 0.9943904901059781, 0.3468239889087314, 0.2312159926058209, 0.1734119944543657, 0.16115054030102668, 0.08933345168861262, 0.9834975484135903, 0.9110780039623099, 0.08391507931231801, 0.9812075468056772, 0.9942573488416658, 0.9937370064980967, 0.9951731371090582, 0.9968220354843644, 0.37094895812272205, 0.15829287437133396, 0.16628746398604782, 0.16788638190899058, 0.13430910552719247, 0.9984673683243724, 0.9951837938594055, 0.1698623196632218, 0.8266632890276794, 0.9917648586199675, 0.9928520617336047, 0.9958899690306607, 0.9922844569772337, 0.9959030384397504, 0.986837931012338, 0.9915546988815684, 0.9891544543020667, 0.9832498570954226, 0.9956782733164716, 0.09143310783006929, 0.1485788002238626, 0.030477702610023097, 0.2933478876214723, 0.43811697501908203, 0.9950135676600195, 0.9797919993004665, 0.9960172199045758, 0.9874067688935331, 0.9970063682833862, 0.9903244642573463, 0.3763260925927436, 0.4921187364674339, 0.05789632193734517, 0.003618520121084073, 0.0687518823005974, 0.9968247168812248, 0.9838762196673957, 0.9926519129690757, 0.990141090254584, 0.9925537933166401, 0.996311606338581, 0.2662075134923747, 0.4053614409997524, 0.32973430648487323, 0.2120364210955488, 0.38035399248067514, 0.29728817803087254, 0.1114830667615772, 0.354494878946716, 0.6380907821040888, 0.9931590493909422, 0.9880818275290218, 0.8893200881155711, 0.10997698799597139, 0.9887936633896495, 0.9877528525205209, 0.2871865595662232, 0.07987970530981044, 0.311911230257355, 0.3214207189847134, 0.9916373755385711, 0.9939139161092669, 0.20494071558926508, 0.14188203386949122, 0.4887047833282475, 0.16290159444274918, 0.9956484859906469, 0.823457490523304, 0.17006187304285625, 0.8544908667362104, 0.13950871293652414, 0.9963932394587347, 0.2427645198911448, 0.32736427682290736, 0.4229987846588129, 0.003678250301380982, 0.11334704792154117, 0.3503454208484, 0.14941201771475882, 0.38641039064161764, 0.994308053129946, 0.9841109911877962, 0.18720560848292528, 0.10560316375959888, 0.5328159626052489, 0.1680050332539073, 0.09799617138850729, 0.1684309195739969, 0.3674856427069023, 0.1745556802857786, 0.18986758206523288, 0.9962059590276326, 0.9947648201349122, 0.9894540087784417, 0.9958401327360863, 0.9979292830111137, 0.9951877246685703, 0.9927864436868559, 0.22566844396377037, 0.5328687128434836, 0.09026737758550814, 0.15141624627246528, 0.9819697145296711, 0.048362190522748504, 0.12392811321454304, 0.24181095261374252, 0.34155797056691134, 0.24483358952141432, 0.1795968189175562, 0.5160828129814833, 0.08876624383281513, 0.06605860006162986, 0.15069618139059313, 0.997233828535691, 0.24052084641798968, 0.7215625392539691, 0.042950151146069586], \"Term\": [\"accused\", \"activist\", \"ad\", \"administration\", \"always\", \"america\", \"america\", \"america\", \"american\", \"american\", \"american\", \"american\", \"apartment\", \"area\", \"around\", \"art\", \"assault\", \"attempt\", \"average\", \"away\", \"away\", \"bad\", \"bad\", \"battle\", \"believe\", \"bernie\", \"best\", \"black\", \"black\", \"black\", \"black\", \"black\", \"box\", \"boy\", \"boy\", \"bring\", \"business\", \"campaign\", \"campaign\", \"cant\", \"cant\", \"car\", \"center\", \"change\", \"change\", \"child\", \"child\", \"child\", \"chinese\", \"chris\", \"christmas\", \"climate\", \"clinton\", \"college\", \"coming\", \"congress\", \"control\", \"conversation\", \"cool\", \"cop\", \"cop\", \"could\", \"could\", \"could\", \"could\", \"couple\", \"court\", \"cover\", \"coworker\", \"cruz\", \"dad\", \"dad\", \"dance\", \"day\", \"day\", \"day\", \"day\", \"death\", \"death\", \"death\", \"demand\", \"democrat\", \"democratic\", \"dog\", \"dog\", \"dog\", \"donald\", \"dont\", \"dont\", \"dy\", \"early\", \"earth\", \"eating\", \"election\", \"election\", \"email\", \"fall\", \"family\", \"family\", \"family\", \"family\", \"fight\", \"finally\", \"find\", \"find\", \"find\", \"find\", \"first\", \"first\", \"first\", \"food\", \"food\", \"found\", \"francis\", \"friend\", \"friend\", \"friend\", \"gay\", \"gay\", \"gay\", \"get\", \"get\", \"get\", \"get\", \"get\", \"gift\", \"girl\", \"girl\", \"girlfriend\", \"going\", \"going\", \"gop\", \"gop\", \"grandma\", \"gun\", \"gun\", \"guy\", \"guy\", \"guy\", \"health\", \"health\", \"high\", \"hillary\", \"home\", \"home\", \"home\", \"house\", \"huge\", \"im\", \"immigration\", \"introduces\", \"investigation\", \"iran\", \"isi\", \"israel\", \"jenner\", \"joe\", \"judge\", \"kid\", \"kid\", \"killed\", \"king\", \"know\", \"know\", \"know\", \"korea\", \"last\", \"last\", \"last\", \"life\", \"life\", \"life\", \"life\", \"life\", \"light\", \"like\", \"like\", \"like\", \"living\", \"look\", \"look\", \"look\", \"lost\", \"make\", \"make\", \"make\", \"make\", \"making\", \"man\", \"man\", \"man\", \"man\", \"man\", \"matter\", \"may\", \"may\", \"may\", \"medium\", \"member\", \"middle\", \"mike\", \"mind\", \"mom\", \"mom\", \"money\", \"money\", \"morning\", \"mother\", \"nation\", \"nation\", \"nation\", \"nation\", \"need\", \"need\", \"new\", \"new\", \"new\", \"new\", \"new\", \"news\", \"news\", \"north\", \"nothing\", \"nyc\", \"obama\", \"obama\", \"obama\", \"obama\", \"obama\", \"one\", \"one\", \"one\", \"one\", \"one\", \"online\", \"parent\", \"parent\", \"paul\", \"paul\", \"people\", \"people\", \"people\", \"people\", \"percent\", \"perfect\", \"performance\", \"phone\", \"photo\", \"photo\", \"plan\", \"plan\", \"plan\", \"play\", \"police\", \"police\", \"police\", \"police\", \"poll\", \"pope\", \"president\", \"president\", \"president\", \"pretty\", \"prison\", \"protest\", \"pull\", \"ready\", \"red\", \"report\", \"report\", \"report\", \"report\", \"report\", \"reporter\", \"republican\", \"republican\", \"robert\", \"rock\", \"romney\", \"russian\", \"sander\", \"say\", \"say\", \"say\", \"say\", \"say\", \"school\", \"secret\", \"see\", \"see\", \"series\", \"set\", \"sexual\", \"shes\", \"shooting\", \"small\", \"social\", \"something\", \"south\", \"st\", \"state\", \"state\", \"state\", \"state\", \"state\", \"stephen\", \"strike\", \"student\", \"style\", \"super\", \"supreme\", \"take\", \"take\", \"take\", \"take\", \"take\", \"talking\", \"taylor\", \"teacher\", \"ted\", \"tell\", \"th\", \"thing\", \"thing\", \"thing\", \"time\", \"time\", \"time\", \"time\", \"top\", \"top\", \"town\", \"train\", \"trump\", \"trump\", \"tv\", \"tweet\", \"u\", \"u\", \"u\", \"u\", \"university\", \"valentine\", \"video\", \"video\", \"video\", \"video\", \"violence\", \"vote\", \"vote\", \"voter\", \"voter\", \"wall\", \"want\", \"want\", \"want\", \"want\", \"war\", \"war\", \"war\", \"war\", \"warns\", \"washington\", \"watch\", \"watch\", \"watch\", \"watch\", \"way\", \"way\", \"way\", \"way\", \"way\", \"wedding\", \"week\", \"well\", \"whats\", \"white\", \"whole\", \"without\", \"woman\", \"woman\", \"woman\", \"woman\", \"working\", \"world\", \"world\", \"world\", \"world\", \"world\", \"year\", \"year\", \"year\", \"year\", \"year\", \"yearold\", \"york\", \"york\", \"york\"]}, \"R\": 30, \"lambda.step\": 0.01, \"plot.opts\": {\"xlab\": \"PC1\", \"ylab\": \"PC2\"}, \"topic.order\": [4, 2, 3, 5, 1]};\n",
              "\n",
              "function LDAvis_load_lib(url, callback){\n",
              "  var s = document.createElement('script');\n",
              "  s.src = url;\n",
              "  s.async = true;\n",
              "  s.onreadystatechange = s.onload = callback;\n",
              "  s.onerror = function(){console.warn(\"failed to load library \" + url);};\n",
              "  document.getElementsByTagName(\"head\")[0].appendChild(s);\n",
              "}\n",
              "\n",
              "if(typeof(LDAvis) !== \"undefined\"){\n",
              "   // already loaded: just create the visualization\n",
              "   !function(LDAvis){\n",
              "       new LDAvis(\"#\" + \"ldavis_el11091354045606184804334266230\", ldavis_el11091354045606184804334266230_data);\n",
              "   }(LDAvis);\n",
              "}else if(typeof define === \"function\" && define.amd){\n",
              "   // require.js is available: use it to load d3/LDAvis\n",
              "   require.config({paths: {d3: \"https://d3js.org/d3.v5\"}});\n",
              "   require([\"d3\"], function(d3){\n",
              "      window.d3 = d3;\n",
              "      LDAvis_load_lib(\"https://cdn.jsdelivr.net/gh/bmabey/pyLDAvis@3.4.0/pyLDAvis/js/ldavis.v3.0.0.js\", function(){\n",
              "        new LDAvis(\"#\" + \"ldavis_el11091354045606184804334266230\", ldavis_el11091354045606184804334266230_data);\n",
              "      });\n",
              "    });\n",
              "}else{\n",
              "    // require.js not available: dynamically load d3 & LDAvis\n",
              "    LDAvis_load_lib(\"https://d3js.org/d3.v5.js\", function(){\n",
              "         LDAvis_load_lib(\"https://cdn.jsdelivr.net/gh/bmabey/pyLDAvis@3.4.0/pyLDAvis/js/ldavis.v3.0.0.js\", function(){\n",
              "                 new LDAvis(\"#\" + \"ldavis_el11091354045606184804334266230\", ldavis_el11091354045606184804334266230_data);\n",
              "            })\n",
              "         });\n",
              "}\n",
              "</script>"
            ]
          },
          "metadata": {},
          "execution_count": 9
        }
      ]
    },
    {
      "cell_type": "code",
      "source": [
        "# Entrenar Word2Vec\n",
        "w2v_model = Word2Vec(sentences=df['tokens'], vector_size=100, window=5, min_count=2, workers=4)\n",
        "\n",
        "# Función para obtener vector promedio\n",
        "def vectorize(tokens):\n",
        "    vectors = [w2v_model.wv[w] for w in tokens if w in w2v_model.wv]\n",
        "    if len(vectors) == 0:\n",
        "        return np.zeros(100)\n",
        "    return np.mean(vectors, axis=0)\n",
        "\n",
        "X = np.array([vectorize(tokens) for tokens in df['tokens']])\n",
        "y = df['is_sarcastic']\n",
        "\n",
        "# Split\n",
        "X_train, X_test, y_train, y_test = train_test_split(X, y, test_size=0.2, random_state=42)\n",
        "\n",
        "# Clasificador\n",
        "clf = LogisticRegression(max_iter=1000)\n",
        "clf.fit(X_train, y_train)\n",
        "y_pred = clf.predict(X_test)\n",
        "\n",
        "print(\"=== Word2Vec Logistic Regression ===\")\n",
        "print(classification_report(y_test, y_pred))\n"
      ],
      "metadata": {
        "colab": {
          "base_uri": "https://localhost:8080/"
        },
        "id": "xHp7vvuGoBpx",
        "outputId": "88291bc5-4402-44ff-b901-dc23273a546c"
      },
      "execution_count": 10,
      "outputs": [
        {
          "output_type": "stream",
          "name": "stdout",
          "text": [
            "=== Word2Vec Logistic Regression ===\n",
            "              precision    recall  f1-score   support\n",
            "\n",
            "           0       0.61      0.92      0.73      2996\n",
            "           1       0.71      0.25      0.37      2346\n",
            "\n",
            "    accuracy                           0.63      5342\n",
            "   macro avg       0.66      0.58      0.55      5342\n",
            "weighted avg       0.65      0.63      0.57      5342\n",
            "\n"
          ]
        }
      ]
    },
    {
      "cell_type": "code",
      "source": [
        "# TF-IDF\n",
        "tfidf = TfidfVectorizer(max_features=5000)\n",
        "X_tfidf = tfidf.fit_transform(df['headline'])\n",
        "\n",
        "X_train, X_test, y_train, y_test = train_test_split(X_tfidf, y, test_size=0.2, random_state=42)\n",
        "\n",
        "clf_tfidf = LogisticRegression(max_iter=1000)\n",
        "clf_tfidf.fit(X_train, y_train)\n",
        "y_pred_tfidf = clf_tfidf.predict(X_test)\n",
        "\n",
        "print(\"=== TF-IDF Logistic Regression ===\")\n",
        "print(classification_report(y_test, y_pred_tfidf))\n"
      ],
      "metadata": {
        "colab": {
          "base_uri": "https://localhost:8080/"
        },
        "id": "ecWHljJcoG3v",
        "outputId": "6fd8e642-d9a4-40b4-e7a2-5792ef39c7be"
      },
      "execution_count": 11,
      "outputs": [
        {
          "output_type": "stream",
          "name": "stdout",
          "text": [
            "=== TF-IDF Logistic Regression ===\n",
            "              precision    recall  f1-score   support\n",
            "\n",
            "           0       0.85      0.87      0.86      2996\n",
            "           1       0.83      0.81      0.82      2346\n",
            "\n",
            "    accuracy                           0.84      5342\n",
            "   macro avg       0.84      0.84      0.84      5342\n",
            "weighted avg       0.84      0.84      0.84      5342\n",
            "\n"
          ]
        }
      ]
    },
    {
      "cell_type": "code",
      "source": [
        "!pip install gradio scikit-learn nltk\n"
      ],
      "metadata": {
        "colab": {
          "base_uri": "https://localhost:8080/"
        },
        "id": "8S4obQiooHk8",
        "outputId": "86e64736-2d4b-45cb-bdf2-fe66dee438fd"
      },
      "execution_count": 12,
      "outputs": [
        {
          "output_type": "stream",
          "name": "stdout",
          "text": [
            "Requirement already satisfied: gradio in /usr/local/lib/python3.11/dist-packages (5.38.2)\n",
            "Requirement already satisfied: scikit-learn in /usr/local/lib/python3.11/dist-packages (1.6.1)\n",
            "Requirement already satisfied: nltk in /usr/local/lib/python3.11/dist-packages (3.9.1)\n",
            "Requirement already satisfied: aiofiles<25.0,>=22.0 in /usr/local/lib/python3.11/dist-packages (from gradio) (24.1.0)\n",
            "Requirement already satisfied: anyio<5.0,>=3.0 in /usr/local/lib/python3.11/dist-packages (from gradio) (4.9.0)\n",
            "Requirement already satisfied: brotli>=1.1.0 in /usr/local/lib/python3.11/dist-packages (from gradio) (1.1.0)\n",
            "Requirement already satisfied: fastapi<1.0,>=0.115.2 in /usr/local/lib/python3.11/dist-packages (from gradio) (0.116.1)\n",
            "Requirement already satisfied: ffmpy in /usr/local/lib/python3.11/dist-packages (from gradio) (0.6.1)\n",
            "Requirement already satisfied: gradio-client==1.11.0 in /usr/local/lib/python3.11/dist-packages (from gradio) (1.11.0)\n",
            "Requirement already satisfied: groovy~=0.1 in /usr/local/lib/python3.11/dist-packages (from gradio) (0.1.2)\n",
            "Requirement already satisfied: httpx<1.0,>=0.24.1 in /usr/local/lib/python3.11/dist-packages (from gradio) (0.28.1)\n",
            "Requirement already satisfied: huggingface-hub>=0.28.1 in /usr/local/lib/python3.11/dist-packages (from gradio) (0.34.1)\n",
            "Requirement already satisfied: jinja2<4.0 in /usr/local/lib/python3.11/dist-packages (from gradio) (3.1.6)\n",
            "Requirement already satisfied: markupsafe<4.0,>=2.0 in /usr/local/lib/python3.11/dist-packages (from gradio) (3.0.2)\n",
            "Requirement already satisfied: numpy<3.0,>=1.0 in /usr/local/lib/python3.11/dist-packages (from gradio) (1.26.4)\n",
            "Requirement already satisfied: orjson~=3.0 in /usr/local/lib/python3.11/dist-packages (from gradio) (3.11.1)\n",
            "Requirement already satisfied: packaging in /usr/local/lib/python3.11/dist-packages (from gradio) (25.0)\n",
            "Requirement already satisfied: pandas<3.0,>=1.0 in /usr/local/lib/python3.11/dist-packages (from gradio) (2.2.2)\n",
            "Requirement already satisfied: pillow<12.0,>=8.0 in /usr/local/lib/python3.11/dist-packages (from gradio) (11.3.0)\n",
            "Requirement already satisfied: pydantic<2.12,>=2.0 in /usr/local/lib/python3.11/dist-packages (from gradio) (2.11.7)\n",
            "Requirement already satisfied: pydub in /usr/local/lib/python3.11/dist-packages (from gradio) (0.25.1)\n",
            "Requirement already satisfied: python-multipart>=0.0.18 in /usr/local/lib/python3.11/dist-packages (from gradio) (0.0.20)\n",
            "Requirement already satisfied: pyyaml<7.0,>=5.0 in /usr/local/lib/python3.11/dist-packages (from gradio) (6.0.2)\n",
            "Requirement already satisfied: ruff>=0.9.3 in /usr/local/lib/python3.11/dist-packages (from gradio) (0.12.5)\n",
            "Requirement already satisfied: safehttpx<0.2.0,>=0.1.6 in /usr/local/lib/python3.11/dist-packages (from gradio) (0.1.6)\n",
            "Requirement already satisfied: semantic-version~=2.0 in /usr/local/lib/python3.11/dist-packages (from gradio) (2.10.0)\n",
            "Requirement already satisfied: starlette<1.0,>=0.40.0 in /usr/local/lib/python3.11/dist-packages (from gradio) (0.47.2)\n",
            "Requirement already satisfied: tomlkit<0.14.0,>=0.12.0 in /usr/local/lib/python3.11/dist-packages (from gradio) (0.13.3)\n",
            "Requirement already satisfied: typer<1.0,>=0.12 in /usr/local/lib/python3.11/dist-packages (from gradio) (0.16.0)\n",
            "Requirement already satisfied: typing-extensions~=4.0 in /usr/local/lib/python3.11/dist-packages (from gradio) (4.14.1)\n",
            "Requirement already satisfied: uvicorn>=0.14.0 in /usr/local/lib/python3.11/dist-packages (from gradio) (0.35.0)\n",
            "Requirement already satisfied: fsspec in /usr/local/lib/python3.11/dist-packages (from gradio-client==1.11.0->gradio) (2025.3.0)\n",
            "Requirement already satisfied: websockets<16.0,>=10.0 in /usr/local/lib/python3.11/dist-packages (from gradio-client==1.11.0->gradio) (15.0.1)\n",
            "Requirement already satisfied: scipy>=1.6.0 in /usr/local/lib/python3.11/dist-packages (from scikit-learn) (1.13.1)\n",
            "Requirement already satisfied: joblib>=1.2.0 in /usr/local/lib/python3.11/dist-packages (from scikit-learn) (1.5.1)\n",
            "Requirement already satisfied: threadpoolctl>=3.1.0 in /usr/local/lib/python3.11/dist-packages (from scikit-learn) (3.6.0)\n",
            "Requirement already satisfied: click in /usr/local/lib/python3.11/dist-packages (from nltk) (8.2.1)\n",
            "Requirement already satisfied: regex>=2021.8.3 in /usr/local/lib/python3.11/dist-packages (from nltk) (2024.11.6)\n",
            "Requirement already satisfied: tqdm in /usr/local/lib/python3.11/dist-packages (from nltk) (4.67.1)\n",
            "Requirement already satisfied: idna>=2.8 in /usr/local/lib/python3.11/dist-packages (from anyio<5.0,>=3.0->gradio) (3.10)\n",
            "Requirement already satisfied: sniffio>=1.1 in /usr/local/lib/python3.11/dist-packages (from anyio<5.0,>=3.0->gradio) (1.3.1)\n",
            "Requirement already satisfied: certifi in /usr/local/lib/python3.11/dist-packages (from httpx<1.0,>=0.24.1->gradio) (2025.7.14)\n",
            "Requirement already satisfied: httpcore==1.* in /usr/local/lib/python3.11/dist-packages (from httpx<1.0,>=0.24.1->gradio) (1.0.9)\n",
            "Requirement already satisfied: h11>=0.16 in /usr/local/lib/python3.11/dist-packages (from httpcore==1.*->httpx<1.0,>=0.24.1->gradio) (0.16.0)\n",
            "Requirement already satisfied: filelock in /usr/local/lib/python3.11/dist-packages (from huggingface-hub>=0.28.1->gradio) (3.18.0)\n",
            "Requirement already satisfied: requests in /usr/local/lib/python3.11/dist-packages (from huggingface-hub>=0.28.1->gradio) (2.32.3)\n",
            "Requirement already satisfied: hf-xet<2.0.0,>=1.1.3 in /usr/local/lib/python3.11/dist-packages (from huggingface-hub>=0.28.1->gradio) (1.1.5)\n",
            "Requirement already satisfied: python-dateutil>=2.8.2 in /usr/local/lib/python3.11/dist-packages (from pandas<3.0,>=1.0->gradio) (2.9.0.post0)\n",
            "Requirement already satisfied: pytz>=2020.1 in /usr/local/lib/python3.11/dist-packages (from pandas<3.0,>=1.0->gradio) (2025.2)\n",
            "Requirement already satisfied: tzdata>=2022.7 in /usr/local/lib/python3.11/dist-packages (from pandas<3.0,>=1.0->gradio) (2025.2)\n",
            "Requirement already satisfied: annotated-types>=0.6.0 in /usr/local/lib/python3.11/dist-packages (from pydantic<2.12,>=2.0->gradio) (0.7.0)\n",
            "Requirement already satisfied: pydantic-core==2.33.2 in /usr/local/lib/python3.11/dist-packages (from pydantic<2.12,>=2.0->gradio) (2.33.2)\n",
            "Requirement already satisfied: typing-inspection>=0.4.0 in /usr/local/lib/python3.11/dist-packages (from pydantic<2.12,>=2.0->gradio) (0.4.1)\n",
            "Requirement already satisfied: shellingham>=1.3.0 in /usr/local/lib/python3.11/dist-packages (from typer<1.0,>=0.12->gradio) (1.5.4)\n",
            "Requirement already satisfied: rich>=10.11.0 in /usr/local/lib/python3.11/dist-packages (from typer<1.0,>=0.12->gradio) (13.9.4)\n",
            "Requirement already satisfied: six>=1.5 in /usr/local/lib/python3.11/dist-packages (from python-dateutil>=2.8.2->pandas<3.0,>=1.0->gradio) (1.17.0)\n",
            "Requirement already satisfied: markdown-it-py>=2.2.0 in /usr/local/lib/python3.11/dist-packages (from rich>=10.11.0->typer<1.0,>=0.12->gradio) (3.0.0)\n",
            "Requirement already satisfied: pygments<3.0.0,>=2.13.0 in /usr/local/lib/python3.11/dist-packages (from rich>=10.11.0->typer<1.0,>=0.12->gradio) (2.19.2)\n",
            "Requirement already satisfied: charset-normalizer<4,>=2 in /usr/local/lib/python3.11/dist-packages (from requests->huggingface-hub>=0.28.1->gradio) (3.4.2)\n",
            "Requirement already satisfied: urllib3<3,>=1.21.1 in /usr/local/lib/python3.11/dist-packages (from requests->huggingface-hub>=0.28.1->gradio) (2.5.0)\n",
            "Requirement already satisfied: mdurl~=0.1 in /usr/local/lib/python3.11/dist-packages (from markdown-it-py>=2.2.0->rich>=10.11.0->typer<1.0,>=0.12->gradio) (0.1.2)\n"
          ]
        }
      ]
    },
    {
      "cell_type": "code",
      "source": [
        "import pandas as pd\n",
        "from sklearn.model_selection import train_test_split\n",
        "from sklearn.linear_model import LogisticRegression\n",
        "from sklearn.feature_extraction.text import TfidfVectorizer\n",
        "import nltk\n",
        "nltk.download('punkt')\n",
        "\n",
        "# Cargar dataset\n",
        "df = pd.read_json(\"/content/Sarcasm_Headlines_Dataset.json\", lines=True)\n",
        "df = df[['headline', 'is_sarcastic']]\n",
        "\n",
        "# Vectorizar\n",
        "tfidf = TfidfVectorizer(max_features=5000)\n",
        "X = tfidf.fit_transform(df['headline'])\n",
        "y = df['is_sarcastic']\n",
        "\n",
        "# Entrenar modelo\n",
        "X_train, X_test, y_train, y_test = train_test_split(X, y, test_size=0.2, random_state=42)\n",
        "clf = LogisticRegression(max_iter=1000)\n",
        "clf.fit(X_train, y_train)\n",
        "\n",
        "print(\"Modelo entrenado ✅\")\n"
      ],
      "metadata": {
        "colab": {
          "base_uri": "https://localhost:8080/"
        },
        "id": "Z4V3G9m0oa7u",
        "outputId": "3ab7d457-271a-44ea-e66d-5a7e634a66f2"
      },
      "execution_count": 13,
      "outputs": [
        {
          "output_type": "stream",
          "name": "stderr",
          "text": [
            "[nltk_data] Downloading package punkt to /root/nltk_data...\n",
            "[nltk_data]   Package punkt is already up-to-date!\n"
          ]
        },
        {
          "output_type": "stream",
          "name": "stdout",
          "text": [
            "Modelo entrenado ✅\n"
          ]
        }
      ]
    },
    {
      "cell_type": "code",
      "source": [
        "def predict_sarcasm(sentence):\n",
        "    X_input = tfidf.transform([sentence])\n",
        "    pred = clf.predict(X_input)[0]\n",
        "    prob = clf.predict_proba(X_input)[0][pred]\n",
        "    label = \"Sarcasmo\" if pred == 1 else \"No Sarcasmo\"\n",
        "    return f\"{label} (Confianza: {prob:.2f})\"\n"
      ],
      "metadata": {
        "id": "S23PSTStodaC"
      },
      "execution_count": 14,
      "outputs": []
    },
    {
      "cell_type": "code",
      "source": [
        "import gradio as gr\n",
        "\n",
        "iface = gr.Interface(\n",
        "    fn=predict_sarcasm,\n",
        "    inputs=gr.Textbox(lines=2, placeholder=\"Escribe una oración aquí...\"),\n",
        "    outputs=\"text\",\n",
        "    title=\"Detector de Sarcasmo\",\n",
        "    description=\"Escribe un titular u oración y el modelo dirá si es sarcasmo o no.\"\n",
        ")\n",
        "\n",
        "iface.launch(share=True)\n"
      ],
      "metadata": {
        "colab": {
          "base_uri": "https://localhost:8080/",
          "height": 680
        },
        "id": "teVXVluRof6U",
        "outputId": "3665ab31-1769-4935-8ef6-24f65611773e"
      },
      "execution_count": 15,
      "outputs": [
        {
          "output_type": "stream",
          "name": "stderr",
          "text": [
            "/usr/local/lib/python3.11/dist-packages/websockets/legacy/__init__.py:6: DeprecationWarning: websockets.legacy is deprecated; see https://websockets.readthedocs.io/en/stable/howto/upgrade.html for upgrade instructions\n",
            "  warnings.warn(  # deprecated in 14.0 - 2024-11-09\n",
            "/usr/local/lib/python3.11/dist-packages/uvicorn/protocols/websockets/websockets_impl.py:17: DeprecationWarning: websockets.server.WebSocketServerProtocol is deprecated\n",
            "  from websockets.server import WebSocketServerProtocol\n"
          ]
        },
        {
          "output_type": "stream",
          "name": "stdout",
          "text": [
            "Colab notebook detected. To show errors in colab notebook, set debug=True in launch()\n",
            "* Running on public URL: https://56ace3ecb21ceb829e.gradio.live\n",
            "\n",
            "This share link expires in 1 week. For free permanent hosting and GPU upgrades, run `gradio deploy` from the terminal in the working directory to deploy to Hugging Face Spaces (https://huggingface.co/spaces)\n"
          ]
        },
        {
          "output_type": "display_data",
          "data": {
            "text/plain": [
              "<IPython.core.display.HTML object>"
            ],
            "text/html": [
              "<div><iframe src=\"https://56ace3ecb21ceb829e.gradio.live\" width=\"100%\" height=\"500\" allow=\"autoplay; camera; microphone; clipboard-read; clipboard-write;\" frameborder=\"0\" allowfullscreen></iframe></div>"
            ]
          },
          "metadata": {}
        },
        {
          "output_type": "execute_result",
          "data": {
            "text/plain": []
          },
          "metadata": {},
          "execution_count": 15
        }
      ]
    },
    {
      "cell_type": "code",
      "source": [
        "import pandas as pd\n",
        "import gradio as gr\n",
        "\n",
        "# DataFrame global para registrar resultados\n",
        "history_df = pd.DataFrame(columns=[\"Frase\", \"Clasificación\", \"Confianza\"])\n",
        "\n",
        "def predict_sarcasm_and_log(sentence):\n",
        "    global history_df\n",
        "    # Transformar la frase con el vectorizador TF-IDF\n",
        "    X_input = tfidf.transform([sentence])\n",
        "    pred = clf.predict(X_input)[0]\n",
        "    prob = clf.predict_proba(X_input)[0][pred]\n",
        "\n",
        "    # Etiqueta\n",
        "    label = \"Sarcasmo\" if pred == 1 else \"No Sarcasmo\"\n",
        "    confianza = round(prob, 2)\n",
        "\n",
        "    # Guardar en el historial\n",
        "    new_entry = {\"Frase\": sentence, \"Clasificación\": label, \"Confianza\": confianza}\n",
        "    history_df = pd.concat([history_df, pd.DataFrame([new_entry])], ignore_index=True)\n",
        "\n",
        "    # Devolver el resultado y el historial\n",
        "    return f\"{label} (Confianza: {confianza})\", history_df\n",
        "\n",
        "# Interfaz de Gradio\n",
        "iface = gr.Interface(\n",
        "    fn=predict_sarcasm_and_log,\n",
        "    inputs=gr.Textbox(lines=2, placeholder=\"Escribe una oración aquí...\"),\n",
        "    outputs=[\n",
        "        gr.Textbox(label=\"Resultado\"),\n",
        "        gr.Dataframe(headers=[\"Frase\", \"Clasificación\", \"Confianza\"], wrap=True)\n",
        "    ],\n",
        "    title=\"Detector de Sarcasmo con Historial\",\n",
        "    description=\"Escribe una frase y guarda el historial de predicciones en una tabla.\"\n",
        ")\n",
        "\n",
        "iface.launch(share=True)\n"
      ],
      "metadata": {
        "colab": {
          "base_uri": "https://localhost:8080/",
          "height": 611
        },
        "id": "W0wCyFPVqG5j",
        "outputId": "aa6db937-1337-4120-fcdf-8e92736abd47"
      },
      "execution_count": 16,
      "outputs": [
        {
          "output_type": "stream",
          "name": "stdout",
          "text": [
            "Colab notebook detected. To show errors in colab notebook, set debug=True in launch()\n",
            "* Running on public URL: https://aa401f6b3fadb92340.gradio.live\n",
            "\n",
            "This share link expires in 1 week. For free permanent hosting and GPU upgrades, run `gradio deploy` from the terminal in the working directory to deploy to Hugging Face Spaces (https://huggingface.co/spaces)\n"
          ]
        },
        {
          "output_type": "display_data",
          "data": {
            "text/plain": [
              "<IPython.core.display.HTML object>"
            ],
            "text/html": [
              "<div><iframe src=\"https://aa401f6b3fadb92340.gradio.live\" width=\"100%\" height=\"500\" allow=\"autoplay; camera; microphone; clipboard-read; clipboard-write;\" frameborder=\"0\" allowfullscreen></iframe></div>"
            ]
          },
          "metadata": {}
        },
        {
          "output_type": "execute_result",
          "data": {
            "text/plain": []
          },
          "metadata": {},
          "execution_count": 16
        }
      ]
    }
  ]
}