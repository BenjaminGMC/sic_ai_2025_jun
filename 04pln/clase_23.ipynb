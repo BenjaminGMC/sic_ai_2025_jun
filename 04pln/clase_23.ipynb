{
  "nbformat": 4,
  "nbformat_minor": 0,
  "metadata": {
    "colab": {
      "provenance": [],
      "authorship_tag": "ABX9TyOP2DAPqJpjuXNVuonx/JRH",
      "include_colab_link": true
    },
    "kernelspec": {
      "name": "python3",
      "display_name": "Python 3"
    },
    "language_info": {
      "name": "python"
    }
  },
  "cells": [
    {
      "cell_type": "markdown",
      "metadata": {
        "id": "view-in-github",
        "colab_type": "text"
      },
      "source": [
        "<a href=\"https://colab.research.google.com/github/davidlealo/sic_ai_2025_jun/blob/main/04pln/clase_23.ipynb\" target=\"_parent\"><img src=\"https://colab.research.google.com/assets/colab-badge.svg\" alt=\"Open In Colab\"/></a>"
      ]
    },
    {
      "cell_type": "markdown",
      "source": [
        "# Clase 23"
      ],
      "metadata": {
        "id": "z8A1lRvupTKF"
      }
    },
    {
      "cell_type": "code",
      "source": [
        "# https://docs.python.org/3/library/stdtypes.html#text-sequence-type-str"
      ],
      "metadata": {
        "id": "-bSaiyQOp1Z0"
      },
      "execution_count": null,
      "outputs": []
    },
    {
      "cell_type": "markdown",
      "source": [
        "\n",
        "# Manipulación de Cadenas en Python\n",
        "\n",
        "Python ofrece una gran variedad de métodos para trabajar con cadenas de texto, fundamentales para el procesamiento de datos.\n",
        "\n",
        "## Métodos Comunes de Cadenas\n",
        "\n",
        "| Función                  | Explicación                                                                 |\n",
        "|--------------------------|------------------------------------------------------------------------------|\n",
        "| `x.lstrip()`             | Elimina espacios a la izquierda.                                            |\n",
        "| `x.rstrip()`             | Elimina espacios a la derecha.                                              |\n",
        "| `x.strip()`              | Elimina espacios en ambos lados.                                            |\n",
        "| `x.replace(str1, str2)`  | Reemplaza la subcadena `str1` por `str2`.                                   |\n",
        "| `x.count(str)`           | Cuenta cuántas veces aparece `str` en `x`.                                  |\n",
        "| `x.find(str)`            | Devuelve el índice de la primera ocurrencia de `str`, o `-1` si no existe.  |\n",
        "| `x.index(str)`           | Igual que `find`, pero lanza un error si `str` no se encuentra.             |\n",
        "| `y.join(str_list)`       | Une los elementos de `str_list` usando `y` como separador.                  |\n",
        "| `x.split(y)`             | Divide la cadena `x` usando `y` como separador.                             |\n",
        "| `x.upper()`              | Convierte la cadena a mayúsculas.                                           |\n",
        "| `x.lower()`              | Convierte la cadena a minúsculas.                                           |\n",
        "| `len(x)`                 | Devuelve la longitud de la cadena.                                          |\n",
        "\n",
        "## Aplicaciones Prácticas\n",
        "\n",
        "### Ejercicio 1: Limpieza de texto\n",
        "```python\n",
        "texto = \"   Hola mundo   \"\n",
        "print(texto.strip())\n",
        "```\n",
        "\n",
        "### Ejercicio 2: Reemplazo y conteo\n",
        "```python\n",
        "frase = \"python es genial, python es fácil\"\n",
        "print(frase.replace(\"python\", \"Python\"))\n",
        "print(frase.count(\"python\"))\n",
        "```\n",
        "\n",
        "### Ejercicio 3: Búsqueda\n",
        "```python\n",
        "mensaje = \"Bienvenido al curso de Python\"\n",
        "print(mensaje.find(\"curso\"))\n",
        "print(mensaje.index(\"Python\"))\n",
        "```\n",
        "\n",
        "### Ejercicio 4: Join y Split\n",
        "```python\n",
        "palabras = [\"hola\", \"mundo\"]\n",
        "frase = \"-\".join(palabras)\n",
        "print(frase)\n",
        "\n",
        "print(frase.split(\"-\"))\n",
        "```\n",
        "\n",
        "### Ejercicio 5: Mayúsculas y minúsculas\n",
        "```python\n",
        "x = \"Python\"\n",
        "print(x.upper())\n",
        "print(x.lower())\n",
        "```\n",
        "\n",
        "### Ejercicio 6: Longitud de la cadena\n",
        "```python\n",
        "mensaje = \"Esto es una prueba\"\n",
        "print(len(mensaje))\n",
        "```\n",
        "\n",
        "## Expresiones Regulares\n",
        "\n",
        "Las expresiones regulares son herramientas potentes para buscar patrones dentro de texto.\n",
        "\n",
        "### Metacaracteres Comunes\n",
        "\n",
        "```\n",
        ". ^ $ * + ? { } [ ] \\ | ( )\n",
        "```\n",
        "\n",
        "Estos caracteres tienen significados especiales y permiten construir patrones complejos.\n",
        "\n",
        "Más información en: https://docs.python.org/3/howto/regex.html\n",
        "\n",
        "## Ejercicios con Expresiones Regulares\n",
        "\n",
        "### Ejercicio 7: Buscar números en texto\n",
        "```python\n",
        "import re\n",
        "\n",
        "texto = \"La temperatura es de 28 grados hoy.\"\n",
        "resultado = re.findall(r\"\\d+\", texto)\n",
        "print(resultado)\n",
        "```\n",
        "\n",
        "### Ejercicio 8: Validar un correo electrónico\n",
        "```python\n",
        "import re\n",
        "\n",
        "correo = \"usuario@dominio.com\"\n",
        "patron = r\"^[\\w\\.-]+@[\\w\\.-]+\\.\\w+$\"\n",
        "print(re.match(patron, correo) is not None)\n",
        "```\n",
        "\n",
        "### Ejercicio 9: Reemplazar espacios por guiones\n",
        "```python\n",
        "import re\n",
        "\n",
        "frase = \"texto con varios espacios\"\n",
        "print(re.sub(r\"\\s+\", \"-\", frase))\n",
        "```\n",
        "\n",
        "### Ejercicio 10: Extraer datos de texto estructurado\n",
        "```python\n",
        "import re\n",
        "\n",
        "texto = \"Nombre: Juan, Edad: 35, Correo: juan@mail.com\"\n",
        "nombre = re.findall(r\"Nombre: (\\w+)\", texto)\n",
        "edad = re.findall(r\"Edad: (\\d+)\", texto)\n",
        "correo = re.findall(r\"Correo: ([\\w.-]+@[\\w.-]+\\.\\w+)\", texto)\n",
        "\n",
        "print(nombre, edad, correo)\n",
        "```\n",
        "\n",
        "### Ejercicio 11: Detectar palabras que empiecen con mayúscula\n",
        "```python\n",
        "import re\n",
        "\n",
        "texto = \"Mi nombre es Carlos y vivo en Santiago\"\n",
        "palabras = re.findall(r\"\\b[A-Z][a-z]+\\b\", texto)\n",
        "print(palabras)\n",
        "```\n",
        "\n",
        "### Ejercicio 12: Detectar fechas en formato dd/mm/aaaa\n",
        "```python\n",
        "import re\n",
        "\n",
        "texto = \"Fechas: 25/12/2025, 01/01/2026\"\n",
        "fechas = re.findall(r\"\\b\\d{2}/\\d{2}/\\d{4}\\b\", texto)\n",
        "print(fechas)\n",
        "```\n",
        "\n",
        "## Desafío Final\n",
        "\n",
        "Dado el siguiente texto:\n",
        "\n",
        "```python\n",
        "texto = \"Estudiante: Maria, Edad: 21, Email: maria23@gmail.com\"\n",
        "```\n",
        "\n",
        "1. Extrae el nombre usando `split()` o `find()`.\n",
        "2. Extrae el número de edad usando una expresión regular.\n",
        "3. Verifica si el correo electrónico es válido con regex.\n"
      ],
      "metadata": {
        "id": "-KNYWD5spZWq"
      }
    },
    {
      "cell_type": "code",
      "execution_count": 1,
      "metadata": {
        "colab": {
          "base_uri": "https://localhost:8080/"
        },
        "id": "HzlsKcSJpRiS",
        "outputId": "dc83e3b3-1c1a-41c0-b166-d717340b26b8"
      },
      "outputs": [
        {
          "output_type": "stream",
          "name": "stdout",
          "text": [
            "   Hola mundo\n"
          ]
        }
      ],
      "source": [
        "# Eliminar espacios a la derecha\n",
        "texto = \"   Hola mundo   \"\n",
        "print(texto.rstrip())"
      ]
    },
    {
      "cell_type": "code",
      "source": [
        "# Eliminar espacios a la izquierda\n",
        "\n",
        "texto = \"   Hola mundo   \"\n",
        "print(texto.lstrip())"
      ],
      "metadata": {
        "colab": {
          "base_uri": "https://localhost:8080/"
        },
        "id": "WP7NiGv2u7Mc",
        "outputId": "1fd3c8e1-4329-4d09-c410-f376106117d1"
      },
      "execution_count": 2,
      "outputs": [
        {
          "output_type": "stream",
          "name": "stdout",
          "text": [
            "Hola mundo   \n"
          ]
        }
      ]
    },
    {
      "cell_type": "code",
      "source": [
        "# Eliminar espacios en ambos sentidos\n",
        "\n",
        "texto = \"   Hola mundo   \"\n",
        "print(texto.strip())"
      ],
      "metadata": {
        "colab": {
          "base_uri": "https://localhost:8080/"
        },
        "id": "siBPtN14u60p",
        "outputId": "fe1668e7-e04e-49eb-df78-8661a9a77048"
      },
      "execution_count": 3,
      "outputs": [
        {
          "output_type": "stream",
          "name": "stdout",
          "text": [
            "Hola mundo\n"
          ]
        }
      ]
    },
    {
      "cell_type": "code",
      "source": [
        "frase = \"python es genial, python es fácil\"\n",
        "print(frase.replace(\"python\", \"Python\"))\n",
        "print(frase.count(\"python\"))"
      ],
      "metadata": {
        "colab": {
          "base_uri": "https://localhost:8080/"
        },
        "id": "MoZnW4r6viwI",
        "outputId": "5dbf948d-3bfb-4908-e760-7b3e33c07118"
      },
      "execution_count": 4,
      "outputs": [
        {
          "output_type": "stream",
          "name": "stdout",
          "text": [
            "Python es genial, Python es fácil\n",
            "2\n"
          ]
        }
      ]
    },
    {
      "cell_type": "code",
      "source": [
        "frase = \"Pedro faltó ayer\""
      ],
      "metadata": {
        "id": "fmv5P0AFvoo5"
      },
      "execution_count": 5,
      "outputs": []
    },
    {
      "cell_type": "code",
      "source": [
        "frase"
      ],
      "metadata": {
        "colab": {
          "base_uri": "https://localhost:8080/",
          "height": 35
        },
        "id": "OPfqAoQsvumf",
        "outputId": "c91f9b92-5f33-4dfc-d0af-11edc0565bb6"
      },
      "execution_count": 6,
      "outputs": [
        {
          "output_type": "execute_result",
          "data": {
            "text/plain": [
              "'Pedro faltó ayer'"
            ],
            "application/vnd.google.colaboratory.intrinsic+json": {
              "type": "string"
            }
          },
          "metadata": {},
          "execution_count": 6
        }
      ]
    },
    {
      "cell_type": "code",
      "source": [
        "frase.replace(\"Pedro\", \"María\")"
      ],
      "metadata": {
        "colab": {
          "base_uri": "https://localhost:8080/",
          "height": 35
        },
        "id": "VaX0Z_6KvwrC",
        "outputId": "619aeac7-5156-48b5-f0c2-cc50dc6fc512"
      },
      "execution_count": 7,
      "outputs": [
        {
          "output_type": "execute_result",
          "data": {
            "text/plain": [
              "'María faltó ayer'"
            ],
            "application/vnd.google.colaboratory.intrinsic+json": {
              "type": "string"
            }
          },
          "metadata": {},
          "execution_count": 7
        }
      ]
    },
    {
      "cell_type": "code",
      "source": [
        "import requests\n",
        "from bs4 import BeautifulSoup\n",
        "\n",
        "res = requests.get('https://www.gutenberg.org/files/11/11-h/11-h.htm')\n",
        "soup = BeautifulSoup(res.text, 'html.parser')\n"
      ],
      "metadata": {
        "id": "zE3vNatiwHOs"
      },
      "execution_count": 60,
      "outputs": []
    },
    {
      "cell_type": "code",
      "source": [
        "\n",
        "parrafos = soup.find_all(\"p\")\n",
        "texto = \"\"\n",
        "\n",
        "for parrafo in parrafos:\n",
        "  texto += parrafo.text.strip() + \"\\n\"\n",
        "  print(parrafo.text)"
      ],
      "metadata": {
        "id": "rHlIVYFBwdt8"
      },
      "execution_count": null,
      "outputs": []
    },
    {
      "cell_type": "code",
      "source": [
        "texto.count('very')"
      ],
      "metadata": {
        "colab": {
          "base_uri": "https://localhost:8080/"
        },
        "id": "bxwladdHxaKH",
        "outputId": "f20b6f66-1e1c-44f0-aca8-3895d8853b66"
      },
      "execution_count": 15,
      "outputs": [
        {
          "output_type": "execute_result",
          "data": {
            "text/plain": [
              "176"
            ]
          },
          "metadata": {},
          "execution_count": 15
        }
      ]
    },
    {
      "cell_type": "code",
      "source": [
        "texto.count('Alice')"
      ],
      "metadata": {
        "colab": {
          "base_uri": "https://localhost:8080/"
        },
        "id": "Z9DSL00Wxhds",
        "outputId": "8c9cb360-eed6-40c3-984c-625d1252b258"
      },
      "execution_count": 16,
      "outputs": [
        {
          "output_type": "execute_result",
          "data": {
            "text/plain": [
              "394"
            ]
          },
          "metadata": {},
          "execution_count": 16
        }
      ]
    },
    {
      "cell_type": "code",
      "source": [
        "mensaje = \"Bienvenido al curso de Python\"\n"
      ],
      "metadata": {
        "id": "KKCI0gkexxuL"
      },
      "execution_count": 18,
      "outputs": []
    },
    {
      "cell_type": "code",
      "source": [
        "print(mensaje.find(\"curso\"))"
      ],
      "metadata": {
        "colab": {
          "base_uri": "https://localhost:8080/"
        },
        "id": "z5orzqNax01D",
        "outputId": "16a4036e-0090-4b5d-a473-6a73055a0967"
      },
      "execution_count": 19,
      "outputs": [
        {
          "output_type": "stream",
          "name": "stdout",
          "text": [
            "14\n"
          ]
        }
      ]
    },
    {
      "cell_type": "code",
      "source": [
        "print(mensaje.index(\"curso\"))"
      ],
      "metadata": {
        "colab": {
          "base_uri": "https://localhost:8080/"
        },
        "id": "4ka-DJeZx7n5",
        "outputId": "667bebe2-81c0-4561-840a-a518fbd0a740"
      },
      "execution_count": 21,
      "outputs": [
        {
          "output_type": "stream",
          "name": "stdout",
          "text": [
            "14\n"
          ]
        }
      ]
    },
    {
      "cell_type": "code",
      "source": [
        "print(mensaje.index(\"Python\"))"
      ],
      "metadata": {
        "colab": {
          "base_uri": "https://localhost:8080/"
        },
        "id": "R6bi9IuqxzrZ",
        "outputId": "0e16f794-8149-4cdd-ac4d-f3b14152abb8"
      },
      "execution_count": 20,
      "outputs": [
        {
          "output_type": "stream",
          "name": "stdout",
          "text": [
            "23\n"
          ]
        }
      ]
    },
    {
      "cell_type": "code",
      "source": [
        "texto.find('Alice')"
      ],
      "metadata": {
        "colab": {
          "base_uri": "https://localhost:8080/"
        },
        "id": "M9SUJN5YyMD9",
        "outputId": "07b0a3eb-e5dd-4704-ce44-7a256681fa4c"
      },
      "execution_count": 22,
      "outputs": [
        {
          "output_type": "execute_result",
          "data": {
            "text/plain": [
              "0"
            ]
          },
          "metadata": {},
          "execution_count": 22
        }
      ]
    },
    {
      "cell_type": "code",
      "source": [
        "texto.find('very')"
      ],
      "metadata": {
        "colab": {
          "base_uri": "https://localhost:8080/"
        },
        "id": "k1qeEsjXyQPr",
        "outputId": "2fdf5f47-9762-4f45-b683-d657205d1711"
      },
      "execution_count": 23,
      "outputs": [
        {
          "output_type": "execute_result",
          "data": {
            "text/plain": [
              "27"
            ]
          },
          "metadata": {},
          "execution_count": 23
        }
      ]
    },
    {
      "cell_type": "code",
      "source": [
        "texto.find('ought')"
      ],
      "metadata": {
        "colab": {
          "base_uri": "https://localhost:8080/"
        },
        "id": "7p_ClDM9ymno",
        "outputId": "adb93f03-7f0d-4495-f206-6c0997ca79f0"
      },
      "execution_count": 25,
      "outputs": [
        {
          "output_type": "execute_result",
          "data": {
            "text/plain": [
              "261"
            ]
          },
          "metadata": {},
          "execution_count": 25
        }
      ]
    },
    {
      "cell_type": "code",
      "source": [
        "texto.find('Artificial') # Al no encontrar la cadena de texto imprime -1"
      ],
      "metadata": {
        "colab": {
          "base_uri": "https://localhost:8080/"
        },
        "id": "KQwYMa0VywP2",
        "outputId": "354fac38-9dc4-45ad-fa9f-4f660871fc6b"
      },
      "execution_count": 26,
      "outputs": [
        {
          "output_type": "execute_result",
          "data": {
            "text/plain": [
              "-1"
            ]
          },
          "metadata": {},
          "execution_count": 26
        }
      ]
    },
    {
      "cell_type": "code",
      "source": [
        "texto.index('Artificial') # Al no encontrar la cadena de texto un error"
      ],
      "metadata": {
        "colab": {
          "base_uri": "https://localhost:8080/",
          "height": 141
        },
        "id": "v_TmGbk4yz7Q",
        "outputId": "52c2b48b-d923-4014-b38b-2a6d032d1890"
      },
      "execution_count": 27,
      "outputs": [
        {
          "output_type": "error",
          "ename": "ValueError",
          "evalue": "substring not found",
          "traceback": [
            "\u001b[0;31m---------------------------------------------------------------------------\u001b[0m",
            "\u001b[0;31mValueError\u001b[0m                                Traceback (most recent call last)",
            "\u001b[0;32m/tmp/ipython-input-27-1112399632.py\u001b[0m in \u001b[0;36m<cell line: 0>\u001b[0;34m()\u001b[0m\n\u001b[0;32m----> 1\u001b[0;31m \u001b[0mtexto\u001b[0m\u001b[0;34m.\u001b[0m\u001b[0mindex\u001b[0m\u001b[0;34m(\u001b[0m\u001b[0;34m'Artificial'\u001b[0m\u001b[0;34m)\u001b[0m\u001b[0;34m\u001b[0m\u001b[0;34m\u001b[0m\u001b[0m\n\u001b[0m",
            "\u001b[0;31mValueError\u001b[0m: substring not found"
          ]
        }
      ]
    },
    {
      "cell_type": "code",
      "source": [
        "palabras = [\"hola\", \"mundo\"]\n"
      ],
      "metadata": {
        "id": "bSNgzZxgzIg4"
      },
      "execution_count": 29,
      "outputs": []
    },
    {
      "cell_type": "code",
      "source": [
        "frase = \"-\".join(palabras)\n"
      ],
      "metadata": {
        "id": "3VrQ2dFCzJmo"
      },
      "execution_count": 30,
      "outputs": []
    },
    {
      "cell_type": "code",
      "source": [
        "print(frase)\n"
      ],
      "metadata": {
        "colab": {
          "base_uri": "https://localhost:8080/"
        },
        "id": "uFy_OYy5zN5B",
        "outputId": "af74c936-3358-4e06-c3f9-8a4d1ac29d33"
      },
      "execution_count": 31,
      "outputs": [
        {
          "output_type": "stream",
          "name": "stdout",
          "text": [
            "hola-mundo\n"
          ]
        }
      ]
    },
    {
      "cell_type": "code",
      "source": [
        "\n",
        "print(frase.split(\"-\"))"
      ],
      "metadata": {
        "colab": {
          "base_uri": "https://localhost:8080/"
        },
        "id": "r83lioCNy_Bq",
        "outputId": "fc594cff-9e44-4d72-f33e-ac8dac28a977"
      },
      "execution_count": 32,
      "outputs": [
        {
          "output_type": "stream",
          "name": "stdout",
          "text": [
            "['hola', 'mundo']\n"
          ]
        }
      ]
    },
    {
      "cell_type": "code",
      "source": [
        "lista_texto = texto.split(\" \")\n",
        "print(lista_texto)"
      ],
      "metadata": {
        "id": "IVDO2oHFzVAP"
      },
      "execution_count": null,
      "outputs": []
    },
    {
      "cell_type": "code",
      "source": [
        "# Contar la cantidad de cada palabra en lista_texto usando count\n",
        "\n",
        "from collections import Counter\n",
        "\n",
        "# Suponiendo que ya tienes:\n",
        "# lista_texto = texto.split(\" \")\n",
        "\n",
        "# Contar las repeticiones\n",
        "conteo_palabras = Counter(lista_texto)\n",
        "\n",
        "# Mostrar el resultado\n",
        "for palabra, cantidad in conteo_palabras.items():\n",
        "    print(f\"{palabra}: {cantidad}\")\n"
      ],
      "metadata": {
        "collapsed": true,
        "id": "p44lJ0upziH7"
      },
      "execution_count": null,
      "outputs": []
    },
    {
      "cell_type": "code",
      "source": [
        "from collections import Counter\n",
        "\n",
        "# Suponiendo que ya tienes la lista:\n",
        "# lista_texto = texto.split(\" \")\n",
        "\n",
        "# Contar las repeticiones\n",
        "conteo_palabras = Counter(lista_texto)\n",
        "\n",
        "# Mostrar las 10 palabras más repetidas\n",
        "for palabra, cantidad in conteo_palabras.most_common(10):\n",
        "    print(f\"{palabra}: {cantidad}\")\n"
      ],
      "metadata": {
        "colab": {
          "base_uri": "https://localhost:8080/"
        },
        "id": "IxznoYXy0S_H",
        "outputId": "a37d21f5-1cb8-4068-81be-73e03fc7067e"
      },
      "execution_count": 38,
      "outputs": [
        {
          "output_type": "stream",
          "name": "stdout",
          "text": [
            "the: 1344\n",
            "to: 631\n",
            "and: 625\n",
            "a: 552\n",
            "of: 446\n",
            "she: 428\n",
            "said: 412\n",
            "it: 315\n",
            "in: 315\n",
            "was: 298\n"
          ]
        }
      ]
    },
    {
      "cell_type": "code",
      "source": [
        "texto.count('the')"
      ],
      "metadata": {
        "colab": {
          "base_uri": "https://localhost:8080/"
        },
        "id": "ZhQ6nBlY0XY8",
        "outputId": "3b3e241b-85fc-489c-9446-e8860b8a9fab"
      },
      "execution_count": 39,
      "outputs": [
        {
          "output_type": "execute_result",
          "data": {
            "text/plain": [
              "2109"
            ]
          },
          "metadata": {},
          "execution_count": 39
        }
      ]
    },
    {
      "cell_type": "code",
      "source": [
        "texto.count('The')"
      ],
      "metadata": {
        "colab": {
          "base_uri": "https://localhost:8080/"
        },
        "id": "eBQ8QxVG0bSS",
        "outputId": "917e3fc3-b517-4b73-f131-9d2096760f6f"
      },
      "execution_count": 40,
      "outputs": [
        {
          "output_type": "execute_result",
          "data": {
            "text/plain": [
              "182"
            ]
          },
          "metadata": {},
          "execution_count": 40
        }
      ]
    },
    {
      "cell_type": "code",
      "source": [
        "import nltk\n",
        "nltk.download('stopwords')"
      ],
      "metadata": {
        "colab": {
          "base_uri": "https://localhost:8080/"
        },
        "id": "JinOPyHU08Hx",
        "outputId": "076d8163-5e2f-4bc4-8553-6beac31077f9"
      },
      "execution_count": 41,
      "outputs": [
        {
          "output_type": "stream",
          "name": "stderr",
          "text": [
            "[nltk_data] Downloading package stopwords to /root/nltk_data...\n",
            "[nltk_data]   Unzipping corpora/stopwords.zip.\n"
          ]
        },
        {
          "output_type": "execute_result",
          "data": {
            "text/plain": [
              "True"
            ]
          },
          "metadata": {},
          "execution_count": 41
        }
      ]
    },
    {
      "cell_type": "code",
      "source": [
        "from nltk.corpus import stopwords\n",
        "spanish_stopwords = stopwords.words('spanish')\n",
        "spanish_stopwords.append('cachai')"
      ],
      "metadata": {
        "id": "2XcVmse80_0V"
      },
      "execution_count": 47,
      "outputs": []
    },
    {
      "cell_type": "code",
      "source": [
        "spanish_stopwords"
      ],
      "metadata": {
        "id": "7yLcHlHp1GHI"
      },
      "execution_count": null,
      "outputs": []
    },
    {
      "cell_type": "code",
      "source": [
        "print(len(spanish_stopwords))"
      ],
      "metadata": {
        "colab": {
          "base_uri": "https://localhost:8080/"
        },
        "id": "ZFeUZhQh2B0B",
        "outputId": "7840668c-68af-432e-f77e-75937fdca3a1"
      },
      "execution_count": 51,
      "outputs": [
        {
          "output_type": "stream",
          "name": "stdout",
          "text": [
            "314\n"
          ]
        }
      ]
    },
    {
      "cell_type": "code",
      "source": [
        "x = \"Python\"\n",
        "print(x.upper())\n",
        "print(x.lower())"
      ],
      "metadata": {
        "colab": {
          "base_uri": "https://localhost:8080/"
        },
        "id": "kPFGDc2i16Q-",
        "outputId": "1e5771b1-486f-4f2f-9bd7-dc968c7d033b"
      },
      "execution_count": 49,
      "outputs": [
        {
          "output_type": "stream",
          "name": "stdout",
          "text": [
            "PYTHON\n",
            "python\n"
          ]
        }
      ]
    },
    {
      "cell_type": "code",
      "source": [
        "mensaje = \"Esto es una prueba\"\n",
        "print(len(mensaje))"
      ],
      "metadata": {
        "colab": {
          "base_uri": "https://localhost:8080/"
        },
        "id": "SKBaYTuJ1_iv",
        "outputId": "c3e7ad4c-e5d3-44ec-b61b-5bbbc44f2ae2"
      },
      "execution_count": 50,
      "outputs": [
        {
          "output_type": "stream",
          "name": "stdout",
          "text": [
            "18\n"
          ]
        }
      ]
    },
    {
      "cell_type": "code",
      "source": [
        "print(mensaje.lower())"
      ],
      "metadata": {
        "colab": {
          "base_uri": "https://localhost:8080/"
        },
        "id": "P0Ld178s2bHl",
        "outputId": "32a403b5-6dbe-468f-ce26-678bb0e15eb0"
      },
      "execution_count": 54,
      "outputs": [
        {
          "output_type": "stream",
          "name": "stdout",
          "text": [
            "esto es una prueba\n"
          ]
        }
      ]
    },
    {
      "cell_type": "code",
      "source": [
        "print(mensaje.capitalize())"
      ],
      "metadata": {
        "colab": {
          "base_uri": "https://localhost:8080/"
        },
        "id": "vMBninyV2VFC",
        "outputId": "cc6238d3-93fc-479e-c090-2440762d39c2"
      },
      "execution_count": 55,
      "outputs": [
        {
          "output_type": "stream",
          "name": "stdout",
          "text": [
            "Esto es una prueba\n"
          ]
        }
      ]
    },
    {
      "cell_type": "code",
      "source": [
        "'Python'.center(10, '-')"
      ],
      "metadata": {
        "colab": {
          "base_uri": "https://localhost:8080/",
          "height": 35
        },
        "id": "nBun74hK2n4n",
        "outputId": "98eb790d-e7cf-4455-c1f7-e6f8beafe701"
      },
      "execution_count": 56,
      "outputs": [
        {
          "output_type": "execute_result",
          "data": {
            "text/plain": [
              "'--Python--'"
            ],
            "application/vnd.google.colaboratory.intrinsic+json": {
              "type": "string"
            }
          },
          "metadata": {},
          "execution_count": 56
        }
      ]
    },
    {
      "cell_type": "code",
      "source": [
        "mensaje.center(100, '-')"
      ],
      "metadata": {
        "colab": {
          "base_uri": "https://localhost:8080/",
          "height": 35
        },
        "id": "F6DAvVOR2qld",
        "outputId": "1cc01701-1403-497a-b553-dc99d626e015"
      },
      "execution_count": 58,
      "outputs": [
        {
          "output_type": "execute_result",
          "data": {
            "text/plain": [
              "'-----------------------------------------Esto es una prueba-----------------------------------------'"
            ],
            "application/vnd.google.colaboratory.intrinsic+json": {
              "type": "string"
            }
          },
          "metadata": {},
          "execution_count": 58
        }
      ]
    },
    {
      "cell_type": "code",
      "source": [
        "# Revisa los otros en\n",
        "# https://docs.python.org/3/library/stdtypes.html#text-sequence-type-str"
      ],
      "metadata": {
        "id": "6QjootER3AuN"
      },
      "execution_count": null,
      "outputs": []
    },
    {
      "cell_type": "markdown",
      "source": [
        "## Expresiones regulares"
      ],
      "metadata": {
        "id": "j4KClaFA3zyn"
      }
    },
    {
      "cell_type": "code",
      "source": [
        "import re\n",
        "\n",
        "texto = \"La temperatura es de 28 grados hoy.\"\n",
        "resultado = re.findall(r\"\\d+\", texto)\n",
        "print(resultado)"
      ],
      "metadata": {
        "colab": {
          "base_uri": "https://localhost:8080/"
        },
        "id": "bFRj5vxB32EM",
        "outputId": "a0294e07-c16f-45e7-c67f-612a4aac311e"
      },
      "execution_count": 59,
      "outputs": [
        {
          "output_type": "stream",
          "name": "stdout",
          "text": [
            "['28']\n"
          ]
        }
      ]
    },
    {
      "cell_type": "code",
      "source": [
        "import re\n",
        "\n",
        "texto = \"La temperatura es de 28 grados hoy.\"\n",
        "resultado = re.findall(r\"\\d+\", texto)\n",
        "print(resultado)"
      ],
      "metadata": {
        "id": "j1ppoIx84XrD"
      },
      "execution_count": null,
      "outputs": []
    },
    {
      "cell_type": "code",
      "source": [
        "resultado = re.findall(r\"\\d+\", texto)\n",
        "print(resultado)"
      ],
      "metadata": {
        "colab": {
          "base_uri": "https://localhost:8080/"
        },
        "id": "mTMHKCMU4dpH",
        "outputId": "02ebd1f2-eec8-4896-b50a-0babd504ecf2"
      },
      "execution_count": 66,
      "outputs": [
        {
          "output_type": "stream",
          "name": "stdout",
          "text": [
            "[]\n"
          ]
        }
      ]
    },
    {
      "cell_type": "code",
      "source": [
        "import re\n",
        "\n",
        "# Expresión regular\n",
        "patron = r\"[abc]\"\n",
        "\n",
        "# Lista de cadenas para probar\n",
        "cadenas = [\"a\", \"before\", \"dude\"]\n",
        "\n",
        "# Probar cada cadena\n",
        "for cadena in cadenas:\n",
        "    if re.search(patron, cadena):\n",
        "        print(f'\"{cadena}\": Sí – Coincide con el patrón')\n",
        "    else:\n",
        "        print(f'\"{cadena}\": No – No hay coincidencia')\n"
      ],
      "metadata": {
        "colab": {
          "base_uri": "https://localhost:8080/"
        },
        "id": "3iGNWGcM4vTa",
        "outputId": "2f228115-8f7b-4be1-fde2-1b04357198ba"
      },
      "execution_count": 67,
      "outputs": [
        {
          "output_type": "stream",
          "name": "stdout",
          "text": [
            "\"a\": Sí – Coincide con el patrón\n",
            "\"before\": Sí – Coincide con el patrón\n",
            "\"dude\": No – No hay coincidencia\n"
          ]
        }
      ]
    },
    {
      "cell_type": "code",
      "source": [
        "import re\n",
        "\n",
        "# Expresión regular\n",
        "patron = r\"[abcd]\"\n",
        "\n",
        "# Lista de cadenas para probar\n",
        "cadenas = [\"a\", \"before\", \"dude\"]\n",
        "\n",
        "# Probar cada cadena\n",
        "for cadena in cadenas:\n",
        "    if re.search(patron, cadena):\n",
        "        print(f'\"{cadena}\": Sí – Coincide con el patrón')\n",
        "    else:\n",
        "        print(f'\"{cadena}\": No – No hay coincidencia')\n"
      ],
      "metadata": {
        "colab": {
          "base_uri": "https://localhost:8080/"
        },
        "id": "FjXUjdC66ysM",
        "outputId": "0a0bfa9f-14f3-4671-ba70-88c8ac9c8b3a"
      },
      "execution_count": 68,
      "outputs": [
        {
          "output_type": "stream",
          "name": "stdout",
          "text": [
            "\"a\": Sí – Coincide con el patrón\n",
            "\"before\": Sí – Coincide con el patrón\n",
            "\"dude\": Sí – Coincide con el patrón\n"
          ]
        }
      ]
    },
    {
      "cell_type": "code",
      "source": [
        "import re\n",
        "\n",
        "# Expresión regular\n",
        "patron = r\"[a-d]\"\n",
        "\n",
        "# Lista de cadenas para probar\n",
        "cadenas = [\"a\", \"before\", \"dude\"]\n",
        "\n",
        "# Probar cada cadena\n",
        "for cadena in cadenas:\n",
        "    if re.search(patron, cadena):\n",
        "        print(f'\"{cadena}\": Sí – Coincide con el patrón')\n",
        "    else:\n",
        "        print(f'\"{cadena}\": No – No hay coincidencia')\n"
      ],
      "metadata": {
        "colab": {
          "base_uri": "https://localhost:8080/"
        },
        "id": "8ouRys3w7ohM",
        "outputId": "698a997d-5cf4-43a8-bcd4-54e09871c730"
      },
      "execution_count": 69,
      "outputs": [
        {
          "output_type": "stream",
          "name": "stdout",
          "text": [
            "\"a\": Sí – Coincide con el patrón\n",
            "\"before\": Sí – Coincide con el patrón\n",
            "\"dude\": Sí – Coincide con el patrón\n"
          ]
        }
      ]
    },
    {
      "cell_type": "code",
      "source": [
        "import re\n",
        "\n",
        "# Expresión regular\n",
        "patron = r\"[a-d]\"\n",
        "\n",
        "# Lista de cadenas para probar\n",
        "cadenas = [\"a\", \"Before\", \"dude\"]\n",
        "\n",
        "# Probar cada cadena\n",
        "for cadena in cadenas:\n",
        "    if re.search(patron, cadena):\n",
        "        print(f'\"{cadena}\": Sí – Coincide con el patrón')\n",
        "    else:\n",
        "        print(f'\"{cadena}\": No – No hay coincidencia')\n"
      ],
      "metadata": {
        "colab": {
          "base_uri": "https://localhost:8080/"
        },
        "id": "-Vbl03q47w5h",
        "outputId": "08e5088b-4d16-4dc4-f870-a9c02db71f9c"
      },
      "execution_count": 70,
      "outputs": [
        {
          "output_type": "stream",
          "name": "stdout",
          "text": [
            "\"a\": Sí – Coincide con el patrón\n",
            "\"Before\": No – No hay coincidencia\n",
            "\"dude\": Sí – Coincide con el patrón\n"
          ]
        }
      ]
    },
    {
      "cell_type": "code",
      "source": [
        "import re\n",
        "\n",
        "# Expresión regular\n",
        "patron = r\"[a-dA-D]\"\n",
        "\n",
        "# Lista de cadenas para probar\n",
        "cadenas = [\"a\", \"Before\", \"dude\"]\n",
        "\n",
        "# Probar cada cadena\n",
        "for cadena in cadenas:\n",
        "    if re.search(patron, cadena):\n",
        "        print(f'\"{cadena}\": Sí – Coincide con el patrón')\n",
        "    else:\n",
        "        print(f'\"{cadena}\": No – No hay coincidencia')\n"
      ],
      "metadata": {
        "colab": {
          "base_uri": "https://localhost:8080/"
        },
        "id": "jfcPELIW71DY",
        "outputId": "81a79381-ce0f-42ee-d9d4-766bb9e8f55e"
      },
      "execution_count": 71,
      "outputs": [
        {
          "output_type": "stream",
          "name": "stdout",
          "text": [
            "\"a\": Sí – Coincide con el patrón\n",
            "\"Before\": Sí – Coincide con el patrón\n",
            "\"dude\": Sí – Coincide con el patrón\n"
          ]
        }
      ]
    },
    {
      "cell_type": "code",
      "source": [
        "import re\n",
        "\n",
        "# Expresión regular\n",
        "patron = r\"[a-zD]\"\n",
        "\n",
        "# Lista de cadenas para probar\n",
        "cadenas = [\"a\", \"Before\", \"dude\"]\n",
        "\n",
        "# Probar cada cadena\n",
        "for cadena in cadenas:\n",
        "    if re.search(patron, cadena):\n",
        "        print(f'\"{cadena}\": Sí – Coincide con el patrón')\n",
        "    else:\n",
        "        print(f'\"{cadena}\": No – No hay coincidencia')\n"
      ],
      "metadata": {
        "colab": {
          "base_uri": "https://localhost:8080/"
        },
        "id": "duLidz_o7-0U",
        "outputId": "74a7e06a-1573-45f8-f3b1-68eb9450b552"
      },
      "execution_count": 73,
      "outputs": [
        {
          "output_type": "stream",
          "name": "stdout",
          "text": [
            "\"a\": Sí – Coincide con el patrón\n",
            "\"Before\": Sí – Coincide con el patrón\n",
            "\"dude\": Sí – Coincide con el patrón\n"
          ]
        }
      ]
    },
    {
      "cell_type": "code",
      "source": [
        "import re\n",
        "\n",
        "# Expresión regular\n",
        "patron = r\"^abc\"\n",
        "\n",
        "# Lista de cadenas para probar\n",
        "cadenas = [\"a\", \"Before\", \"dude\"]\n",
        "\n",
        "# Probar cada cadena\n",
        "for cadena in cadenas:\n",
        "    if re.search(patron, cadena):\n",
        "        print(f'\"{cadena}\": Sí – Coincide con el patrón')\n",
        "    else:\n",
        "        print(f'\"{cadena}\": No – No hay coincidencia')\n"
      ],
      "metadata": {
        "colab": {
          "base_uri": "https://localhost:8080/"
        },
        "id": "ZOa3YZmr8xlB",
        "outputId": "82c533be-258f-4056-b3bc-8abf6f588953"
      },
      "execution_count": 78,
      "outputs": [
        {
          "output_type": "stream",
          "name": "stdout",
          "text": [
            "\"a\": No – No hay coincidencia\n",
            "\"Before\": No – No hay coincidencia\n",
            "\"dude\": No – No hay coincidencia\n"
          ]
        }
      ]
    },
    {
      "cell_type": "code",
      "source": [
        "import re\n",
        "\n",
        "# Expresión regular\n",
        "patron = r\"^abc\"\n",
        "\n",
        "# Lista de cadenas para probar\n",
        "cadenas = [\"a\", \"Before\", \"dude\", \"abcdef\"]\n",
        "\n",
        "# Probar cada cadena\n",
        "for cadena in cadenas:\n",
        "    if re.search(patron, cadena):\n",
        "        print(f'\"{cadena}\": Sí – Coincide con el patrón')\n",
        "    else:\n",
        "        print(f'\"{cadena}\": No – No hay coincidencia')\n"
      ],
      "metadata": {
        "colab": {
          "base_uri": "https://localhost:8080/"
        },
        "id": "-PK5afkf82Dt",
        "outputId": "a1a3c8c9-a173-40e8-f937-b3b0eff03762"
      },
      "execution_count": 79,
      "outputs": [
        {
          "output_type": "stream",
          "name": "stdout",
          "text": [
            "\"a\": No – No hay coincidencia\n",
            "\"Before\": No – No hay coincidencia\n",
            "\"dude\": No – No hay coincidencia\n",
            "\"abcdef\": Sí – Coincide con el patrón\n"
          ]
        }
      ]
    },
    {
      "cell_type": "code",
      "source": [
        "# Target strings.\n",
        "x1 = \"That is your book.\"\n",
        "x2 = \"This is my book.\"\n"
      ],
      "metadata": {
        "id": "iy2Y-K_L8W2Z"
      },
      "execution_count": 76,
      "outputs": []
    },
    {
      "cell_type": "code",
      "source": [
        "# A regular expression.\n",
        "my_exp = \"^This\""
      ],
      "metadata": {
        "id": "AcYICfr98sUI"
      },
      "execution_count": 77,
      "outputs": []
    },
    {
      "cell_type": "code",
      "source": [
        "if re.search(my_exp, x1):\n",
        "    print(\"Yes!\")\n",
        "else:\n",
        "    print(\"No\")"
      ],
      "metadata": {
        "colab": {
          "base_uri": "https://localhost:8080/"
        },
        "id": "o9EdkDDQ88at",
        "outputId": "6301afba-f32c-44da-84f0-195b41ca1659"
      },
      "execution_count": 80,
      "outputs": [
        {
          "output_type": "stream",
          "name": "stdout",
          "text": [
            "No\n"
          ]
        }
      ]
    },
    {
      "cell_type": "code",
      "source": [
        "if re.search(my_exp, x2):\n",
        "    print(\"Yes!\")\n",
        "else:\n",
        "    print(\"No\")"
      ],
      "metadata": {
        "colab": {
          "base_uri": "https://localhost:8080/"
        },
        "id": "zIxi3bGF8-jr",
        "outputId": "05edb5b7-c09b-4497-90b0-29582466be2e"
      },
      "execution_count": 81,
      "outputs": [
        {
          "output_type": "stream",
          "name": "stdout",
          "text": [
            "Yes!\n"
          ]
        }
      ]
    },
    {
      "cell_type": "markdown",
      "source": [
        "\n",
        "# Metacaracteres en Expresiones Regulares: `[]` y `[^]`\n",
        "\n",
        "Las expresiones regulares utilizan metacaracteres para construir patrones de búsqueda complejos. Aquí nos enfocamos en los corchetes `[]` y su versión negada `[^]`, junto con abreviaciones muy utilizadas en Python.\n",
        "\n",
        "---\n",
        "\n",
        "## `[]` – Conjunto de caracteres permitidos\n",
        "\n",
        "Se usa para definir un conjunto de caracteres que pueden coincidir.\n",
        "\n",
        "- `[aeiou]` coincide con cualquier vocal.\n",
        "- `[0-9]` coincide con cualquier dígito del 0 al 9.\n",
        "- `[a-zA-Z0-9_]` coincide con letras, números o guion bajo.\n",
        "\n",
        "## `[^]` – Conjunto negado\n",
        "\n",
        "Colocar un `^` dentro de los corchetes niega el conjunto: coincide con cualquier carácter **que NO esté** en el grupo.\n",
        "\n",
        "- `[^aeiou]` coincide con cualquier carácter que no sea vocal.\n",
        "- `[^0-9]` coincide con cualquier carácter que no sea número.\n",
        "\n",
        "---\n",
        "\n",
        "## Abreviaciones útiles en regex\n",
        "\n",
        "| Abreviación | Equivalente       | Significado                                               |\n",
        "|-------------|-------------------|-----------------------------------------------------------|\n",
        "| `\\w`       | `[a-zA-Z0-9_]`    | Carácter alfanumérico o guion bajo                       |\n",
        "| `\\W`       | `[^a-zA-Z0-9_]`   | Cualquier carácter que **no** sea alfanumérico o `_`     |\n",
        "| `\\d`       | `[0-9]`           | Cualquier dígito                                           |\n",
        "| `\\D`       | `[^0-9]`          | Cualquier carácter que no sea un número                   |\n",
        "| `\\s`       | espacio en blanco | Cualquier espacio, tabulación o salto de línea            |\n",
        "| `\\S`       | no espacio        | Cualquier carácter que no sea espacio                     |\n",
        "\n",
        "---\n",
        "\n",
        "## Ejemplos prácticos en Python\n",
        "\n",
        "```python\n",
        "import re\n",
        "\n",
        "texto = \"Python 3.10 es genial!\"\n",
        "\n",
        "# Palabras completas (alfanuméricos)\n",
        "print(re.findall(r\"\\w+\", texto))  # ['Python', '3', '10', 'es', 'genial']\n",
        "\n",
        "# Dígitos\n",
        "print(re.findall(r\"\\d\", texto))  # ['3', '1', '0']\n",
        "\n",
        "# No dígitos\n",
        "print(re.findall(r\"\\D\", texto))  # ['P', 'y', 't', 'h', 'o', 'n', ' ', '.', ' ', 'e', 's', ' ', 'g', 'e', 'n', 'i', 'a', 'l', '!']\n",
        "\n",
        "# Espacios\n",
        "print(re.findall(r\"\\s\", texto))  # [' ', ' ', ' ']\n",
        "\n",
        "# Caracteres que no son espacios\n",
        "print(re.findall(r\"\\S\", texto))  # ['P', 'y', 't', 'h', 'o', 'n', '3', '.', '1', '0', 'e', 's', 'g', 'e', 'n', 'i', 'a', 'l', '!']\n",
        "```\n",
        "\n",
        "---\n",
        "\n",
        "## Desafío\n",
        "\n",
        "Usa expresiones regulares para hacer lo siguiente:\n",
        "\n",
        "1. Encontrar todas las palabras en un texto.\n",
        "2. Extraer sólo los números.\n",
        "3. Detectar todas las letras mayúsculas.\n",
        "4. Detectar todos los caracteres que no sean letras ni números.\n"
      ],
      "metadata": {
        "id": "WrcFBCJVB0qN"
      }
    },
    {
      "cell_type": "code",
      "source": [
        "import re\n",
        "\n",
        "textoPython = \"Python 3.10 es genial!\"\n",
        "\n"
      ],
      "metadata": {
        "id": "DAX5HhsRBAGw"
      },
      "execution_count": 82,
      "outputs": []
    },
    {
      "cell_type": "code",
      "source": [
        "# Palabras completas (alfanuméricos)\n",
        "print(re.findall(r\"\\w+\", textoPython))"
      ],
      "metadata": {
        "colab": {
          "base_uri": "https://localhost:8080/"
        },
        "id": "W7_aTNrPDNec",
        "outputId": "9921db92-6c91-455b-b54e-5d2d338ddb3d"
      },
      "execution_count": 83,
      "outputs": [
        {
          "output_type": "stream",
          "name": "stdout",
          "text": [
            "['Python', '3', '10', 'es', 'genial']\n"
          ]
        }
      ]
    },
    {
      "cell_type": "code",
      "source": [
        "print(re.findall(r\"\\W+\", textoPython))"
      ],
      "metadata": {
        "colab": {
          "base_uri": "https://localhost:8080/"
        },
        "id": "Gqc3mDn2DYfB",
        "outputId": "5b0408c4-4f79-4318-8171-d930dc9b15c1"
      },
      "execution_count": 84,
      "outputs": [
        {
          "output_type": "stream",
          "name": "stdout",
          "text": [
            "[' ', '.', ' ', ' ', '!']\n"
          ]
        }
      ]
    },
    {
      "cell_type": "code",
      "source": [
        "# Dígitos\n",
        "print(re.findall(r\"\\d\", textoPython))"
      ],
      "metadata": {
        "colab": {
          "base_uri": "https://localhost:8080/"
        },
        "id": "OKuC2MigDfEg",
        "outputId": "6fe1daae-233f-4c33-aedb-c23456f35295"
      },
      "execution_count": 85,
      "outputs": [
        {
          "output_type": "stream",
          "name": "stdout",
          "text": [
            "['3', '1', '0']\n"
          ]
        }
      ]
    },
    {
      "cell_type": "code",
      "source": [
        "# No Dígitos\n",
        "print(re.findall(r\"\\D\", textoPython))"
      ],
      "metadata": {
        "colab": {
          "base_uri": "https://localhost:8080/"
        },
        "id": "-yWDx9q2Dh4l",
        "outputId": "28b1e621-9148-4170-de3c-cd71aa7d5b8b"
      },
      "execution_count": 86,
      "outputs": [
        {
          "output_type": "stream",
          "name": "stdout",
          "text": [
            "['P', 'y', 't', 'h', 'o', 'n', ' ', '.', ' ', 'e', 's', ' ', 'g', 'e', 'n', 'i', 'a', 'l', '!']\n"
          ]
        }
      ]
    },
    {
      "cell_type": "code",
      "source": [
        "# Espacios\n",
        "print(re.findall(r\"\\s\", textoPython))"
      ],
      "metadata": {
        "colab": {
          "base_uri": "https://localhost:8080/"
        },
        "id": "moIZo0eEDosB",
        "outputId": "7ed3989f-23bd-4d37-8349-c3f0abbd7a5f"
      },
      "execution_count": 87,
      "outputs": [
        {
          "output_type": "stream",
          "name": "stdout",
          "text": [
            "[' ', ' ', ' ']\n"
          ]
        }
      ]
    },
    {
      "cell_type": "code",
      "source": [
        "# NO Espacios\n",
        "print(re.findall(r\"\\S\", textoPython))"
      ],
      "metadata": {
        "colab": {
          "base_uri": "https://localhost:8080/"
        },
        "id": "kmETpYHJDrPp",
        "outputId": "857a97ca-c837-4293-e744-3467a555bf5a"
      },
      "execution_count": 88,
      "outputs": [
        {
          "output_type": "stream",
          "name": "stdout",
          "text": [
            "['P', 'y', 't', 'h', 'o', 'n', '3', '.', '1', '0', 'e', 's', 'g', 'e', 'n', 'i', 'a', 'l', '!']\n"
          ]
        }
      ]
    },
    {
      "cell_type": "markdown",
      "source": [
        "# Ejercicios Avanzados de Expresiones Regulares\n",
        "\n",
        "A continuación se presentan varios ejercicios prácticos para reforzar el uso de expresiones regulares en Python.\n",
        "\n",
        "---\n",
        "\n",
        "## Ejercicio 1: Extracción de Contactos\n",
        "\n",
        "Dado el siguiente texto, extraiga nombre, teléfono y correo de cada persona.\n",
        "\n",
        "```python\n",
        "import re\n",
        "\n",
        "texto = '''\n",
        "Nombre: Ana Torres, Teléfono: +56 9 9876 5432, Email: ana.torres@gmail.com\n",
        "Nombre: Luis Rojas, Teléfono: +56 9 1234 5678, Email: lrojas1990@yahoo.com\n",
        "Nombre: Marta Pérez, Teléfono: +56 9 4444 3333, Email: marta.p@hotmail.cl\n",
        "'''\n",
        "\n",
        "patron = r\"Nombre: ([A-ZÁÉÍÓÚÑ][a-záéíóúñ]+ [A-ZÁÉÍÓÚÑ][a-záéíóúñ]+), Teléfono: (\\+56 9 \\d{4} \\d{4}), Email: ([\\w\\.-]+@[\\w\\.-]+\\.\\w+)\"\n",
        "\n",
        "resultados = re.findall(patron, texto)\n",
        "\n",
        "for nombre, telefono, email in resultados:\n",
        "    print(f\"Nombre: {nombre}\")\n",
        "    print(f\"Teléfono: {telefono}\")\n",
        "    print(f\"Email: {email}\")\n",
        "    print(\"---\")\n",
        "```\n",
        "\n",
        "---\n",
        "\n",
        "## Ejercicio 2: Validar RUT Chileno\n",
        "\n",
        "Valide si los RUTs están en un formato válido.\n",
        "\n",
        "```python\n",
        "import re\n",
        "\n",
        "ruts = [\n",
        "    \"12.345.678-5\",\n",
        "    \"7.654.321-K\",\n",
        "    \"12345678-9\",\n",
        "    \"12.345.678-0\"\n",
        "]\n",
        "\n",
        "patron = r\"^\\d{1,2}\\.\\d{3}\\.\\d{3}-[\\dkK]$\"\n",
        "\n",
        "for rut in ruts:\n",
        "    print(f\"{rut}: {'Válido' if re.match(patron, rut) else 'Inválido'}\")\n",
        "```\n",
        "\n",
        "---\n",
        "\n",
        "## Ejercicio 3: Detectar URLs en un texto\n",
        "\n",
        "Extraiga todos los enlaces web de un párrafo.\n",
        "\n",
        "```python\n",
        "import re\n",
        "\n",
        "texto = \"Visita nuestro sitio en https://www.ejemplo.com o síguenos en http://blog.ejemplo.org.\"\n",
        "\n",
        "urls = re.findall(r\"https?://[\\w\\.-]+\", texto)\n",
        "print(urls)\n",
        "```\n",
        "\n",
        "---\n",
        "\n",
        "## Ejercicio 4: Detectar Horarios\n",
        "\n",
        "Encuentre todas las horas en formato 24h en un texto.\n",
        "\n",
        "```python\n",
        "import re\n",
        "\n",
        "agenda = \"Las reuniones son a las 09:00, 14:30 y 18:45. No hay reunión a las 25:00.\"\n",
        "\n",
        "horas = re.findall(r\"\\b([01]?\\d|2[0-3]):[0-5]\\d\\b\", agenda)\n",
        "print(horas)\n",
        "```\n",
        "\n",
        "---\n",
        "\n",
        "## Ejercicio 5: Extraer hashtags de publicaciones\n",
        "\n",
        "```python\n",
        "import re\n",
        "\n",
        "post = \"Hoy estuvimos trabajando en el proyecto #AI y #Python. ¡Muy productivo! #Innovación\"\n",
        "\n",
        "hashtags = re.findall(r\"#\\w+\", post)\n",
        "print(hashtags)\n",
        "```\n",
        "\n",
        "---\n",
        "\n",
        "## Ejercicio 6: Extraer años desde texto histórico\n",
        "\n",
        "```python\n",
        "import re\n",
        "\n",
        "texto = \"Chile logró su independencia en 1818 y la dictadura terminó en 1990.\"\n",
        "\n",
        "anios = re.findall(r\"\\b(18\\d{2}|19\\d{2}|20\\d{2})\\b\", texto)\n",
        "print(anios)\n",
        "```\n",
        "\n",
        "---\n",
        "\n",
        "## Ejercicio 7: Identificar palabras repetidas\n",
        "\n",
        "```python\n",
        "import re\n",
        "\n",
        "frase = \"Este es un ejemplo ejemplo con palabras repetidas repetidas.\"\n",
        "\n",
        "repetidas = re.findall(r\"\\b(\\w+) \\1\\b\", frase)\n",
        "print(repetidas)\n",
        "```\n"
      ],
      "metadata": {
        "id": "qUF94SnUA-io"
      }
    },
    {
      "cell_type": "code",
      "source": [
        "texto = '''\n",
        "Nombre: Ana Torres, Teléfono: +56 9 9876 5432, Email: ana.torres@gmail.com\n",
        "Nombre: Luis Rojas, Teléfono: +56 9 1234 5678, Email: lrojas1990@yahoo.com\n",
        "Nombre: Marta Pérez, Teléfono: +56 9 4444 3333, Email: marta.p@hotmail.cl\n",
        "'''\n",
        "\n",
        "patron = r\"Nombre: ([A-ZÁÉÍÓÚÑ][a-záéíóúñ]+ [A-ZÁÉÍÓÚÑ][a-záéíóúñ]+), Teléfono: (\\+56 9 \\d{4} \\d{4}), Email: ([\\w\\.-]+@[\\w\\.-]+\\.\\w+)\"\n",
        "\n",
        "resultados = re.findall(patron, texto)\n",
        "\n",
        "for nombre, telefono, email in resultados:\n",
        "    print(f\"Nombre: {nombre}\")\n",
        "    print(f\"Teléfono: {telefono}\")\n",
        "    print(f\"Email: {email}\")\n",
        "    print(\"---\")"
      ],
      "metadata": {
        "colab": {
          "base_uri": "https://localhost:8080/"
        },
        "id": "Enspc-cUF0y_",
        "outputId": "8a58137d-5433-4f10-b64d-da640c8f0915"
      },
      "execution_count": 89,
      "outputs": [
        {
          "output_type": "stream",
          "name": "stdout",
          "text": [
            "Nombre: Ana Torres\n",
            "Teléfono: +56 9 9876 5432\n",
            "Email: ana.torres@gmail.com\n",
            "---\n",
            "Nombre: Luis Rojas\n",
            "Teléfono: +56 9 1234 5678\n",
            "Email: lrojas1990@yahoo.com\n",
            "---\n",
            "Nombre: Marta Pérez\n",
            "Teléfono: +56 9 4444 3333\n",
            "Email: marta.p@hotmail.cl\n",
            "---\n"
          ]
        }
      ]
    },
    {
      "cell_type": "code",
      "source": [
        "texto = '''\n",
        "Nombre: Ana Torres, Teléfono: +56 9 9876 5432, Email: ana.torres@gmail.com\n",
        "Nombre: Luis de la Torre, Teléfono: +56 9 1234 5678, Email: lrojas1990@yahoo.com\n",
        "Nombre: Marta Pérez, Teléfono: +56 9 4444 3333, Email: marta.p@hotmail.cl\n",
        "'''\n",
        "\n",
        "patron = r\"Nombre: ([A-ZÁÉÍÓÚÑ][a-záéíóúñ]+ [A-ZÁÉÍÓÚÑ][a-záéíóúñ]+), Teléfono: (\\+56 9 \\d{4} \\d{4}), Email: ([\\w\\.-]+@[\\w\\.-]+\\.\\w+)\"\n",
        "\n",
        "resultados = re.findall(patron, texto)\n",
        "\n",
        "for nombre, telefono, email in resultados:\n",
        "    print(f\"Nombre: {nombre}\")\n",
        "    print(f\"Teléfono: {telefono}\")\n",
        "    print(f\"Email: {email}\")\n",
        "    print(\"---\")"
      ],
      "metadata": {
        "colab": {
          "base_uri": "https://localhost:8080/"
        },
        "id": "_YPg_NAqF8TA",
        "outputId": "f870b359-60a3-45ca-8190-2d43e092e7e8"
      },
      "execution_count": 90,
      "outputs": [
        {
          "output_type": "stream",
          "name": "stdout",
          "text": [
            "Nombre: Ana Torres\n",
            "Teléfono: +56 9 9876 5432\n",
            "Email: ana.torres@gmail.com\n",
            "---\n",
            "Nombre: Marta Pérez\n",
            "Teléfono: +56 9 4444 3333\n",
            "Email: marta.p@hotmail.cl\n",
            "---\n"
          ]
        }
      ]
    },
    {
      "cell_type": "code",
      "source": [
        "texto = '''\n",
        "Nombre: Vincent van Gogh, Teléfono: +56 9 9876 5432, Email: ana.torres@gmail.com\n",
        "Nombre: Luis de la Torre, Teléfono: +56 9 1234 5678, Email: lrojas1990@yahoo.com\n",
        "Nombre: Marta Pérez, Teléfono: +56 9 4444 3333, Email: marta.p@hotmail.cl\n",
        "'''\n",
        "\n",
        "patron = r\"Nombre: ([A-ZÁÉÍÓÚÑ][a-záéíóúñ]+ [A-ZÁÉÍÓÚÑ][a-záéíóúñ]+), Teléfono: (\\+56 9 \\d{4} \\d{4}), Email: ([\\w\\.-]+@[\\w\\.-]+\\.\\w+)\"\n",
        "\n",
        "resultados = re.findall(patron, texto)\n",
        "\n",
        "for nombre, telefono, email in resultados:\n",
        "    print(f\"Nombre: {nombre}\")\n",
        "    print(f\"Teléfono: {telefono}\")\n",
        "    print(f\"Email: {email}\")\n",
        "    print(\"---\")"
      ],
      "metadata": {
        "colab": {
          "base_uri": "https://localhost:8080/"
        },
        "id": "GTlLTtDGGJOp",
        "outputId": "78a77f33-f537-4b13-8701-ca47b4800d4b"
      },
      "execution_count": 91,
      "outputs": [
        {
          "output_type": "stream",
          "name": "stdout",
          "text": [
            "Nombre: Marta Pérez\n",
            "Teléfono: +56 9 4444 3333\n",
            "Email: marta.p@hotmail.cl\n",
            "---\n"
          ]
        }
      ]
    },
    {
      "cell_type": "code",
      "source": [
        "import re\n",
        "\n",
        "ruts = [\n",
        "    \"12.345.678-5\",\n",
        "    \"7.654.321-K\",\n",
        "    \"12345678-9\",\n",
        "    \"12.345.678-0\"\n",
        "]\n",
        "\n",
        "patron = r\"^\\d{1,2}\\.\\d{3}\\.\\d{3}-[\\dkK]$\"\n",
        "\n",
        "for rut in ruts:\n",
        "    print(f\"{rut}: {'Válido' if re.match(patron, rut) else 'Inválido'}\")"
      ],
      "metadata": {
        "colab": {
          "base_uri": "https://localhost:8080/"
        },
        "id": "i4485Pt_GbbQ",
        "outputId": "91aafc6d-8d40-4a1b-d97a-d1164a297abf"
      },
      "execution_count": 92,
      "outputs": [
        {
          "output_type": "stream",
          "name": "stdout",
          "text": [
            "12.345.678-5: Válido\n",
            "7.654.321-K: Válido\n",
            "12345678-9: Inválido\n",
            "12.345.678-0: Válido\n"
          ]
        }
      ]
    },
    {
      "cell_type": "markdown",
      "source": [
        "para los que quieran practicar expresiones regulares, sirve mucho https://regex101.com/\n"
      ],
      "metadata": {
        "id": "5RJdowdNG6ka"
      }
    },
    {
      "cell_type": "code",
      "source": [
        "import re\n",
        "\n",
        "texto = \"Visita nuestro sitio en https://www.ejemplo.com o síguenos en http://blog.ejemplo.org.\"\n",
        "\n",
        "urls = re.findall(r\"https?://[\\w\\.-]+\", texto)\n",
        "print(urls)"
      ],
      "metadata": {
        "colab": {
          "base_uri": "https://localhost:8080/"
        },
        "id": "l1hdupbJG7IV",
        "outputId": "cc8e5785-8e1e-41ac-fcfa-1aca9a5e77ee"
      },
      "execution_count": 93,
      "outputs": [
        {
          "output_type": "stream",
          "name": "stdout",
          "text": [
            "['https://www.ejemplo.com', 'http://blog.ejemplo.org.']\n"
          ]
        }
      ]
    },
    {
      "cell_type": "code",
      "source": [
        "import re\n",
        "\n",
        "agenda = \"Las reuniones son a las 09:00, 14:30 y 18:45. No hay reunión a las 25:00.\"\n",
        "\n",
        "horas = re.findall(r\"\\b([01]?\\d|2[0-3]):[0-5]\\d\\b\", agenda)\n",
        "print(horas)"
      ],
      "metadata": {
        "colab": {
          "base_uri": "https://localhost:8080/"
        },
        "id": "RHCorzpuHXqo",
        "outputId": "cdb82615-da8e-40fb-b7e3-d0ae33436cda"
      },
      "execution_count": 94,
      "outputs": [
        {
          "output_type": "stream",
          "name": "stdout",
          "text": [
            "['09', '14', '18']\n"
          ]
        }
      ]
    },
    {
      "cell_type": "code",
      "source": [
        "import re\n",
        "\n",
        "post = \"Hoy estuvimos trabajando en el proyecto #AI y #Python. ¡Muy productivo! #Innovación\"\n",
        "\n",
        "hashtags = re.findall(r\"#\\w+\", post)\n",
        "print(hashtags)"
      ],
      "metadata": {
        "colab": {
          "base_uri": "https://localhost:8080/"
        },
        "id": "LRDfB4euHc8X",
        "outputId": "664ae921-ee1c-4b0a-e7ab-d192c9e65458"
      },
      "execution_count": 95,
      "outputs": [
        {
          "output_type": "stream",
          "name": "stdout",
          "text": [
            "['#AI', '#Python', '#Innovación']\n"
          ]
        }
      ]
    },
    {
      "cell_type": "code",
      "source": [
        "import re\n",
        "\n",
        "texto = \"Chile logró su independencia en 1818 y la dictadura terminó en 1990.\"\n",
        "\n",
        "anios = re.findall(r\"\\b(18\\d{2}|19\\d{2}|20\\d{2})\\b\", texto)\n",
        "print(anios)"
      ],
      "metadata": {
        "colab": {
          "base_uri": "https://localhost:8080/"
        },
        "id": "BVmmKFaDHe-I",
        "outputId": "0b0667f6-059f-47cf-8164-e4dd974ea55d"
      },
      "execution_count": 96,
      "outputs": [
        {
          "output_type": "stream",
          "name": "stdout",
          "text": [
            "['1818', '1990']\n"
          ]
        }
      ]
    },
    {
      "cell_type": "code",
      "source": [
        "import re\n",
        "\n",
        "frase = \"Este es un ejemplo ejemplo con palabras repetidas repetidas.\"\n",
        "\n",
        "repetidas = re.findall(r\"\\b(\\w+) \\1\\b\", frase)\n",
        "print(repetidas)"
      ],
      "metadata": {
        "colab": {
          "base_uri": "https://localhost:8080/"
        },
        "id": "wBkRm9QNHqJJ",
        "outputId": "a2c1ace5-4e1a-4cb5-c022-fa043fa8e4f2"
      },
      "execution_count": 97,
      "outputs": [
        {
          "output_type": "stream",
          "name": "stdout",
          "text": [
            "['ejemplo', 'repetidas']\n"
          ]
        }
      ]
    },
    {
      "cell_type": "markdown",
      "source": [
        "# Quedamos en la p 46"
      ],
      "metadata": {
        "id": "G8IJEnsHIUzs"
      }
    }
  ]
}