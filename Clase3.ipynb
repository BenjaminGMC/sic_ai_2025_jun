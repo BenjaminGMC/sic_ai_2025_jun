{
  "nbformat": 4,
  "nbformat_minor": 0,
  "metadata": {
    "colab": {
      "provenance": [],
      "authorship_tag": "ABX9TyOkgAGQx2zDBuA74Cx07MIh",
      "include_colab_link": true
    },
    "kernelspec": {
      "name": "python3",
      "display_name": "Python 3"
    },
    "language_info": {
      "name": "python"
    }
  },
  "cells": [
    {
      "cell_type": "markdown",
      "metadata": {
        "id": "view-in-github",
        "colab_type": "text"
      },
      "source": [
        "<a href=\"https://colab.research.google.com/github/davidlealo/sic_ai_2025_jun/blob/main/Clase3.ipynb\" target=\"_parent\"><img src=\"https://colab.research.google.com/assets/colab-badge.svg\" alt=\"Open In Colab\"/></a>"
      ]
    },
    {
      "cell_type": "markdown",
      "source": [
        "### Concatenación de listas en Python\n",
        "\n",
        "Cuando quieres unir dos listas en Python, puedes usar el operador `+`, pero **esto no modifica las listas originales**, sino que crea una nueva lista con los elementos de ambas.\n",
        "\n",
        "```python\n",
        "a = [1, 2, 3]\n",
        "b = [4, 5, 6]\n",
        "\n",
        "c = a + b  # Concatenación: crea una nueva lista\n",
        "print(c)   # [1, 2, 3, 4, 5, 6]\n"
      ],
      "metadata": {
        "id": "xULsaJpw--GN"
      }
    },
    {
      "cell_type": "code",
      "execution_count": 1,
      "metadata": {
        "colab": {
          "base_uri": "https://localhost:8080/"
        },
        "id": "_5_aP4y8-Vfa",
        "outputId": "1e226787-eb3e-48ae-a44d-7ff3d42f84bc"
      },
      "outputs": [
        {
          "output_type": "stream",
          "name": "stdout",
          "text": [
            "[1, 2, 3, 4, 5, 6]\n"
          ]
        }
      ],
      "source": [
        "a = [1, 2, 3]\n",
        "b = [4, 5, 6]\n",
        "\n",
        "c = a + b  # Concatenación: crea una nueva lista\n",
        "print(c)   # [1, 2, 3, 4, 5, 6]"
      ]
    },
    {
      "cell_type": "markdown",
      "source": [
        "### Operaciones con arrays en NumPy\n",
        "\n",
        "En cambio, si usamos **NumPy**, al realizar el mismo tipo de operación (`+`), se **sumará elemento a elemento**, es decir, se suma el valor del índice `i` del primer array con el valor del índice `i` del segundo array.\n",
        "\n",
        "Este comportamiento se llama **operación vectorizada** y es mucho más eficiente que usar bucles.\n",
        "\n",
        "```python\n",
        "import numpy as np\n",
        "\n",
        "a = np.array([1, 2, 3])\n",
        "b = np.array([4, 5, 6])\n",
        "\n",
        "c = a + b\n",
        "print(c)  # [5 7 9]\n"
      ],
      "metadata": {
        "id": "vXasiZqy_Jvr"
      }
    }
  ]
}