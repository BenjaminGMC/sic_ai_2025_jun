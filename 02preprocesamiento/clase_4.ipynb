{
  "nbformat": 4,
  "nbformat_minor": 0,
  "metadata": {
    "colab": {
      "provenance": [],
      "authorship_tag": "ABX9TyMwAlrCSxA4XMq9NJbckASv",
      "include_colab_link": true
    },
    "kernelspec": {
      "name": "python3",
      "display_name": "Python 3"
    },
    "language_info": {
      "name": "python"
    }
  },
  "cells": [
    {
      "cell_type": "markdown",
      "metadata": {
        "id": "view-in-github",
        "colab_type": "text"
      },
      "source": [
        "<a href=\"https://colab.research.google.com/github/davidlealo/sic_ai_2025_jun/blob/main/02preprocesamiento/clase_4.ipynb\" target=\"_parent\"><img src=\"https://colab.research.google.com/assets/colab-badge.svg\" alt=\"Open In Colab\"/></a>"
      ]
    },
    {
      "cell_type": "code",
      "execution_count": 1,
      "metadata": {
        "id": "KQ9pZ4hkHLea"
      },
      "outputs": [],
      "source": [
        "import pandas as pd"
      ]
    },
    {
      "cell_type": "markdown",
      "source": [
        "### Crear DF desde diccionario"
      ],
      "metadata": {
        "id": "KCxMhDxXSXvq"
      }
    },
    {
      "cell_type": "code",
      "source": [
        "df = pd.DataFrame({'Name': [\"Sebastián\", \"Alicia\"], 'Edad': [25, 24], 'Género': [\"Masculino\", \"Femenino\"]})\n",
        "print(df)"
      ],
      "metadata": {
        "colab": {
          "base_uri": "https://localhost:8080/"
        },
        "id": "RXCNiUNoO-MF",
        "outputId": "9a0ece16-7569-4d99-e57c-1d8b40a0fa62"
      },
      "execution_count": 4,
      "outputs": [
        {
          "output_type": "stream",
          "name": "stdout",
          "text": [
            "        Name  Edad     Género\n",
            "0  Sebastián    25  Masculino\n",
            "1     Alicia    24   Femenino\n"
          ]
        }
      ]
    },
    {
      "cell_type": "code",
      "source": [
        "df[\"Name\"]"
      ],
      "metadata": {
        "colab": {
          "base_uri": "https://localhost:8080/",
          "height": 147
        },
        "id": "_pGl_yPxPWnr",
        "outputId": "5b609a52-94da-4c7b-8e2d-97ee7610e28e"
      },
      "execution_count": 5,
      "outputs": [
        {
          "output_type": "execute_result",
          "data": {
            "text/plain": [
              "0    Sebastián\n",
              "1       Alicia\n",
              "Name: Name, dtype: object"
            ],
            "text/html": [
              "<div>\n",
              "<style scoped>\n",
              "    .dataframe tbody tr th:only-of-type {\n",
              "        vertical-align: middle;\n",
              "    }\n",
              "\n",
              "    .dataframe tbody tr th {\n",
              "        vertical-align: top;\n",
              "    }\n",
              "\n",
              "    .dataframe thead th {\n",
              "        text-align: right;\n",
              "    }\n",
              "</style>\n",
              "<table border=\"1\" class=\"dataframe\">\n",
              "  <thead>\n",
              "    <tr style=\"text-align: right;\">\n",
              "      <th></th>\n",
              "      <th>Name</th>\n",
              "    </tr>\n",
              "  </thead>\n",
              "  <tbody>\n",
              "    <tr>\n",
              "      <th>0</th>\n",
              "      <td>Sebastián</td>\n",
              "    </tr>\n",
              "    <tr>\n",
              "      <th>1</th>\n",
              "      <td>Alicia</td>\n",
              "    </tr>\n",
              "  </tbody>\n",
              "</table>\n",
              "</div><br><label><b>dtype:</b> object</label>"
            ]
          },
          "metadata": {},
          "execution_count": 5
        }
      ]
    },
    {
      "cell_type": "markdown",
      "source": [
        "### Cambiar valor en DF"
      ],
      "metadata": {
        "id": "zohZysMMScDc"
      }
    },
    {
      "cell_type": "code",
      "source": [
        "# Quiero cambiar en df[\"Género\"] los valores Masculino  por 0 y Femenino por 1\n",
        "df[\"Género\"] = df[\"Género\"].replace({\"Masculino\": 0, \"Femenino\": 1})\n",
        "print(df)"
      ],
      "metadata": {
        "colab": {
          "base_uri": "https://localhost:8080/"
        },
        "id": "bjAn7ZXwPld6",
        "outputId": "5a26241a-7653-4b28-f741-bd448151cdb2"
      },
      "execution_count": 6,
      "outputs": [
        {
          "output_type": "stream",
          "name": "stdout",
          "text": [
            "        Name  Edad  Género\n",
            "0  Sebastián    25       0\n",
            "1     Alicia    24       1\n"
          ]
        },
        {
          "output_type": "stream",
          "name": "stderr",
          "text": [
            "/tmp/ipython-input-6-1301039323.py:2: FutureWarning: Downcasting behavior in `replace` is deprecated and will be removed in a future version. To retain the old behavior, explicitly call `result.infer_objects(copy=False)`. To opt-in to the future behavior, set `pd.set_option('future.no_silent_downcasting', True)`\n",
            "  df[\"Género\"] = df[\"Género\"].replace({\"Masculino\": 0, \"Femenino\": 1})\n"
          ]
        }
      ]
    },
    {
      "cell_type": "code",
      "source": [
        "df = pd.DataFrame({'Name': [\"Sebastián\", \"Alicia\", \"?\"], 'Edad': [ \"?\", 25, 24], 'Género': [\"Masculino\", \"?\", \"Femenino\"]})\n",
        "print(df)"
      ],
      "metadata": {
        "colab": {
          "base_uri": "https://localhost:8080/"
        },
        "id": "CcAGGfdhQdC-",
        "outputId": "92a0b0f3-5255-4ecb-ea2c-8b0f8e51ce8b"
      },
      "execution_count": 7,
      "outputs": [
        {
          "output_type": "stream",
          "name": "stdout",
          "text": [
            "        Name Edad     Género\n",
            "0  Sebastián    ?  Masculino\n",
            "1     Alicia   25          ?\n",
            "2          ?   24   Femenino\n"
          ]
        }
      ]
    },
    {
      "cell_type": "code",
      "source": [
        "df = df.replace({\"?\": 0})\n",
        "print(df)"
      ],
      "metadata": {
        "colab": {
          "base_uri": "https://localhost:8080/"
        },
        "id": "yZcHHNdqQv74",
        "outputId": "a78b9bfa-543e-4200-b5a5-217e6e6d4a9a"
      },
      "execution_count": 8,
      "outputs": [
        {
          "output_type": "stream",
          "name": "stdout",
          "text": [
            "        Name  Edad     Género\n",
            "0  Sebastián     0  Masculino\n",
            "1     Alicia    25          0\n",
            "2          0    24   Femenino\n"
          ]
        },
        {
          "output_type": "stream",
          "name": "stderr",
          "text": [
            "/tmp/ipython-input-8-805099131.py:1: FutureWarning: Downcasting behavior in `replace` is deprecated and will be removed in a future version. To retain the old behavior, explicitly call `result.infer_objects(copy=False)`. To opt-in to the future behavior, set `pd.set_option('future.no_silent_downcasting', True)`\n",
            "  df = df.replace({\"?\": 0})\n"
          ]
        }
      ]
    },
    {
      "cell_type": "markdown",
      "source": [
        "### Definir index en DF"
      ],
      "metadata": {
        "id": "sEppe20dSiTP"
      }
    },
    {
      "cell_type": "code",
      "source": [
        "df = pd.DataFrame({'Name': [\"Sebastián\", \"Alicia\", \"?\"], 'Edad': [ \"?\", 25, 24], 'Género': [\"Masculino\", \"?\", \"Femenino\"]}, index= [\"uno\", \"dos\", \"tres\"])\n",
        "print(df)"
      ],
      "metadata": {
        "colab": {
          "base_uri": "https://localhost:8080/"
        },
        "id": "epwO4duVROXS",
        "outputId": "e42c96b7-e988-4294-b380-6315fcca871d"
      },
      "execution_count": 9,
      "outputs": [
        {
          "output_type": "stream",
          "name": "stdout",
          "text": [
            "           Name Edad     Género\n",
            "uno   Sebastián    ?  Masculino\n",
            "dos      Alicia   25          ?\n",
            "tres          ?   24   Femenino\n"
          ]
        }
      ]
    },
    {
      "cell_type": "markdown",
      "source": [
        "### Definir columna en DF"
      ],
      "metadata": {
        "id": "L93dvwInSmWF"
      }
    },
    {
      "cell_type": "code",
      "source": [
        "df = pd.DataFrame([[\"Sebastián\", \"Alicia\", \"?\"], [ \"?\", 25, 24], [\"Masculino\", \"?\", \"Femenino\"]])\n",
        "print(df)"
      ],
      "metadata": {
        "colab": {
          "base_uri": "https://localhost:8080/"
        },
        "id": "Lmnf4ZioReaM",
        "outputId": "69481c95-b662-4507-84f2-c0c27df43d92"
      },
      "execution_count": 10,
      "outputs": [
        {
          "output_type": "stream",
          "name": "stdout",
          "text": [
            "           0       1         2\n",
            "0  Sebastián  Alicia         ?\n",
            "1          ?      25        24\n",
            "2  Masculino       ?  Femenino\n"
          ]
        }
      ]
    },
    {
      "cell_type": "code",
      "source": [
        "df = pd.DataFrame([[\"Sebastián\", \"Alicia\", \"?\"], [ \"?\", 25, 24], [\"Masculino\", \"?\", \"Femenino\"]], columns=[\"Nombre\", \"Edad\", \"Género\"])\n",
        "print(df)"
      ],
      "metadata": {
        "colab": {
          "base_uri": "https://localhost:8080/"
        },
        "id": "PRSrLSDnRmV_",
        "outputId": "572e9703-8fa4-4f35-8e61-a0b3cbbe60ea"
      },
      "execution_count": 11,
      "outputs": [
        {
          "output_type": "stream",
          "name": "stdout",
          "text": [
            "      Nombre    Edad    Género\n",
            "0  Sebastián  Alicia         ?\n",
            "1          ?      25        24\n",
            "2  Masculino       ?  Femenino\n"
          ]
        }
      ]
    },
    {
      "cell_type": "code",
      "source": [
        "df.columns"
      ],
      "metadata": {
        "colab": {
          "base_uri": "https://localhost:8080/"
        },
        "id": "Qa6f2PxxS4AO",
        "outputId": "7dca9d23-6652-486a-ca69-d97b6f3bac46"
      },
      "execution_count": 12,
      "outputs": [
        {
          "output_type": "execute_result",
          "data": {
            "text/plain": [
              "Index(['Nombre', 'Edad', 'Género'], dtype='object')"
            ]
          },
          "metadata": {},
          "execution_count": 12
        }
      ]
    },
    {
      "cell_type": "markdown",
      "source": [
        "### Ordenar valores de un DF"
      ],
      "metadata": {
        "id": "MDuCqIcuTLTP"
      }
    },
    {
      "cell_type": "code",
      "source": [
        "\n",
        "df = pd.DataFrame(\n",
        "    {\n",
        "        \"Nombre\": [\"Sebastián\", \"Alicia\", \"Génesis\", \"Ariel\"],\n",
        "        \"Edad\": [22, 26, 25, 24],\n",
        "        \"Género\": [\"Masculino\", \"Femenino\", \"Femenino\", \"Masculino\"]\n",
        "    },\n",
        "    index=[\"Primero\", \"Segundo\", \"Tercero\", \"Cuarto\"]\n",
        ")\n",
        "\n",
        "print(df)"
      ],
      "metadata": {
        "colab": {
          "base_uri": "https://localhost:8080/"
        },
        "id": "uV2RXLfqTPsX",
        "outputId": "6eed2450-8e71-4d1c-d2a7-92b2e95fae25"
      },
      "execution_count": 15,
      "outputs": [
        {
          "output_type": "stream",
          "name": "stdout",
          "text": [
            "            Nombre  Edad     Género\n",
            "Primero  Sebastián    22  Masculino\n",
            "Segundo     Alicia    26   Femenino\n",
            "Tercero    Génesis    25   Femenino\n",
            "Cuarto       Ariel    24  Masculino\n"
          ]
        }
      ]
    },
    {
      "cell_type": "code",
      "source": [
        "# Ordenar alfabeticamente por la columna df[\"Nombre\"]\n",
        "df = df.sort_values(by=\"Nombre\")\n",
        "print(df)"
      ],
      "metadata": {
        "colab": {
          "base_uri": "https://localhost:8080/"
        },
        "id": "0RUnoeIRUSJX",
        "outputId": "285f14c4-f68f-4507-bd17-14af036d690b"
      },
      "execution_count": 17,
      "outputs": [
        {
          "output_type": "stream",
          "name": "stdout",
          "text": [
            "            Nombre  Edad     Género\n",
            "Segundo     Alicia    26   Femenino\n",
            "Cuarto       Ariel    24  Masculino\n",
            "Tercero    Génesis    25   Femenino\n",
            "Primero  Sebastián    22  Masculino\n"
          ]
        }
      ]
    },
    {
      "cell_type": "markdown",
      "source": [
        "## Leer datos desde un archivo"
      ],
      "metadata": {
        "id": "hyQmpweBVlCe"
      }
    },
    {
      "cell_type": "code",
      "source": [
        "# Cargar los datos\n",
        "!wget https://raw.githubusercontent.com/davidlealo/sic_ai_2025_jun/refs/heads/main/02preprocesamiento/chapter3/data_Iris.csv\n"
      ],
      "metadata": {
        "colab": {
          "base_uri": "https://localhost:8080/"
        },
        "id": "QPEqTvxdVoGT",
        "outputId": "f7dc51b3-f8b7-4ac5-e043-daa37cb5bba8"
      },
      "execution_count": 18,
      "outputs": [
        {
          "output_type": "stream",
          "name": "stdout",
          "text": [
            "--2025-07-01 23:34:31--  https://raw.githubusercontent.com/davidlealo/sic_ai_2025_jun/refs/heads/main/02preprocesamiento/chapter3/data_Iris.csv\n",
            "Resolving raw.githubusercontent.com (raw.githubusercontent.com)... 185.199.108.133, 185.199.109.133, 185.199.110.133, ...\n",
            "Connecting to raw.githubusercontent.com (raw.githubusercontent.com)|185.199.108.133|:443... connected.\n",
            "HTTP request sent, awaiting response... 200 OK\n",
            "Length: 3858 (3.8K) [text/plain]\n",
            "Saving to: ‘data_Iris.csv’\n",
            "\n",
            "\rdata_Iris.csv         0%[                    ]       0  --.-KB/s               \rdata_Iris.csv       100%[===================>]   3.77K  --.-KB/s    in 0s      \n",
            "\n",
            "2025-07-01 23:34:31 (53.6 MB/s) - ‘data_Iris.csv’ saved [3858/3858]\n",
            "\n"
          ]
        }
      ]
    },
    {
      "cell_type": "code",
      "source": [
        "df = pd.read_csv(\"data_Iris.csv\")\n",
        "print(df)"
      ],
      "metadata": {
        "colab": {
          "base_uri": "https://localhost:8080/"
        },
        "id": "K6J5lpo6WG0d",
        "outputId": "e39688ee-da7d-4e1e-8398-2dcea9489ccd"
      },
      "execution_count": 19,
      "outputs": [
        {
          "output_type": "stream",
          "name": "stdout",
          "text": [
            "     Sepal.Length  Sepal.Width  Petal.Length  Petal.Width    Species\n",
            "0             5.1          3.5           1.4          0.2     setosa\n",
            "1             4.9          3.0           1.4          0.2     setosa\n",
            "2             4.7          3.2           1.3          0.2     setosa\n",
            "3             4.6          3.1           1.5          0.2     setosa\n",
            "4             5.0          3.6           1.4          0.2     setosa\n",
            "..            ...          ...           ...          ...        ...\n",
            "145           6.7          3.0           5.2          2.3  virginica\n",
            "146           6.3          2.5           5.0          1.9  virginica\n",
            "147           6.5          3.0           5.2          2.0  virginica\n",
            "148           6.2          3.4           5.4          2.3  virginica\n",
            "149           5.9          3.0           5.1          1.8  virginica\n",
            "\n",
            "[150 rows x 5 columns]\n"
          ]
        }
      ]
    },
    {
      "cell_type": "code",
      "source": [
        "df[\"Species\"].unique()"
      ],
      "metadata": {
        "colab": {
          "base_uri": "https://localhost:8080/"
        },
        "id": "DwVXLDMBXiUd",
        "outputId": "62f535f5-d6b0-49fa-b148-cee6df6dcc5b"
      },
      "execution_count": 21,
      "outputs": [
        {
          "output_type": "execute_result",
          "data": {
            "text/plain": [
              "array(['setosa', 'versicolor', 'virginica'], dtype=object)"
            ]
          },
          "metadata": {},
          "execution_count": 21
        }
      ]
    }
  ]
}