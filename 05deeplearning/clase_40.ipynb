{
  "nbformat": 4,
  "nbformat_minor": 0,
  "metadata": {
    "colab": {
      "provenance": [],
      "authorship_tag": "ABX9TyOUISuWg+aGW1kewXZy31Q/",
      "include_colab_link": true
    },
    "kernelspec": {
      "name": "python3",
      "display_name": "Python 3"
    },
    "language_info": {
      "name": "python"
    }
  },
  "cells": [
    {
      "cell_type": "markdown",
      "metadata": {
        "id": "view-in-github",
        "colab_type": "text"
      },
      "source": [
        "<a href=\"https://colab.research.google.com/github/davidlealo/sic_ai_2025_jun/blob/main/05deeplearning/clase_40.ipynb\" target=\"_parent\"><img src=\"https://colab.research.google.com/assets/colab-badge.svg\" alt=\"Open In Colab\"/></a>"
      ]
    },
    {
      "cell_type": "code",
      "execution_count": null,
      "metadata": {
        "id": "BAU4H5eJpGFE"
      },
      "outputs": [],
      "source": [
        "# Revisión de trabajos de aplicación de deeplearning\n",
        "\n",
        "# Revisión de proyectos finales"
      ]
    },
    {
      "cell_type": "markdown",
      "source": [
        "## Trabajos finales\n",
        "\n",
        "1) App de lenguaje de señas chilenas\n",
        "> Hugo, Franco, Ariel, Eduardo, Nicolás y Paula\n",
        "\n",
        "_________________\n",
        "\n",
        "2) Tema por definir\n",
        "> Karin\n",
        "\n",
        "_________________\n",
        "\n",
        "3) CV\n",
        "> Noemí\n",
        "\n",
        "__________________\n",
        "\n",
        "4) Predicción y detección de incendios forestales\n",
        "> Kiara\n",
        "\n",
        "__________________\n",
        "\n",
        "5) Predicción de trazos en dibujos digitales\n",
        "> Alicia\n",
        "\n",
        "__________________\n",
        "\n",
        "6) Análisis de imágenes  \n",
        "> Fernando\n",
        "\n",
        "__________________\n",
        "\n",
        "7) Cáncer  \n",
        "> Sebastián\n",
        "\n",
        "__________________\n",
        "\n",
        "\n",
        "8) Predicción de objetos interestelares   \n",
        "> Benjamín\n",
        "\n",
        "__________________\n",
        "\n",
        "\n"
      ],
      "metadata": {
        "id": "mUJt0bbuJM6k"
      }
    }
  ]
}