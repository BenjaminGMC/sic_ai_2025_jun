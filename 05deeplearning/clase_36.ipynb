{
  "nbformat": 4,
  "nbformat_minor": 0,
  "metadata": {
    "colab": {
      "provenance": [],
      "authorship_tag": "ABX9TyO6KtfVBU28QwFXmK2b72Xd",
      "include_colab_link": true
    },
    "kernelspec": {
      "name": "python3",
      "display_name": "Python 3"
    },
    "language_info": {
      "name": "python"
    }
  },
  "cells": [
    {
      "cell_type": "markdown",
      "metadata": {
        "id": "view-in-github",
        "colab_type": "text"
      },
      "source": [
        "<a href=\"https://colab.research.google.com/github/davidlealo/sic_ai_2025_jun/blob/main/05deeplearning/clase_36.ipynb\" target=\"_parent\"><img src=\"https://colab.research.google.com/assets/colab-badge.svg\" alt=\"Open In Colab\"/></a>"
      ]
    },
    {
      "cell_type": "markdown",
      "source": [
        "\n",
        "# Guía detallada de uso de tensores en TensorFlow\n",
        "\n",
        "> **Requisitos previos:** Python 3.x, `tensorflow>=2.0`, `numpy`  \n",
        "> **Nota:** En TensorFlow 2.x la ejecución es *eager* por defecto, lo que significa que las operaciones se evalúan inmediatamente.\n",
        "\n",
        "---\n",
        "\n",
        "## 1) De listas / NumPy a `tf.Tensor`\n",
        "\n",
        "```python\n",
        "import numpy as np\n",
        "import tensorflow as tf\n",
        "\n",
        "# a) Desde un arreglo de NumPy (especificando dtype)\n",
        "a = np.array([1, 2, 3], dtype=np.int32)\n",
        "\n",
        "# b) Desde una lista de Python\n",
        "b = [4, 5, 6]\n",
        "\n",
        "# Convertimos a tensores\n",
        "t_a = tf.convert_to_tensor(a)\n",
        "t_b = tf.convert_to_tensor(b)  # Inferirá dtype=int32\n",
        "\n",
        "print(t_a)\n",
        "print(t_b)\n",
        "```\n",
        "\n",
        "**Explicación**  \n",
        "- `tf.convert_to_tensor` convierte listas, arrays de NumPy u otros tensores a un `tf.Tensor`.\n",
        "- El parámetro `dtype` controla el tipo de dato, por ejemplo `tf.float32`, `tf.int32`, etc.\n",
        "\n",
        "```python\n",
        "# Verificar si un objeto es un tensor\n",
        "print(tf.is_tensor(a), tf.is_tensor(t_a))  # -> (False, True)\n",
        "```\n",
        "\n",
        "---\n",
        "\n",
        "## 2) Tensores pre-llenados y constantes\n",
        "\n",
        "```python\n",
        "# Tensor de unos con forma (2, 3)\n",
        "t_ones = tf.ones((2, 3))\n",
        "print(t_ones.shape)   # TensorShape([2, 3])\n",
        "print(t_ones.numpy()) # Convierte a ndarray\n",
        "```\n",
        "\n",
        "```python\n",
        "# Constante con dtype explícito\n",
        "const_tensor = tf.constant([1.2, 5, np.pi], dtype=tf.float32)\n",
        "print(const_tensor)\n",
        "```\n",
        "\n",
        "**Notas**\n",
        "- `tensor.numpy()` devuelve un `np.ndarray`, útil para inspeccionar resultados.\n",
        "- Si no se especifica `dtype`, TensorFlow lo infiere automáticamente.\n",
        "\n",
        "---\n",
        "\n",
        "## 3) `tf.fill` vs `tf.ones`\n",
        "\n",
        "```python\n",
        "t_fill = tf.fill((2, 3), 1)\n",
        "print(t_fill)\n",
        "```\n",
        "\n",
        "**Diferencia clave**  \n",
        "- `tf.ones`: para inicializar tensores con unos.  \n",
        "- `tf.fill`: para inicializar con cualquier valor escalar.\n",
        "\n",
        "---\n",
        "\n",
        "## 4) Codificación one-hot\n",
        "\n",
        "```python\n",
        "oh = tf.one_hot([0, 1, 2], depth=4)\n",
        "print(oh)\n",
        "```\n",
        "\n",
        "**Uso común**: Representar categorías como vectores binarios.\n",
        "\n",
        "---\n",
        "\n",
        "## 5) Cambiar tipo y forma del tensor\n",
        "\n",
        "```python\n",
        "# a) Cambiar tipo\n",
        "t_a_new = tf.cast(t_a, tf.int64)\n",
        "print(t_a_new.dtype)\n",
        "\n",
        "# b) Transponer\n",
        "t = tf.random.uniform(shape=(3, 5))\n",
        "t_tr = tf.transpose(t)\n",
        "print(t.shape, '-->', t_tr.shape)\n",
        "\n",
        "# c) Reshape\n",
        "t = tf.zeros((30,))\n",
        "t_reshape = tf.reshape(t, shape=(5, 6))\n",
        "print(t_reshape.shape)\n",
        "\n",
        "# d) Squeeze\n",
        "t = tf.zeros((1, 2, 1, 4, 1))\n",
        "t_sqz = tf.squeeze(t, axis=(2, 4))\n",
        "print(t.shape, '-->', t_sqz.shape)\n",
        "```\n",
        "\n",
        "---\n",
        "\n",
        "## 6) Tensores aleatorios\n",
        "\n",
        "```python\n",
        "tf.random.set_seed(1)\n",
        "\n",
        "t1 = tf.random.uniform(shape=(5, 2), minval=-1.0, maxval=1.0)\n",
        "t2 = tf.random.normal(shape=(5, 2), mean=0.0, stddev=1.0)\n",
        "```\n",
        "\n",
        "---\n",
        "\n",
        "## 7) Operaciones básicas\n",
        "\n",
        "```python\n",
        "# Multiplicación elemento a elemento\n",
        "t3 = tf.multiply(t1, t2)\n",
        "print(t3.numpy())\n",
        "\n",
        "# Media por columnas\n",
        "t4 = tf.math.reduce_mean(t1, axis=0)\n",
        "print(t4)\n",
        "```\n",
        "\n",
        "---\n",
        "\n",
        "## 8) Producto matricial\n",
        "\n",
        "```python\n",
        "# (5x2) @ (5x2)^T\n",
        "t5 = tf.linalg.matmul(t1, t2, transpose_b=True)\n",
        "print(t5.numpy())\n",
        "\n",
        "# (5x2)^T @ (5x2)\n",
        "t6 = tf.linalg.matmul(t1, t2, transpose_a=True)\n",
        "print(t6.numpy())\n",
        "```\n",
        "\n",
        "---\n",
        "\n",
        "## 9) Norma L2\n",
        "\n",
        "```python\n",
        "norm_t1 = tf.norm(t1, ord=2, axis=1)\n",
        "print(norm_t1.numpy())\n",
        "\n",
        "# Verificación con NumPy\n",
        "check = np.sqrt(np.sum(np.square(t1.numpy()), axis=1))\n",
        "print(check)\n",
        "```\n",
        "\n",
        "---\n",
        "\n",
        "## 10) Resumen de funciones útiles\n",
        "\n",
        "- `t.shape` → forma del tensor.  \n",
        "- `t.dtype` → tipo de dato.  \n",
        "- `t.numpy()` → convierte a `np.ndarray`.  \n",
        "- Crear: `tf.constant`, `tf.ones`, `tf.zeros`, `tf.fill`, `tf.random.uniform`, `tf.random.normal`, `tf.one_hot`.  \n",
        "- Transformar: `tf.cast`, `tf.reshape`, `tf.transpose`, `tf.squeeze`.  \n",
        "- Operar: `tf.add`, `tf.subtract`, `tf.multiply`, `tf.divide`, `tf.reduce_sum`, `tf.reduce_mean`, `tf.linalg.matmul`, `tf.norm`.\n",
        "\n",
        "---\n",
        "\n",
        "## Errores comunes\n",
        "\n",
        "- **Formas incompatibles** en `matmul`.  \n",
        "- **Dtypes diferentes** (usar `tf.cast` para igualarlos).  \n",
        "- **Resultados no reproducibles** (usar `tf.random.set_seed`).  \n",
        "- **Confusión con `axis`**: `axis=0` → a lo largo de filas, `axis=1` → a lo largo de columnas.\n"
      ],
      "metadata": {
        "id": "BaJpMmgWPRB7"
      }
    },
    {
      "cell_type": "code",
      "execution_count": 1,
      "metadata": {
        "id": "Y3BndFCMqRHB",
        "colab": {
          "base_uri": "https://localhost:8080/"
        },
        "outputId": "f976bb68-d11e-4591-c115-23ed1d010c3f"
      },
      "outputs": [
        {
          "output_type": "stream",
          "name": "stdout",
          "text": [
            "2.19.0\n"
          ]
        }
      ],
      "source": [
        "import tensorflow as tf\n",
        "print(tf.__version__)"
      ]
    },
    {
      "cell_type": "code",
      "source": [
        "import tensorflow as tf\n",
        "import numpy as np"
      ],
      "metadata": {
        "id": "OvOgTAoGMzMJ"
      },
      "execution_count": 2,
      "outputs": []
    },
    {
      "cell_type": "code",
      "source": [
        "np.set_printoptions(precision=3)"
      ],
      "metadata": {
        "id": "LUc-lZJWM0Kj"
      },
      "execution_count": 3,
      "outputs": []
    },
    {
      "cell_type": "code",
      "source": [
        "# Instalación (si hace falta en Colab)\n",
        "# !pip install -q tensorflow numpy\n",
        "\n",
        "import numpy as np\n",
        "import tensorflow as tf\n",
        "\n",
        "print(tf.__version__)\n"
      ],
      "metadata": {
        "id": "QgcE45lBM8xI"
      },
      "execution_count": null,
      "outputs": []
    },
    {
      "cell_type": "code",
      "source": [
        "# a) Desde un arreglo de NumPy (especificando dtype)\n",
        "a = np.array([1, 2, 3], dtype=np.int32)\n",
        "\n",
        "# b) Desde una lista de Python\n",
        "b = [4, 5, 6]\n",
        "\n",
        "# Convertimos a tensores\n",
        "t_a = tf.convert_to_tensor(a)\n",
        "t_b = tf.convert_to_tensor(b)  # inferirá dtype=int32\n",
        "\n",
        "print(t_a)\n",
        "print(t_b)\n"
      ],
      "metadata": {
        "colab": {
          "base_uri": "https://localhost:8080/"
        },
        "id": "4MSCcMBmNrQ1",
        "outputId": "044f86de-91e5-4e14-d223-b91790a915af"
      },
      "execution_count": 4,
      "outputs": [
        {
          "output_type": "stream",
          "name": "stdout",
          "text": [
            "tf.Tensor([1 2 3], shape=(3,), dtype=int32)\n",
            "tf.Tensor([4 5 6], shape=(3,), dtype=int32)\n"
          ]
        }
      ]
    },
    {
      "cell_type": "code",
      "source": [
        "# Verificar si un objeto es un tensor\n",
        "print(tf.is_tensor(a), tf.is_tensor(t_a))  # -> (False, True)\n"
      ],
      "metadata": {
        "colab": {
          "base_uri": "https://localhost:8080/"
        },
        "id": "dfXaIXNbN6EH",
        "outputId": "8b56abee-cdda-4ec2-add4-3f3dce498f5e"
      },
      "execution_count": 5,
      "outputs": [
        {
          "output_type": "stream",
          "name": "stdout",
          "text": [
            "False True\n"
          ]
        }
      ]
    },
    {
      "cell_type": "code",
      "source": [
        "# Tensor de unos con forma (2, 3)\n",
        "t_ones = tf.ones((2, 3))\n",
        "print(t_ones.shape)   # TensorShape([2, 3])\n",
        "t_ones.numpy()        # Convertir a ndarray para \"ver\" los valores\n"
      ],
      "metadata": {
        "colab": {
          "base_uri": "https://localhost:8080/"
        },
        "id": "LBdLWxlvOBA5",
        "outputId": "e02107db-c926-4c62-da0f-7a7c7ad8aae6"
      },
      "execution_count": 6,
      "outputs": [
        {
          "output_type": "stream",
          "name": "stdout",
          "text": [
            "(2, 3)\n"
          ]
        },
        {
          "output_type": "execute_result",
          "data": {
            "text/plain": [
              "array([[1., 1., 1.],\n",
              "       [1., 1., 1.]], dtype=float32)"
            ]
          },
          "metadata": {},
          "execution_count": 6
        }
      ]
    },
    {
      "cell_type": "code",
      "source": [
        "# Constante con dtype explícito\n",
        "const_tensor = tf.constant([1.2, 5, np.pi], dtype=tf.float32)\n",
        "print(const_tensor)   # tf.Tensor([1.2 5. 3.142...], shape=(3,), dtype=float32)\n"
      ],
      "metadata": {
        "colab": {
          "base_uri": "https://localhost:8080/"
        },
        "id": "kicAP219OFqo",
        "outputId": "9355e29d-a407-4613-d05a-df15b2c70962"
      },
      "execution_count": 7,
      "outputs": [
        {
          "output_type": "stream",
          "name": "stdout",
          "text": [
            "tf.Tensor([1.2   5.    3.142], shape=(3,), dtype=float32)\n"
          ]
        }
      ]
    },
    {
      "cell_type": "code",
      "source": [
        "# Rellena con un escalar dado\n",
        "t_fill = tf.fill((2, 3), 1)  # igual forma que (2, 3) de ones\n",
        "print(t_fill)                # dtype=int32 por defecto en este ejemplo\n"
      ],
      "metadata": {
        "colab": {
          "base_uri": "https://localhost:8080/"
        },
        "id": "eUj3Ut7qON9E",
        "outputId": "a2d98ab8-436c-433c-ccdd-103a2a19964e"
      },
      "execution_count": 8,
      "outputs": [
        {
          "output_type": "stream",
          "name": "stdout",
          "text": [
            "tf.Tensor(\n",
            "[[1 1 1]\n",
            " [1 1 1]], shape=(2, 3), dtype=int32)\n"
          ]
        }
      ]
    },
    {
      "cell_type": "code",
      "source": [
        "t_ones"
      ],
      "metadata": {
        "colab": {
          "base_uri": "https://localhost:8080/"
        },
        "id": "rfmr9ExZOWs-",
        "outputId": "b23bf37f-05c9-4bf9-d2c9-af76c40b5c96"
      },
      "execution_count": 9,
      "outputs": [
        {
          "output_type": "execute_result",
          "data": {
            "text/plain": [
              "<tf.Tensor: shape=(2, 3), dtype=float32, numpy=\n",
              "array([[1., 1., 1.],\n",
              "       [1., 1., 1.]], dtype=float32)>"
            ]
          },
          "metadata": {},
          "execution_count": 9
        }
      ]
    },
    {
      "cell_type": "code",
      "source": [
        "t_zeros = tf.zeros((2, 3))\n",
        "t_zeros"
      ],
      "metadata": {
        "colab": {
          "base_uri": "https://localhost:8080/"
        },
        "id": "xnG6PF7zOZsA",
        "outputId": "3c8f808e-641b-41f4-84e2-4c42bba0a0a1"
      },
      "execution_count": 10,
      "outputs": [
        {
          "output_type": "execute_result",
          "data": {
            "text/plain": [
              "<tf.Tensor: shape=(2, 3), dtype=float32, numpy=\n",
              "array([[0., 0., 0.],\n",
              "       [0., 0., 0.]], dtype=float32)>"
            ]
          },
          "metadata": {},
          "execution_count": 10
        }
      ]
    },
    {
      "cell_type": "code",
      "source": [
        "# tf.one_hot(indices, depth) -> matriz (len(indices) x depth)\n",
        "oh = tf.one_hot([0, 1, 2], depth=4)\n",
        "print(oh)  # shape=(3, 4), dtype=float32 por defecto\n"
      ],
      "metadata": {
        "colab": {
          "base_uri": "https://localhost:8080/"
        },
        "id": "OdGf6lWLOkQy",
        "outputId": "9b87e0d3-3b5d-44cf-d6e8-a07d3bcd1825"
      },
      "execution_count": 11,
      "outputs": [
        {
          "output_type": "stream",
          "name": "stdout",
          "text": [
            "tf.Tensor(\n",
            "[[1. 0. 0. 0.]\n",
            " [0. 1. 0. 0.]\n",
            " [0. 0. 1. 0.]], shape=(3, 4), dtype=float32)\n"
          ]
        }
      ]
    },
    {
      "cell_type": "code",
      "source": [
        "t_a_new = tf.cast(t_a, tf.int64)\n",
        "print(t_a_new.dtype)  # int64\n"
      ],
      "metadata": {
        "colab": {
          "base_uri": "https://localhost:8080/"
        },
        "id": "KgTzFtIpOyhy",
        "outputId": "728ce0aa-dcde-4f1b-d066-ad265afeef0e"
      },
      "execution_count": 12,
      "outputs": [
        {
          "output_type": "stream",
          "name": "stdout",
          "text": [
            "<dtype: 'int64'>\n"
          ]
        }
      ]
    },
    {
      "cell_type": "code",
      "source": [
        "t = tf.random.uniform(shape=(3, 5))  # 3 filas, 5 columnas\n",
        "t_tr = tf.transpose(t)\n",
        "print(t.shape, '-->', t_tr.shape)    # (3, 5) --> (5, 3)\n"
      ],
      "metadata": {
        "colab": {
          "base_uri": "https://localhost:8080/"
        },
        "id": "fHXFEZScO6d6",
        "outputId": "729f8dc9-7e9a-4bbc-8dc2-d56b486b7fb8"
      },
      "execution_count": 13,
      "outputs": [
        {
          "output_type": "stream",
          "name": "stdout",
          "text": [
            "(3, 5) --> (5, 3)\n"
          ]
        }
      ]
    },
    {
      "cell_type": "code",
      "source": [
        "t = tf.zeros((30,))\n",
        "t_reshape = tf.reshape(t, shape=(5, 6))\n",
        "print(t_reshape.shape)  # (5, 6)\n"
      ],
      "metadata": {
        "colab": {
          "base_uri": "https://localhost:8080/"
        },
        "id": "R-D7geFbO8kF",
        "outputId": "78c61dfb-bd28-4b98-9e7e-b0bf94372a22"
      },
      "execution_count": 14,
      "outputs": [
        {
          "output_type": "stream",
          "name": "stdout",
          "text": [
            "(5, 6)\n"
          ]
        }
      ]
    },
    {
      "cell_type": "code",
      "source": [
        "t = tf.zeros((1, 2, 1, 4, 1))\n",
        "t_sqz = tf.squeeze(t, axis=(2, 4))   # quita ejes 2 y 4 (ambos de tamaño 1)\n",
        "print(t.shape, '-->', t_sqz.shape)   # (1, 2, 1, 4, 1) --> (1, 2, 4)\n"
      ],
      "metadata": {
        "colab": {
          "base_uri": "https://localhost:8080/"
        },
        "id": "04Ofjw28O-c1",
        "outputId": "942caf5b-cf7d-46a4-e697-1260994d329a"
      },
      "execution_count": 15,
      "outputs": [
        {
          "output_type": "stream",
          "name": "stdout",
          "text": [
            "(1, 2, 1, 4, 1) --> (1, 2, 4)\n"
          ]
        }
      ]
    },
    {
      "cell_type": "code",
      "source": [
        "tf.random.set_seed(1)  # misma salida cada vez que corras esta celda\n",
        "\n",
        "t1 = tf.random.uniform(shape=(5, 2), minval=-1.0, maxval=1.0)  # U(-1, 1)\n",
        "t2 = tf.random.normal(shape=(5, 2), mean=0.0, stddev=1.0)      # N(0, 1)\n",
        "\n",
        "t1, t2  # obs: los valores exactos pueden variar si cambias la seed\n"
      ],
      "metadata": {
        "colab": {
          "base_uri": "https://localhost:8080/"
        },
        "id": "S_dIVdSsPBYH",
        "outputId": "682b127c-666c-4370-e4a0-0a94490a3710"
      },
      "execution_count": 16,
      "outputs": [
        {
          "output_type": "execute_result",
          "data": {
            "text/plain": [
              "(<tf.Tensor: shape=(5, 2), dtype=float32, numpy=\n",
              " array([[-0.67 ,  0.803],\n",
              "        [ 0.262, -0.131],\n",
              "        [-0.416,  0.285],\n",
              "        [ 0.952, -0.13 ],\n",
              "        [ 0.32 ,  0.21 ]], dtype=float32)>,\n",
              " <tf.Tensor: shape=(5, 2), dtype=float32, numpy=\n",
              " array([[ 0.403, -1.088],\n",
              "        [-0.063,  1.337],\n",
              "        [ 0.712, -0.489],\n",
              "        [-0.764, -1.037],\n",
              "        [-1.252,  0.021]], dtype=float32)>)"
            ]
          },
          "metadata": {},
          "execution_count": 16
        }
      ]
    },
    {
      "cell_type": "code",
      "source": [
        "# Multiplicación elemento a elemento (Hadamard)\n",
        "t3 = tf.multiply(t1, t2)\n",
        "print(t3.numpy())  # ver como ndarray\n"
      ],
      "metadata": {
        "colab": {
          "base_uri": "https://localhost:8080/"
        },
        "id": "ZPcooru5PDl5",
        "outputId": "bf32d177-9786-499e-cf24-6884f1da715a"
      },
      "execution_count": 17,
      "outputs": [
        {
          "output_type": "stream",
          "name": "stdout",
          "text": [
            "[[-0.27  -0.874]\n",
            " [-0.017 -0.175]\n",
            " [-0.296 -0.139]\n",
            " [-0.727  0.135]\n",
            " [-0.401  0.004]]\n"
          ]
        }
      ]
    },
    {
      "cell_type": "code",
      "source": [
        "# Media por columnas (axis=0)\n",
        "t4 = tf.math.reduce_mean(t1, axis=0)\n",
        "print(t4)          # shape=(2,)\n"
      ],
      "metadata": {
        "colab": {
          "base_uri": "https://localhost:8080/"
        },
        "id": "PFYY9hS_PGJD",
        "outputId": "f65789c9-81b1-4a33-9421-fb7d2546fd99"
      },
      "execution_count": 18,
      "outputs": [
        {
          "output_type": "stream",
          "name": "stdout",
          "text": [
            "tf.Tensor([0.09  0.207], shape=(2,), dtype=float32)\n"
          ]
        }
      ]
    },
    {
      "cell_type": "markdown",
      "source": [
        "## Puedes revisar los datsets de tf en:\n",
        "\n",
        "\n",
        "https://www.tensorflow.org/datasets/catalog/overview"
      ],
      "metadata": {
        "id": "cRdfmR97R_8m"
      }
    },
    {
      "cell_type": "markdown",
      "source": [
        "## Revisar material año 2024\n",
        "\n",
        "https://github.com/davidlealo/sic_ai_2024/blob/main/006_deep_learning/%5Bsabado-14-septiembre%5DClase27_SIC_AI_2024.ipynb\n"
      ],
      "metadata": {
        "id": "uBDOXJQDTRzO"
      }
    },
    {
      "cell_type": "markdown",
      "source": [
        "# Llegamos hasta la página 128"
      ],
      "metadata": {
        "id": "wS3fSdlxT7Uy"
      }
    }
  ]
}