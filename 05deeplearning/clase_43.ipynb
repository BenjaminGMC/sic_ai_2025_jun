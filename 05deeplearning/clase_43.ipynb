{
  "nbformat": 4,
  "nbformat_minor": 0,
  "metadata": {
    "colab": {
      "provenance": [],
      "authorship_tag": "ABX9TyMIYexsX/XfCHQWinIBktHv",
      "include_colab_link": true
    },
    "kernelspec": {
      "name": "python3",
      "display_name": "Python 3"
    },
    "language_info": {
      "name": "python"
    }
  },
  "cells": [
    {
      "cell_type": "markdown",
      "metadata": {
        "id": "view-in-github",
        "colab_type": "text"
      },
      "source": [
        "<a href=\"https://colab.research.google.com/github/davidlealo/sic_ai_2025_jun/blob/main/05deeplearning/clase_43.ipynb\" target=\"_parent\"><img src=\"https://colab.research.google.com/assets/colab-badge.svg\" alt=\"Open In Colab\"/></a>"
      ]
    },
    {
      "cell_type": "markdown",
      "source": [
        "# Redes Neuronales Convolucionales (CNN) y su Relación Biológica\n",
        "\n",
        "Las **Redes Neuronales Convolucionales (CNN)** son un tipo de red neuronal diseñada específicamente para procesar datos que tienen una estructura de cuadrícula, como las imágenes. Son ampliamente utilizadas en tareas de visión por computadora como la clasificación de imágenes, el reconocimiento de objetos y la segmentación.\n",
        "\n",
        "## Origen Biológico de las CNN\n",
        "\n",
        "El diseño de las CNN se inspira en el sistema visual de los animales, particularmente en los descubrimientos realizados por los neurocientíficos **David Hubel** y **Torsten Wiesel**, quienes ganaron el **Premio Nobel** en 1981 por su investigación sobre la corteza visual de los gatos y monos.\n",
        "\n",
        "### Hallazgos de Hubel y Wiesel:\n",
        "1. **Detección de Bordes y Características Simples**:\n",
        "   - Descubrieron que las neuronas en la corteza visual están especializadas para responder a estímulos visuales simples, como **bordes**, **líneas** y **ángulos**, en áreas pequeñas del campo visual. Estas neuronas se conocen como **neuronas simples**.\n",
        "\n",
        "2. **Organización Jerárquica**:\n",
        "   - Las neuronas se organizan en capas jerárquicas. Las primeras capas detectan características simples, mientras que las capas superiores combinan esta información para identificar patrones más complejos.\n",
        "\n",
        "3. **Campos Receptivos**:\n",
        "   - Cada neurona tiene un **campo receptivo**, es decir, una pequeña región del campo visual a la que responde. De manera similar, en una CNN, los **filtros convolucionales** examinan áreas pequeñas de la imagen y aprenden a detectar características locales.\n",
        "\n",
        "## Relación entre las CNN y el Sistema Visual\n",
        "\n",
        "Las CNN están diseñadas para imitar el funcionamiento del sistema visual biológico de los animales. Aquí algunos puntos clave de la relación:\n",
        "\n",
        "- **Capas Convolucionales**: En las CNN, las capas convolucionales aplican filtros a la imagen para detectar características como bordes, líneas y texturas, de manera similar a cómo las neuronas simples detectan bordes y contornos.\n",
        "  \n",
        "- **Campos Receptivos**: Las capas convolucionales analizan pequeñas secciones de la imagen (campos receptivos) de manera análoga a cómo las neuronas en la corteza visual responden a áreas específicas del campo visual.\n",
        "\n",
        "- **Combinación de Características**: En las CNN, las capas posteriores combinan las características aprendidas por las primeras capas para reconocer patrones más complejos, tal como lo hace el sistema visual en los animales al combinar información para reconocer objetos completos.\n"
      ],
      "metadata": {
        "id": "yqWp8fakn5Tz"
      }
    },
    {
      "cell_type": "markdown",
      "source": [
        "Por ejemplo revisemos el siguiente [artículo de Wikipedia](https://es.wikipedia.org/wiki/N%C3%BAcleo_(procesamiento_digital_de_im%C3%A1genes))"
      ],
      "metadata": {
        "id": "9GzXwpJxoNDz"
      }
    },
    {
      "cell_type": "markdown",
      "source": [
        "| Operación               | Núcleo                                   | Imagen resultante                             |\n",
        "|-------------------------|------------------------------------------|-----------------------------------------------|\n",
        "| **Identidad**            | \\[ [0, 0, 0], <br> [0, 1, 0], <br> [0, 0, 0] \\] | ![Imagen original](https://upload.wikimedia.org/wikipedia/commons/5/50/Vd-Orig.png) |\n",
        "| **Detección de bordes**  | \\[ [1, 0, -1], <br> [0, 0, 0], <br> [-1, 0, 1] \\] | ![Bordes 1](https://upload.wikimedia.org/wikipedia/commons/8/8d/Vd-Edge1.png) |\n",
        "|                         | \\[ [0, 1, 0], <br> [1, -4, 1], <br> [0, 1, 0] \\] | ![Bordes 2](https://upload.wikimedia.org/wikipedia/commons/8/83/Vd-Edge2.png) |\n",
        "|                         | \\[ [-1, -1, -1], <br> [-1, 8, -1], <br> [-1, -1, -1] \\] | ![Bordes 3](https://upload.wikimedia.org/wikipedia/commons/6/6d/Vd-Edge3.png) |\n",
        "| **Enfocar**              | \\[ [0, -1, 0], <br> [-1, 5, -1], <br> [0, -1, 0] \\] | ![Enfocar](https://upload.wikimedia.org/wikipedia/commons/4/4e/Vd-Sharp.png) |\n",
        "| **Desenfoque de cuadro** | 1/9 * \\[ [1, 1, 1], <br> [1, 1, 1], <br> [1, 1, 1] \\] | ![Desenfoque 1](https://upload.wikimedia.org/wikipedia/commons/0/04/Vd-Blur2.png) |\n",
        "| **Desenfoque Gaussiano 3x3** | 1/16 * \\[ [1, 2, 1], <br> [2, 4, 2], <br> [1, 2, 1] \\] | ![Desenfoque Gaussiano](https://upload.wikimedia.org/wikipedia/commons/2/28/Vd-Blur1.png) |\n",
        "| **Desenfoque Gaussiano 5x5** | 1/256 * \\[ [1, 4, 6, 4, 1], <br> [4, 16, 24, 16, 4], <br> [6, 24, 36, 24, 6], <br> [4, 16, 24, 16, 4], <br> [1, 4, 6, 4, 1] \\] | ![Desenfoque 5x5](https://upload.wikimedia.org/wikipedia/commons/0/04/Vd-Blur_Gaussian_5x5.png) |\n",
        "| **Máscara de desenfoque** | -1/256 * \\[ [1, 4, 6, 4, 1], <br> [4, 16, 24, 16, 4], <br> [6, 24, -476, 24, 6], <br> [4, 16, 24, 16, 4], <br> [1, 4, 6, 4, 1] \\] | ![Máscara de desenfoque](https://upload.wikimedia.org/wikipedia/commons/e/ef/Vd-Unsharp_5x5.png) |"
      ],
      "metadata": {
        "id": "iIa_DBdZoRUe"
      }
    },
    {
      "cell_type": "markdown",
      "source": [
        "# llegamos a la página 69"
      ],
      "metadata": {
        "id": "RCl1xt_9GcYD"
      }
    },
    {
      "cell_type": "code",
      "source": [],
      "metadata": {
        "id": "hQZdiADooMxT"
      },
      "execution_count": null,
      "outputs": []
    },
    {
      "cell_type": "code",
      "source": [],
      "metadata": {
        "id": "w87YBV7voHB1"
      },
      "execution_count": null,
      "outputs": []
    }
  ]
}