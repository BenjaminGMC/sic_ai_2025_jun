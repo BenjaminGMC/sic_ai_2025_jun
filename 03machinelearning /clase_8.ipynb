{
  "nbformat": 4,
  "nbformat_minor": 0,
  "metadata": {
    "colab": {
      "provenance": [],
      "authorship_tag": "ABX9TyOjBHi89LplWSGL5Fr0yjwL",
      "include_colab_link": true
    },
    "kernelspec": {
      "name": "python3",
      "display_name": "Python 3"
    },
    "language_info": {
      "name": "python"
    }
  },
  "cells": [
    {
      "cell_type": "markdown",
      "metadata": {
        "id": "view-in-github",
        "colab_type": "text"
      },
      "source": [
        "<a href=\"https://colab.research.google.com/github/davidlealo/sic_ai_2025_jun/blob/main/03machinelearning%20/clase_8.ipynb\" target=\"_parent\"><img src=\"https://colab.research.google.com/assets/colab-badge.svg\" alt=\"Open In Colab\"/></a>"
      ]
    },
    {
      "cell_type": "markdown",
      "source": [
        "# 🎯 Sesgo y Varianza en Machine Learning\n",
        "\n",
        "En el entrenamiento de modelos de machine learning supervisado, es importante entender dos conceptos fundamentales: **sesgo (bias)** y **varianza (variance)**. Ambos están relacionados con la capacidad del modelo para generalizar a nuevos datos.\n",
        "\n",
        "---\n",
        "\n",
        "## 🔹 ¿Qué es el **sesgo**?\n",
        "\n",
        "- El **sesgo** mide cuán lejos están las predicciones del modelo respecto al valor real objetivo.\n",
        "- Un **sesgo alto** ocurre cuando el modelo es demasiado simple para captar la complejidad de los datos (por ejemplo, una regresión lineal sobre un patrón no lineal).\n",
        "- Un **sesgo bajo** indica que el modelo representa bien la relación entre variables.\n",
        "\n",
        "---\n",
        "\n",
        "## 🔹 ¿Qué es la **varianza**?\n",
        "\n",
        "- La **varianza** mide cuánto cambian las predicciones del modelo al usar diferentes datos de entrenamiento.\n",
        "- Una **varianza alta** indica que el modelo se ajusta demasiado a los datos de entrenamiento (sobreajuste).\n",
        "- Una **varianza baja** muestra que el modelo es más estable frente a diferentes muestras.\n",
        "\n",
        "---\n",
        "\n",
        "## 📊 Relación entre Sesgo y Varianza\n",
        "\n",
        "|                        | Baja Varianza                         | Alta Varianza                         |\n",
        "|------------------------|---------------------------------------|---------------------------------------|\n",
        "| **Alta Predisposición (Sesgo Alto)** | Predicciones agrupadas pero lejos del objetivo (error sistemático). | Predicciones dispersas y lejos del objetivo. |\n",
        "| **Baja Predisposición (Sesgo Bajo)** | Predicciones agrupadas y cercanas al objetivo (lo ideal). | Predicciones dispersas alrededor del objetivo. |\n",
        "\n",
        "---\n",
        "\n",
        "## ⚖️ ¿Qué papel juegan las regularizaciones L1 y L2?\n",
        "\n",
        "Las regularizaciones **L1 (Lasso)** y **L2 (Ridge)** son técnicas que ayudan a **limitar la complejidad del modelo**, para encontrar un equilibrio entre sesgo y varianza.\n",
        "\n",
        "- **L1 Regularization (Lasso)**:\n",
        "  - Tiende a reducir algunos coeficientes a cero (eliminación de variables).\n",
        "  - Útil para modelos más simples y con menos variables.\n",
        "\n",
        "- **L2 Regularization (Ridge)**:\n",
        "  - Reduce todos los coeficientes sin llevarlos a cero.\n",
        "  - Hace que el modelo sea más robusto y con menor varianza.\n",
        "\n",
        "Ambas técnicas ayudan a evitar el **sobreajuste** y mejorar la **capacidad de generalización** del modelo.\n",
        "\n",
        "---\n",
        "\n",
        "## 🧠 Conclusión\n",
        "\n",
        "- **Sesgo alto** → modelo demasiado simple.\n",
        "- **Varianza alta** → modelo demasiado complejo.\n",
        "- La clave está en encontrar un **buen equilibrio** (trade-off).\n",
        "- Las técnicas de **regularización L1 y L2** son herramientas para controlar este equilibrio.\n",
        "\n"
      ],
      "metadata": {
        "id": "mjYSYpS7Z5cd"
      }
    },
    {
      "cell_type": "code",
      "source": [
        "from IPython.display import SVG, display\n",
        "\n",
        "svg_code = '''\n",
        "<svg width=\"600\" height=\"300\" xmlns=\"http://www.w3.org/2000/svg\">\n",
        "  <style>\n",
        "    .title { font: bold 14px sans-serif; }\n",
        "    .label { font: 12px sans-serif; text-anchor: middle; }\n",
        "  </style>\n",
        "\n",
        "  <!-- Column titles -->\n",
        "  <text x=\"150\" y=\"20\" class=\"title\">Baja Varianza</text>\n",
        "  <text x=\"450\" y=\"20\" class=\"title\">Alta Varianza</text>\n",
        "\n",
        "  <!-- Row titles -->\n",
        "  <text x=\"10\" y=\"100\" class=\"title\" transform=\"rotate(-90 10,100)\">Alta Predisposición</text>\n",
        "  <text x=\"10\" y=\"250\" class=\"title\" transform=\"rotate(-90 10,250)\">Baja Predisposición</text>\n",
        "\n",
        "  <!-- Dianas (círculos) -->\n",
        "  <!-- Alta predisposición - baja varianza -->\n",
        "  <g transform=\"translate(150, 100)\">\n",
        "    <circle cx=\"0\" cy=\"0\" r=\"40\" fill=\"none\" stroke=\"#999\" />\n",
        "    <circle cx=\"0\" cy=\"0\" r=\"20\" fill=\"none\" stroke=\"#999\" />\n",
        "    <circle cx=\"0\" cy=\"0\" r=\"5\" fill=\"black\" />\n",
        "    <circle cx=\"-20\" cy=\"-20\" r=\"3\" fill=\"black\" />\n",
        "    <circle cx=\"-22\" cy=\"-18\" r=\"3\" fill=\"black\" />\n",
        "    <circle cx=\"-18\" cy=\"-22\" r=\"3\" fill=\"black\" />\n",
        "    <circle cx=\"-21\" cy=\"-19\" r=\"3\" fill=\"black\" />\n",
        "  </g>\n",
        "\n",
        "  <!-- Alta predisposición - alta varianza -->\n",
        "  <g transform=\"translate(450, 100)\">\n",
        "    <circle cx=\"0\" cy=\"0\" r=\"40\" fill=\"none\" stroke=\"#999\" />\n",
        "    <circle cx=\"0\" cy=\"0\" r=\"20\" fill=\"none\" stroke=\"#999\" />\n",
        "    <circle cx=\"0\" cy=\"0\" r=\"5\" fill=\"black\" />\n",
        "    <circle cx=\"30\" cy=\"20\" r=\"3\" fill=\"black\" />\n",
        "    <circle cx=\"-35\" cy=\"-15\" r=\"3\" fill=\"black\" />\n",
        "    <circle cx=\"10\" cy=\"30\" r=\"3\" fill=\"black\" />\n",
        "    <circle cx=\"-25\" cy=\"25\" r=\"3\" fill=\"black\" />\n",
        "  </g>\n",
        "\n",
        "  <!-- Baja predisposición - baja varianza -->\n",
        "  <g transform=\"translate(150, 250)\">\n",
        "    <circle cx=\"0\" cy=\"0\" r=\"40\" fill=\"none\" stroke=\"#999\" />\n",
        "    <circle cx=\"0\" cy=\"0\" r=\"20\" fill=\"none\" stroke=\"#999\" />\n",
        "    <circle cx=\"0\" cy=\"0\" r=\"5\" fill=\"black\" />\n",
        "    <circle cx=\"3\" cy=\"-3\" r=\"3\" fill=\"black\" />\n",
        "    <circle cx=\"-2\" cy=\"2\" r=\"3\" fill=\"black\" />\n",
        "    <circle cx=\"1\" cy=\"1\" r=\"3\" fill=\"black\" />\n",
        "    <circle cx=\"0\" cy=\"0\" r=\"3\" fill=\"black\" />\n",
        "  </g>\n",
        "\n",
        "  <!-- Baja predisposición - alta varianza -->\n",
        "  <g transform=\"translate(450, 250)\">\n",
        "    <circle cx=\"0\" cy=\"0\" r=\"40\" fill=\"none\" stroke=\"#999\" />\n",
        "    <circle cx=\"0\" cy=\"0\" r=\"20\" fill=\"none\" stroke=\"#999\" />\n",
        "    <circle cx=\"0\" cy=\"0\" r=\"5\" fill=\"black\" />\n",
        "    <circle cx=\"-15\" cy=\"-5\" r=\"3\" fill=\"black\" />\n",
        "    <circle cx=\"12\" cy=\"8\" r=\"3\" fill=\"black\" />\n",
        "    <circle cx=\"5\" cy=\"-12\" r=\"3\" fill=\"black\" />\n",
        "    <circle cx=\"-10\" cy=\"10\" r=\"3\" fill=\"black\" />\n",
        "  </g>\n",
        "</svg>\n",
        "'''\n",
        "\n",
        "display(SVG(svg_code))\n"
      ],
      "metadata": {
        "colab": {
          "base_uri": "https://localhost:8080/",
          "height": 321
        },
        "id": "Fxlr5YsXbOCE",
        "outputId": "9dc6550d-07f1-4454-eeca-ec6c1e3c1cef"
      },
      "execution_count": 1,
      "outputs": [
        {
          "output_type": "display_data",
          "data": {
            "text/plain": [
              "<IPython.core.display.SVG object>"
            ],
            "image/svg+xml": "<svg xmlns=\"http://www.w3.org/2000/svg\" width=\"600\" height=\"300\">\n  <style>\n    .title { font: bold 14px sans-serif; }\n    .label { font: 12px sans-serif; text-anchor: middle; }\n  </style>\n\n  <!-- Column titles -->\n  <text x=\"150\" y=\"20\" class=\"title\">Baja Varianza</text>\n  <text x=\"450\" y=\"20\" class=\"title\">Alta Varianza</text>\n\n  <!-- Row titles -->\n  <text x=\"10\" y=\"100\" class=\"title\" transform=\"rotate(-90 10,100)\">Alta Predisposición</text>\n  <text x=\"10\" y=\"250\" class=\"title\" transform=\"rotate(-90 10,250)\">Baja Predisposición</text>\n\n  <!-- Dianas (círculos) -->\n  <!-- Alta predisposición - baja varianza -->\n  <g transform=\"translate(150, 100)\">\n    <circle cx=\"0\" cy=\"0\" r=\"40\" fill=\"none\" stroke=\"#999\"/>\n    <circle cx=\"0\" cy=\"0\" r=\"20\" fill=\"none\" stroke=\"#999\"/>\n    <circle cx=\"0\" cy=\"0\" r=\"5\" fill=\"black\"/>\n    <circle cx=\"-20\" cy=\"-20\" r=\"3\" fill=\"black\"/>\n    <circle cx=\"-22\" cy=\"-18\" r=\"3\" fill=\"black\"/>\n    <circle cx=\"-18\" cy=\"-22\" r=\"3\" fill=\"black\"/>\n    <circle cx=\"-21\" cy=\"-19\" r=\"3\" fill=\"black\"/>\n  </g>\n\n  <!-- Alta predisposición - alta varianza -->\n  <g transform=\"translate(450, 100)\">\n    <circle cx=\"0\" cy=\"0\" r=\"40\" fill=\"none\" stroke=\"#999\"/>\n    <circle cx=\"0\" cy=\"0\" r=\"20\" fill=\"none\" stroke=\"#999\"/>\n    <circle cx=\"0\" cy=\"0\" r=\"5\" fill=\"black\"/>\n    <circle cx=\"30\" cy=\"20\" r=\"3\" fill=\"black\"/>\n    <circle cx=\"-35\" cy=\"-15\" r=\"3\" fill=\"black\"/>\n    <circle cx=\"10\" cy=\"30\" r=\"3\" fill=\"black\"/>\n    <circle cx=\"-25\" cy=\"25\" r=\"3\" fill=\"black\"/>\n  </g>\n\n  <!-- Baja predisposición - baja varianza -->\n  <g transform=\"translate(150, 250)\">\n    <circle cx=\"0\" cy=\"0\" r=\"40\" fill=\"none\" stroke=\"#999\"/>\n    <circle cx=\"0\" cy=\"0\" r=\"20\" fill=\"none\" stroke=\"#999\"/>\n    <circle cx=\"0\" cy=\"0\" r=\"5\" fill=\"black\"/>\n    <circle cx=\"3\" cy=\"-3\" r=\"3\" fill=\"black\"/>\n    <circle cx=\"-2\" cy=\"2\" r=\"3\" fill=\"black\"/>\n    <circle cx=\"1\" cy=\"1\" r=\"3\" fill=\"black\"/>\n    <circle cx=\"0\" cy=\"0\" r=\"3\" fill=\"black\"/>\n  </g>\n\n  <!-- Baja predisposición - alta varianza -->\n  <g transform=\"translate(450, 250)\">\n    <circle cx=\"0\" cy=\"0\" r=\"40\" fill=\"none\" stroke=\"#999\"/>\n    <circle cx=\"0\" cy=\"0\" r=\"20\" fill=\"none\" stroke=\"#999\"/>\n    <circle cx=\"0\" cy=\"0\" r=\"5\" fill=\"black\"/>\n    <circle cx=\"-15\" cy=\"-5\" r=\"3\" fill=\"black\"/>\n    <circle cx=\"12\" cy=\"8\" r=\"3\" fill=\"black\"/>\n    <circle cx=\"5\" cy=\"-12\" r=\"3\" fill=\"black\"/>\n    <circle cx=\"-10\" cy=\"10\" r=\"3\" fill=\"black\"/>\n  </g>\n</svg>"
          },
          "metadata": {}
        }
      ]
    },
    {
      "cell_type": "code",
      "source": [
        "from IPython.display import SVG, display\n",
        "\n",
        "svg_code = '''\n",
        "<svg width=\"600\" height=\"300\" xmlns=\"http://www.w3.org/2000/svg\">\n",
        "  <style>\n",
        "    .title { font: bold 14px sans-serif; }\n",
        "    .label { font: 12px sans-serif; text-anchor: middle; }\n",
        "  </style>\n",
        "\n",
        "  <!-- Fondo blanco -->\n",
        "  <rect x=\"0\" y=\"0\" width=\"600\" height=\"300\" fill=\"white\" />\n",
        "\n",
        "  <!-- Column titles -->\n",
        "  <text x=\"150\" y=\"20\" class=\"title\">Baja Varianza</text>\n",
        "  <text x=\"450\" y=\"20\" class=\"title\">Alta Varianza</text>\n",
        "\n",
        "  <!-- Row titles -->\n",
        "  <text x=\"10\" y=\"100\" class=\"title\" transform=\"rotate(-90 10,100)\">Alta Predisposición</text>\n",
        "  <text x=\"10\" y=\"250\" class=\"title\" transform=\"rotate(-90 10,250)\">Baja Predisposición</text>\n",
        "\n",
        "  <!-- Dianas -->\n",
        "  <!-- Alta predisposición - baja varianza -->\n",
        "  <g transform=\"translate(150, 100)\">\n",
        "    <circle cx=\"0\" cy=\"0\" r=\"40\" fill=\"none\" stroke=\"#999\" />\n",
        "    <circle cx=\"0\" cy=\"0\" r=\"20\" fill=\"none\" stroke=\"#999\" />\n",
        "    <circle cx=\"0\" cy=\"0\" r=\"5\" fill=\"black\" />\n",
        "    <circle cx=\"-20\" cy=\"-20\" r=\"3\" fill=\"black\" />\n",
        "    <circle cx=\"-22\" cy=\"-18\" r=\"3\" fill=\"black\" />\n",
        "    <circle cx=\"-18\" cy=\"-22\" r=\"3\" fill=\"black\" />\n",
        "    <circle cx=\"-21\" cy=\"-19\" r=\"3\" fill=\"black\" />\n",
        "  </g>\n",
        "\n",
        "  <!-- Alta predisposición - alta varianza -->\n",
        "  <g transform=\"translate(450, 100)\">\n",
        "    <circle cx=\"0\" cy=\"0\" r=\"40\" fill=\"none\" stroke=\"#999\" />\n",
        "    <circle cx=\"0\" cy=\"0\" r=\"20\" fill=\"none\" stroke=\"#999\" />\n",
        "    <circle cx=\"0\" cy=\"0\" r=\"5\" fill=\"black\" />\n",
        "    <circle cx=\"30\" cy=\"20\" r=\"3\" fill=\"black\" />\n",
        "    <circle cx=\"-35\" cy=\"-15\" r=\"3\" fill=\"black\" />\n",
        "    <circle cx=\"10\" cy=\"30\" r=\"3\" fill=\"black\" />\n",
        "    <circle cx=\"-25\" cy=\"25\" r=\"3\" fill=\"black\" />\n",
        "  </g>\n",
        "\n",
        "  <!-- Baja predisposición - baja varianza -->\n",
        "  <g transform=\"translate(150, 250)\">\n",
        "    <circle cx=\"0\" cy=\"0\" r=\"40\" fill=\"none\" stroke=\"#999\" />\n",
        "    <circle cx=\"0\" cy=\"0\" r=\"20\" fill=\"none\" stroke=\"#999\" />\n",
        "    <circle cx=\"0\" cy=\"0\" r=\"5\" fill=\"black\" />\n",
        "    <circle cx=\"3\" cy=\"-3\" r=\"3\" fill=\"black\" />\n",
        "    <circle cx=\"-2\" cy=\"2\" r=\"3\" fill=\"black\" />\n",
        "    <circle cx=\"1\" cy=\"1\" r=\"3\" fill=\"black\" />\n",
        "    <circle cx=\"0\" cy=\"0\" r=\"3\" fill=\"black\" />\n",
        "  </g>\n",
        "\n",
        "  <!-- Baja predisposición - alta varianza -->\n",
        "  <g transform=\"translate(450, 250)\">\n",
        "    <circle cx=\"0\" cy=\"0\" r=\"40\" fill=\"none\" stroke=\"#999\" />\n",
        "    <circle cx=\"0\" cy=\"0\" r=\"20\" fill=\"none\" stroke=\"#999\" />\n",
        "    <circle cx=\"0\" cy=\"0\" r=\"5\" fill=\"black\" />\n",
        "    <circle cx=\"-15\" cy=\"-5\" r=\"3\" fill=\"black\" />\n",
        "    <circle cx=\"12\" cy=\"8\" r=\"3\" fill=\"black\" />\n",
        "    <circle cx=\"5\" cy=\"-12\" r=\"3\" fill=\"black\" />\n",
        "    <circle cx=\"-10\" cy=\"10\" r=\"3\" fill=\"black\" />\n",
        "  </g>\n",
        "</svg>\n",
        "'''\n",
        "\n",
        "display(SVG(svg_code))\n"
      ],
      "metadata": {
        "colab": {
          "base_uri": "https://localhost:8080/",
          "height": 321
        },
        "id": "OxKzNmO8be-x",
        "outputId": "e48efa84-18e3-4746-d133-2b4d93ccaa89"
      },
      "execution_count": 2,
      "outputs": [
        {
          "output_type": "display_data",
          "data": {
            "text/plain": [
              "<IPython.core.display.SVG object>"
            ],
            "image/svg+xml": "<svg xmlns=\"http://www.w3.org/2000/svg\" width=\"600\" height=\"300\">\n  <style>\n    .title { font: bold 14px sans-serif; }\n    .label { font: 12px sans-serif; text-anchor: middle; }\n  </style>\n\n  <!-- Fondo blanco -->\n  <rect x=\"0\" y=\"0\" width=\"600\" height=\"300\" fill=\"white\"/>\n\n  <!-- Column titles -->\n  <text x=\"150\" y=\"20\" class=\"title\">Baja Varianza</text>\n  <text x=\"450\" y=\"20\" class=\"title\">Alta Varianza</text>\n\n  <!-- Row titles -->\n  <text x=\"10\" y=\"100\" class=\"title\" transform=\"rotate(-90 10,100)\">Alta Predisposición</text>\n  <text x=\"10\" y=\"250\" class=\"title\" transform=\"rotate(-90 10,250)\">Baja Predisposición</text>\n\n  <!-- Dianas -->\n  <!-- Alta predisposición - baja varianza -->\n  <g transform=\"translate(150, 100)\">\n    <circle cx=\"0\" cy=\"0\" r=\"40\" fill=\"none\" stroke=\"#999\"/>\n    <circle cx=\"0\" cy=\"0\" r=\"20\" fill=\"none\" stroke=\"#999\"/>\n    <circle cx=\"0\" cy=\"0\" r=\"5\" fill=\"black\"/>\n    <circle cx=\"-20\" cy=\"-20\" r=\"3\" fill=\"black\"/>\n    <circle cx=\"-22\" cy=\"-18\" r=\"3\" fill=\"black\"/>\n    <circle cx=\"-18\" cy=\"-22\" r=\"3\" fill=\"black\"/>\n    <circle cx=\"-21\" cy=\"-19\" r=\"3\" fill=\"black\"/>\n  </g>\n\n  <!-- Alta predisposición - alta varianza -->\n  <g transform=\"translate(450, 100)\">\n    <circle cx=\"0\" cy=\"0\" r=\"40\" fill=\"none\" stroke=\"#999\"/>\n    <circle cx=\"0\" cy=\"0\" r=\"20\" fill=\"none\" stroke=\"#999\"/>\n    <circle cx=\"0\" cy=\"0\" r=\"5\" fill=\"black\"/>\n    <circle cx=\"30\" cy=\"20\" r=\"3\" fill=\"black\"/>\n    <circle cx=\"-35\" cy=\"-15\" r=\"3\" fill=\"black\"/>\n    <circle cx=\"10\" cy=\"30\" r=\"3\" fill=\"black\"/>\n    <circle cx=\"-25\" cy=\"25\" r=\"3\" fill=\"black\"/>\n  </g>\n\n  <!-- Baja predisposición - baja varianza -->\n  <g transform=\"translate(150, 250)\">\n    <circle cx=\"0\" cy=\"0\" r=\"40\" fill=\"none\" stroke=\"#999\"/>\n    <circle cx=\"0\" cy=\"0\" r=\"20\" fill=\"none\" stroke=\"#999\"/>\n    <circle cx=\"0\" cy=\"0\" r=\"5\" fill=\"black\"/>\n    <circle cx=\"3\" cy=\"-3\" r=\"3\" fill=\"black\"/>\n    <circle cx=\"-2\" cy=\"2\" r=\"3\" fill=\"black\"/>\n    <circle cx=\"1\" cy=\"1\" r=\"3\" fill=\"black\"/>\n    <circle cx=\"0\" cy=\"0\" r=\"3\" fill=\"black\"/>\n  </g>\n\n  <!-- Baja predisposición - alta varianza -->\n  <g transform=\"translate(450, 250)\">\n    <circle cx=\"0\" cy=\"0\" r=\"40\" fill=\"none\" stroke=\"#999\"/>\n    <circle cx=\"0\" cy=\"0\" r=\"20\" fill=\"none\" stroke=\"#999\"/>\n    <circle cx=\"0\" cy=\"0\" r=\"5\" fill=\"black\"/>\n    <circle cx=\"-15\" cy=\"-5\" r=\"3\" fill=\"black\"/>\n    <circle cx=\"12\" cy=\"8\" r=\"3\" fill=\"black\"/>\n    <circle cx=\"5\" cy=\"-12\" r=\"3\" fill=\"black\"/>\n    <circle cx=\"-10\" cy=\"10\" r=\"3\" fill=\"black\"/>\n  </g>\n</svg>"
          },
          "metadata": {}
        }
      ]
    },
    {
      "cell_type": "markdown",
      "source": [
        "## Videos de explicación\n",
        "\n",
        "primer video\n",
        "[![Mira el video en YouTube](https://img.youtube.com/vi/uomXFxBGMvA/0.jpg)](https://youtu.be/uomXFxBGMvA?si=tUrC_eczm_VcLMqQ)\n",
        "\n",
        "\n",
        "segundo video\n",
        "[![Mira el video en YouTube](https://img.youtube.com/vi/ezbDtmFIQPU/0.jpg)](https://youtu.be/ezbDtmFIQPU?si=0xLEPVzWbJXAh6Vd)\n",
        "\n"
      ],
      "metadata": {
        "id": "7H0_khijZ_rR"
      }
    },
    {
      "cell_type": "code",
      "execution_count": null,
      "metadata": {
        "id": "5WgBHCEaZ4aG"
      },
      "outputs": [],
      "source": []
    }
  ]
}