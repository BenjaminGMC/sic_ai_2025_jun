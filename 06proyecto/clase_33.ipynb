{
  "nbformat": 4,
  "nbformat_minor": 0,
  "metadata": {
    "colab": {
      "provenance": [],
      "authorship_tag": "ABX9TyOiDGOcbFWemlAwWpsTfuMf",
      "include_colab_link": true
    },
    "kernelspec": {
      "name": "python3",
      "display_name": "Python 3"
    },
    "language_info": {
      "name": "python"
    }
  },
  "cells": [
    {
      "cell_type": "markdown",
      "metadata": {
        "id": "view-in-github",
        "colab_type": "text"
      },
      "source": [
        "<a href=\"https://colab.research.google.com/github/davidlealo/sic_ai_2025_jun/blob/main/06proyecto/clase_33.ipynb\" target=\"_parent\"><img src=\"https://colab.research.google.com/assets/colab-badge.svg\" alt=\"Open In Colab\"/></a>"
      ]
    },
    {
      "cell_type": "code",
      "source": [
        "# Resumen Clase 33 – Design Thinking: Espacio de la Solución\n",
        "\n",
        "## 1. Contexto\n",
        "- Módulo de **Design Thinking** dentro del bootcamp de Data Science e Inteligencia Artificial.\n",
        "- Objetivo: desarrollar proyectos con enfoque en el usuario, integrando conocimientos técnicos.\n",
        "- Clase anterior: trabajo en el **espacio del problema** (empatizar y definir).\n",
        "- Clase de hoy: trabajo en el **espacio de la solución** (idear, prototipar, evaluar).\n",
        "\n",
        "---\n",
        "\n",
        "## 2. Recordatorio del Proceso Design Thinking\n",
        "- **Fases**:\n",
        "  1. Empatizar (conocer usuario, necesidades, emociones, temores, deseos).\n",
        "  2. Definir (problema centrado en el usuario).\n",
        "  3. Idear (generar muchas ideas posibles).\n",
        "  4. Prototipar (crear versión mínima viable).\n",
        "  5. Evaluar (testear con el usuario, recoger feedback).\n",
        "- Proceso **iterativo**, no estrictamente lineal.\n",
        "- Importancia de evaluar con el usuario antes de cerrar un proyecto.\n",
        "\n",
        "---\n",
        "\n",
        "## 3. Ejemplo: Camelbak\n",
        "- Caso de rediseño del sistema de hidratación para ciclistas y deportistas.\n",
        "- Solución basada en observación del contexto y dificultades reales del usuario (usar botella implicaba detenerse y ocupar una mano).\n",
        "\n",
        "---\n",
        "\n",
        "## 4. Ejemplo Negativo\n",
        "- Proyecto de impresión 3D de material pedagógico para niños ciegos.\n",
        "- No se probó con los usuarios → material inutilizable por textura y dureza.\n",
        "- Lección: **evaluar siempre con el usuario** y ajustar el prototipo.\n",
        "\n",
        "---\n",
        "\n",
        "## 5. Actividades de Clase Anterior\n",
        "- Herramientas usadas: mapa de empatía, hoja de observación, identificación de hallazgos y necesidades.\n",
        "- Diferencia entre:\n",
        "  - **Problema clásico**: centrado en la tecnología.\n",
        "  - **Problema redefinido**: centrado en el usuario y su contexto.\n",
        "\n",
        "---\n",
        "\n",
        "## 6. Actividad de Hoy – Espacio de la Solución\n",
        "- Trabajo con **ideación**, **prototipado** y **evaluación**.\n",
        "- Dos opciones de trabajo:\n",
        "  - Continuar con el proyecto propio.\n",
        "  - Usar problemáticas hipotéticas propuestas (inventarios, seguridad, eficiencia en rutas de recolección).\n",
        "\n",
        "---\n",
        "\n",
        "## 7. Fase de Ideación\n",
        "- Objetivo: **cantidad sobre calidad**.\n",
        "- No descartar ideas locas o simples.\n",
        "- Usar la pregunta guía: **\"¿Cómo podríamos…?\"** para abrir posibilidades.\n",
        "- Ejemplo de formulación adecuada: suficientemente amplia para permitir variedad, pero específica para orientar el trabajo.\n",
        "- Reglas para brainstorming:\n",
        "  - Una conversación a la vez (en grupo).\n",
        "  - Construir sobre ideas ajenas.\n",
        "  - No juzgar en la generación de ideas.\n",
        "  - Ser visual (uso de post-its, diagramas).\n",
        "  - No más de 30 segundos sin generar una idea.\n",
        "\n",
        "---\n",
        "\n",
        "## 8. Selección y Agrupación de Ideas\n",
        "- Agrupar por categorías temáticas (ej. tecnología, usuario, procesos).\n",
        "- Identificar puntos de convergencia y posibles combinaciones.\n",
        "- Seleccionar ideas clave para el prototipo.\n",
        "\n",
        "---\n",
        "\n",
        "## 9. Formulación del Prototipo\n",
        "- Debe ser:\n",
        "  - Económico y rápido de desarrollar.\n",
        "  - Medible con usuarios.\n",
        "  - Focalizado en resolver necesidades reales.\n",
        "- Usar ideas seleccionadas para redactar la propuesta de solución.\n",
        "- Ejemplos de prototipos:\n",
        "  - Compañero virtual para artistas (asistencia visual y creativa).\n",
        "  - Sistema de diagnóstico rápido de cáncer con IA y convenios con hospitales.\n",
        "\n",
        "---\n",
        "\n",
        "## 10. Cierre y Tareas\n",
        "- Enviar al profesor:\n",
        "  - Actividad de la clase anterior (espacio del problema).\n",
        "  - Actividad de esta clase (espacio de la solución).\n",
        "- Formatos de entrega:\n",
        "  - Link editable (modo viewer) al tablero en Miro.\n",
        "  - O exportar como PDF.\n",
        "- Próxima clase: **prototipado** y presentación de proyectos.\n",
        "\n",
        "---\n"
      ],
      "metadata": {
        "id": "vINecskVuaOq"
      },
      "execution_count": null,
      "outputs": []
    },
    {
      "cell_type": "code",
      "execution_count": null,
      "metadata": {
        "id": "GMYz5EyPtGL4"
      },
      "outputs": [],
      "source": []
    }
  ]
}