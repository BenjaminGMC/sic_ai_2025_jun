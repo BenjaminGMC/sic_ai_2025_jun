{
  "nbformat": 4,
  "nbformat_minor": 0,
  "metadata": {
    "colab": {
      "provenance": [],
      "authorship_tag": "ABX9TyNeKTBTWoTCG1v7/3HGGhQ4",
      "include_colab_link": true
    },
    "kernelspec": {
      "name": "python3",
      "display_name": "Python 3"
    },
    "language_info": {
      "name": "python"
    }
  },
  "cells": [
    {
      "cell_type": "markdown",
      "metadata": {
        "id": "view-in-github",
        "colab_type": "text"
      },
      "source": [
        "<a href=\"https://colab.research.google.com/github/davidlealo/sic_ai_2025_jun/blob/main/06proyecto/clase_21.ipynb\" target=\"_parent\"><img src=\"https://colab.research.google.com/assets/colab-badge.svg\" alt=\"Open In Colab\"/></a>"
      ]
    },
    {
      "cell_type": "markdown",
      "source": [
        "# Resumen Clase 21 - Miércoles 23 de julio de 2025  \n",
        "## Introducción a Design Thinking  \n",
        "Curso SIC AI 2025\n",
        "\n",
        "## ¿Qué es Design Thinking?\n",
        "\n",
        "Design Thinking es una metodología centrada en las personas que busca resolver problemas complejos de forma creativa y empática. Se estructura en cinco etapas principales:\n",
        "\n",
        "### 1. Empatizar  \n",
        "Es el punto de partida del proceso. Consiste en comprender a las personas desde su experiencia, emociones, necesidades y comportamientos.\n",
        "\n",
        "Preguntas guía para empatizar:\n",
        "- ¿Qué hace la persona?\n",
        "- ¿Cómo lo hace?\n",
        "- ¿Por qué lo hace de esa forma?\n",
        "\n",
        "Herramientas utilizadas:\n",
        "- Mapa de empatía\n",
        "- Observación consciente\n",
        "- Línea de tiempo\n",
        "- Tabla de análisis\n",
        "\n",
        "### 2. Definir  \n",
        "Busca sintetizar los hallazgos de la etapa de empatía para formular un problema claro y significativo desde el punto de vista del usuario.\n",
        "\n",
        "Criterios para una buena definición:\n",
        "- Enfocada directamente en el usuario\n",
        "- Inspiradora para el equipo\n",
        "- Genera criterios para evaluar ideas\n",
        "- Conecta emocionalmente con las personas observadas\n",
        "\n",
        "Ejemplo:\n",
        "- Problema clásico: “Necesitamos una app que envíe recordatorios automáticos para tomar medicamentos.”\n",
        "- Problema centrado en el usuario: “Adultos mayores que viven solos y valoran su autonomía necesitan una forma sencilla y comprensible de recordar sus medicamentos diarios, porque las soluciones actuales les resultan confusas o intrusivas.”\n",
        "\n",
        "### 3. Idear  \n",
        "Generación libre y amplia de ideas para resolver el desafío planteado. Se privilegia la cantidad y variedad sin juzgar ni evaluar de inmediato.\n",
        "\n",
        "### 4. Prototipar  \n",
        "Construcción de versiones simples y rápidas de las ideas seleccionadas. Permite materializar conceptos para explorarlos con usuarios reales.\n",
        "\n",
        "### 5. Evaluar  \n",
        "Pruebas y retroalimentación directa por parte de los usuarios. Sirve para identificar mejoras, validar soluciones o reformular el enfoque.\n",
        "\n",
        "## Divergencia y Convergencia\n",
        "\n",
        "- Divergencia: abrir posibilidades, explorar sin restricciones.\n",
        "- Convergencia: reducir opciones, elegir y enfocar.\n",
        "\n",
        "Ambas fases se alternan para fomentar la creatividad con dirección.\n",
        "\n",
        "## Aplicación en Ciencia de Datos\n",
        "\n",
        "El Design Thinking permite a los equipos de ciencia de datos:\n",
        "- Comprender mejor el problema a resolver.\n",
        "- Formular preguntas relevantes y centradas en el usuario.\n",
        "- Diseñar soluciones útiles y comprensibles para personas reales.\n",
        "\n",
        "## Actividad práctica en Miro\n",
        "\n",
        "Durante la clase, los estudiantes trabajaron colaborativamente en el siguiente tablero digital:  \n",
        "https://miro.com/app/board/uXjVJbg9mlI=/?share_link_id=683633114117\n",
        "\n",
        "En esta actividad se aplicaron herramientas como el Mapa de Empatía para:\n",
        "- Identificar comportamientos, emociones y necesidades reales.\n",
        "- Formular desafíos centrados en el usuario.\n",
        "- Practicar el enfoque de Design Thinking de manera aplicada.\n"
      ],
      "metadata": {
        "id": "oGAhkrrXSkoc"
      }
    },
    {
      "cell_type": "code",
      "execution_count": null,
      "metadata": {
        "id": "vOo_RjqJEifS"
      },
      "outputs": [],
      "source": []
    }
  ]
}