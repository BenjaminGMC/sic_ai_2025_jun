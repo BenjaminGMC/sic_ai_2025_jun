{
  "nbformat": 4,
  "nbformat_minor": 0,
  "metadata": {
    "colab": {
      "provenance": [],
      "authorship_tag": "ABX9TyPjMCfCSbdLM/gAl1iTv2OO",
      "include_colab_link": true
    },
    "kernelspec": {
      "name": "python3",
      "display_name": "Python 3"
    },
    "language_info": {
      "name": "python"
    }
  },
  "cells": [
    {
      "cell_type": "markdown",
      "metadata": {
        "id": "view-in-github",
        "colab_type": "text"
      },
      "source": [
        "<a href=\"https://colab.research.google.com/github/davidlealo/sic_ai_2025_jun/blob/main/06proyecto/clase_35.ipynb\" target=\"_parent\"><img src=\"https://colab.research.google.com/assets/colab-badge.svg\" alt=\"Open In Colab\"/></a>"
      ]
    },
    {
      "cell_type": "markdown",
      "source": [
        "# Resumen Clase 35 – Presentación Final de Proyectos Design Thinking\n",
        "\n",
        "## 1. Contexto\n",
        "- Cierre del módulo de **Design Thinking** en el bootcamp de Data Science e Inteligencia Artificial.\n",
        "- Clases anteriores:\n",
        "  - **Clase 33**: espacio de la solución (ideación).\n",
        "  - **Clase 34**: prototipado y evaluación inicial.\n",
        "- Clase de hoy: **presentación final** de proyectos y retroalimentación.\n",
        "\n",
        "---\n",
        "\n",
        "## 2. Objetivo de la Sesión\n",
        "- Presentar el proceso y resultados del proyecto desarrollado:\n",
        "  1. Espacio del problema.\n",
        "  2. Espacio de la solución.\n",
        "  3. Prototipo y evaluación.\n",
        "- Recibir feedback constructivo del profesor y compañeros.\n",
        "- Identificar mejoras y pasos siguientes.\n",
        "\n",
        "---\n",
        "\n",
        "## 3. Estructura Recomendada de Presentación\n",
        "- **Introducción**:\n",
        "  - Breve presentación del equipo y nombre del proyecto.\n",
        "- **Problema detectado**:\n",
        "  - Contexto y hallazgos clave obtenidos en la etapa de empatía.\n",
        "  - Necesidades reales del usuario.\n",
        "- **Propuesta de solución**:\n",
        "  - Ideas principales generadas.\n",
        "  - Justificación de la solución elegida.\n",
        "- **Prototipo**:\n",
        "  - Descripción y materiales utilizados.\n",
        "  - Capturas o demostración funcional.\n",
        "- **Evaluación**:\n",
        "  - Método de testeo con usuarios.\n",
        "  - Resultados, aprendizajes y mejoras.\n",
        "- **Conclusiones y próximos pasos**:\n",
        "  - Plan de desarrollo o implementación.\n",
        "  - Recomendaciones.\n",
        "\n",
        "---\n",
        "\n",
        "## 4. Sugerencias para la Presentación\n",
        "- Ser claros y concisos en la exposición.\n",
        "- Usar recursos visuales (diapositivas, imágenes, videos del prototipo).\n",
        "- Destacar **aprendizajes del proceso**, no solo el resultado final.\n",
        "- Preparar respuestas a preguntas del público.\n",
        "\n",
        "---\n",
        "\n",
        "## 5. Retroalimentación en Clase\n",
        "- Profesor y compañeros aportan observaciones sobre:\n",
        "  - Coherencia entre problema y solución.\n",
        "  - Viabilidad del prototipo.\n",
        "  - Originalidad e innovación.\n",
        "  - Presentación y comunicación.\n",
        "- Recomendación: tomar nota y aplicar mejoras.\n",
        "\n",
        "---\n",
        "\n",
        "## 6. Cierre del Módulo\n",
        "- Recordatorio: el **Design Thinking** es un proceso iterativo y adaptable.\n",
        "- Importancia de:\n",
        "  - Mantener el enfoque en el usuario.\n",
        "  - Evaluar continuamente.\n",
        "  - Ajustar soluciones según la retroalimentación.\n",
        "- Felicitaciones por el trabajo realizado durante las tres clases.\n",
        "\n",
        "---\n"
      ],
      "metadata": {
        "id": "xHvswI_OcKKZ"
      }
    },
    {
      "cell_type": "code",
      "execution_count": null,
      "metadata": {
        "id": "4F4sO3setqnr"
      },
      "outputs": [],
      "source": []
    }
  ]
}