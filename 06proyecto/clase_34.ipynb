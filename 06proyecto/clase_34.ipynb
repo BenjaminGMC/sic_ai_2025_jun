{
  "nbformat": 4,
  "nbformat_minor": 0,
  "metadata": {
    "colab": {
      "provenance": [],
      "authorship_tag": "ABX9TyPl/BSDpKKifU4O4Hc5j+zu",
      "include_colab_link": true
    },
    "kernelspec": {
      "name": "python3",
      "display_name": "Python 3"
    },
    "language_info": {
      "name": "python"
    }
  },
  "cells": [
    {
      "cell_type": "markdown",
      "metadata": {
        "id": "view-in-github",
        "colab_type": "text"
      },
      "source": [
        "<a href=\"https://colab.research.google.com/github/davidlealo/sic_ai_2025_jun/blob/main/06proyecto/clase_34.ipynb\" target=\"_parent\"><img src=\"https://colab.research.google.com/assets/colab-badge.svg\" alt=\"Open In Colab\"/></a>"
      ]
    },
    {
      "cell_type": "markdown",
      "source": [
        "# Resumen Clase 34 – Design Thinking: Prototipado y Evaluación\n",
        "\n",
        "## 1. Contexto\n",
        "- Continuación del módulo de **Design Thinking** en el bootcamp de Data Science e Inteligencia Artificial.\n",
        "- Clase anterior: trabajo en **espacio de la solución** (ideación y selección de ideas).\n",
        "- Clase de hoy: **prototipado** y **evaluación** con usuarios reales o simulados.\n",
        "\n",
        "---\n",
        "\n",
        "## 2. Recordatorio del Proceso\n",
        "- **Fases**:\n",
        "  1. Empatizar\n",
        "  2. Definir\n",
        "  3. Idear\n",
        "  4. Prototipar\n",
        "  5. Evaluar\n",
        "- El proceso es **iterativo**: siempre se puede volver a fases anteriores para ajustar.\n",
        "\n",
        "---\n",
        "\n",
        "## 3. Objetivo del Prototipo\n",
        "- Crear una versión inicial de la solución:\n",
        "  - Económica y rápida de implementar.\n",
        "  - Lo suficientemente funcional para recibir feedback.\n",
        "  - Focalizada en resolver necesidades reales detectadas en el usuario.\n",
        "- Permite **validar hipótesis** antes de invertir grandes recursos.\n",
        "\n",
        "---\n",
        "\n",
        "## 4. Tipos de Prototipos\n",
        "- **Baja fidelidad**:\n",
        "  - Bocetos, wireframes, maquetas de papel, storyboards.\n",
        "  - Rápidos y fáciles de modificar.\n",
        "- **Alta fidelidad**:\n",
        "  - Prototipos digitales interactivos, modelos 3D, simulaciones.\n",
        "  - Más costosos y cercanos al producto final.\n",
        "\n",
        "---\n",
        "\n",
        "## 5. Ejemplos y Casos\n",
        "- **Camelbak**: ejemplo de prototipo funcional que resolvió un problema real.\n",
        "- Proyecto educativo: prototipar interfaz de aplicación para apoyo en aula.\n",
        "- Importancia de **testear con el usuario final** para obtener mejoras.\n",
        "\n",
        "---\n",
        "\n",
        "## 6. Estrategia de Evaluación\n",
        "- Definir **preguntas clave** para validar el prototipo.\n",
        "- Observar interacción y recoger comentarios.\n",
        "- Preguntar por:\n",
        "  - Utilidad.\n",
        "  - Facilidad de uso.\n",
        "  - Mejoras sugeridas.\n",
        "- Analizar feedback y decidir:\n",
        "  - Mejorar el prototipo.\n",
        "  - Cambiar enfoque.\n",
        "  - Validar y seguir avanzando.\n",
        "\n",
        "---\n",
        "\n",
        "## 7. Actividad en Clase\n",
        "- Continuar proyecto iniciado:\n",
        "  - Partir de las ideas seleccionadas en la sesión anterior.\n",
        "  - Diseñar y desarrollar un prototipo inicial.\n",
        "  - Preparar una breve evaluación con usuarios.\n",
        "- Entregables:\n",
        "  - Documento o tablero con diseño del prototipo.\n",
        "  - Registro de observaciones y conclusiones de la evaluación.\n",
        "\n",
        "---\n",
        "\n",
        "## 8. Recomendaciones Clave\n",
        "- No buscar perfección en el primer prototipo.\n",
        "- Usar materiales y herramientas accesibles.\n",
        "- Priorizar velocidad y capacidad de recibir retroalimentación.\n",
        "- Documentar cambios y aprendizajes para el siguiente ciclo.\n",
        "\n",
        "---\n",
        "\n",
        "## 9. Cierre\n",
        "- Próxima clase: integración de prototipo y evaluación para presentación final.\n",
        "- Entregar:\n",
        "  - Actividad de la clase anterior (espacio de la solución).\n",
        "  - Actividad actual (prototipo y evaluación inicial).\n"
      ],
      "metadata": {
        "id": "Aru1KFeAxArM"
      }
    },
    {
      "cell_type": "code",
      "execution_count": null,
      "metadata": {
        "id": "IkZtnd8etYWl"
      },
      "outputs": [],
      "source": []
    }
  ]
}