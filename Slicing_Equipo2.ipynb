{
  "nbformat": 4,
  "nbformat_minor": 0,
  "metadata": {
    "colab": {
      "provenance": [],
      "include_colab_link": true
    },
    "kernelspec": {
      "name": "python3",
      "display_name": "Python 3"
    },
    "language_info": {
      "name": "python"
    }
  },
  "cells": [
    {
      "cell_type": "markdown",
      "metadata": {
        "id": "view-in-github",
        "colab_type": "text"
      },
      "source": [
        "<a href=\"https://colab.research.google.com/github/alimunoz/sic_ai_2025_jun/blob/main/Slicing_Equipo2.ipynb\" target=\"_parent\"><img src=\"https://colab.research.google.com/assets/colab-badge.svg\" alt=\"Open In Colab\"/></a>"
      ]
    },
    {
      "cell_type": "code",
      "source": [],
      "metadata": {
        "id": "_pDdOMCHHysc"
      },
      "execution_count": null,
      "outputs": []
    },
    {
      "cell_type": "markdown",
      "source": [
        "## 📌 1. **Slicing en arrays 1D**\n",
        "\n",
        "```python\n",
        "import numpy as np\n",
        "a = np.array([10, 20, 30, 40, 50, 60])\n",
        "```\n",
        "\n",
        "| Código    | Resultado             | Descripción                       |\n",
        "| --------- | --------------------- | --------------------------------- |\n",
        "| `a[1:4]`  | `[20 30 40]`          | Desde índice 1 hasta el 3         |\n",
        "| `a[:3]`   | `[10 20 30]`          | Desde el inicio hasta el índice 2 |\n",
        "| `a[3:]`   | `[40 50 60]`          | Desde índice 3 hasta el final     |\n",
        "| `a[::2]`  | `[10 30 50]`          | Cada 2 elementos (paso 2)         |\n",
        "| `a[::-1]` | `[60 50 40 30 20 10]` | Array invertido                   |\n",
        "\n",
        "---\n",
        "\n",
        "## 📌 2. **Slicing en arrays 2D (matrices)**\n",
        "\n",
        "```python\n",
        "b = np.array([[ 1,  2,  3],\n",
        "              [ 4,  5,  6],\n",
        "              [ 7,  8,  9]])\n",
        "```\n",
        "\n",
        "| Código          | Resultado                     | Descripción                        |\n",
        "| --------------- | ----------------------------- | ---------------------------------- |\n",
        "| `b[0:2, 1:3]`   | `[[2 3], [5 6]]`              | Filas 0–1, columnas 1–2            |\n",
        "| `b[:, 1]`       | `[2 5 8]`                     | Toda la **columna 1**              |\n",
        "| `b[1]`          | `[4 5 6]`                     | Toda la **fila 1**                 |\n",
        "| `b[:2, :]`      | `[[1 2 3], [4 5 6]]`          | Filas 0 y 1, todas las columnas    |\n",
        "| `b[::-1, ::-1]` | `[[9 8 7], [6 5 4], [3 2 1]]` | Matriz **invertida completamente** |\n",
        "\n",
        "---\n",
        "\n",
        "## 📌 3. **Slicing en arrays 3D**\n",
        "\n",
        "```python\n",
        "c = np.array([\n",
        "    [[1, 2], [3, 4]],\n",
        "    [[5, 6], [7, 8]]\n",
        "])\n",
        "```\n",
        "\n",
        "Visualización:\n",
        "\n",
        "* Capa 0: `[[1, 2], [3, 4]]`\n",
        "* Capa 1: `[[5, 6], [7, 8]]`\n",
        "\n",
        "| Código       | Resultado        | Descripción                     |\n",
        "| ------------ | ---------------- | ------------------------------- |\n",
        "| `c[0, :, :]` | `[[1 2], [3 4]]` | Toda la **capa 0** completa     |\n",
        "| `c[:, 1, :]` | `[[3 4], [7 8]]` | Segunda **fila** de cada capa   |\n",
        "| `c[:, :, 0]` | `[[1 3], [5 7]]` | Primeros elementos de cada fila |\n",
        "\n",
        "---\n",
        "\n",
        "## 🎯 ¿Para qué sirve slicing?\n",
        "\n",
        "* Extraer secciones de arrays sin copiar todo\n",
        "* Cortar filas, columnas o bloques\n",
        "* Aplicar operaciones por partes\n",
        "* Indexar eficientemente sin bucles\n",
        "\n",
        "---"
      ],
      "metadata": {
        "id": "Rfn33sSQH0oa"
      }
    },
    {
      "cell_type": "code",
      "source": [
        "import numpy as np\n",
        "\n",
        "# -------- ARRAY 1D --------\n",
        "a = np.array([10, 20, 30, 40, 50, 60])\n",
        "print(\"1D Array:\", a)\n",
        "\n",
        "print(\"a[1:4]       ->\", a[1:4])      # [20 30 40]\n",
        "print(\"a[:3]        ->\", a[:3])       # [10 20 30]\n",
        "print(\"a[3:]        ->\", a[3:])       # [40 50 60]\n",
        "print(\"a[::2]       ->\", a[::2])      # [10 30 50]\n",
        "print(\"a[::-1]      ->\", a[::-1])     # [60 50 40 30 20 10]\n",
        "\n",
        "# -------- ARRAY 2D --------\n",
        "b = np.array([[ 1,  2,  3],\n",
        "              [ 4,  5,  6],\n",
        "              [ 7,  8,  9]])\n",
        "print(\"\\n2D Array:\\n\", b)\n",
        "\n",
        "print(\"b[0:2, 1:3]  ->\\n\", b[0:2, 1:3])  # filas 0-1, columnas 1-2\n",
        "print(\"b[:, 1]     ->\", b[:, 1])        # toda la columna 1\n",
        "print(\"b[1]        ->\", b[1])           # toda la fila 1\n",
        "print(\"b[:2, :]    ->\\n\", b[:2, :])     # filas 0-1, todas las columnas\n",
        "print(\"b[::-1, ::-1]->\\n\", b[::-1, ::-1])# matriz invertida\n",
        "\n",
        "# -------- ARRAY 3D --------\n",
        "c = np.array([\n",
        "    [[ 1,  2], [ 3,  4]],\n",
        "    [[ 5,  6], [ 7,  8]]\n",
        "])\n",
        "print(\"\\n3D Array:\\n\", c)\n",
        "\n",
        "print(\"c[0, :, :]  ->\\n\", c[0, :, :])   # primera capa completa\n",
        "print(\"c[:, 1, :]  ->\\n\", c[:, 1, :])   # segunda fila de cada capa\n",
        "print(\"c[:, :, 0]  ->\\n\", c[:, :, 0])   # primer elemento de cada fila de cada capa\n"
      ],
      "metadata": {
        "colab": {
          "base_uri": "https://localhost:8080/"
        },
        "id": "wu0tyBH8H-iy",
        "outputId": "fc0f5903-833c-4c40-d610-ad8e5e7fff6c"
      },
      "execution_count": null,
      "outputs": [
        {
          "output_type": "stream",
          "name": "stdout",
          "text": [
            "1D Array: [10 20 30 40 50 60]\n",
            "a[1:4]       -> [20 30 40]\n",
            "a[:3]        -> [10 20 30]\n",
            "a[3:]        -> [40 50 60]\n",
            "a[::2]       -> [10 30 50]\n",
            "a[::-1]      -> [60 50 40 30 20 10]\n",
            "\n",
            "2D Array:\n",
            " [[1 2 3]\n",
            " [4 5 6]\n",
            " [7 8 9]]\n",
            "b[0:2, 1:3]  ->\n",
            " [[2 3]\n",
            " [5 6]]\n",
            "b[:, 1]     -> [2 5 8]\n",
            "b[1]        -> [4 5 6]\n",
            "b[:2, :]    ->\n",
            " [[1 2 3]\n",
            " [4 5 6]]\n",
            "b[::-1, ::-1]->\n",
            " [[9 8 7]\n",
            " [6 5 4]\n",
            " [3 2 1]]\n",
            "\n",
            "3D Array:\n",
            " [[[1 2]\n",
            "  [3 4]]\n",
            "\n",
            " [[5 6]\n",
            "  [7 8]]]\n",
            "c[0, :, :]  ->\n",
            " [[1 2]\n",
            " [3 4]]\n",
            "c[:, 1, :]  ->\n",
            " [[3 4]\n",
            " [7 8]]\n",
            "c[:, :, 0]  ->\n",
            " [[1 3]\n",
            " [5 7]]\n"
          ]
        }
      ]
    },
    {
      "cell_type": "code",
      "source": [
        "import numpy as np\n",
        "\n",
        "# Crear array 3D de forma (2 bloques, 3 filas, 4 columnas)\n",
        "arr3d = np.arange(2 * 3 * 4).reshape(2, 3, 4)\n",
        "print(\"Array 3D:\\n\", arr3d)\n",
        "\n",
        "# 1. Primera capa (bloque completo)\n",
        "print(\"\\n1. arr3d[0] ->\\n\", arr3d[0])\n",
        "\n",
        "# 2. Todas las capas, fila 1, todas las columnas\n",
        "print(\"\\n2. arr3d[:, 1, :] ->\\n\", arr3d[:, 1, :])\n",
        "\n",
        "# 3. Todas las capas, todas las filas, columna 2\n",
        "print(\"\\n3. arr3d[:, :, 2] ->\\n\", arr3d[:, :, 2])\n",
        "\n",
        "# 4. Segunda capa (bloque 1), últimas dos filas\n",
        "print(\"\\n4. arr3d[1, 1:, :] ->\\n\", arr3d[1, 1:, :])\n",
        "\n",
        "# 5. Última fila de cada capa\n",
        "print(\"\\n5. arr3d[:, -1, :] ->\\n\", arr3d[:, -1, :])\n",
        "\n",
        "# 6. Primera columna de todas las filas de cada capa\n",
        "print(\"\\n6. arr3d[:, :, 0] ->\\n\", arr3d[:, :, 0])\n",
        "\n",
        "# 7. Invertir el orden de las capas\n",
        "print(\"\\n7. arr3d[::-1] ->\\n\", arr3d[::-1])\n",
        "\n",
        "# 8. Slicing + condición: todos los elementos > 15 en capa 1\n",
        "print(\"\\n8. arr3d[1][arr3d[1] > 15] ->\\n\", arr3d[1][arr3d[1] > 15])\n"
      ],
      "metadata": {
        "colab": {
          "base_uri": "https://localhost:8080/"
        },
        "id": "K8U1zeT5IK7M",
        "outputId": "cffb6704-3c67-438e-949f-51db5aa9b838"
      },
      "execution_count": null,
      "outputs": [
        {
          "output_type": "stream",
          "name": "stdout",
          "text": [
            "Array 3D:\n",
            " [[[ 0  1  2  3]\n",
            "  [ 4  5  6  7]\n",
            "  [ 8  9 10 11]]\n",
            "\n",
            " [[12 13 14 15]\n",
            "  [16 17 18 19]\n",
            "  [20 21 22 23]]]\n",
            "\n",
            "1. arr3d[0] ->\n",
            " [[ 0  1  2  3]\n",
            " [ 4  5  6  7]\n",
            " [ 8  9 10 11]]\n",
            "\n",
            "2. arr3d[:, 1, :] ->\n",
            " [[ 4  5  6  7]\n",
            " [16 17 18 19]]\n",
            "\n",
            "3. arr3d[:, :, 2] ->\n",
            " [[ 2  6 10]\n",
            " [14 18 22]]\n",
            "\n",
            "4. arr3d[1, 1:, :] ->\n",
            " [[16 17 18 19]\n",
            " [20 21 22 23]]\n",
            "\n",
            "5. arr3d[:, -1, :] ->\n",
            " [[ 8  9 10 11]\n",
            " [20 21 22 23]]\n",
            "\n",
            "6. arr3d[:, :, 0] ->\n",
            " [[ 0  4  8]\n",
            " [12 16 20]]\n",
            "\n",
            "7. arr3d[::-1] ->\n",
            " [[[12 13 14 15]\n",
            "  [16 17 18 19]\n",
            "  [20 21 22 23]]\n",
            "\n",
            " [[ 0  1  2  3]\n",
            "  [ 4  5  6  7]\n",
            "  [ 8  9 10 11]]]\n",
            "\n",
            "8. arr3d[1][arr3d[1] > 15] ->\n",
            " [16 17 18 19 20 21 22 23]\n"
          ]
        }
      ]
    },
    {
      "cell_type": "code",
      "source": [],
      "metadata": {
        "id": "lyGJ9lfGNhVx"
      },
      "execution_count": null,
      "outputs": []
    }
  ]
}