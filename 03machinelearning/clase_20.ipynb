{
  "nbformat": 4,
  "nbformat_minor": 0,
  "metadata": {
    "colab": {
      "provenance": [],
      "authorship_tag": "ABX9TyPT+zvJIL1J0jNQPAQlircK",
      "include_colab_link": true
    },
    "kernelspec": {
      "name": "python3",
      "display_name": "Python 3"
    },
    "language_info": {
      "name": "python"
    }
  },
  "cells": [
    {
      "cell_type": "markdown",
      "metadata": {
        "id": "view-in-github",
        "colab_type": "text"
      },
      "source": [
        "<a href=\"https://colab.research.google.com/github/davidlealo/sic_ai_2025_jun/blob/main/03machinelearning/clase_20.ipynb\" target=\"_parent\"><img src=\"https://colab.research.google.com/assets/colab-badge.svg\" alt=\"Open In Colab\"/></a>"
      ]
    },
    {
      "cell_type": "markdown",
      "source": [
        "## Actividad\n",
        "\n",
        "De forma individual o en pareja, busca un problema real que pueda resolverse usando datos. Puede ser algo que te interese, como:\n",
        "\n",
        "- Predecir si una persona aprobará o no según sus notas.\n",
        "- Clasificar si una fruta es manzana o naranja según su tamaño y color.\n",
        "- Agrupar canciones según duración y ritmo.\n",
        "- Identificar patrones en encuestas o juegos.\n",
        "\n",
        "Luego:\n",
        "\n",
        "1. Describe el problema en una celda de texto.\n",
        "2. Elige un conjunto de datos (puedes usar datos simples o buscarlos en internet, como en https://www.kaggle.com).\n",
        "3. Aplica un modelo de Machine Learning supervisado o no supervisado (puedes usar lo aprendido: regresión, KNN, clustering, etc.).\n",
        "4. Muestra los resultados con un gráfico, tabla o explicación.\n",
        "5. Reflexiona:\n",
        "   - ¿Qué aprendiste?\n",
        "   - ¿Qué fue lo más difícil?\n",
        "   - ¿Cómo podría mejorarse?\n",
        "   - ¿Por qué es necesario usar Machine Learning en este caso?\n",
        "\n",
        "Recomendación: Usa Google Colab para cargar y analizar los datos. Puedes trabajar paso a paso: limpiar datos, elegir columnas importantes, entrenar el modelo y mostrar resultados.\n"
      ],
      "metadata": {
        "id": "Jfu58n7ZOyUm"
      }
    },
    {
      "cell_type": "code",
      "execution_count": null,
      "metadata": {
        "id": "Xw97Cux1Otp6"
      },
      "outputs": [],
      "source": []
    }
  ]
}