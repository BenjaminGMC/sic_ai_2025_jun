{
  "nbformat": 4,
  "nbformat_minor": 0,
  "metadata": {
    "colab": {
      "provenance": [],
      "authorship_tag": "ABX9TyPOG8ao3Qj7uXqbqpwxUKl7",
      "include_colab_link": true
    },
    "kernelspec": {
      "name": "python3",
      "display_name": "Python 3"
    },
    "language_info": {
      "name": "python"
    }
  },
  "cells": [
    {
      "cell_type": "markdown",
      "metadata": {
        "id": "view-in-github",
        "colab_type": "text"
      },
      "source": [
        "<a href=\"https://colab.research.google.com/github/davidlealo/sic_ai_2025_jun/blob/main/03machinelearning/clase_17.ipynb\" target=\"_parent\"><img src=\"https://colab.research.google.com/assets/colab-badge.svg\" alt=\"Open In Colab\"/></a>"
      ]
    },
    {
      "cell_type": "markdown",
      "source": [
        "## Clase 17\n",
        "\n",
        "Grupo 1\n",
        "Páginas 44 a 54\n",
        "\n",
        "Grupo 2\n",
        "Páginas 55 a 67\n",
        "\n",
        "Grupo 3\n",
        "Páginas 67 a 101"
      ],
      "metadata": {
        "id": "Zgh05bbVpmwz"
      }
    },
    {
      "cell_type": "code",
      "execution_count": null,
      "metadata": {
        "id": "-ec27jjTpkID"
      },
      "outputs": [],
      "source": []
    }
  ]
}