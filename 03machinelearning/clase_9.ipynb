{
  "nbformat": 4,
  "nbformat_minor": 0,
  "metadata": {
    "colab": {
      "provenance": [],
      "authorship_tag": "ABX9TyMmw371Vho6YiWkD8iNDCeZ",
      "include_colab_link": true
    },
    "kernelspec": {
      "name": "python3",
      "display_name": "Python 3"
    },
    "language_info": {
      "name": "python"
    }
  },
  "cells": [
    {
      "cell_type": "markdown",
      "metadata": {
        "id": "view-in-github",
        "colab_type": "text"
      },
      "source": [
        "<a href=\"https://colab.research.google.com/github/davidlealo/sic_ai_2025_jun/blob/main/03machinelearning/clase_9.ipynb\" target=\"_parent\"><img src=\"https://colab.research.google.com/assets/colab-badge.svg\" alt=\"Open In Colab\"/></a>"
      ]
    },
    {
      "cell_type": "code",
      "execution_count": null,
      "metadata": {
        "id": "SBLI4laueBdm"
      },
      "outputs": [],
      "source": [
        "# 📊 Clase de Regresión Lineal con Scikit-Learn\n",
        "\n",
        "## 1. ¿Qué es la regresión lineal?\n",
        "\n",
        "La regresión lineal es una técnica de aprendizaje supervisado que predice un valor continuo a partir de una o más variables independientes. Se basa en encontrar la mejor línea recta (modelo) que se ajuste a los datos.\n",
        "\n",
        "**Ejemplo típico:** Predecir el precio de una casa según su tamaño.\n",
        "\n",
        "---\n",
        "\n",
        "## 2. Importar librerías\n",
        "\n",
        "```python\n",
        "import numpy as np\n",
        "import pandas as pd\n",
        "import matplotlib.pyplot as plt\n",
        "from sklearn.linear_model import LinearRegression\n",
        "from sklearn.model_selection import train_test_split\n",
        "from sklearn.metrics import mean_squared_error, r2_score\n"
      ]
    },
    {
      "cell_type": "code",
      "source": [],
      "metadata": {
        "id": "0ex43afLeSGb"
      },
      "execution_count": null,
      "outputs": []
    },
    {
      "cell_type": "markdown",
      "source": [
        "## 3. Crear un dataset sintético\n",
        "\n",
        "Creamos un conjunto de datos artificial para ilustrar cómo funciona la regresión lineal.\n",
        "\n",
        "```python\n",
        "import numpy as np\n",
        "import matplotlib.pyplot as plt\n",
        "\n",
        "# Generamos datos aleatorios\n",
        "np.random.seed(0)\n",
        "X = 2.5 * np.random.rand(100, 1)\n",
        "y = 3 + 2 * X + np.random.randn(100, 1)\n",
        "\n",
        "# Visualización de los datos\n",
        "plt.scatter(X, y)\n",
        "plt.xlabel(\"X\")\n",
        "plt.ylabel(\"y\")\n",
        "plt.title(\"Datos sintéticos para regresión lineal\")\n",
        "plt.show()\n"
      ],
      "metadata": {
        "id": "TKzfch_NeRt1"
      }
    },
    {
      "cell_type": "code",
      "source": [],
      "metadata": {
        "id": "LekLmPgpeX97"
      },
      "execution_count": null,
      "outputs": []
    },
    {
      "cell_type": "markdown",
      "source": [
        "## 4. Entrenar un modelo de regresión lineal\n",
        "\n",
        "Utilizamos `train_test_split` para dividir los datos en entrenamiento y prueba, y luego entrenamos un modelo usando `LinearRegression` de Scikit-Learn.\n",
        "\n",
        "```python\n",
        "from sklearn.model_selection import train_test_split\n",
        "from sklearn.linear_model import LinearRegression\n",
        "\n",
        "# División en conjunto de entrenamiento y prueba\n",
        "X_train, X_test, y_train, y_test = train_test_split(X, y, test_size=0.2, random_state=42)\n",
        "\n",
        "# Crear el modelo\n",
        "model = LinearRegression()\n",
        "\n",
        "# Entrenar el modelo con los datos de entrenamiento\n",
        "model.fit(X_train, y_train)\n",
        "\n",
        "# Hacer predicciones sobre los datos de prueba\n",
        "y_pred = model.predict(X_test)\n"
      ],
      "metadata": {
        "id": "MXVolWhxeYW8"
      }
    },
    {
      "cell_type": "code",
      "source": [],
      "metadata": {
        "id": "U6oHicKsedcy"
      },
      "execution_count": null,
      "outputs": []
    },
    {
      "cell_type": "markdown",
      "source": [
        "## 5. Evaluar el modelo\n",
        "\n",
        "Una vez entrenado el modelo, podemos revisar los parámetros que ha aprendido (coeficiente y bias) y evaluar su desempeño usando métricas como:\n",
        "\n",
        "- **Error Cuadrático Medio (MSE):** qué tan lejos están las predicciones de los valores reales.\n",
        "- **R² (R cuadrado):** qué porcentaje de la variabilidad de los datos explica el modelo (1 es ideal).\n",
        "\n",
        "```python\n",
        "from sklearn.metrics import mean_squared_error, r2_score\n",
        "\n",
        "# Mostrar coeficientes del modelo\n",
        "print(\"Coeficiente (pendiente):\", model.coef_)\n",
        "print(\"Intersección (bias):\", model.intercept_)\n",
        "\n",
        "# Evaluar el desempeño del modelo\n",
        "print(\"Error Cuadrático Medio (MSE):\", mean_squared_error(y_test, y_pred))\n",
        "print(\"Coeficiente de Determinación (R²):\", r2_score(y_test, y_pred))\n"
      ],
      "metadata": {
        "id": "6s3giByEedxz"
      }
    },
    {
      "cell_type": "code",
      "source": [],
      "metadata": {
        "id": "OyP4s-5UejSv"
      },
      "execution_count": null,
      "outputs": []
    },
    {
      "cell_type": "markdown",
      "source": [
        "## 6. Visualizar la línea de regresión\n",
        "\n",
        "Después de entrenar y evaluar el modelo, es útil visualizar cómo se ajusta la línea de regresión a los datos. Esto nos ayuda a ver gráficamente la relación entre la variable independiente y la variable dependiente.\n",
        "\n",
        "```python\n",
        "import matplotlib.pyplot as plt\n",
        "\n",
        "# Visualización de los datos de prueba y la línea de predicción\n",
        "plt.scatter(X_test, y_test, color='blue', label='Datos reales')\n",
        "plt.plot(X_test, y_pred, color='red', linewidth=2, label='Línea de regresión')\n",
        "plt.title(\"Regresión lineal - Predicción vs Datos reales\")\n",
        "plt.xlabel(\"X\")\n",
        "plt.ylabel(\"y\")\n",
        "plt.legend()\n",
        "plt.show()\n"
      ],
      "metadata": {
        "id": "qHlBy7xoejmG"
      }
    },
    {
      "cell_type": "code",
      "source": [],
      "metadata": {
        "id": "z63wwqy7elSm"
      },
      "execution_count": null,
      "outputs": []
    },
    {
      "cell_type": "markdown",
      "source": [
        "## 7. Usar un dataset real: California Housing (opcional)\n",
        "\n",
        "Scikit-Learn ofrece un conjunto de datos reales llamado `California Housing`, que contiene información sobre viviendas en California. Vamos a utilizar una sola variable independiente (`MedInc`, ingreso medio) para realizar una regresión lineal simple.\n",
        "\n",
        "```python\n",
        "from sklearn.datasets import fetch_california_housing\n",
        "import pandas as pd\n",
        "from sklearn.model_selection import train_test_split\n",
        "from sklearn.linear_model import LinearRegression\n",
        "from sklearn.metrics import r2_score\n",
        "import matplotlib.pyplot as plt\n",
        "\n",
        "# Cargar el dataset\n",
        "data = fetch_california_housing()\n",
        "df = pd.DataFrame(data.data, columns=data.feature_names)\n",
        "df['Price'] = data.target\n",
        "\n",
        "# Seleccionar una sola variable (Ingreso medio)\n",
        "X = df[['MedInc']]\n",
        "y = df['Price']\n",
        "\n",
        "# Dividir los datos en entrenamiento y prueba\n",
        "X_train, X_test, y_train, y_test = train_test_split(X, y, test_size=0.2, random_state=42)\n",
        "\n",
        "# Crear y entrenar el modelo\n",
        "model = LinearRegression()\n",
        "model.fit(X_train, y_train)\n",
        "\n",
        "# Hacer predicciones\n",
        "y_pred = model.predict(X_test)\n",
        "\n",
        "# Evaluar el modelo\n",
        "print(\"R²:\", r2_score(y_test, y_pred))\n"
      ],
      "metadata": {
        "id": "fpELsKFKeqDK"
      }
    },
    {
      "cell_type": "code",
      "source": [],
      "metadata": {
        "id": "7k1kr6v5er0K"
      },
      "execution_count": null,
      "outputs": []
    },
    {
      "cell_type": "markdown",
      "source": [
        "# Visualización del modelo\n",
        "\n",
        "```python\n",
        "\n",
        "# Graficar los resultados\n",
        "plt.scatter(X_test, y_test, alpha=0.3, label='Datos reales')\n",
        "plt.plot(X_test, y_pred, color='red', label='Línea de regresión')\n",
        "plt.xlabel(\"Ingreso Medio (MedInc)\")\n",
        "plt.ylabel(\"Precio de la Vivienda\")\n",
        "plt.title(\"Regresión lineal - California Housing\")\n",
        "plt.legend()\n",
        "plt.show()\n"
      ],
      "metadata": {
        "id": "kVRZ83hNesLl"
      }
    },
    {
      "cell_type": "code",
      "source": [],
      "metadata": {
        "id": "kPYE1qOMe2s_"
      },
      "execution_count": null,
      "outputs": []
    }
  ]
}