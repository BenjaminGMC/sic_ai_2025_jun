{
  "nbformat": 4,
  "nbformat_minor": 0,
  "metadata": {
    "colab": {
      "provenance": []
    },
    "kernelspec": {
      "name": "python3",
      "display_name": "Python 3"
    },
    "language_info": {
      "name": "python"
    }
  },
  "cells": [
    {
      "cell_type": "markdown",
      "source": [
        "# Lluvia con classifier"
      ],
      "metadata": {
        "id": "rGb4YC8S7Z9Q"
      }
    },
    {
      "cell_type": "code",
      "execution_count": 1,
      "metadata": {
        "id": "EpjysLOE7Vso"
      },
      "outputs": [],
      "source": [
        "# Descargar dataset\n",
        "!wget -q https://raw.githubusercontent.com/davidlealo/tallermodelossupervisados/refs/heads/main/data/Lluvia_full.csv\n",
        "\n",
        "import pandas as pd\n",
        "import numpy as np\n",
        "\n",
        "from sklearn.model_selection import train_test_split, cross_val_score\n",
        "from sklearn.preprocessing import StandardScaler\n",
        "from sklearn.linear_model import LogisticRegression\n",
        "from sklearn.ensemble import RandomForestClassifier, VotingClassifier\n",
        "from sklearn.neighbors import KNeighborsClassifier\n",
        "from sklearn.svm import SVC\n",
        "from sklearn import metrics"
      ]
    },
    {
      "cell_type": "code",
      "source": [
        "# 1. Cargar y preparar datos\n",
        "df = pd.read_csv('Lluvia_full.csv')\n",
        "\n",
        "# Mapear 'LluviaMan' a 0/1\n",
        "df['LluviaMan'] = df['LluviaMan'].map({'No': 0, 'Yes': 1})\n",
        "\n",
        "# Seleccionar características importantes\n",
        "features = ['Hum3pm', 'Sol', 'Nub3pm', 'Nub9am', 'Hum9am', 'Pres9am']\n",
        "df_clean = df[features + ['LluviaMan']].dropna()\n",
        "\n",
        "X = df_clean[features]\n",
        "y = df_clean['LluviaMan']\n",
        "\n",
        "# Dividir y escalar\n",
        "X_train, X_test, y_train, y_test = train_test_split(X, y, test_size=0.3, random_state=1234)\n",
        "scaler = StandardScaler()\n",
        "X_train_scaled = scaler.fit_transform(X_train)\n",
        "X_test_scaled = scaler.transform(X_test)"
      ],
      "metadata": {
        "id": "TIXpf9Yu97Hn"
      },
      "execution_count": 2,
      "outputs": []
    },
    {
      "cell_type": "code",
      "source": [
        "# 2. Crear modelos individuales\n",
        "clf1 = LogisticRegression(random_state=1)\n",
        "clf2 = RandomForestClassifier(n_estimators=100, random_state=1)\n",
        "clf3 = KNeighborsClassifier(n_neighbors=5)\n",
        "clf4 = SVC(kernel='poly', C=1, gamma=0.1, probability=True)\n"
      ],
      "metadata": {
        "id": "UFYo0I29-LN-"
      },
      "execution_count": 3,
      "outputs": []
    },
    {
      "cell_type": "code",
      "source": [
        "# 3. VotingClassifier - Hard Voting\n",
        "voting_hard = VotingClassifier(\n",
        "    estimators=[('lr', clf1), ('rf', clf2), ('knn', clf3), ('svc', clf4)],\n",
        "    voting='hard'\n",
        ")\n",
        "\n",
        "voting_hard.fit(X_train_scaled, y_train)\n",
        "y_pred_hard = voting_hard.predict(X_test_scaled)\n",
        "acc_hard = metrics.accuracy_score(y_test, y_pred_hard)\n",
        "print(\"VotingClassifier (hard) accuracy:\", round(acc_hard, 3))\n",
        "\n"
      ],
      "metadata": {
        "id": "F4iQzEQW-Nrd",
        "colab": {
          "base_uri": "https://localhost:8080/"
        },
        "outputId": "564cde7e-1de8-45f6-cf55-11da651d4b6c"
      },
      "execution_count": 4,
      "outputs": [
        {
          "output_type": "stream",
          "name": "stdout",
          "text": [
            "VotingClassifier (hard) accuracy: 0.844\n"
          ]
        }
      ]
    },
    {
      "cell_type": "code",
      "source": [
        "# 4. VotingClassifier - Soft Voting\n",
        "voting_soft = VotingClassifier(\n",
        "    estimators=[('lr', clf1), ('rf', clf2), ('knn', clf3), ('svc', clf4)],\n",
        "    voting='soft'\n",
        ")\n",
        "\n",
        "voting_soft.fit(X_train_scaled, y_train)\n",
        "y_pred_soft = voting_soft.predict(X_test_scaled)\n",
        "acc_soft = metrics.accuracy_score(y_test, y_pred_soft)\n",
        "print(\"VotingClassifier (soft) accuracy:\", round(acc_soft, 3))\n",
        "\n"
      ],
      "metadata": {
        "id": "WVsJIJWi-PvN",
        "colab": {
          "base_uri": "https://localhost:8080/"
        },
        "outputId": "a5df04dd-0aaf-41c9-e523-e5f0402d6e7d"
      },
      "execution_count": 5,
      "outputs": [
        {
          "output_type": "stream",
          "name": "stdout",
          "text": [
            "VotingClassifier (soft) accuracy: 0.846\n"
          ]
        }
      ]
    },
    {
      "cell_type": "code",
      "source": [
        "# 5. Validación cruzada\n",
        "from sklearn.model_selection import cross_val_score\n",
        "\n",
        "print(\"\\n--- Validación cruzada (5-fold) ---\")\n",
        "for name, model in [\n",
        "    ('LogisticRegression', clf1),\n",
        "    ('RandomForest', clf2),\n",
        "    ('KNN', clf3),\n",
        "    ('SVC', clf4),\n",
        "    ('VotingHard', voting_hard),\n",
        "    ('VotingSoft', voting_soft)\n",
        "]:\n",
        "    scores = cross_val_score(model, scaler.transform(X), y, cv=5)\n",
        "    print(f\"{name}: accuracy promedio = {np.mean(scores):.3f} (+/- {np.std(scores):.3f})\")"
      ],
      "metadata": {
        "colab": {
          "base_uri": "https://localhost:8080/"
        },
        "id": "vUQ6jFil-Rel",
        "outputId": "7bdf5b91-ea93-42cb-912a-8231bc2e3c11"
      },
      "execution_count": 6,
      "outputs": [
        {
          "output_type": "stream",
          "name": "stdout",
          "text": [
            "\n",
            "--- Validación cruzada (5-fold) ---\n",
            "LogisticRegression: accuracy promedio = 0.840 (+/- 0.005)\n",
            "RandomForest: accuracy promedio = 0.839 (+/- 0.005)\n",
            "KNN: accuracy promedio = 0.824 (+/- 0.005)\n",
            "SVC: accuracy promedio = 0.839 (+/- 0.006)\n",
            "VotingHard: accuracy promedio = 0.841 (+/- 0.006)\n",
            "VotingSoft: accuracy promedio = 0.843 (+/- 0.006)\n"
          ]
        }
      ]
    },
    {
      "cell_type": "code",
      "source": [],
      "metadata": {
        "id": "jKlHUhnh-US9"
      },
      "execution_count": 6,
      "outputs": []
    },
    {
      "cell_type": "markdown",
      "source": [
        "> luego, optimizar randomForest y darle mas peso para un posible mejor accuracy"
      ],
      "metadata": {
        "id": "vgKRLHrOF_eS"
      }
    },
    {
      "cell_type": "code",
      "source": [],
      "metadata": {
        "id": "CjG20wn9GLly"
      },
      "execution_count": null,
      "outputs": []
    }
  ]
}