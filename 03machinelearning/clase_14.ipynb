{
  "nbformat": 4,
  "nbformat_minor": 0,
  "metadata": {
    "colab": {
      "provenance": [],
      "authorship_tag": "ABX9TyN6jFl/bctTFW0gEMjvRgy3",
      "include_colab_link": true
    },
    "kernelspec": {
      "name": "python3",
      "display_name": "Python 3"
    },
    "language_info": {
      "name": "python"
    }
  },
  "cells": [
    {
      "cell_type": "markdown",
      "metadata": {
        "id": "view-in-github",
        "colab_type": "text"
      },
      "source": [
        "<a href=\"https://colab.research.google.com/github/davidlealo/sic_ai_2025_jun/blob/main/03machinelearning/clase_14.ipynb\" target=\"_parent\"><img src=\"https://colab.research.google.com/assets/colab-badge.svg\" alt=\"Open In Colab\"/></a>"
      ]
    },
    {
      "cell_type": "markdown",
      "source": [
        "### Deseable futuro\n",
        "\n",
        "Seguir probando los algoritmos para los problemas de lluvia y housing california\n",
        "\n",
        "https://scikit-learn.org/stable/modules/generated/sklearn.ensemble.BaggingClassifier.html\n",
        "\n",
        "https://scikit-learn.org/stable/modules/generated/sklearn.ensemble.BaggingRegressor.html\n",
        "\n",
        "https://scikit-learn.org/stable/modules/generated/sklearn.ensemble.AdaBoostRegressor.html\n",
        "\n"
      ],
      "metadata": {
        "id": "slQ_p84LrkVX"
      }
    },
    {
      "cell_type": "markdown",
      "source": [
        "## Revisión de material de proyectos\n"
      ],
      "metadata": {
        "id": "N_9994UdsA3a"
      }
    },
    {
      "cell_type": "markdown",
      "source": [
        "### Revisar video\n",
        "\n",
        "[Mira el video](https://youtu.be/4ic-J79O9hg?si=UkTIcpl_UGXMnJJQ)\n",
        "\n",
        "\n",
        "![Video teoría de comunicación](https://img.youtube.com/vi/4ic-J79O9hg/0.jpg)"
      ],
      "metadata": {
        "id": "Vv3HdhxL061Y"
      }
    },
    {
      "cell_type": "markdown",
      "source": [
        "\n",
        "[Mira el video de uso de MCP para diseño 3D](https://youtu.be/DqgKuLYUv00?si=nzrI1qd5EOKzTI3T)\n",
        "\n",
        "\n",
        "![Video McP cpn Blender](https://img.youtube.com/vi/DqgKuLYUv00/0.jpg)"
      ],
      "metadata": {
        "id": "Q-f-GDRE4rtI"
      }
    },
    {
      "cell_type": "code",
      "execution_count": null,
      "metadata": {
        "id": "-EBXAMEEg-dC"
      },
      "outputs": [],
      "source": []
    }
  ]
}